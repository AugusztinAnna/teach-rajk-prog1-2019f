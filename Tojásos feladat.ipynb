{
 "cells": [
  {
   "cell_type": "code",
   "execution_count": 182,
   "metadata": {},
   "outputs": [],
   "source": [
    "from jkg_evaluators import eggdrop_100floor_2egg"
   ]
  },
  {
   "cell_type": "code",
   "execution_count": 320,
   "metadata": {},
   "outputs": [],
   "source": [
    "\"\"\" az lenne a megoldásom, hogy ledobom a 10. emeletről a tojást, ha széttörik, visszamegyek az elsőre, és onnan \n",
    "emeletenként próbálkozom, hogy melyiken törhet szét. Ha nem törik szét, tizesével lépegetek, és amelyiken széttörik, \n",
    "visszamegyek 9-et és megkeresem pontosan melyik a határ. \"\"\" \n",
    "\n",
    "def my_solution2(breaks):\n",
    "    \n",
    "    blokk = list(range(10,101,10))\n",
    "    szintek = list(range(1,101))\n",
    "    \n",
    "    for i in blokk:\n",
    "        if breaks(i):\n",
    "            return i - 9\n",
    "            if breaks (i):    \n",
    "                emelet = emelet + 1\n",
    "                for e in szintek:\n",
    "                    return e\n",
    "            \n",
    "        else:\n",
    "            return i + 10\n",
    "\n",
    "   "
   ]
  },
  {
   "cell_type": "code",
   "execution_count": 321,
   "metadata": {
    "scrolled": false
   },
   "outputs": [
    {
     "name": "stdout",
     "output_type": "stream",
     "text": [
      "- success rate: 2/101 (2.0%)\n",
      "- error count: 0\n",
      "- best performance: 1\n",
      "- worst performance: 1\n",
      "- mean performance: 1.0\n",
      "\n",
      "\n",
      " BAD SOLUTION at: \n",
      " {'egg_count': 2, 'floor_count': 100, 'max_floor': 0}\n",
      "\n",
      "\n",
      " BAD SOLUTION at: \n",
      " {'egg_count': 2, 'floor_count': 100, 'max_floor': 2}\n",
      "\n",
      "\n",
      " BAD SOLUTION at: \n",
      " {'egg_count': 2, 'floor_count': 100, 'max_floor': 3}\n",
      "\n",
      "\n",
      " BAD SOLUTION at: \n",
      " {'egg_count': 2, 'floor_count': 100, 'max_floor': 4}\n",
      "\n",
      "\n",
      " BAD SOLUTION at: \n",
      " {'egg_count': 2, 'floor_count': 100, 'max_floor': 5}\n",
      "\n",
      "\n",
      " BAD SOLUTION at: \n",
      " {'egg_count': 2, 'floor_count': 100, 'max_floor': 6}\n",
      "\n",
      "\n",
      " BAD SOLUTION at: \n",
      " {'egg_count': 2, 'floor_count': 100, 'max_floor': 7}\n",
      "\n",
      "\n",
      " BAD SOLUTION at: \n",
      " {'egg_count': 2, 'floor_count': 100, 'max_floor': 8}\n",
      "\n",
      "\n",
      " BAD SOLUTION at: \n",
      " {'egg_count': 2, 'floor_count': 100, 'max_floor': 9}\n",
      "\n",
      "\n",
      " BAD SOLUTION at: \n",
      " {'egg_count': 2, 'floor_count': 100, 'max_floor': 10}\n"
     ]
    }
   ],
   "source": [
    "eggdrop_100floor_2egg.evaluate(my_solution2)"
   ]
  },
  {
   "cell_type": "code",
   "execution_count": 322,
   "metadata": {},
   "outputs": [],
   "source": [
    "from jkg_evaluators import eggdrop_100floor_2egg"
   ]
  },
  {
   "cell_type": "code",
   "execution_count": 362,
   "metadata": {},
   "outputs": [],
   "source": [
    "def my_solution1(breaks):\n",
    "    emelet_list = list(range (1,101))\n",
    "    blokk_list = list(range (10,101,10))\n",
    "\n",
    "    for i in range(10,101,10):\n",
    "        emelet = i - 9\n",
    "        if breaks(i):\n",
    "            emelet = emelet + 1\n",
    "            return emelet"
   ]
  },
  {
   "cell_type": "code",
   "execution_count": 363,
   "metadata": {},
   "outputs": [
    {
     "name": "stdout",
     "output_type": "stream",
     "text": [
      "- success rate: 10/101 (10.0%)\n",
      "- error count: 0\n",
      "- best performance: 1\n",
      "- worst performance: 10\n",
      "- mean performance: 5.544554455445544\n",
      "\n",
      "\n",
      " BAD SOLUTION at: \n",
      " {'egg_count': 2, 'floor_count': 100, 'max_floor': 0}\n",
      "\n",
      "\n",
      " BAD SOLUTION at: \n",
      " {'egg_count': 2, 'floor_count': 100, 'max_floor': 1}\n",
      "\n",
      "\n",
      " BAD SOLUTION at: \n",
      " {'egg_count': 2, 'floor_count': 100, 'max_floor': 3}\n",
      "\n",
      "\n",
      " BAD SOLUTION at: \n",
      " {'egg_count': 2, 'floor_count': 100, 'max_floor': 4}\n",
      "\n",
      "\n",
      " BAD SOLUTION at: \n",
      " {'egg_count': 2, 'floor_count': 100, 'max_floor': 5}\n",
      "\n",
      "\n",
      " BAD SOLUTION at: \n",
      " {'egg_count': 2, 'floor_count': 100, 'max_floor': 6}\n",
      "\n",
      "\n",
      " BAD SOLUTION at: \n",
      " {'egg_count': 2, 'floor_count': 100, 'max_floor': 7}\n",
      "\n",
      "\n",
      " BAD SOLUTION at: \n",
      " {'egg_count': 2, 'floor_count': 100, 'max_floor': 8}\n",
      "\n",
      "\n",
      " BAD SOLUTION at: \n",
      " {'egg_count': 2, 'floor_count': 100, 'max_floor': 9}\n",
      "\n",
      "\n",
      " BAD SOLUTION at: \n",
      " {'egg_count': 2, 'floor_count': 100, 'max_floor': 10}\n"
     ]
    }
   ],
   "source": [
    "eggdrop_100floor_2egg.evaluate(my_solution1)"
   ]
  }
 ],
 "metadata": {
  "kernelspec": {
   "display_name": "Python 3",
   "language": "python",
   "name": "python3"
  },
  "language_info": {
   "codemirror_mode": {
    "name": "ipython",
    "version": 3
   },
   "file_extension": ".py",
   "mimetype": "text/x-python",
   "name": "python",
   "nbconvert_exporter": "python",
   "pygments_lexer": "ipython3",
   "version": "3.7.3"
  }
 },
 "nbformat": 4,
 "nbformat_minor": 2
}
