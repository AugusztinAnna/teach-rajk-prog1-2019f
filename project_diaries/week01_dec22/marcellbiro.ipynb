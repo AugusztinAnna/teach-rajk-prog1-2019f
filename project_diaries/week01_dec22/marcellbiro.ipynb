{
 "cells": [
  {
   "cell_type": "markdown",
   "metadata": {},
   "source": [
    "### Projekt állapot, tervek"
   ]
  },
  {
   "cell_type": "markdown",
   "metadata": {},
   "source": [
    "Az évzáró projektemet most fogom elkezdeni, eddig nem dolgoztam vele még."
   ]
  },
  {
   "cell_type": "markdown",
   "metadata": {},
   "source": [
    "A kivitelezés elképzeléséhez is tájékozatlan vagyok ebben a témában, így elsődlegesen a selenium packaget fogom átnézni, azon belül is a webdrivert, illetve a classok használatát és logikáját tervezem felfrissíteni/jobban megérteni, ugyanis - ahogy tudomásom szerint a legtöbb letölthető modul - ez is így működik és nem teljesen egyértelmű még ennek a felépítése számomra.\n",
    "Tervben van továbbá a kód írásának elkezdése is, elsődlegesen egy neptunba belépő kódrészlet már nagy előrelépés lenne valószínűleg, bár hozzáteszem, hogy nem tudom, milyen nehézségeket rejthet ennek a lekódolása. Illetve azt sem látom az egésszel kapcsolatosan, hogy milyen lesz a program UI-ja, amivel majd mindenki tudja használni. Ezentúl pedig fontos, hogy a Neptunon majd csak januárban lesz tárgyfelvételi időszak, azaz a valós próba csak akkor valósulhat meg, azonban a tárgyfelvételhez mindenben hasonlító, azzal majdnem mindenben megegyező 'tárolás' funkciót tervezem tesztelni addig."
   ]
  },
  {
   "cell_type": "markdown",
   "metadata": {},
   "source": [
    "Jelenleg 8 csillagom van meg az AoC-ban, amiknek a megoldását már feltöltöttem, ezek 2 csillagonként nagyjából 6-8 órába teltek sajnos, amit azért remélek, hogy csökkenni fog a jövőben. A 9.-ik csillag pedig félig meg van írva, vagy legalábbis van ötletem, hogy miképp kezdem el."
   ]
  }
 ],
 "metadata": {
  "kernelspec": {
   "display_name": "Python 3",
   "language": "python",
   "name": "python3"
  },
  "language_info": {
   "codemirror_mode": {
    "name": "ipython",
    "version": 3
   },
   "file_extension": ".py",
   "mimetype": "text/x-python",
   "name": "python",
   "nbconvert_exporter": "python",
   "pygments_lexer": "ipython3",
   "version": "3.7.1"
  }
 },
 "nbformat": 4,
 "nbformat_minor": 2
}
