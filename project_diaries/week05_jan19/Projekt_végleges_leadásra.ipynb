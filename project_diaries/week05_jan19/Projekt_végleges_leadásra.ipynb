{
 "cells": [
  {
   "cell_type": "markdown",
   "metadata": {},
   "source": [
    "# 2 dolgot kell megoldanom és kész: a fromkeyses dolog nélkül a duplikálás kiszűrését, és a sk esetében a dupla spaceket"
   ]
  },
  {
   "cell_type": "code",
   "execution_count": 1,
   "metadata": {},
   "outputs": [
    {
     "data": {
      "text/plain": [
       "True"
      ]
     },
     "execution_count": 1,
     "metadata": {},
     "output_type": "execute_result"
    }
   ],
   "source": [
    "import requests\n",
    "import re\n",
    "from bs4 import BeautifulSoup\n",
    "import random\n",
    "\n",
    "import gkeepapi\n",
    "keep = gkeepapi.Keep()\n",
    "keep.login('y.kornel', open('pass').read())"
   ]
  },
  {
   "cell_type": "markdown",
   "metadata": {},
   "source": [
    "##### Ahhoz, hogy a gkeepapi be tudjon jelentkezni a fiókodba, ki kell kapcsolni a kétlépcsős bejelentkezést! A bejelentkezéshez a jelszót a pass nevű txt-ben tárolom."
   ]
  },
  {
   "cell_type": "markdown",
   "metadata": {},
   "source": [
    "## Ide másolj be egy recept linket a nosalty.hu-ról vagy a streetckitchen.hu-ról:"
   ]
  },
  {
   "cell_type": "code",
   "execution_count": 2,
   "metadata": {},
   "outputs": [],
   "source": [
    "url1 = 'https://streetkitchen.hu/hust-hussal/konfitalt-kacsacomb-afonyas-vorosboros-chutney-val-es-sult-paszternakkal/'\n",
    "url2 = 'https://www.nosalty.hu/recept/vorosboros-paradicsomos-marhaszelet'"
   ]
  },
  {
   "cell_type": "markdown",
   "metadata": {},
   "source": [
    "## Streetkitchen esetében futtasd le ezt:"
   ]
  },
  {
   "cell_type": "code",
   "execution_count": 3,
   "metadata": {},
   "outputs": [],
   "source": [
    "def sync_streetkitchen(url1):\n",
    "    page = requests.get(url1)\n",
    "    soup = BeautifulSoup(page.content, 'html.parser')\n",
    "    \n",
    "    hozzavalok = soup.find_all('dd')\n",
    "\n",
    "    hozzavalok_lista_lista = []\n",
    "    for i in hozzavalok:\n",
    "        hozzavalok_lista_lista.append([i.get_text().strip()])\n",
    "    \n",
    "    hozzavalok_lista = []\n",
    "    for sublist in hozzavalok_lista_lista:\n",
    "        for item in sublist:\n",
    "            if item not in hozzavalok_lista:\n",
    "                hozzavalok_lista.append(item)\n",
    "        \n",
    "    recept_neve = soup.find('h1').get_text()\n",
    "\n",
    "    glist = keep.createList(recept_neve , [])\n",
    "\n",
    "    for i in hozzavalok_lista:\n",
    "        glist.add(i, False, gkeepapi.node.NewListItemPlacementValue.Bottom)    \n",
    "\n",
    "    glist.pinned = True\n",
    "    glist.color = gkeepapi.node.ColorValue.Yellow\n",
    "    keep.sync()\n",
    "    \n",
    "    instrukciok = soup.find('div', {'class' : \"article-main-content\"}).find_all('p')\n",
    "\n",
    "    instrukcio_lista = []\n",
    "\n",
    "    for i in instrukciok:\n",
    "        instrukcio_lista.append(i.get_text().replace('\\xa0', ''))\n",
    "\n",
    "    instrukcio_lista_uj = ' '.join(instrukcio_lista).strip().replace(\"kb.\", \"kb\").split('. ')\n",
    "\n",
    "    glist = keep.createList(recept_neve , [])\n",
    "\n",
    "    for i in instrukcio_lista_uj:\n",
    "        glist.add(i, False, gkeepapi.node.NewListItemPlacementValue.Bottom)\n",
    "\n",
    "    recept_neve = soup.find('h1').get_text()\n",
    "\n",
    "    glist.pinned = True\n",
    "    glist.color = gkeepapi.node.ColorValue.Yellow\n",
    "    keep.sync()\n",
    "\n",
    "sync_streetkitchen(url1)"
   ]
  },
  {
   "cell_type": "markdown",
   "metadata": {},
   "source": [
    "## Nosalty esetében futtasd le ezt:"
   ]
  },
  {
   "cell_type": "code",
   "execution_count": 4,
   "metadata": {},
   "outputs": [],
   "source": [
    "def sync_nosalty(url2):\n",
    "    page = requests.get(url2)\n",
    "    soup = BeautifulSoup(page.content, 'html.parser')\n",
    "\n",
    "    hozzavalok = soup.find('div', {'class' : \"column-block recept-hozzavalok\"}).find_all('li')\n",
    "\n",
    "    hozzavalok_lista = []\n",
    "\n",
    "    for i in hozzavalok:\n",
    "        hozzavalok_lista.append(i.get_text())\n",
    "\n",
    "    recept_neve = soup.find('h1').get_text()\n",
    "\n",
    "    glist = keep.createList(recept_neve , [])\n",
    "\n",
    "    for i in hozzavalok_lista:\n",
    "        glist.add(i, False, gkeepapi.node.NewListItemPlacementValue.Bottom)\n",
    "    \n",
    "    glist.pinned = True\n",
    "    glist.color = gkeepapi.node.ColorValue.Green\n",
    "    keep.sync()\n",
    "\n",
    "    instrukciok = soup.find('div', {'class' : \"recept-elkeszites\"}).find_all('li')\n",
    "    recept_neve = soup.find('h1').get_text()\n",
    "\n",
    "    instrukcio_lista = []\n",
    "\n",
    "    for i in instrukciok:\n",
    "        instrukcio_lista.append(i.get_text())\n",
    "\n",
    "    instrukcio_input = ' '.join(instrukcio_lista).strip().replace(\"kb.\", \"kb\").split('. ')\n",
    "\n",
    "    glist = keep.createList(recept_neve, [])\n",
    "\n",
    "    for i in instrukcio_input:\n",
    "        glist.add(i, False, gkeepapi.node.NewListItemPlacementValue.Bottom)  \n",
    "\n",
    "    glist.pinned = True\n",
    "    glist.color = gkeepapi.node.ColorValue.Green\n",
    "    keep.sync()\n",
    "\n",
    "sync_nosalty(url2)"
   ]
  },
  {
   "cell_type": "markdown",
   "metadata": {},
   "source": [
    "### Kiegészítő funkció: 1 random recept kiválasztása a streetkitchen.hu-ról, és áttöltés a keep-be"
   ]
  },
  {
   "cell_type": "code",
   "execution_count": 5,
   "metadata": {},
   "outputs": [],
   "source": [
    "keresoszo = \"sertés\"\n",
    "\n",
    "kereso_url = \"https://streetkitchen.hu/?s={}&cat=\".format(keresoszo)\n",
    "\n",
    "kereso_url\n",
    "\n",
    "page = requests.get(kereso_url)\n",
    "soup = BeautifulSoup(page.content, 'html.parser')\n",
    "\n",
    "recept_elements = soup.find_all(\"a\", {\"class\": \"entry-image-link\"})\n",
    "\n",
    "for recept_element in random.sample(recept_elements, 1):\n",
    "    sync_streetkitchen(recept_element[\"href\"])"
   ]
  }
 ],
 "metadata": {
  "kernelspec": {
   "display_name": "Python 3",
   "language": "python",
   "name": "python3"
  },
  "language_info": {
   "codemirror_mode": {
    "name": "ipython",
    "version": 3
   },
   "file_extension": ".py",
   "mimetype": "text/x-python",
   "name": "python",
   "nbconvert_exporter": "python",
   "pygments_lexer": "ipython3",
   "version": "3.7.4"
  }
 },
 "nbformat": 4,
 "nbformat_minor": 2
}
