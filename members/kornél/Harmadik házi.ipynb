{
 "cells": [
  {
   "cell_type": "markdown",
   "metadata": {},
   "source": [
    "1c\n",
    "2d\n",
    "3g\n",
    "4f\n",
    "5b\n",
    "6i\n",
    "7e\n",
    "8a\n",
    "9 nincs párja\n",
    "\n",
    "(C - mint kiderült ez az egyes)\n",
    "Egy természetes számokat tartalmazó halmazból válasszunk ki két relatív prímet (ha van)!\n",
    "Á: {v ∈ ℕ𝑛, a,b ∈ v}\n",
    "E: {𝑎=𝑎′ ∧ 𝑏=𝑏′}\n",
    "U: {𝐸𝑓 ∧ ∄p (a/p∈ ℕ ∧ b/p∈ ℕ)})\n",
    "\n",
    "H\n",
    "Adott egy tömb, amihez számoljunk ki egy olyan tömböt amiben az eredeti tömbben szereplő négyzetszámok gyöke szerepel, a nem négyzetszámok pedig önmaguk\n",
    "Á: {v,x ∈ ℕ^𝑛}\n",
    "E: {}\n",
    "U: {(¬∃a)(a^1/2 ∈ N+) ∧ a∈ v ∧ (a^1/2 ¬∈ x) ⇒ (¬∃b)(b^1/2 ¬∈ N+) ∧ b∈ v ∧ (b ¬∈ x)"
   ]
  }
 ],
 "metadata": {
  "kernelspec": {
   "display_name": "Python 3",
   "language": "python",
   "name": "python3"
  },
  "language_info": {
   "codemirror_mode": {
    "name": "ipython",
    "version": 3
   },
   "file_extension": ".py",
   "mimetype": "text/x-python",
   "name": "python",
   "nbconvert_exporter": "python",
   "pygments_lexer": "ipython3",
   "version": "3.7.4"
  }
 },
 "nbformat": 4,
 "nbformat_minor": 2
}
