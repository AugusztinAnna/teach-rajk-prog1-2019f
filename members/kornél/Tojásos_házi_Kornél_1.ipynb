{
 "cells": [
  {
   "cell_type": "code",
   "execution_count": 27,
   "metadata": {},
   "outputs": [
    {
     "name": "stdout",
     "output_type": "stream",
     "text": [
      "- success rate: 100/101 (99.0%)\n",
      "- error count: 0\n",
      "- best performance: 1\n",
      "- worst performance: 100\n",
      "- mean performance: 50.99009900990099\n",
      "\n",
      "\n",
      " BAD SOLUTION at: \n",
      " {'egg_count': 2, 'floor_count': 100, 'max_floor': 100}\n"
     ]
    }
   ],
   "source": [
    "from jkg_evaluators import eggdrop_100floor_2egg\n",
    "\n",
    "def my_solution1(breaks):\n",
    "\n",
    "    for i in range(1,101):\n",
    "        if breaks(i):\n",
    "            return i - 1\n",
    "    \n",
    "eggdrop_100floor_2egg.evaluate(my_solution1)\n",
    "\n",
    "#ez Endre megoldása"
   ]
  },
  {
   "cell_type": "code",
   "execution_count": 48,
   "metadata": {},
   "outputs": [
    {
     "name": "stdout",
     "output_type": "stream",
     "text": [
      "- success rate: 10/101 (10.0%)\n",
      "- error count: 0\n",
      "- best performance: 1\n",
      "- worst performance: 10\n",
      "- mean performance: 6.346534653465347\n",
      "\n",
      "\n",
      " BAD SOLUTION at: \n",
      " {'egg_count': 2, 'floor_count': 100, 'max_floor': 1}\n",
      "\n",
      "\n",
      " BAD SOLUTION at: \n",
      " {'egg_count': 2, 'floor_count': 100, 'max_floor': 2}\n",
      "\n",
      "\n",
      " BAD SOLUTION at: \n",
      " {'egg_count': 2, 'floor_count': 100, 'max_floor': 3}\n",
      "\n",
      "\n",
      " BAD SOLUTION at: \n",
      " {'egg_count': 2, 'floor_count': 100, 'max_floor': 4}\n",
      "\n",
      "\n",
      " BAD SOLUTION at: \n",
      " {'egg_count': 2, 'floor_count': 100, 'max_floor': 5}\n",
      "\n",
      "\n",
      " BAD SOLUTION at: \n",
      " {'egg_count': 2, 'floor_count': 100, 'max_floor': 6}\n",
      "\n",
      "\n",
      " BAD SOLUTION at: \n",
      " {'egg_count': 2, 'floor_count': 100, 'max_floor': 7}\n",
      "\n",
      "\n",
      " BAD SOLUTION at: \n",
      " {'egg_count': 2, 'floor_count': 100, 'max_floor': 8}\n",
      "\n",
      "\n",
      " BAD SOLUTION at: \n",
      " {'egg_count': 2, 'floor_count': 100, 'max_floor': 9}\n",
      "\n",
      "\n",
      " BAD SOLUTION at: \n",
      " {'egg_count': 2, 'floor_count': 100, 'max_floor': 11}\n"
     ]
    }
   ],
   "source": [
    "from jkg_evaluators import eggdrop_100floor_2egg\n",
    "\n",
    "\n",
    "\n",
    "def my_solution1(breaks):\n",
    "    \n",
    "    l = range(1,100, 10)\n",
    "    \n",
    "    for i in range(1,101, 10):\n",
    "        \n",
    "        if breaks(i):\n",
    "            return i - 1\n",
    "    \n",
    "eggdrop_100floor_2egg.evaluate(my_solution1)"
   ]
  },
  {
   "cell_type": "code",
   "execution_count": null,
   "metadata": {},
   "outputs": [],
   "source": []
  },
  {
   "cell_type": "code",
   "execution_count": null,
   "metadata": {},
   "outputs": [],
   "source": []
  },
  {
   "cell_type": "code",
   "execution_count": null,
   "metadata": {},
   "outputs": [],
   "source": []
  },
  {
   "cell_type": "code",
   "execution_count": null,
   "metadata": {},
   "outputs": [],
   "source": []
  },
  {
   "cell_type": "code",
   "execution_count": null,
   "metadata": {},
   "outputs": [],
   "source": []
  }
 ],
 "metadata": {
  "kernelspec": {
   "display_name": "Python 3",
   "language": "python",
   "name": "python3"
  },
  "language_info": {
   "codemirror_mode": {
    "name": "ipython",
    "version": 3
   },
   "file_extension": ".py",
   "mimetype": "text/x-python",
   "name": "python",
   "nbconvert_exporter": "python",
   "pygments_lexer": "ipython3",
   "version": "3.7.4"
  }
 },
 "nbformat": 4,
 "nbformat_minor": 2
}
