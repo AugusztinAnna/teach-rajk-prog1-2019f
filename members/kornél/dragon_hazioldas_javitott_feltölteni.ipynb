{
 "cells": [
  {
   "cell_type": "code",
   "execution_count": 1,
   "metadata": {},
   "outputs": [],
   "source": [
    "cow_alive_list_test_1 = [False, False, False, True, True, True, True]"
   ]
  },
  {
   "cell_type": "code",
   "execution_count": 2,
   "metadata": {},
   "outputs": [],
   "source": [
    "def my_solution2(cow_alive_list):\n",
    "    fat_alive_cow_index = 0\n",
    "    thin_alive_cow_index = len(cow_alive_list) - 1\n",
    "    \n",
    "    while (fat_alive_cow_index + 1) < thin_alive_cow_index:\n",
    "        middle_cow = int((fat_alive_cow_index + \n",
    "                          thin_alive_cow_index) / 2)\n",
    "        if cow_alive_list[middle_cow]:\n",
    "            thin_alive_cow_index = middle_cow\n",
    "        else:\n",
    "            fat_alive_cow_index = middle_cow\n",
    "    \n",
    "    #return middle_cow + 1\n",
    "    return thin_alive_cow_index + 1"
   ]
  },
  {
   "cell_type": "code",
   "execution_count": 3,
   "metadata": {},
   "outputs": [
    {
     "data": {
      "text/plain": [
       "4"
      ]
     },
     "execution_count": 3,
     "metadata": {},
     "output_type": "execute_result"
    }
   ],
   "source": [
    "my_solution2(cow_alive_list_test_1)"
   ]
  },
  {
   "cell_type": "code",
   "execution_count": 4,
   "metadata": {},
   "outputs": [],
   "source": [
    "def my_solution1(cow_alive_list):\n",
    "    place = 0\n",
    "    for cow_is_alive in cow_alive_list:\n",
    "        place = place + 1\n",
    "        if cow_is_alive:\n",
    "            return place\n",
    "    \n",
    "    return place + 1\n",
    "    "
   ]
  },
  {
   "cell_type": "code",
   "execution_count": 5,
   "metadata": {},
   "outputs": [
    {
     "data": {
      "text/plain": [
       "4"
      ]
     },
     "execution_count": 5,
     "metadata": {},
     "output_type": "execute_result"
    }
   ],
   "source": [
    "my_solution1(cow_alive_list_test_1)"
   ]
  },
  {
   "cell_type": "code",
   "execution_count": 6,
   "metadata": {},
   "outputs": [],
   "source": [
    "#at kell irni a cow alive list listát és be kell építeni a number of code listát\n",
    "#a kódon belül nem szabad olyan változónak lenni, amit nem én definiáltam (cow alive listát ki kell írtani a rendszerből)\n",
    "#kijavitando: ha bármilyen teszt listát irok, a solution 2 nem jól oldja meg (az 1 igen), és azt kell helyrehozni\n",
    "#nem pluszegy minuszegy a baj\n",
    "\n",
    "#befelezem, megnézem él e, így lefele indulok el\n",
    "#ha felfele megyek, a felfelével teszem egyenlővbe\n",
    "#a middle cow a két indulási irány szerint mást jelet\n",
    "#ezért változtatom a return értéket\n",
    "\n",
    "#átalakításnál plusezg minuszegeyt ki kell venni\n",
    "#listánál a szögletes zárójellel adom meg melyik elemet nézzen meg\n",
    "#függévnynél sima zárójellel kell csiálni\n",
    "#igy az is_dead után sima zárójel, neki csak megdok egy értéket és az true vagy false\n"
   ]
  },
  {
   "cell_type": "markdown",
   "metadata": {},
   "source": [
    "##  megoldás beépítve működik"
   ]
  },
  {
   "cell_type": "code",
   "execution_count": 5,
   "metadata": {},
   "outputs": [],
   "source": [
    "from jkg_evaluators import dragonfind_10_to_500"
   ]
  },
  {
   "cell_type": "code",
   "execution_count": 39,
   "metadata": {},
   "outputs": [],
   "source": [
    "def my_solution2(is_dead, number_of_cows):\n",
    "    fat_alive_cow_index = 0\n",
    "    thin_alive_cow_index = number_of_cows\n",
    "    \n",
    "    while (fat_alive_cow_index + 1) < thin_alive_cow_index:\n",
    "        middle_cow = int((fat_alive_cow_index + thin_alive_cow_index) / 2)\n",
    "        if is_dead (middle_cow):\n",
    "            fat_alive_cow_index = middle_cow\n",
    "        else:\n",
    "            thin_alive_cow_index = middle_cow\n",
    "    \n",
    "    return  thin_alive_cow_index\n"
   ]
  },
  {
   "cell_type": "code",
   "execution_count": 40,
   "metadata": {
    "scrolled": true
   },
   "outputs": [
    {
     "name": "stdout",
     "output_type": "stream",
     "text": [
      "- success rate: 124714/124714 (100.0%)\n",
      "- error count: 0\n",
      "- best performance: 3\n",
      "- worst performance: 9\n",
      "- mean performance: 8.30581169716311\n"
     ]
    }
   ],
   "source": [
    "dragonfind_10_to_500.evaluate(my_solution2)"
   ]
  },
  {
   "cell_type": "code",
   "execution_count": null,
   "metadata": {},
   "outputs": [],
   "source": []
  },
  {
   "cell_type": "code",
   "execution_count": null,
   "metadata": {},
   "outputs": [],
   "source": []
  }
 ],
 "metadata": {
  "kernelspec": {
   "display_name": "Python 3",
   "language": "python",
   "name": "python3"
  },
  "language_info": {
   "codemirror_mode": {
    "name": "ipython",
    "version": 3
   },
   "file_extension": ".py",
   "mimetype": "text/x-python",
   "name": "python",
   "nbconvert_exporter": "python",
   "pygments_lexer": "ipython3",
   "version": "3.7.4"
  }
 },
 "nbformat": 4,
 "nbformat_minor": 2
}
