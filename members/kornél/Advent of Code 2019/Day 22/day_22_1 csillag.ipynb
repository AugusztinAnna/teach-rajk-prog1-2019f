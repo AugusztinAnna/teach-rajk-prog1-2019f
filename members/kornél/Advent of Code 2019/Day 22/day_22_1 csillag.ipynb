{
 "cells": [
  {
   "cell_type": "code",
   "execution_count": 41,
   "metadata": {},
   "outputs": [
    {
     "name": "stdout",
     "output_type": "stream",
     "text": [
      "[['cut', '8808'], ['deal', 'with', 'increment', '59'], ['deal', 'into', 'new', 'stack'], ['deal', 'with', 'increment', '70'], ['cut', '-5383'], ['deal', 'with', 'increment', '4'], ['deal', 'into', 'new', 'stack'], ['cut', '9582'], ['deal', 'with', 'increment', '55'], ['cut', '-355'], ['deal', 'with', 'increment', '61'], ['deal', 'into', 'new', 'stack'], ['cut', '-6596'], ['deal', 'with', 'increment', '8'], ['cut', '4034'], ['deal', 'with', 'increment', '37'], ['cut', '-8183'], ['deal', 'with', 'increment', '16'], ['cut', '9529'], ['deal', 'with', 'increment', '24'], ['cut', '-7751'], ['deal', 'with', 'increment', '15'], ['cut', '-8886'], ['deal', 'with', 'increment', '17'], ['deal', 'into', 'new', 'stack'], ['cut', '-1157'], ['deal', 'with', 'increment', '74'], ['cut', '-6960'], ['deal', 'with', 'increment', '49'], ['cut', '9032'], ['deal', 'with', 'increment', '47'], ['cut', '8101'], ['deal', 'with', 'increment', '59'], ['cut', '-8119'], ['deal', 'with', 'increment', '35'], ['cut', '-2017'], ['deal', 'with', 'increment', '10'], ['cut', '-4431'], ['deal', 'with', 'increment', '47'], ['cut', '5712'], ['deal', 'with', 'increment', '18'], ['cut', '4424'], ['deal', 'with', 'increment', '69'], ['cut', '5382'], ['deal', 'with', 'increment', '40'], ['cut', '-4266'], ['deal', 'with', 'increment', '58'], ['cut', '-8911'], ['deal', 'with', 'increment', '24'], ['cut', '8231'], ['deal', 'with', 'increment', '74'], ['cut', '-2055'], ['deal', 'into', 'new', 'stack'], ['cut', '-1308'], ['deal', 'with', 'increment', '31'], ['deal', 'into', 'new', 'stack'], ['deal', 'with', 'increment', '18'], ['cut', '4815'], ['deal', 'with', 'increment', '5'], ['deal', 'into', 'new', 'stack'], ['cut', '1044'], ['deal', 'with', 'increment', '75'], ['deal', 'into', 'new', 'stack'], ['deal', 'with', 'increment', '13'], ['cut', '177'], ['deal', 'into', 'new', 'stack'], ['deal', 'with', 'increment', '28'], ['cut', '5157'], ['deal', 'with', 'increment', '31'], ['deal', 'into', 'new', 'stack'], ['cut', '-8934'], ['deal', 'with', 'increment', '50'], ['cut', '4183'], ['deal', 'with', 'increment', '50'], ['cut', '1296'], ['deal', 'with', 'increment', '5'], ['cut', '-5162'], ['deal', 'with', 'increment', '52'], ['deal', 'into', 'new', 'stack'], ['cut', '-5207'], ['deal', 'with', 'increment', '30'], ['cut', '-2767'], ['deal', 'with', 'increment', '71'], ['deal', 'into', 'new', 'stack'], ['cut', '5671'], ['deal', 'with', 'increment', '67'], ['cut', '4818'], ['deal', 'with', 'increment', '35'], ['cut', '9234'], ['deal', 'with', 'increment', '58'], ['cut', '-8832'], ['deal', 'with', 'increment', '72'], ['cut', '1289'], ['deal', 'with', 'increment', '55'], ['cut', '-8444'], ['deal', 'into', 'new', 'stack'], ['deal', 'with', 'increment', '19'], ['cut', '-5512'], ['deal', 'with', 'increment', '29'], ['cut', '3680']]\n"
     ]
    }
   ],
   "source": [
    "with open(\"day_22_1_input.txt\") as f:\n",
    "    instructions = f.read()\n",
    "    instructions = instructions.split('\\n')\n",
    "\n",
    "new_instructions = []\n",
    "for num in instructions:\n",
    "    new_instructions.append(num.split(' '))\n",
    "\n",
    "print(new_instructions)"
   ]
  },
  {
   "cell_type": "code",
   "execution_count": 31,
   "metadata": {},
   "outputs": [],
   "source": [
    "def newstack(inputlist):\n",
    "    newstack_list = []\n",
    "    for i in range (0, len(inputlist)):\n",
    "        newstack_list.append(inputlist[len(inputlist)-1-i])\n",
    "    \n",
    "    return newstack_list\n",
    "\n",
    "\n",
    "def cut(inputlist, number):\n",
    "    cut_first = inputlist[:number]\n",
    "    cut_second = inputlist[number:]\n",
    "    cut_list = cut_second + cut_first\n",
    "    \n",
    "    return cut_list\n",
    "\n",
    "def increment(inputlist, increment):\n",
    "    increment_list = [0]*len(inputlist)\n",
    "    for i in range(len(inputlist)):\n",
    "            increment_list[increment * i % len(increment_list)] = inputlist[i]\n",
    "    return increment_list"
   ]
  },
  {
   "cell_type": "code",
   "execution_count": 39,
   "metadata": {},
   "outputs": [],
   "source": [
    "test_list = [0, 1, 2, 3, 4, 5, 6, 7, 8, 9]"
   ]
  },
  {
   "cell_type": "code",
   "execution_count": 40,
   "metadata": {},
   "outputs": [
    {
     "data": {
      "text/plain": [
       "[0, 7, 4, 1, 8, 5, 2, 9, 6, 3]"
      ]
     },
     "execution_count": 40,
     "metadata": {},
     "output_type": "execute_result"
    }
   ],
   "source": [
    "increment(test_list, 3)"
   ]
  },
  {
   "cell_type": "code",
   "execution_count": 34,
   "metadata": {},
   "outputs": [],
   "source": [
    "factory_order = list(range(10007))\n",
    "\n",
    "for technique in new_instructions:\n",
    "    if technique[0] == 'deal' and technique[1] == 'into':\n",
    "        new_order = newstack(factory_order)\n",
    "    elif technique[0] == 'deal' and technique[1] == 'with':\n",
    "        new_order = increment(factory_order, int(technique[3]))\n",
    "    else:\n",
    "        new_order = cut(factory_order, int(technique[1]))\n",
    "    \n",
    "    factory_order = new_order"
   ]
  },
  {
   "cell_type": "code",
   "execution_count": 35,
   "metadata": {},
   "outputs": [
    {
     "name": "stdout",
     "output_type": "stream",
     "text": [
      "6326\n"
     ]
    }
   ],
   "source": [
    "print(factory_order.index(2019))"
   ]
  },
  {
   "cell_type": "code",
   "execution_count": 29,
   "metadata": {},
   "outputs": [],
   "source": []
  },
  {
   "cell_type": "code",
   "execution_count": null,
   "metadata": {},
   "outputs": [],
   "source": []
  },
  {
   "cell_type": "code",
   "execution_count": 36,
   "metadata": {},
   "outputs": [],
   "source": [
    "r = [1, 2, 3]"
   ]
  },
  {
   "cell_type": "code",
   "execution_count": 38,
   "metadata": {},
   "outputs": [
    {
     "name": "stdout",
     "output_type": "stream",
     "text": [
      "[3, 2, 1]\n"
     ]
    }
   ],
   "source": [
    "print(r[::-1])"
   ]
  },
  {
   "cell_type": "code",
   "execution_count": null,
   "metadata": {},
   "outputs": [],
   "source": []
  },
  {
   "cell_type": "code",
   "execution_count": null,
   "metadata": {},
   "outputs": [],
   "source": []
  },
  {
   "cell_type": "code",
   "execution_count": null,
   "metadata": {},
   "outputs": [],
   "source": []
  },
  {
   "cell_type": "code",
   "execution_count": null,
   "metadata": {},
   "outputs": [],
   "source": []
  },
  {
   "cell_type": "code",
   "execution_count": null,
   "metadata": {},
   "outputs": [],
   "source": []
  },
  {
   "cell_type": "code",
   "execution_count": null,
   "metadata": {},
   "outputs": [],
   "source": []
  },
  {
   "cell_type": "code",
   "execution_count": null,
   "metadata": {},
   "outputs": [],
   "source": []
  }
 ],
 "metadata": {
  "kernelspec": {
   "display_name": "Python 3",
   "language": "python",
   "name": "python3"
  },
  "language_info": {
   "codemirror_mode": {
    "name": "ipython",
    "version": 3
   },
   "file_extension": ".py",
   "mimetype": "text/x-python",
   "name": "python",
   "nbconvert_exporter": "python",
   "pygments_lexer": "ipython3",
   "version": "3.7.4"
  }
 },
 "nbformat": 4,
 "nbformat_minor": 2
}
