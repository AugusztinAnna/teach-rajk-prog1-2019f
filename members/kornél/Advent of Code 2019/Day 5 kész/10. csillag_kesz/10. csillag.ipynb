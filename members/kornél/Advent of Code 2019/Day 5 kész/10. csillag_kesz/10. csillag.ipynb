{
 "cells": [
  {
   "cell_type": "markdown",
   "metadata": {},
   "source": [
    "## Feladat\n",
    "- Opcode 5 is jump-if-true: if the first parameter is non-zero, it sets the instruction pointer to the value from the second parameter. Otherwise, it does nothing.\n",
    "- Opcode 6 is jump-if-false: if the first parameter is zero, it sets the instruction pointer to the value from the second parameter. Otherwise, it does nothing.\n",
    "- Opcode 7 is less than: if the first parameter is less than the second parameter, it stores 1 in the position given by the third parameter. Otherwise, it stores 0.\n",
    "- Opcode 8 is equals: if the first parameter is equal to the second parameter, it stores 1 in the position given by the third parameter. Otherwise, it stores 0."
   ]
  },
  {
   "cell_type": "code",
   "execution_count": 4,
   "metadata": {},
   "outputs": [],
   "source": [
    "with open(\"AoC_9_input.txt\") as f:\n",
    "    content = f.read()\n",
    "    szamok = content.split(',')\n",
    "    szamok = [int(x) for x in szamok]\n",
    "#print(szamok)"
   ]
  },
  {
   "cell_type": "code",
   "execution_count": 5,
   "metadata": {
    "scrolled": true
   },
   "outputs": [
    {
     "name": "stdout",
     "output_type": "stream",
     "text": [
      "5\n"
     ]
    }
   ],
   "source": [
    "opcode4_outputlist = []\n",
    "opcode = 0\n",
    "small_jump = 2\n",
    "jump = 4\n",
    "\n",
    "while opcode < len(szamok):\n",
    "    parameterek = {1: 3, 2: 3, 3: 1, 4: 1, 5: 2, 6: 2, 7: 3, 8: 3, 99: 0}\n",
    "    eltarolt_parameterek = []\n",
    "    parancs = int(str(szamok[opcode])[-2::])\n",
    "    i = 1\n",
    "    for parameter in str(szamok[opcode])[-3::-1]:\n",
    "        if int(parameter) == 1:\n",
    "            eltarolt_parameterek.append(szamok[opcode + i])\n",
    "        else:\n",
    "            eltarolt_parameterek.append(szamok[szamok[opcode + i]])\n",
    "        i += 1\n",
    "\n",
    "    for _ in range(parameterek[int(str(szamok[opcode])[-2::])] - len(eltarolt_parameterek)):\n",
    "        eltarolt_parameterek.append(szamok[szamok[opcode + i]])\n",
    "        i += 1\n",
    "\n",
    "    \n",
    "    if parancs == 5:\n",
    "        if eltarolt_parameterek[0] != 0:\n",
    "            opcode = eltarolt_parameterek[1]\n",
    "        else:\n",
    "            opcode += parameterek[int(str(szamok[opcode])[-2::])] + 1\n",
    "\n",
    "    if parancs == 6:\n",
    "        if eltarolt_parameterek[0] == 0:\n",
    "            opcode = eltarolt_parameterek[1]\n",
    "        else:\n",
    "            opcode += parameterek[int(str(szamok[opcode])[-2::])] + 1\n",
    "\n",
    "    if parancs == 7:\n",
    "        if eltarolt_parameterek[0] < eltarolt_parameterek[1]:\n",
    "            szamok[szamok[opcode + 3]] = 1\n",
    "        else:\n",
    "            szamok[szamok[opcode + 3]] = 0\n",
    "        opcode += parameterek[int(str(szamok[opcode])[-2::])] + 1\n",
    "\n",
    "    if parancs == 8:\n",
    "        if eltarolt_parameterek[0] == eltarolt_parameterek[1]:\n",
    "            szamok[szamok[opcode + 3]] = 1\n",
    "        else:\n",
    "            szamok[szamok[opcode + 3]] = 0\n",
    "        opcode += parameterek[int(str(szamok[opcode])[-2::])] + 1\n",
    "    \n",
    "    if len(str(szamok[opcode])) == 1:\n",
    "        if szamok[opcode] == 3:\n",
    "            opcode3_input = int(input())\n",
    "            szamok[szamok[opcode + 1]] = opcode3_input\n",
    "            opcode = opcode + small_jump\n",
    "        elif szamok[opcode] == 4:\n",
    "            opcode4_outputlist.append(szamok[szamok[opcode + 1]])\n",
    "            opcode = opcode + small_jump\n",
    "        elif szamok[opcode] == 1:\n",
    "            osszeadas = szamok[szamok[opcode + 1]] + szamok[szamok[opcode + 2]]\n",
    "            szamok[szamok[opcode + 3]] = osszeadas\n",
    "            opcode = opcode + jump\n",
    "        elif szamok[opcode] == 2:\n",
    "            szorzas = szamok[szamok[opcode + 1]] * szamok[szamok[opcode + 2]]\n",
    "            szamok[szamok[opcode + 3]] = szorzas\n",
    "            opcode = opcode + jump\n",
    "            \n",
    "    elif len(str(szamok[opcode])) == 3:\n",
    "        if int(str(szamok[opcode])[0]) == 1:\n",
    "            if int(str(szamok[opcode])[2]) == 1:\n",
    "                osszeadas = szamok[opcode + 1] + szamok[szamok[opcode + 2]]\n",
    "                szamok[szamok[opcode + 3]] = osszeadas\n",
    "                opcode = opcode + jump\n",
    "            elif int(str(szamok[opcode])[2]) == 2:\n",
    "                szorzas = szamok[opcode + 1] * szamok[szamok[opcode + 2]]\n",
    "                szamok[szamok[opcode + 3]] = szorzas\n",
    "                opcode = opcode + jump\n",
    "            elif int(str(szamok[opcode])[2]) == 4:\n",
    "                opcode4_outputlist.append(szamok[opcode + 1])\n",
    "                opcode = opcode + small_jump \n",
    "            elif szamok[opcode] == 99:\n",
    "                break\n",
    " \n",
    "    elif len(str(szamok[opcode])) == 4:\n",
    "        if int(str(szamok[opcode])[0]) == 1 and int(str(szamok[opcode])[1]) == 0:\n",
    "            if int(str(szamok[opcode])[3]) == 1:\n",
    "                osszeadas = szamok[szamok[opcode + 1]] + szamok[opcode + 2]\n",
    "                szamok[szamok[opcode + 3]] = osszeadas\n",
    "                opcode = opcode + jump\n",
    "            elif int(str(szamok[opcode])[3]) == 2:\n",
    "                szorzas = szamok[szamok[opcode + 1]] * szamok[opcode + 2]\n",
    "                szamok[szamok[opcode + 3]] = szorzas\n",
    "                opcode = opcode + jump \n",
    "            elif int(str(szamok[opcode])[3]) == 4:\n",
    "                opcode4_outputlist.append(szamok[szamok[opcode + 1]])\n",
    "                opcode = opcode + small_jump \n",
    "        \n",
    "        elif int(str(szamok[opcode])[0]) == 1 and int(str(szamok[opcode])[1]) == 1:\n",
    "            if int(str(szamok[opcode])[3]) == 1:\n",
    "                osszeadas = szamok[opcode + 1] + szamok[opcode + 2]\n",
    "                szamok[szamok[opcode + 3]] = osszeadas\n",
    "                opcode = opcode + jump\n",
    "            elif int(str(szamok[opcode])[3]) == 2:\n",
    "                szorzas = szamok[opcode + 1] * szamok[opcode + 2]\n",
    "                szamok[szamok[opcode + 3]] = szorzas\n",
    "                opcode = opcode + jump\n",
    "            elif int(str(szamok[opcode])[3]) == 4:\n",
    "                opcode4_outputlist.append(szamok[szamok[opcode + 1]])\n",
    "                opcode = opcode + small_jump \n",
    "          \n",
    "    elif szamok[opcode] == 99:\n",
    "        break\n"
   ]
  },
  {
   "cell_type": "code",
   "execution_count": 6,
   "metadata": {},
   "outputs": [
    {
     "data": {
      "text/plain": [
       "[652726]"
      ]
     },
     "execution_count": 6,
     "metadata": {},
     "output_type": "execute_result"
    }
   ],
   "source": [
    "opcode4_outputlist"
   ]
  },
  {
   "cell_type": "code",
   "execution_count": null,
   "metadata": {},
   "outputs": [],
   "source": []
  }
 ],
 "metadata": {
  "kernelspec": {
   "display_name": "Python 3",
   "language": "python",
   "name": "python3"
  },
  "language_info": {
   "codemirror_mode": {
    "name": "ipython",
    "version": 3
   },
   "file_extension": ".py",
   "mimetype": "text/x-python",
   "name": "python",
   "nbconvert_exporter": "python",
   "pygments_lexer": "ipython3",
   "version": "3.7.4"
  }
 },
 "nbformat": 4,
 "nbformat_minor": 2
}
