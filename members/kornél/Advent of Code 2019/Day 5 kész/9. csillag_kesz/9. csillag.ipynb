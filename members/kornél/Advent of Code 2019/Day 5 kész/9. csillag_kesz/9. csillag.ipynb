{
 "cells": [
  {
   "cell_type": "code",
   "execution_count": 9,
   "metadata": {},
   "outputs": [],
   "source": [
    "with open(\"AoC_9_input.txt\") as f:\n",
    "    content = f.read()\n",
    "    szamok = content.split(',')\n",
    "    szamok = [int(x) for x in szamok]\n",
    "#print(szamok)"
   ]
  },
  {
   "cell_type": "code",
   "execution_count": 10,
   "metadata": {
    "scrolled": true
   },
   "outputs": [
    {
     "name": "stdout",
     "output_type": "stream",
     "text": [
      "1\n",
      "1101 3\n",
      "1001 0\n",
      "1001 0\n",
      "101 0\n",
      "1001 0\n",
      "101 0\n",
      "101 0\n",
      "1001 0\n",
      "1001 0\n",
      "1 15314507\n"
     ]
    }
   ],
   "source": [
    "opcode4_outputlist = []\n",
    "opcode = 0\n",
    "small_jump = 2\n",
    "jump = 4\n",
    "\n",
    "while opcode < len(szamok):\n",
    "    if len(str(szamok[opcode])) == 1:\n",
    "        if szamok[opcode] == 3:\n",
    "            opcode3_input = int(input())\n",
    "            szamok[szamok[opcode + 1]] = opcode3_input\n",
    "            opcode = opcode + small_jump\n",
    "        elif szamok[opcode] == 4:\n",
    "            opcode4_outputlist.append(szamok[szamok[opcode + 1]])\n",
    "            print(szamok[opcode - 4], szamok[szamok[opcode + 1]])\n",
    "            opcode = opcode + small_jump\n",
    "        elif szamok[opcode] == 1:\n",
    "            osszeadas = szamok[szamok[opcode + 1]] + szamok[szamok[opcode + 2]]\n",
    "            szamok[szamok[opcode + 3]] = osszeadas\n",
    "            opcode = opcode + jump\n",
    "        elif szamok[opcode] == 2:\n",
    "            szorzas = szamok[szamok[opcode + 1]] * szamok[szamok[opcode + 2]]\n",
    "            szamok[szamok[opcode + 3]] = szorzas\n",
    "            opcode = opcode + jump\n",
    "            \n",
    "    elif len(str(szamok[opcode])) == 3:\n",
    "        if int(str(szamok[opcode])[0]) == 1:\n",
    "            if int(str(szamok[opcode])[2]) == 1:\n",
    "                osszeadas = szamok[opcode + 1] + szamok[szamok[opcode + 2]]\n",
    "                szamok[szamok[opcode + 3]] = osszeadas\n",
    "                opcode = opcode + jump\n",
    "            elif int(str(szamok[opcode])[2]) == 2:\n",
    "                szorzas = szamok[opcode + 1] * szamok[szamok[opcode + 2]]\n",
    "                szamok[szamok[opcode + 3]] = szorzas\n",
    "                opcode = opcode + jump\n",
    "            elif int(str(szamok[opcode])[2]) == 4:\n",
    "                opcode4_outputlist.append(szamok[szamok[opcode + 1]])\n",
    "                print(szamok[opcode - 4], szamok[szamok[opcode + 1]])\n",
    "                opcode = opcode + small_jump \n",
    "            elif szamok[opcode] == 99:\n",
    "                break\n",
    " \n",
    "    elif len(str(szamok[opcode])) == 4:\n",
    "        if int(str(szamok[opcode])[0]) == 1 and int(str(szamok[opcode])[1]) == 0:\n",
    "            if int(str(szamok[opcode])[3]) == 1:\n",
    "                osszeadas = szamok[szamok[opcode + 1]] + szamok[opcode + 2]\n",
    "                szamok[szamok[opcode + 3]] = osszeadas\n",
    "                opcode = opcode + jump\n",
    "            elif int(str(szamok[opcode])[3]) == 2:\n",
    "                szorzas = szamok[szamok[opcode + 1]] * szamok[opcode + 2]\n",
    "                szamok[szamok[opcode + 3]] = szorzas\n",
    "                opcode = opcode + jump \n",
    "            elif int(str(szamok[opcode])[3]) == 4:\n",
    "                opcode4_outputlist.append(szamok[szamok[opcode + 1]])\n",
    "                print(szamok[opcode - 4], szamok[szamok[opcode + 1]])\n",
    "                opcode = opcode + small_jump \n",
    "        \n",
    "        elif int(str(szamok[opcode])[0]) == 1 and int(str(szamok[opcode])[1]) == 1:\n",
    "            if int(str(szamok[opcode])[3]) == 1:\n",
    "                osszeadas = szamok[opcode + 1] + szamok[opcode + 2]\n",
    "                szamok[szamok[opcode + 3]] = osszeadas\n",
    "                opcode = opcode + jump\n",
    "            elif int(str(szamok[opcode])[3]) == 2:\n",
    "                szorzas = szamok[opcode + 1] * szamok[opcode + 2]\n",
    "                szamok[szamok[opcode + 3]] = szorzas\n",
    "                opcode = opcode + jump\n",
    "            elif int(str(szamok[opcode])[3]) == 4:\n",
    "                opcode4_outputlist.append(szamok[szamok[opcode + 1]])\n",
    "                print(szamok[opcode - 4], szamok[szamok[opcode + 1]])\n",
    "                opcode = opcode + small_jump \n",
    "          \n",
    "    elif szamok[opcode] == 99:\n",
    "        break\n"
   ]
  },
  {
   "cell_type": "code",
   "execution_count": 11,
   "metadata": {},
   "outputs": [
    {
     "data": {
      "text/plain": [
       "[3, 0, 0, 0, 0, 0, 0, 0, 0, 15314507]"
      ]
     },
     "execution_count": 11,
     "metadata": {},
     "output_type": "execute_result"
    }
   ],
   "source": [
    "opcode4_outputlist"
   ]
  },
  {
   "cell_type": "code",
   "execution_count": null,
   "metadata": {},
   "outputs": [],
   "source": []
  }
 ],
 "metadata": {
  "kernelspec": {
   "display_name": "Python 3",
   "language": "python",
   "name": "python3"
  },
  "language_info": {
   "codemirror_mode": {
    "name": "ipython",
    "version": 3
   },
   "file_extension": ".py",
   "mimetype": "text/x-python",
   "name": "python",
   "nbconvert_exporter": "python",
   "pygments_lexer": "ipython3",
   "version": "3.7.4"
  }
 },
 "nbformat": 4,
 "nbformat_minor": 2
}
