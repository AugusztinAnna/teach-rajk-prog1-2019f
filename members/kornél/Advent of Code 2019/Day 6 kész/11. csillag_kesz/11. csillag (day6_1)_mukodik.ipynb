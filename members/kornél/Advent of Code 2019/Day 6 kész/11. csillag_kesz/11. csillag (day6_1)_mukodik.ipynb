{
 "cells": [
  {
   "cell_type": "code",
   "execution_count": 18,
   "metadata": {
    "scrolled": false
   },
   "outputs": [],
   "source": [
    "with open(\"day_6_input.txt\") as f:\n",
    "    content = f.read()\n",
    "    content = content.replace(\"\\n\", \".\")\n",
    "    content = content.replace(\")\", \".\")\n",
    "    content = content.split(\".\")\n",
    "#print(content)\n",
    "#rawmap = open(\"day_6_input.txt\").read().replace(\"\\n\", \".\").replace(\")\", \".\").split(\".\")"
   ]
  },
  {
   "cell_type": "code",
   "execution_count": 5,
   "metadata": {},
   "outputs": [],
   "source": [
    "composite_list = [content[x:x+2] for x in range(0, len(content),2)]\n",
    "#print(composite_list)"
   ]
  },
  {
   "cell_type": "code",
   "execution_count": 19,
   "metadata": {},
   "outputs": [],
   "source": [
    "total = composite_list\n",
    "total_1 = set(content)\n",
    "\n",
    "elso_elemek = []\n",
    "masodik_elemek = []\n",
    "sorrend = []\n",
    "\n",
    "for elso in total:\n",
    "    elso_elemek.append(elso[0])\n",
    "    masodik_elemek.append(elso[1])\n",
    "#print(elso_elemek)\n",
    "#print(masodik_elemek)"
   ]
  },
  {
   "cell_type": "code",
   "execution_count": 20,
   "metadata": {},
   "outputs": [
    {
     "name": "stdout",
     "output_type": "stream",
     "text": [
      "387356\n"
     ]
    }
   ],
   "source": [
    "final = [['COM', 0]]\n",
    "count = 1\n",
    "\n",
    "current = ['COM']\n",
    "while len(total_1) != len(final):\n",
    "    next_list_total = []\n",
    "    for orbit in current:\n",
    "        for i in total:\n",
    "            if i[0] == orbit:\n",
    "                next_list_total.append(i[1])\n",
    "                final.append([orbit, count])\n",
    "    count += 1\n",
    "    current = next_list_total\n",
    "\n",
    "solution = []\n",
    "for megoldas in final:\n",
    "    solution.append(megoldas[1])\n",
    "    sum(solution)\n",
    "print(sum(solution))"
   ]
  },
  {
   "cell_type": "code",
   "execution_count": null,
   "metadata": {},
   "outputs": [],
   "source": []
  },
  {
   "cell_type": "code",
   "execution_count": null,
   "metadata": {},
   "outputs": [],
   "source": []
  },
  {
   "cell_type": "code",
   "execution_count": null,
   "metadata": {},
   "outputs": [],
   "source": []
  },
  {
   "cell_type": "code",
   "execution_count": null,
   "metadata": {},
   "outputs": [],
   "source": []
  },
  {
   "cell_type": "code",
   "execution_count": null,
   "metadata": {},
   "outputs": [],
   "source": []
  },
  {
   "cell_type": "code",
   "execution_count": null,
   "metadata": {},
   "outputs": [],
   "source": []
  }
 ],
 "metadata": {
  "kernelspec": {
   "display_name": "Python 3",
   "language": "python",
   "name": "python3"
  },
  "language_info": {
   "codemirror_mode": {
    "name": "ipython",
    "version": 3
   },
   "file_extension": ".py",
   "mimetype": "text/x-python",
   "name": "python",
   "nbconvert_exporter": "python",
   "pygments_lexer": "ipython3",
   "version": "3.7.4"
  }
 },
 "nbformat": 4,
 "nbformat_minor": 2
}
