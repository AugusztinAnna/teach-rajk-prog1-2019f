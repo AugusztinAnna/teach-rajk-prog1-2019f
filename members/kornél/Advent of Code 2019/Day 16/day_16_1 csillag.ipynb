{
 "cells": [
  {
   "cell_type": "code",
   "execution_count": 2,
   "metadata": {},
   "outputs": [],
   "source": [
    "with open(\"day_16_1_input.txt\") as f:\n",
    "    content = f.read()\n",
    "\n",
    "signal = [int(char) for char in content]\n",
    "#print(len(content)/4)\n",
    "basepattern = [0, 1, 0, -1]*163\n",
    "pattern = basepattern[:len(content)]\n",
    "#print(pattern)\n",
    "\n",
    "patternlist = []\n",
    "#print(len(signal))\n",
    "#print(signal)"
   ]
  },
  {
   "cell_type": "code",
   "execution_count": 3,
   "metadata": {},
   "outputs": [],
   "source": [
    "for i in range(len(content)):\n",
    "    newpattern = []\n",
    "    for digit in basepattern:\n",
    "        digitlist = [digit]\n",
    "        repeat = [digit]*(i+1)\n",
    "        newpattern += repeat\n",
    "    realpattern = newpattern[1:]\n",
    "    actualpattern = realpattern * 163\n",
    "    pattern = actualpattern[:len(content)]\n",
    "    patternlist.append(pattern)\n",
    "    \n"
   ]
  },
  {
   "cell_type": "code",
   "execution_count": 5,
   "metadata": {},
   "outputs": [
    {
     "name": "stdout",
     "output_type": "stream",
     "text": [
      "['7', '3', '7', '1', '9', '4', '4', '6']\n"
     ]
    }
   ],
   "source": [
    "for _ in range(100):\n",
    "    newsignal = []\n",
    "    for i in range(0, len(signal)):\n",
    "        multi = []\n",
    "        for d in range(0, len(patternlist)):\n",
    "            multi.append(int(signal[d]) * int(patternlist[i][d]))\n",
    "        newsignal.append(sum(multi))\n",
    "    newsignal = [str(num)[-1] for num in newsignal]\n",
    "    signal = newsignal\n",
    "\n",
    "print(signal[:8])"
   ]
  },
  {
   "cell_type": "code",
   "execution_count": null,
   "metadata": {},
   "outputs": [],
   "source": []
  },
  {
   "cell_type": "code",
   "execution_count": null,
   "metadata": {},
   "outputs": [],
   "source": []
  },
  {
   "cell_type": "code",
   "execution_count": null,
   "metadata": {},
   "outputs": [],
   "source": []
  },
  {
   "cell_type": "code",
   "execution_count": 92,
   "metadata": {},
   "outputs": [
    {
     "name": "stdout",
     "output_type": "stream",
     "text": [
      "[0, 0, 1, 1, 0, 0, -1, -1]\n"
     ]
    }
   ],
   "source": [
    "base_pattern = [0, 1, 0, -1]\n",
    "\n",
    "\n",
    "\n",
    "lista = []\n",
    "\n",
    "for i in base_pattern:\n",
    "        lista.append([i]*2)\n",
    "\n",
    "x = lista\n",
    "result = sum(x, [])\n",
    "print(result)"
   ]
  },
  {
   "cell_type": "code",
   "execution_count": 123,
   "metadata": {},
   "outputs": [
    {
     "name": "stdout",
     "output_type": "stream",
     "text": [
      "[0, 1]\n"
     ]
    }
   ],
   "source": [
    "lista = []\n",
    "\n",
    "for i in range(20):\n",
    "    lista.append(i)\n",
    "print(lista[:2])"
   ]
  },
  {
   "cell_type": "code",
   "execution_count": 122,
   "metadata": {},
   "outputs": [
    {
     "name": "stdout",
     "output_type": "stream",
     "text": [
      "[0, 1, 2, 3, 4, 5, 6, 7, 8, 9, 10, 11, 12, 13, 14, 15, 16, 17, 18, 19]\n"
     ]
    }
   ],
   "source": []
  },
  {
   "cell_type": "code",
   "execution_count": null,
   "metadata": {},
   "outputs": [],
   "source": []
  },
  {
   "cell_type": "code",
   "execution_count": null,
   "metadata": {},
   "outputs": [],
   "source": []
  }
 ],
 "metadata": {
  "kernelspec": {
   "display_name": "Python 3",
   "language": "python",
   "name": "python3"
  },
  "language_info": {
   "codemirror_mode": {
    "name": "ipython",
    "version": 3
   },
   "file_extension": ".py",
   "mimetype": "text/x-python",
   "name": "python",
   "nbconvert_exporter": "python",
   "pygments_lexer": "ipython3",
   "version": "3.7.4"
  }
 },
 "nbformat": 4,
 "nbformat_minor": 2
}
