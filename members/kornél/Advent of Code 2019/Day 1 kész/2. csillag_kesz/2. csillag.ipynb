{
 "cells": [
  {
   "cell_type": "code",
   "execution_count": 36,
   "metadata": {},
   "outputs": [],
   "source": [
    "import math"
   ]
  },
  {
   "cell_type": "code",
   "execution_count": 37,
   "metadata": {},
   "outputs": [],
   "source": [
    "with open(\"fuel-input.txt\") as f:\n",
    "    content = f.readlines()\n",
    "    content = [x.strip() for x in content]\n",
    "\n",
    "    \n",
    "#print (content)"
   ]
  },
  {
   "cell_type": "code",
   "execution_count": 38,
   "metadata": {},
   "outputs": [],
   "source": [
    "tomegek = [int(x) for x in content]\n",
    "#print(tomegek)"
   ]
  },
  {
   "cell_type": "code",
   "execution_count": 52,
   "metadata": {
    "scrolled": true
   },
   "outputs": [],
   "source": [
    "uzemanyag = []\n",
    "for i in tomegek:\n",
    "    uzemanyag.append(math.floor(i/3)-2)\n",
    "\n",
    "#print(uzemanyag)"
   ]
  },
  {
   "cell_type": "code",
   "execution_count": 50,
   "metadata": {},
   "outputs": [],
   "source": [
    "vegso = []\n",
    "for k in tomegek:\n",
    "    #print (k)\n",
    "    while (math.floor(k/3)-2) > 0:\n",
    "        k = math.floor(k/3)-2\n",
    "        vegso.append(k)\n",
    "\n",
    "#print (vegso)  "
   ]
  },
  {
   "cell_type": "code",
   "execution_count": 51,
   "metadata": {},
   "outputs": [
    {
     "name": "stdout",
     "output_type": "stream",
     "text": [
      "4907345\n"
     ]
    }
   ],
   "source": [
    "numbersSum = sum(vegso)\n",
    "print(numbersSum)"
   ]
  },
  {
   "cell_type": "code",
   "execution_count": null,
   "metadata": {},
   "outputs": [],
   "source": []
  }
 ],
 "metadata": {
  "kernelspec": {
   "display_name": "Python 3",
   "language": "python",
   "name": "python3"
  },
  "language_info": {
   "codemirror_mode": {
    "name": "ipython",
    "version": 3
   },
   "file_extension": ".py",
   "mimetype": "text/x-python",
   "name": "python",
   "nbconvert_exporter": "python",
   "pygments_lexer": "ipython3",
   "version": "3.7.4"
  }
 },
 "nbformat": 4,
 "nbformat_minor": 2
}
