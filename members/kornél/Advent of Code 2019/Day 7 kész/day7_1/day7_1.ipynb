{
 "cells": [
  {
   "cell_type": "code",
   "execution_count": 89,
   "metadata": {
    "scrolled": true
   },
   "outputs": [
    {
     "name": "stdout",
     "output_type": "stream",
     "text": [
      "[3, 8, 1001, 8, 10, 8, 105, 1, 0, 0, 21, 42, 67, 76, 89, 110, 191, 272, 353, 434, 99999, 3, 9, 102, 2, 9, 9, 1001, 9, 2, 9, 1002, 9, 2, 9, 1001, 9, 2, 9, 4, 9, 99, 3, 9, 1001, 9, 4, 9, 102, 4, 9, 9, 101, 3, 9, 9, 1002, 9, 2, 9, 1001, 9, 4, 9, 4, 9, 99, 3, 9, 102, 5, 9, 9, 4, 9, 99, 3, 9, 1001, 9, 3, 9, 1002, 9, 3, 9, 4, 9, 99, 3, 9, 102, 3, 9, 9, 101, 2, 9, 9, 1002, 9, 3, 9, 101, 5, 9, 9, 4, 9, 99, 3, 9, 1001, 9, 2, 9, 4, 9, 3, 9, 102, 2, 9, 9, 4, 9, 3, 9, 1001, 9, 1, 9, 4, 9, 3, 9, 102, 2, 9, 9, 4, 9, 3, 9, 1001, 9, 1, 9, 4, 9, 3, 9, 102, 2, 9, 9, 4, 9, 3, 9, 1002, 9, 2, 9, 4, 9, 3, 9, 1002, 9, 2, 9, 4, 9, 3, 9, 1002, 9, 2, 9, 4, 9, 3, 9, 1002, 9, 2, 9, 4, 9, 99, 3, 9, 102, 2, 9, 9, 4, 9, 3, 9, 101, 1, 9, 9, 4, 9, 3, 9, 101, 1, 9, 9, 4, 9, 3, 9, 102, 2, 9, 9, 4, 9, 3, 9, 1002, 9, 2, 9, 4, 9, 3, 9, 1002, 9, 2, 9, 4, 9, 3, 9, 101, 2, 9, 9, 4, 9, 3, 9, 101, 1, 9, 9, 4, 9, 3, 9, 101, 2, 9, 9, 4, 9, 3, 9, 101, 2, 9, 9, 4, 9, 99, 3, 9, 102, 2, 9, 9, 4, 9, 3, 9, 102, 2, 9, 9, 4, 9, 3, 9, 1002, 9, 2, 9, 4, 9, 3, 9, 102, 2, 9, 9, 4, 9, 3, 9, 101, 1, 9, 9, 4, 9, 3, 9, 102, 2, 9, 9, 4, 9, 3, 9, 101, 2, 9, 9, 4, 9, 3, 9, 101, 2, 9, 9, 4, 9, 3, 9, 1001, 9, 1, 9, 4, 9, 3, 9, 101, 2, 9, 9, 4, 9, 99, 3, 9, 102, 2, 9, 9, 4, 9, 3, 9, 1001, 9, 2, 9, 4, 9, 3, 9, 1001, 9, 1, 9, 4, 9, 3, 9, 101, 1, 9, 9, 4, 9, 3, 9, 102, 2, 9, 9, 4, 9, 3, 9, 101, 2, 9, 9, 4, 9, 3, 9, 101, 2, 9, 9, 4, 9, 3, 9, 1002, 9, 2, 9, 4, 9, 3, 9, 101, 1, 9, 9, 4, 9, 3, 9, 1002, 9, 2, 9, 4, 9, 99, 3, 9, 1002, 9, 2, 9, 4, 9, 3, 9, 1001, 9, 1, 9, 4, 9, 3, 9, 1002, 9, 2, 9, 4, 9, 3, 9, 1001, 9, 1, 9, 4, 9, 3, 9, 102, 2, 9, 9, 4, 9, 3, 9, 102, 2, 9, 9, 4, 9, 3, 9, 1001, 9, 1, 9, 4, 9, 3, 9, 1001, 9, 2, 9, 4, 9, 3, 9, 1001, 9, 1, 9, 4, 9, 3, 9, 101, 2, 9, 9, 4, 9, 99]\n"
     ]
    }
   ],
   "source": [
    "with open(\"AoC_7_input.txt\") as f:\n",
    "    content = f.read()\n",
    "    szamok = content.split(',')\n",
    "    szamok = [int(x) for x in szamok]\n",
    "print(szamok)"
   ]
  },
  {
   "cell_type": "code",
   "execution_count": 90,
   "metadata": {},
   "outputs": [],
   "source": [
    "#szamok = [3,15,3,16,1002,16,10,16,1,16,15,15,4,15,99,0,0]"
   ]
  },
  {
   "cell_type": "code",
   "execution_count": 91,
   "metadata": {},
   "outputs": [
    {
     "name": "stdout",
     "output_type": "stream",
     "text": [
      "120\n"
     ]
    }
   ],
   "source": [
    "import itertools\n",
    "permutaciok_tuple = list(itertools.permutations([0, 1, 2, 3, 4]))\n",
    "permutaciok = []\n",
    "for tuples in permutaciok_tuple:\n",
    "        permutaciok.append(list(tuples))      \n",
    "print(len(permutaciok))"
   ]
  },
  {
   "cell_type": "code",
   "execution_count": 92,
   "metadata": {},
   "outputs": [],
   "source": [
    "from copy import deepcopy"
   ]
  },
  {
   "cell_type": "code",
   "execution_count": 93,
   "metadata": {
    "scrolled": false
   },
   "outputs": [],
   "source": [
    "def intcode_computer(szamok, phase, masodik_input_beadom):\n",
    "    parameterek = {1: 3, 2: 3, 3: 1, 4: 1, 5: 2, 6: 2, 7: 3, 8: 3, 99: 0, 9: 1}\n",
    "    relative_base = 0\n",
    "    opcode = 0\n",
    "    counter = 0\n",
    "    while opcode < len(szamok):\n",
    "        ugras = True\n",
    "        eltarolt_parameterek = []\n",
    "        output = []\n",
    "        parancs = int(str(szamok[opcode])[-2::])\n",
    "        i = 1\n",
    "        for parameter in str(szamok[opcode])[-3::-1]:\n",
    "            if int(parameter) == 1:\n",
    "                eltarolt_parameterek.append(opcode + i)\n",
    "            elif int(parameter) == 0:\n",
    "                eltarolt_parameterek.append(szamok[opcode + i])\n",
    "            elif int(parameter) == 2:\n",
    "                eltarolt_parameterek.append(szamok[opcode + i] + relative_base)\n",
    "            i += 1\n",
    "\n",
    "        for _ in range(parameterek[int(str(szamok[opcode])[-2::])] - len(eltarolt_parameterek)):\n",
    "            eltarolt_parameterek.append(szamok[opcode + i])\n",
    "            i += 1\n",
    "\n",
    "        if parancs != 99 and len(szamok) <= max(eltarolt_parameterek):\n",
    "            nullas = [0]\n",
    "            szamok = szamok + nullas * (max(eltarolt_parameterek)-len(szamok) + 1)\n",
    "\n",
    "        if parancs == 1:\n",
    "            szamok[eltarolt_parameterek[2]] = szamok[eltarolt_parameterek[0]] + szamok[eltarolt_parameterek[1]]\n",
    "\n",
    "        elif parancs == 2:\n",
    "            szamok[eltarolt_parameterek[2]] = szamok[eltarolt_parameterek[0]] * szamok[eltarolt_parameterek[1]]\n",
    "\n",
    "        elif parancs == 3:\n",
    "            if counter == 0:\n",
    "                szamok[eltarolt_parameterek[0]] = phase\n",
    "                counter = counter + 1\n",
    "            else:\n",
    "                szamok[eltarolt_parameterek[0]] = masodik_input_beadom\n",
    "\n",
    "        elif parancs == 4:\n",
    "            output.append(szamok[eltarolt_parameterek[0]])\n",
    "            return output[0]\n",
    "\n",
    "        elif parancs == 5:\n",
    "            if szamok[eltarolt_parameterek[0]] != 0:\n",
    "                opcode = szamok[eltarolt_parameterek[1]]\n",
    "                ugras = False\n",
    "\n",
    "        elif parancs == 6:\n",
    "            if szamok[eltarolt_parameterek[0]] == 0:\n",
    "                opcode = szamok[eltarolt_parameterek[1]]\n",
    "                ugras = False\n",
    "\n",
    "        elif parancs == 7:\n",
    "            if szamok[eltarolt_parameterek[0]] < szamok[eltarolt_parameterek[1]]:\n",
    "                szamok[eltarolt_parameterek[2]] = 1\n",
    "            else:\n",
    "                szamok[eltarolt_parameterek[2]] = 0\n",
    "\n",
    "        elif parancs == 8:\n",
    "            if szamok[eltarolt_parameterek[0]] == szamok[eltarolt_parameterek[1]]:\n",
    "                szamok[eltarolt_parameterek[2]] = 1\n",
    "            else:\n",
    "                szamok[eltarolt_parameterek[2]] = 0\n",
    "\n",
    "        elif parancs == 9:\n",
    "            relative_base += szamok[eltarolt_parameterek[0]]\n",
    "\n",
    "        elif szamok[opcode] == 99:\n",
    "            break\n",
    "\n",
    "        if ugras:\n",
    "            opcode += parameterek[int(str(szamok[opcode])[-2::])] + 1 "
   ]
  },
  {
   "cell_type": "code",
   "execution_count": 94,
   "metadata": {},
   "outputs": [],
   "source": [
    "thrusters = []\n",
    "for phase_list in permutaciok:\n",
    "    value = 0\n",
    "    for phase in phase_list:\n",
    "        value = intcode_computer(deepcopy(szamok), phase, value)\n",
    "    thrusters.append(value)"
   ]
  },
  {
   "cell_type": "code",
   "execution_count": 95,
   "metadata": {},
   "outputs": [
    {
     "data": {
      "text/plain": [
       "24625"
      ]
     },
     "execution_count": 95,
     "metadata": {},
     "output_type": "execute_result"
    }
   ],
   "source": [
    "max(thrusters)"
   ]
  },
  {
   "cell_type": "code",
   "execution_count": null,
   "metadata": {},
   "outputs": [],
   "source": []
  },
  {
   "cell_type": "code",
   "execution_count": null,
   "metadata": {},
   "outputs": [],
   "source": []
  }
 ],
 "metadata": {
  "kernelspec": {
   "display_name": "Python 3",
   "language": "python",
   "name": "python3"
  },
  "language_info": {
   "codemirror_mode": {
    "name": "ipython",
    "version": 3
   },
   "file_extension": ".py",
   "mimetype": "text/x-python",
   "name": "python",
   "nbconvert_exporter": "python",
   "pygments_lexer": "ipython3",
   "version": "3.7.4"
  }
 },
 "nbformat": 4,
 "nbformat_minor": 2
}
