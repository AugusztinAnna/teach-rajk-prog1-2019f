{
 "cells": [
  {
   "cell_type": "code",
   "execution_count": 23,
   "metadata": {
    "scrolled": true
   },
   "outputs": [],
   "source": [
    "with open(\"AoC_7_input.txt\") as f:\n",
    "    content = f.read()\n",
    "    szamok = content.split(',')\n",
    "    szamok = [int(x) for x in szamok]\n",
    "#print(szamok)"
   ]
  },
  {
   "cell_type": "code",
   "execution_count": 24,
   "metadata": {},
   "outputs": [],
   "source": [
    "#szamok = [3,15,3,16,1002,16,10,16,1,16,15,15,4,15,99,0,0]"
   ]
  },
  {
   "cell_type": "code",
   "execution_count": 25,
   "metadata": {},
   "outputs": [
    {
     "name": "stdout",
     "output_type": "stream",
     "text": [
      "120\n"
     ]
    }
   ],
   "source": [
    "import itertools\n",
    "permutaciok_tuple = list(itertools.permutations([5, 6, 7, 8, 9]))\n",
    "permutaciok = []\n",
    "for tuples in permutaciok_tuple:\n",
    "        permutaciok.append(list(tuples))      \n",
    "print(len(permutaciok))"
   ]
  },
  {
   "cell_type": "code",
   "execution_count": 26,
   "metadata": {},
   "outputs": [],
   "source": [
    "from copy import deepcopy"
   ]
  },
  {
   "cell_type": "code",
   "execution_count": 27,
   "metadata": {
    "scrolled": false
   },
   "outputs": [],
   "source": [
    "def intcode_computer(szamok, opcode, values):\n",
    "    parameterek = {1: 3, 2: 3, 3: 1, 4: 1, 5: 2, 6: 2, 7: 3, 8: 3, 99: 0, 9: 1}\n",
    "    relative_base = 0\n",
    "    output = []\n",
    "    while opcode < len(szamok):\n",
    "        ugras = True\n",
    "        eltarolt_parameterek = []\n",
    "        parancs = int(str(szamok[opcode])[-2::])\n",
    "        i = 1\n",
    "        for parameter in str(szamok[opcode])[-3::-1]:\n",
    "            if int(parameter) == 1:\n",
    "                eltarolt_parameterek.append(opcode + i)\n",
    "            elif int(parameter) == 0:\n",
    "                eltarolt_parameterek.append(szamok[opcode + i])\n",
    "            elif int(parameter) == 2:\n",
    "                eltarolt_parameterek.append(szamok[opcode + i] + relative_base)\n",
    "            i += 1\n",
    "\n",
    "        for _ in range(parameterek[int(str(szamok[opcode])[-2::])] - len(eltarolt_parameterek)):\n",
    "            eltarolt_parameterek.append(szamok[opcode + i])\n",
    "            i += 1\n",
    "\n",
    "        if parancs != 99 and len(szamok) <= max(eltarolt_parameterek):\n",
    "            nullas = [0]\n",
    "            szamok = szamok + nullas * (max(eltarolt_parameterek)-len(szamok) + 1)\n",
    "\n",
    "        if parancs == 1:\n",
    "            szamok[eltarolt_parameterek[2]] = szamok[eltarolt_parameterek[0]] + szamok[eltarolt_parameterek[1]]\n",
    "\n",
    "        elif parancs == 2:\n",
    "            szamok[eltarolt_parameterek[2]] = szamok[eltarolt_parameterek[0]] * szamok[eltarolt_parameterek[1]]\n",
    "\n",
    "        elif parancs == 3:\n",
    "            if values != []:\n",
    "                szamok[eltarolt_parameterek[0]] = values[0]\n",
    "                values.pop(0)\n",
    "            else:\n",
    "                return [szamok, opcode, output, True]\n",
    "                \n",
    "        elif parancs == 4:\n",
    "            output.append(szamok[eltarolt_parameterek[0]])\n",
    "\n",
    "        elif parancs == 5:\n",
    "            if szamok[eltarolt_parameterek[0]] != 0:\n",
    "                opcode = szamok[eltarolt_parameterek[1]]\n",
    "                ugras = False\n",
    "\n",
    "        elif parancs == 6:\n",
    "            if szamok[eltarolt_parameterek[0]] == 0:\n",
    "                opcode = szamok[eltarolt_parameterek[1]]\n",
    "                ugras = False\n",
    "\n",
    "        elif parancs == 7:\n",
    "            if szamok[eltarolt_parameterek[0]] < szamok[eltarolt_parameterek[1]]:\n",
    "                szamok[eltarolt_parameterek[2]] = 1\n",
    "            else:\n",
    "                szamok[eltarolt_parameterek[2]] = 0\n",
    "\n",
    "        elif parancs == 8:\n",
    "            if szamok[eltarolt_parameterek[0]] == szamok[eltarolt_parameterek[1]]:\n",
    "                szamok[eltarolt_parameterek[2]] = 1\n",
    "            else:\n",
    "                szamok[eltarolt_parameterek[2]] = 0\n",
    "\n",
    "        elif parancs == 9:\n",
    "            relative_base += szamok[eltarolt_parameterek[0]]\n",
    "\n",
    "        elif szamok[opcode] == 99:\n",
    "            return [szamok, opcode, output, False]\n",
    "\n",
    "        if ugras:\n",
    "            opcode += parameterek[int(str(szamok[opcode])[-2::])] + 1 "
   ]
  },
  {
   "cell_type": "code",
   "execution_count": 28,
   "metadata": {},
   "outputs": [],
   "source": [
    "thrusters = []\n",
    "for phase_list in permutaciok:\n",
    "    futas = True\n",
    "    key_index = 1\n",
    "    amp_dict = {1: {'szamok': deepcopy(szamok), 'opcode': 0, 'inputok': [phase_list[0], 0]}, \n",
    "            2: {'szamok': deepcopy(szamok), 'opcode': 0, 'inputok': [phase_list[1]]}, \n",
    "            3: {'szamok': deepcopy(szamok), 'opcode': 0, 'inputok': [phase_list[2]]}, \n",
    "            4: {'szamok': deepcopy(szamok), 'opcode': 0, 'inputok': [phase_list[3]]}, \n",
    "            5: {'szamok': deepcopy(szamok), 'opcode': 0, 'inputok': [phase_list[4]]}}\n",
    "    while futas:\n",
    "        return_ertekek = intcode_computer(amp_dict[key_index]['szamok'], amp_dict[key_index]['opcode'], amp_dict[key_index]['inputok'])\n",
    "        amp_dict[key_index] = {'szamok': return_ertekek[0], 'opcode': return_ertekek[1], 'inputok': []}\n",
    "        futas = return_ertekek[3]\n",
    "        if futas == False and key_index != 5:\n",
    "            futas = True\n",
    "        key_index += 1\n",
    "        if key_index > 5:\n",
    "            key_index = 1\n",
    "        amp_dict[key_index]['inputok'] += return_ertekek[2]\n",
    "    thrusters.append(return_ertekek[2][0])"
   ]
  },
  {
   "cell_type": "code",
   "execution_count": 29,
   "metadata": {},
   "outputs": [
    {
     "data": {
      "text/plain": [
       "36497698"
      ]
     },
     "execution_count": 29,
     "metadata": {},
     "output_type": "execute_result"
    }
   ],
   "source": [
    "max(thrusters)"
   ]
  },
  {
   "cell_type": "markdown",
   "metadata": {},
   "source": [
    "1. az 5 amplifiernek külön kell tárolni az információkat (intcodjait, indexét a amplifiernek, milyen inputjai vannak)\n",
    "2. intcode-on belül át kell írni az outputos és inputos és 99-es parancsot\n",
    "3. while"
   ]
  },
  {
   "cell_type": "code",
   "execution_count": null,
   "metadata": {},
   "outputs": [],
   "source": []
  }
 ],
 "metadata": {
  "kernelspec": {
   "display_name": "Python 3",
   "language": "python",
   "name": "python3"
  },
  "language_info": {
   "codemirror_mode": {
    "name": "ipython",
    "version": 3
   },
   "file_extension": ".py",
   "mimetype": "text/x-python",
   "name": "python",
   "nbconvert_exporter": "python",
   "pygments_lexer": "ipython3",
   "version": "3.7.4"
  }
 },
 "nbformat": 4,
 "nbformat_minor": 2
}
