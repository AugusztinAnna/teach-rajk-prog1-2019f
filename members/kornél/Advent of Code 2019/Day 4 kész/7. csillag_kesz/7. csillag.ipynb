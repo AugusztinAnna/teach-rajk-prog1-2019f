{
 "cells": [
  {
   "cell_type": "markdown",
   "metadata": {},
   "source": [
    " Range rules\n",
    "- It is a six-digit number.\n",
    "- The value is within the range given in your puzzle input.\n",
    "- Two adjacent digits are the same (like 22 in 122345).\n",
    "- Going from left to right, the digits never decrease; they only ever increase or stay the same (like 111123 or 135679).\n",
    "\n",
    "    \n",
    "   Other than the range rule, the following are true:\n",
    "- 111111 meets these criteria (double 11, never decreases).\n",
    "- 223450 does not meet these criteria (decreasing pair of digits 50).\n",
    "- 123789 does not meet these criteria (no double).\n",
    "- How many different passwords within the range given in your puzzle input meet these criteria?\n",
    "\n",
    "- Your puzzle input is 165432-707912."
   ]
  },
  {
   "cell_type": "code",
   "execution_count": 73,
   "metadata": {
    "scrolled": true
   },
   "outputs": [],
   "source": [
    "szamok = list(range(165432, 707912))\n",
    "szamok = [str(x) for x in szamok]"
   ]
  },
  {
   "cell_type": "code",
   "execution_count": 79,
   "metadata": {},
   "outputs": [
    {
     "name": "stdout",
     "output_type": "stream",
     "text": [
      "1716\n"
     ]
    }
   ],
   "source": [
    "novekvo = []\n",
    "\n",
    "for szamjegyek in szamok:\n",
    "    if szamjegyek[0] <= szamjegyek[1] <= szamjegyek[2] <= szamjegyek[3] <= szamjegyek[4] <= szamjegyek[5]:\n",
    "        #print(szamjegyek)\n",
    "        novekvo.append(szamjegyek)\n",
    "#print(novekvo)  \n",
    "\n",
    "vanugyanolyan = []\n",
    "\n",
    "for i in novekvo:\n",
    "    if i[0] == i[1] or i[1] == i[2] or i[2] == i[3] or i[3] == i[4] or i[4] == i[5]:\n",
    "        vanugyanolyan.append(i)\n",
    "#print(vanugyanolyan)\n",
    "\n",
    "print(len(vanugyanolyan))\n",
    "        \n",
    "    "
   ]
  },
  {
   "cell_type": "code",
   "execution_count": null,
   "metadata": {},
   "outputs": [],
   "source": []
  }
 ],
 "metadata": {
  "kernelspec": {
   "display_name": "Python 3",
   "language": "python",
   "name": "python3"
  },
  "language_info": {
   "codemirror_mode": {
    "name": "ipython",
    "version": 3
   },
   "file_extension": ".py",
   "mimetype": "text/x-python",
   "name": "python",
   "nbconvert_exporter": "python",
   "pygments_lexer": "ipython3",
   "version": "3.7.4"
  }
 },
 "nbformat": 4,
 "nbformat_minor": 2
}
