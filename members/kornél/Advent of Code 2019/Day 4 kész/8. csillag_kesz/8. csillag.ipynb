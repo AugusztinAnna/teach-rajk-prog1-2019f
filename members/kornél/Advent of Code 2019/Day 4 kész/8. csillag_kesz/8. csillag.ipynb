{
 "cells": [
  {
   "cell_type": "markdown",
   "metadata": {},
   "source": [
    " Range rules\n",
    "- It is a six-digit number.\n",
    "- The value is within the range given in your puzzle input.\n",
    "- Two adjacent digits are the same (like 22 in 122345).\n",
    "- Going from left to right, the digits never decrease; they only ever increase or stay the same (like 111123 or 135679).\n",
    "\n",
    "    \n",
    "   Other than the range rule, the following are true:\n",
    "- 111111 meets these criteria (double 11, never decreases).\n",
    "- 223450 does not meet these criteria (decreasing pair of digits 50).\n",
    "- 123789 does not meet these criteria (no double).\n",
    "- How many different passwords within the range given in your puzzle input meet these criteria?\n",
    "\n",
    "- Your puzzle input is 165432-707912."
   ]
  },
  {
   "cell_type": "markdown",
   "metadata": {},
   "source": [
    "- 112233 meets these criteria because the digits never decrease and all repeated digits are exactly two digits long.\n",
    "- 123444 no longer meets the criteria (the repeated 44 is part of a larger group of 444).\n",
    "- 111122 meets the criteria (even though 1 is repeated more than twice, it still contains a double 22)."
   ]
  },
  {
   "cell_type": "code",
   "execution_count": 47,
   "metadata": {
    "scrolled": true
   },
   "outputs": [],
   "source": [
    "szamok = list(range(165432, 707912))\n",
    "szamok = [str(x) for x in szamok]"
   ]
  },
  {
   "cell_type": "code",
   "execution_count": 48,
   "metadata": {},
   "outputs": [],
   "source": [
    "novekvo = []\n",
    "\n",
    "for szamjegyek in szamok:\n",
    "    if szamjegyek[0] <= szamjegyek[1] <= szamjegyek[2] <= szamjegyek[3] <= szamjegyek[4] <= szamjegyek[5]:\n",
    "        #print(szamjegyek)\n",
    "        novekvo.append(szamjegyek)\n",
    "#print(novekvo) "
   ]
  },
  {
   "cell_type": "code",
   "execution_count": 49,
   "metadata": {},
   "outputs": [],
   "source": [
    "#van két szám, ami egymás után jön és megyegyezik\n",
    "vanugyanolyan = []\n",
    "for i in novekvo:\n",
    "    if i[0] == i[1] or i[1] == i[2] or i[2] == i[3] or i[3] == i[4] or i[4] == i[5]:\n",
    "        vanugyanolyan.append(i)\n",
    "#print(vanugyanolyan)\n",
    "\n",
    "#print(len(vanugyanolyan))"
   ]
  },
  {
   "cell_type": "code",
   "execution_count": 58,
   "metadata": {},
   "outputs": [
    {
     "name": "stdout",
     "output_type": "stream",
     "text": [
      "284\n"
     ]
    }
   ],
   "source": [
    "csak2 = []\n",
    "for i in novekvo:\n",
    "    if i[0] == i[1] and i[1] != i[2] and i[2] != i[3] and i[3] != i[4] and i[4] != i[5]\\\n",
    "    or i[1] == i[2] and i[2] != i[3] and i[3] != i[4] and i[4] != i[5] and i[0] != i[1]\\\n",
    "    or i[2] == i[3] and i[0] != i[1] and i[1] != i[2] and i[4] != i[5] and i[3] != i[4]\\\n",
    "    or i[3] == i[4] and i[0] != i[1] and i[1] != i[2] and i[2] != i[3] and i[4] != i[5]\\\n",
    "    or i[4] == i[5] and i[0] != i[1] and i[1] != i[2] and i[2] != i[3] and i[3] != i[4]:\n",
    "        csak2.append(i)\n",
    "\n",
    "#print(csak2)\n",
    "print(len(csak2))        "
   ]
  },
  {
   "cell_type": "code",
   "execution_count": 59,
   "metadata": {
    "scrolled": true
   },
   "outputs": [
    {
     "name": "stdout",
     "output_type": "stream",
     "text": [
      "432\n"
     ]
    }
   ],
   "source": [
    "# 2+2\n",
    "kettopluszketto = []\n",
    "for i in novekvo:\n",
    "    if i[0] == i[1] and i[2] == i[3] and i[1] != i[2] and i[3] != i[4] and i[4] != i[5] \\\n",
    "    or i[0] == i[1] and i[3] == i[4] and i[1] != i[2] and i[2] != i[3] and i[4] != i[5] \\\n",
    "    or i[0] == i[1] and i[4] == i[5] and i[1] != i[2] and i[2] != i[3] and i[3] != i[4] \\\n",
    "    or i[1] == i[2] and i[4] == i[5] and i[0] != i[1] and i[2] != i[3] and i[3] != i[4] \\\n",
    "    or i[1] == i[2] and i[3] == i[4] and i[0] != i[1] and i[2] != i[3] and i[4] != i[5] \\\n",
    "    or i[2] == i[3] and i[4] == i[5] and i[0] != i[1] and i[1] != i[2] and i[3] != i[4]:\n",
    "        kettopluszketto.append(i)\n",
    "        \n",
    "#print(kettopluszketto)\n",
    "print(len(kettopluszketto))"
   ]
  },
  {
   "cell_type": "code",
   "execution_count": 60,
   "metadata": {
    "scrolled": true
   },
   "outputs": [
    {
     "name": "stdout",
     "output_type": "stream",
     "text": [
      "55\n"
     ]
    }
   ],
   "source": [
    "kettopluszkettopluszketto = []\n",
    "for i in novekvo:\n",
    "    if i[0] == i[1] and i[2] == i[3] and i[4] == i[5] and i[0] != i[2] and i[3] != i[4] and i[0] != i[4]:\n",
    "        kettopluszkettopluszketto.append(i)\n",
    "        \n",
    "#print(kettopluszkettopluszketto)\n",
    "print(len(kettopluszkettopluszketto))"
   ]
  },
  {
   "cell_type": "code",
   "execution_count": 61,
   "metadata": {},
   "outputs": [
    {
     "name": "stdout",
     "output_type": "stream",
     "text": [
      "342\n"
     ]
    }
   ],
   "source": [
    "harompluszketto = []\n",
    "\n",
    "for k in novekvo:\n",
    "    if k[0] == k[1] == k[2] and k[3] == k[4] and k[2] != k[3] and k[4] != k[5] \\\n",
    "    or k[0] == k[1] == k[2] and k[4] == k[5] and k[2] != k[3] and k[3] != k[4] \\\n",
    "    or k[1] == k[2] == k[3] and k[4] == k[5] and k[0] != k[1] and k[3] != k[4] \\\n",
    "    or k[3] == k[4] == k[5] and k[0] == k[1] and k[1] != k[2] and k[2] != k[3] \\\n",
    "    or k[3] == k[4] == k[5] and k[1] == k[2] and k[0] != k[1] and k[2] != k[3] \\\n",
    "    or k[2] == k[3] == k[4] and k[0] == k[1] and k[1] != k[2] and k[4] != k[5]:\n",
    "        harompluszketto.append(k)\n",
    "#print(harompluszketto)\n",
    "print(len(harompluszketto))"
   ]
  },
  {
   "cell_type": "code",
   "execution_count": 62,
   "metadata": {},
   "outputs": [
    {
     "name": "stdout",
     "output_type": "stream",
     "text": [
      "50\n"
     ]
    }
   ],
   "source": [
    "#negy plusz ketto\n",
    "negyisvan = []\n",
    "for e in novekvo:\n",
    "    if e[0] == e[1] == e[2] == e[3] and e[4] == e[5] and e[3] != e[4] \\\n",
    "    or e[2] == e[3] == e[4] == e[5] and e[0] == e[1] and e[5] != e[0]:\n",
    "        negyisvan.append(e)\n",
    "#print(negyisvan)\n",
    "print(len(negyisvan))"
   ]
  },
  {
   "cell_type": "code",
   "execution_count": 63,
   "metadata": {},
   "outputs": [
    {
     "data": {
      "text/plain": [
       "1163"
      ]
     },
     "execution_count": 63,
     "metadata": {},
     "output_type": "execute_result"
    }
   ],
   "source": [
    "284+432+55+342+50"
   ]
  },
  {
   "cell_type": "code",
   "execution_count": null,
   "metadata": {},
   "outputs": [],
   "source": []
  },
  {
   "cell_type": "code",
   "execution_count": null,
   "metadata": {},
   "outputs": [],
   "source": []
  },
  {
   "cell_type": "code",
   "execution_count": 53,
   "metadata": {},
   "outputs": [
    {
     "name": "stdout",
     "output_type": "stream",
     "text": [
      "25\n"
     ]
    }
   ],
   "source": [
    "harompluszharom = []\n",
    "for i in novekvo:\n",
    "    if i[0] == i[1] == i[2] and i[3] == i[4] == i[5] and i[2] != i[3]:\n",
    "        harompluszharom.append(i)\n",
    "        \n",
    "#print(harompluszharom)\n",
    "print(len(harompluszharom))\n",
    "\n",
    "#ezek rosszak, ez egyáltalán nem kell"
   ]
  }
 ],
 "metadata": {
  "kernelspec": {
   "display_name": "Python 3",
   "language": "python",
   "name": "python3"
  },
  "language_info": {
   "codemirror_mode": {
    "name": "ipython",
    "version": 3
   },
   "file_extension": ".py",
   "mimetype": "text/x-python",
   "name": "python",
   "nbconvert_exporter": "python",
   "pygments_lexer": "ipython3",
   "version": "3.7.4"
  }
 },
 "nbformat": 4,
 "nbformat_minor": 2
}
