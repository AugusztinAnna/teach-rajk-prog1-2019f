{
 "cells": [
  {
   "cell_type": "markdown",
   "metadata": {},
   "source": [
    " Range rules\n",
    "- It is a six-digit number.\n",
    "- The value is within the range given in your puzzle input.\n",
    "- Two adjacent digits are the same (like 22 in 122345).\n",
    "- Going from left to right, the digits never decrease; they only ever increase or stay the same (like 111123 or 135679).\n",
    "\n",
    "    \n",
    "   Other than the range rule, the following are true:\n",
    "- 111111 meets these criteria (double 11, never decreases).\n",
    "- 223450 does not meet these criteria (decreasing pair of digits 50).\n",
    "- 123789 does not meet these criteria (no double).\n",
    "- How many different passwords within the range given in your puzzle input meet these criteria?\n",
    "\n",
    "- Your puzzle input is 165432-707912."
   ]
  },
  {
   "cell_type": "markdown",
   "metadata": {},
   "source": [
    "- 112233 meets these criteria because the digits never decrease and all repeated digits are exactly two digits long.\n",
    "- 123444 no longer meets the criteria (the repeated 44 is part of a larger group of 444).\n",
    "- 111122 meets the criteria (even though 1 is repeated more than twice, it still contains a double 22)."
   ]
  },
  {
   "cell_type": "code",
   "execution_count": 1,
   "metadata": {
    "scrolled": true
   },
   "outputs": [],
   "source": [
    "szamok = list(range(165432, 707912))\n",
    "szamok = [str(x) for x in szamok]"
   ]
  },
  {
   "cell_type": "code",
   "execution_count": 4,
   "metadata": {},
   "outputs": [
    {
     "name": "stdout",
     "output_type": "stream",
     "text": [
      "1716\n"
     ]
    }
   ],
   "source": [
    "novekvo = []\n",
    "\n",
    "for szamjegyek in szamok:\n",
    "    if szamjegyek[0] <= szamjegyek[1] <= szamjegyek[2] <= szamjegyek[3] <= szamjegyek[4] <= szamjegyek[5]:\n",
    "        #print(szamjegyek)\n",
    "        novekvo.append(szamjegyek)\n",
    "#print(novekvo)  \n",
    "\n",
    "vanugyanolyan = []\n",
    "\n",
    "for i in novekvo:\n",
    "    if i[0] == i[1] or i[1] == i[2] or i[2] == i[3] or i[3] == i[4] or i[4] == i[5]:\n",
    "        vanugyanolyan.append(i)\n",
    "\n",
    "#print(vanugyanolyan)\n",
    "\n",
    "print(len(vanugyanolyan))\n",
    "        \n",
    "    "
   ]
  },
  {
   "cell_type": "code",
   "execution_count": null,
   "metadata": {},
   "outputs": [],
   "source": [
    "f = 1\n",
    "eredmeny = 0\n",
    "for i in vanugyanolyan:\n",
    "    k = i\n",
    "    numlist = []\n",
    "    s = 0\n",
    "    for j + len(s) in range(len(k)):\n",
    "        while k[j] == k[j+f]:\n",
    "            s = k[j] + k˙[j+f]\n",
    "            f += 1\n",
    "        numlist.append(s)\n",
    "    for i in range(len(numlist)):\n",
    "        if len(numlist[i]) == 2:\n",
    "            eredmény += 1"
   ]
  },
  {
   "cell_type": "code",
   "execution_count": 19,
   "metadata": {},
   "outputs": [
    {
     "data": {
      "text/plain": [
       "'6'"
      ]
     },
     "execution_count": 19,
     "metadata": {},
     "output_type": "execute_result"
    }
   ],
   "source": [
    "vanugyanolyan[0][2]"
   ]
  },
  {
   "cell_type": "code",
   "execution_count": 20,
   "metadata": {},
   "outputs": [],
   "source": [
    "k = vanugyanolyan[0]"
   ]
  },
  {
   "cell_type": "code",
   "execution_count": null,
   "metadata": {},
   "outputs": [],
   "source": []
  },
  {
   "cell_type": "code",
   "execution_count": 21,
   "metadata": {},
   "outputs": [
    {
     "data": {
      "text/plain": [
       "'166666'"
      ]
     },
     "execution_count": 21,
     "metadata": {},
     "output_type": "execute_result"
    }
   ],
   "source": [
    "k"
   ]
  },
  {
   "cell_type": "code",
   "execution_count": 23,
   "metadata": {},
   "outputs": [
    {
     "ename": "SyntaxError",
     "evalue": "can't assign to operator (<ipython-input-23-95cb2050e87f>, line 1)",
     "output_type": "error",
     "traceback": [
      "\u001b[1;36m  File \u001b[1;32m\"<ipython-input-23-95cb2050e87f>\"\u001b[1;36m, line \u001b[1;32m1\u001b[0m\n\u001b[1;33m    for j + len(s) in range(len(k)):\u001b[0m\n\u001b[1;37m       ^\u001b[0m\n\u001b[1;31mSyntaxError\u001b[0m\u001b[1;31m:\u001b[0m can't assign to operator\n"
     ]
    }
   ],
   "source": [
    "\n",
    "        while k[j] == k[j+f]:\n",
    "            s = k[j] + k[j+f]\n",
    "            f += 1"
   ]
  },
  {
   "cell_type": "code",
   "execution_count": null,
   "metadata": {},
   "outputs": [],
   "source": []
  }
 ],
 "metadata": {
  "kernelspec": {
   "display_name": "Python 3",
   "language": "python",
   "name": "python3"
  },
  "language_info": {
   "codemirror_mode": {
    "name": "ipython",
    "version": 3
   },
   "file_extension": ".py",
   "mimetype": "text/x-python",
   "name": "python",
   "nbconvert_exporter": "python",
   "pygments_lexer": "ipython3",
   "version": "3.7.4"
  }
 },
 "nbformat": 4,
 "nbformat_minor": 2
}
