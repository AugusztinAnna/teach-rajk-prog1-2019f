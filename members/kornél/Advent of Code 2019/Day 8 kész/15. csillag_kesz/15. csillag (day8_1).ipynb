{
 "cells": [
  {
   "cell_type": "code",
   "execution_count": 129,
   "metadata": {},
   "outputs": [],
   "source": [
    "with open(\"day_8_1_input.txt\") as f:\n",
    "    szamok = f.read()\n",
    "    szamok = [int(x) for x in szamok]\n",
    "    #szamok = content.split()\n",
    "#print(szamok)"
   ]
  },
  {
   "cell_type": "code",
   "execution_count": 93,
   "metadata": {},
   "outputs": [
    {
     "name": "stdout",
     "output_type": "stream",
     "text": [
      "100\n"
     ]
    }
   ],
   "source": [
    "csoportositott150 = []\n",
    "\n",
    "index = 0\n",
    "one_layer = []\n",
    "\n",
    "for elem in szamok:\n",
    "    index += 1\n",
    "    one_layer.append(elem)\n",
    "    if index % 150 == 0:\n",
    "        csoportositott150.append(one_layer)\n",
    "        one_layer = []\n",
    "\n",
    "print(len(csoportositott150))"
   ]
  },
  {
   "cell_type": "code",
   "execution_count": 94,
   "metadata": {},
   "outputs": [],
   "source": [
    "zeros = []\n",
    "\n",
    "for layer in csoportositott150:\n",
    "    num_of_zeros = 0\n",
    "    for num in layer:\n",
    "        if num == 0:\n",
    "            num_of_zeros += 1\n",
    "    zeros.append(num_of_zeros)"
   ]
  },
  {
   "cell_type": "code",
   "execution_count": 95,
   "metadata": {},
   "outputs": [
    {
     "name": "stdout",
     "output_type": "stream",
     "text": [
      "[21, 11, 15, 8, 12, 11, 14, 15, 16, 7, 16, 14, 18, 10, 16, 13, 14, 15, 15, 10, 19, 22, 17, 14, 19, 24, 21, 16, 16, 22, 20, 19, 22, 26, 22, 26, 18, 17, 19, 21, 21, 28, 22, 32, 29, 23, 21, 29, 26, 25, 30, 26, 26, 34, 39, 22, 29, 34, 29, 32, 29, 39, 35, 38, 34, 47, 35, 30, 27, 32, 41, 38, 38, 34, 44, 39, 42, 42, 37, 37, 45, 39, 30, 35, 33, 30, 46, 46, 38, 40, 36, 30, 45, 37, 49, 45, 47, 48, 42, 50]\n"
     ]
    }
   ],
   "source": [
    "print(zeros)"
   ]
  },
  {
   "cell_type": "code",
   "execution_count": 109,
   "metadata": {},
   "outputs": [
    {
     "name": "stdout",
     "output_type": "stream",
     "text": [
      "9\n"
     ]
    }
   ],
   "source": [
    "print(zeros.index(min(zeros)))"
   ]
  },
  {
   "cell_type": "code",
   "execution_count": 123,
   "metadata": {},
   "outputs": [
    {
     "name": "stdout",
     "output_type": "stream",
     "text": [
      "[1, 2, 2, 2, 2, 2, 2, 2, 2, 2, 1, 2, 2, 2, 2, 2, 2, 2, 1, 2, 2, 2, 2, 2, 1, 2, 2, 2, 2, 2, 2, 2, 2, 2, 2, 2, 2, 2, 2, 2, 2, 0, 2, 1, 2, 2, 2, 2, 2, 0, 2, 1, 2, 2, 2, 2, 2, 2, 2, 2, 2, 2, 2, 0, 2, 2, 2, 2, 2, 0, 1, 2, 2, 2, 2, 1, 1, 2, 2, 2, 2, 1, 1, 0, 2, 2, 2, 2, 2, 2, 2, 2, 2, 2, 2, 2, 2, 2, 2, 2, 2, 2, 1, 2, 2, 1, 2, 2, 2, 2, 2, 2, 0, 1, 2, 2, 1, 2, 2, 2, 2, 2, 2, 2, 2, 2, 2, 2, 2, 2, 2, 2, 2, 2, 0, 2, 2, 2, 2, 2, 2, 2, 2, 2, 2, 2, 2, 2, 2, 2]\n"
     ]
    }
   ],
   "source": [
    "print(csoportositott150[9])"
   ]
  },
  {
   "cell_type": "code",
   "execution_count": 124,
   "metadata": {
    "scrolled": true
   },
   "outputs": [],
   "source": [
    "egyesek = []\n",
    "\n",
    "for layer in csoportositott150:\n",
    "    num_of_egyesek = 0\n",
    "    for num in layer:\n",
    "        if num == 1:\n",
    "            num_of_egyesek += 1\n",
    "    egyesek.append(num_of_egyesek)\n",
    "    \n",
    "#print(egyesek)"
   ]
  },
  {
   "cell_type": "code",
   "execution_count": 125,
   "metadata": {},
   "outputs": [
    {
     "name": "stdout",
     "output_type": "stream",
     "text": [
      "15\n"
     ]
    }
   ],
   "source": [
    "print(egyesek[9])"
   ]
  },
  {
   "cell_type": "code",
   "execution_count": 126,
   "metadata": {},
   "outputs": [],
   "source": [
    "kettesek = []\n",
    "\n",
    "for layer in csoportositott150:\n",
    "    num_of_kettesek = 0\n",
    "    for num in layer:\n",
    "        if num == 2:\n",
    "            num_of_kettesek += 1\n",
    "    kettesek.append(num_of_kettesek)\n",
    "    \n",
    "#print(kettesek)"
   ]
  },
  {
   "cell_type": "code",
   "execution_count": 127,
   "metadata": {},
   "outputs": [
    {
     "name": "stdout",
     "output_type": "stream",
     "text": [
      "128\n"
     ]
    }
   ],
   "source": [
    "print(kettesek[9])"
   ]
  },
  {
   "cell_type": "code",
   "execution_count": 128,
   "metadata": {},
   "outputs": [
    {
     "data": {
      "text/plain": [
       "1920"
      ]
     },
     "execution_count": 128,
     "metadata": {},
     "output_type": "execute_result"
    }
   ],
   "source": [
    "egyesek[9] * kettesek[9]"
   ]
  }
 ],
 "metadata": {
  "kernelspec": {
   "display_name": "Python 3",
   "language": "python",
   "name": "python3"
  },
  "language_info": {
   "codemirror_mode": {
    "name": "ipython",
    "version": 3
   },
   "file_extension": ".py",
   "mimetype": "text/x-python",
   "name": "python",
   "nbconvert_exporter": "python",
   "pygments_lexer": "ipython3",
   "version": "3.7.4"
  }
 },
 "nbformat": 4,
 "nbformat_minor": 2
}
