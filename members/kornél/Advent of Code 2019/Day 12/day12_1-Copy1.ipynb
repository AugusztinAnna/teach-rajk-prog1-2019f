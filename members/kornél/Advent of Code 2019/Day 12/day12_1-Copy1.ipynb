{
 "cells": [
  {
   "cell_type": "code",
   "execution_count": 82,
   "metadata": {},
   "outputs": [
    {
     "name": "stdout",
     "output_type": "stream",
     "text": [
      "['14,4,5', '12,10,8', '1,7,-10', '16,-5,3']\n"
     ]
    }
   ],
   "source": [
    "with open(\"day_12_input.txt\") as f:\n",
    "    content = f.read().replace('<', '').replace(' ', '').replace('x', '').replace('y', '').replace('z', '').replace('z', '').replace('=', '').replace('>', '')\n",
    "    positions = content.split('\\n')\n",
    "    #szamok = [int(x) for x in szamok]\n",
    "print(positions)\n",
    "#szamok\n",
    "\n",
    "positions_final = [[szamok[num]] for num in range (0, len(szamok))]\n",
    "\n",
    "planet1 = positions[0].split(',')\n",
    "planet2 = positions[1].split(',')\n",
    "planet3 = positions[2].split(',')\n",
    "planet4 = positions[3].split(',')\n",
    "\n",
    "planet1_final = []\n",
    "for i in range (0, len(planet1)):\n",
    "    planet1_final.append(int(planet1[i]))\n",
    "\n",
    "planet2_final = []\n",
    "for i in range (0, len(planet2)):\n",
    "    planet2_final.append(int(planet2[i]))\n",
    "\n",
    "planet3_final = []\n",
    "for i in range (0, len(planet3)):\n",
    "    planet3_final.append(int(planet3[i]))\n",
    "\n",
    "planet4_final = []\n",
    "for i in range (0, len(planet4)):\n",
    "    planet4_final.append(int(planet4[i]))\n",
    "\n",
    "planet_final = planet1_final + planet2_final + planet3_final + planet4_final\n",
    "\n",
    "positions_final = [planet_final[x:x+3] for x in range (0, len(planet_final),3)]"
   ]
  },
  {
   "cell_type": "code",
   "execution_count": 87,
   "metadata": {},
   "outputs": [
    {
     "data": {
      "text/plain": [
       "14"
      ]
     },
     "execution_count": 87,
     "metadata": {},
     "output_type": "execute_result"
    }
   ],
   "source": [
    "positions_final[0][0]"
   ]
  },
  {
   "cell_type": "code",
   "execution_count": null,
   "metadata": {},
   "outputs": [],
   "source": []
  }
 ],
 "metadata": {
  "kernelspec": {
   "display_name": "Python 3",
   "language": "python",
   "name": "python3"
  },
  "language_info": {
   "codemirror_mode": {
    "name": "ipython",
    "version": 3
   },
   "file_extension": ".py",
   "mimetype": "text/x-python",
   "name": "python",
   "nbconvert_exporter": "python",
   "pygments_lexer": "ipython3",
   "version": "3.7.4"
  }
 },
 "nbformat": 4,
 "nbformat_minor": 2
}
