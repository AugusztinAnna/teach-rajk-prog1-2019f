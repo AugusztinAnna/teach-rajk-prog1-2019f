{
 "cells": [
  {
   "cell_type": "code",
   "execution_count": 1,
   "metadata": {},
   "outputs": [
    {
     "name": "stdout",
     "output_type": "stream",
     "text": [
      "sasa\n"
     ]
    }
   ],
   "source": [
    "a = input()"
   ]
  },
  {
   "cell_type": "code",
   "execution_count": 2,
   "metadata": {},
   "outputs": [
    {
     "data": {
      "text/plain": [
       "'sasa'"
      ]
     },
     "execution_count": 2,
     "metadata": {},
     "output_type": "execute_result"
    }
   ],
   "source": [
    "a"
   ]
  },
  {
   "cell_type": "code",
   "execution_count": 4,
   "metadata": {},
   "outputs": [],
   "source": [
    "def get_input():\n",
    "    with open(\"AoC_4_input.txt\") as f:\n",
    "        content = f.read()\n",
    "        szamok = content.split(',')\n",
    "        szamok = [int(x) for x in szamok]\n",
    "    return szamok\n",
    "#print(szamok)"
   ]
  },
  {
   "cell_type": "code",
   "execution_count": 5,
   "metadata": {},
   "outputs": [],
   "source": [
    "szamok = get_input()"
   ]
  },
  {
   "cell_type": "code",
   "execution_count": 6,
   "metadata": {},
   "outputs": [],
   "source": [
    "def kornel_fuggvenye(szamok,jump,opcode):\n",
    "\n",
    "    while szamok[opcode] < len(szamok):\n",
    "        if szamok[opcode] == 1:\n",
    "            osszeadas = szamok[szamok[opcode + 1]] + szamok[szamok[opcode + 2]]\n",
    "            szamok[szamok[opcode + 3]] = osszeadas\n",
    "            opcode = opcode + jump\n",
    "        elif szamok[opcode] == 2:\n",
    "            szorzas = szamok[szamok[opcode + 1]] * szamok[szamok[opcode + 2]]\n",
    "            szamok[szamok[opcode + 3]] = szorzas\n",
    "            opcode = opcode + jump\n",
    "        elif szamok[opcode] == 99:\n",
    "            break\n",
    "        else:\n",
    "            print('valami rossz')\n",
    "    return szamok[0]"
   ]
  },
  {
   "cell_type": "code",
   "execution_count": 7,
   "metadata": {
    "scrolled": true
   },
   "outputs": [
    {
     "data": {
      "text/plain": [
       "490699"
      ]
     },
     "execution_count": 7,
     "metadata": {},
     "output_type": "execute_result"
    }
   ],
   "source": [
    "kornel_fuggvenye(szamok,4,0)"
   ]
  },
  {
   "cell_type": "code",
   "execution_count": 8,
   "metadata": {},
   "outputs": [
    {
     "name": "stdout",
     "output_type": "stream",
     "text": [
      "19690720\n",
      "[19690720, 64, 21, 2, 1, 1, 2, 3, 1, 3, 4, 3, 1, 5, 0, 3, 2, 13, 1, 320, 1, 19, 10, 324, 2, 10, 23, 1296, 1, 27, 6, 1298, 1, 13, 31, 1303, 1, 13, 35, 1308, 1, 39, 10, 1312, 2, 43, 13, 6560, 1, 47, 9, 6563, 2, 51, 13, 32815, 1, 5, 55, 32816, 2, 59, 9, 98448, 1, 13, 63, 98453, 2, 13, 67, 492265, 1, 71, 5, 492266, 2, 75, 13, 2461330, 1, 79, 6, 2461332, 1, 83, 5, 2461333, 2, 87, 6, 4922666, 1, 5, 91, 4922667, 1, 95, 13, 4922672, 2, 99, 6, 9845344, 1, 5, 103, 9845345, 1, 107, 9, 9845348, 2, 6, 111, 19690696, 1, 5, 115, 19690697, 1, 119, 2, 19690718, 1, 6, 123, 0, 99, 2, 14, 0, 0]\n",
      "6421\n"
     ]
    }
   ],
   "source": [
    "for noun in range(100):\n",
    "    for verb in range(100):\n",
    "        szamok = get_input()\n",
    "        szamok[1] = noun\n",
    "        szamok[2] = verb\n",
    "        output = kornel_fuggvenye(szamok,4,0)\n",
    "        if output == 19690720:\n",
    "            print(output)\n",
    "            print(szamok)\n",
    "            print(100*noun+verb)"
   ]
  },
  {
   "cell_type": "code",
   "execution_count": 6,
   "metadata": {},
   "outputs": [],
   "source": [
    "a = get_input()"
   ]
  },
  {
   "cell_type": "code",
   "execution_count": 7,
   "metadata": {},
   "outputs": [
    {
     "data": {
      "text/plain": [
       "[1,\n",
       " 0,\n",
       " 0,\n",
       " 3,\n",
       " 1,\n",
       " 1,\n",
       " 2,\n",
       " 3,\n",
       " 1,\n",
       " 3,\n",
       " 4,\n",
       " 3,\n",
       " 1,\n",
       " 5,\n",
       " 0,\n",
       " 3,\n",
       " 2,\n",
       " 13,\n",
       " 1,\n",
       " 19,\n",
       " 1,\n",
       " 19,\n",
       " 10,\n",
       " 23,\n",
       " 2,\n",
       " 10,\n",
       " 23,\n",
       " 27,\n",
       " 1,\n",
       " 27,\n",
       " 6,\n",
       " 31,\n",
       " 1,\n",
       " 13,\n",
       " 31,\n",
       " 35,\n",
       " 1,\n",
       " 13,\n",
       " 35,\n",
       " 39,\n",
       " 1,\n",
       " 39,\n",
       " 10,\n",
       " 43,\n",
       " 2,\n",
       " 43,\n",
       " 13,\n",
       " 47,\n",
       " 1,\n",
       " 47,\n",
       " 9,\n",
       " 51,\n",
       " 2,\n",
       " 51,\n",
       " 13,\n",
       " 55,\n",
       " 1,\n",
       " 5,\n",
       " 55,\n",
       " 59,\n",
       " 2,\n",
       " 59,\n",
       " 9,\n",
       " 63,\n",
       " 1,\n",
       " 13,\n",
       " 63,\n",
       " 67,\n",
       " 2,\n",
       " 13,\n",
       " 67,\n",
       " 71,\n",
       " 1,\n",
       " 71,\n",
       " 5,\n",
       " 75,\n",
       " 2,\n",
       " 75,\n",
       " 13,\n",
       " 79,\n",
       " 1,\n",
       " 79,\n",
       " 6,\n",
       " 83,\n",
       " 1,\n",
       " 83,\n",
       " 5,\n",
       " 87,\n",
       " 2,\n",
       " 87,\n",
       " 6,\n",
       " 91,\n",
       " 1,\n",
       " 5,\n",
       " 91,\n",
       " 95,\n",
       " 1,\n",
       " 95,\n",
       " 13,\n",
       " 99,\n",
       " 2,\n",
       " 99,\n",
       " 6,\n",
       " 103,\n",
       " 1,\n",
       " 5,\n",
       " 103,\n",
       " 107,\n",
       " 1,\n",
       " 107,\n",
       " 9,\n",
       " 111,\n",
       " 2,\n",
       " 6,\n",
       " 111,\n",
       " 115,\n",
       " 1,\n",
       " 5,\n",
       " 115,\n",
       " 119,\n",
       " 1,\n",
       " 119,\n",
       " 2,\n",
       " 123,\n",
       " 1,\n",
       " 6,\n",
       " 123,\n",
       " 0,\n",
       " 99,\n",
       " 2,\n",
       " 14,\n",
       " 0,\n",
       " 0]"
      ]
     },
     "execution_count": 7,
     "metadata": {},
     "output_type": "execute_result"
    }
   ],
   "source": [
    "a"
   ]
  },
  {
   "cell_type": "code",
   "execution_count": null,
   "metadata": {},
   "outputs": [],
   "source": []
  }
 ],
 "metadata": {
  "kernelspec": {
   "display_name": "Python 3",
   "language": "python",
   "name": "python3"
  },
  "language_info": {
   "codemirror_mode": {
    "name": "ipython",
    "version": 3
   },
   "file_extension": ".py",
   "mimetype": "text/x-python",
   "name": "python",
   "nbconvert_exporter": "python",
   "pygments_lexer": "ipython3",
   "version": "3.7.4"
  }
 },
 "nbformat": 4,
 "nbformat_minor": 2
}
