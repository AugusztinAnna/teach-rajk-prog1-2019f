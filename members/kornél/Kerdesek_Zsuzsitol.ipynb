{
 "cells": [
  {
   "cell_type": "markdown",
   "metadata": {},
   "source": [
    "# Kérdések:\n",
    "\n",
    "### Mi volt aminek a nehézségét leginkább alábecsülte?\n",
    "\n",
    "A scrapelés. Több ezer oldalt kellett lescrapelni, és mindig megállt mindig máshol. Random működött, de nem volt kiszámítható.\n",
    "\n",
    "### Volt-e valami aha élménye?\n",
    "\n",
    "Aha élménynek Zsuzsi a keresési képességet írta, részletesen a kövi pontban.\n",
    "\n",
    "### Milyen kurzus alatt összeszedett tudás / skill volt a legnagyobb segítség a projektben?\n",
    "\n",
    "A neten való keresés a legnagyobb skill. Googlezás: how to scrape sok mindent megoldott. Ha tudsz keresni, mindenre lesz válasz."
   ]
  },
  {
   "cell_type": "code",
   "execution_count": null,
   "metadata": {},
   "outputs": [],
   "source": []
  }
 ],
 "metadata": {
  "kernelspec": {
   "display_name": "Python 3",
   "language": "python",
   "name": "python3"
  },
  "language_info": {
   "codemirror_mode": {
    "name": "ipython",
    "version": 3
   },
   "file_extension": ".py",
   "mimetype": "text/x-python",
   "name": "python",
   "nbconvert_exporter": "python",
   "pygments_lexer": "ipython3",
   "version": "3.7.4"
  }
 },
 "nbformat": 4,
 "nbformat_minor": 2
}
