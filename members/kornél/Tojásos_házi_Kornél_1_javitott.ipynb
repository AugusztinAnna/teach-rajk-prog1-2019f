{
 "cells": [
  {
   "cell_type": "code",
   "execution_count": 27,
   "metadata": {},
   "outputs": [
    {
     "name": "stdout",
     "output_type": "stream",
     "text": [
      "- success rate: 100/101 (99.0%)\n",
      "- error count: 0\n",
      "- best performance: 1\n",
      "- worst performance: 100\n",
      "- mean performance: 50.99009900990099\n",
      "\n",
      "\n",
      " BAD SOLUTION at: \n",
      " {'egg_count': 2, 'floor_count': 100, 'max_floor': 100}\n"
     ]
    }
   ],
   "source": [
    "from jkg_evaluators import eggdrop_100floor_2egg\n",
    "\n",
    "def my_solution1(breaks):\n",
    "\n",
    "    for i in range(1,101):\n",
    "        if breaks(i):\n",
    "            return i - 1\n",
    "    \n",
    "eggdrop_100floor_2egg.evaluate(my_solution1)\n",
    "\n",
    "#ez Endre megoldása"
   ]
  },
  {
   "cell_type": "markdown",
   "metadata": {},
   "source": [
    "## saját megoldás"
   ]
  },
  {
   "cell_type": "code",
   "execution_count": 1,
   "metadata": {},
   "outputs": [],
   "source": [
    "from jkg_evaluators import eggdrop_100floor_2egg"
   ]
  },
  {
   "cell_type": "code",
   "execution_count": 59,
   "metadata": {},
   "outputs": [],
   "source": [
    "def my_solution1(breaks):\n",
    "    \n",
    "    masodik = 0\n",
    "        \n",
    "    for elso in range(0, 101, 10):\n",
    "        if breaks(elso):\n",
    "            masodik = elso - 10\n",
    "            for tutira_eltoro in range(masodik, 101, 1):\n",
    "                if breaks(tutira_eltoro):\n",
    "                    return (tutira_eltoro - 1)\n",
    "    return 100\n",
    "            \n",
    "            \n",
    "        "
   ]
  },
  {
   "cell_type": "code",
   "execution_count": 60,
   "metadata": {},
   "outputs": [
    {
     "name": "stdout",
     "output_type": "stream",
     "text": [
      "- success rate: 101/101 (100.0%)\n",
      "- error count: 0\n",
      "- best performance: 4\n",
      "- worst performance: 22\n",
      "- mean performance: 12.98019801980198\n"
     ]
    }
   ],
   "source": [
    "eggdrop_100floor_2egg.evaluate(my_solution1)"
   ]
  },
  {
   "cell_type": "code",
   "execution_count": null,
   "metadata": {},
   "outputs": [],
   "source": []
  },
  {
   "cell_type": "code",
   "execution_count": null,
   "metadata": {},
   "outputs": [],
   "source": []
  },
  {
   "cell_type": "code",
   "execution_count": null,
   "metadata": {},
   "outputs": [],
   "source": []
  }
 ],
 "metadata": {
  "kernelspec": {
   "display_name": "Python 3",
   "language": "python",
   "name": "python3"
  },
  "language_info": {
   "codemirror_mode": {
    "name": "ipython",
    "version": 3
   },
   "file_extension": ".py",
   "mimetype": "text/x-python",
   "name": "python",
   "nbconvert_exporter": "python",
   "pygments_lexer": "ipython3",
   "version": "3.7.4"
  }
 },
 "nbformat": 4,
 "nbformat_minor": 2
}
