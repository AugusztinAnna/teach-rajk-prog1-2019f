{
 "cells": [
  {
   "cell_type": "markdown",
   "metadata": {},
   "source": [
    "##### find the last number in a list that has a difference from a given number that is a multiple of 3\n",
    "\n",
    "if there is no such number, return 0.\n",
    "\n",
    "> ```[1, 4, -5, 3, 9, 11, 7, 6, 4, 9], 10 -> 4```\n",
    "\n",
    "beacause 10 - 4 = 6 that is a multiple of 3. although 10 -1 = 9 which is also a multiple of 3, that number occurs earlier in the list and we're looking for the last number that satisfies this condition "
   ]
  },
  {
   "cell_type": "code",
   "execution_count": 27,
   "metadata": {},
   "outputs": [],
   "source": [
    "from jkg_evaluators import last_with_three_multiple_difference"
   ]
  },
  {
   "cell_type": "code",
   "execution_count": 37,
   "metadata": {},
   "outputs": [],
   "source": [
    "def find_last_with_three_multi_diff(list_of_numbers, number):\n",
    "    for value in list_of_numbers:\n",
    "        y = number - value\n",
    "        if y % 3 == 0:\n",
    "            solution = value\n",
    "    return solution"
   ]
  },
  {
   "cell_type": "code",
   "execution_count": 38,
   "metadata": {},
   "outputs": [
    {
     "name": "stdout",
     "output_type": "stream",
     "text": [
      "- success rate: 497/497 (100.0%)\n",
      "- error count: 0\n",
      "- best performance: 1\n",
      "- worst performance: 1\n",
      "- mean performance: 1.0\n"
     ]
    }
   ],
   "source": [
    "last_with_three_multiple_difference.evaluate(find_last_with_three_multi_diff)"
   ]
  },
  {
   "cell_type": "markdown",
   "metadata": {},
   "source": [
    "Leírás:\n",
    "Egy olyan függvényt definiálok, aminek a paramétere egy lista (melynek minden eleme integer típusú) és egy integer. A függvény elsőként elvégez egy iterációt, majd meghatározza a visszatérési értéket.\n",
    "\n",
    "\n",
    "\n",
    "Az iteráció során a paraméterként definiált lista minden elemén végigiterálunk.\n",
    "\n",
    "Az iteráción belül deklarálunk egy változót aminek a következőképpen adunk értéket: a függvény paramétereként beadott integer értékének és a lista adott elemének különbsége.\n",
    "\n",
    "Következő lépésként megvizsgálom, hogy teljesül-e az a feltétel, hogy az előző pontban deklarált változó osztható hárommal.\n",
    "\n",
    "Abban az esetben, ha igen, létrehozok egy megoldás változót és értékadással hozzárendelem a lista adott elemének értékét.\n",
    "\n",
    "Ha nem teljesül a feltétel, akkor nem csinálok semmit.\n",
    "\n",
    "Az iteráció elvégzése után a függvény második lépéseként meghatározunk a visszatérési értéket. Ez a visszatérési érték az iteráció másodjára létrehozott megoldás változójának értéke.\n",
    "\n",
    "Utolsó lépésként meghívom ezt a függvényt, és utasítom, hogy értékelje ki az adott lista és integer számot."
   ]
  }
 ],
 "metadata": {
  "kernelspec": {
   "display_name": "Python 3",
   "language": "python",
   "name": "python3"
  },
  "language_info": {
   "codemirror_mode": {
    "name": "ipython",
    "version": 3
   },
   "file_extension": ".py",
   "mimetype": "text/x-python",
   "name": "python",
   "nbconvert_exporter": "python",
   "pygments_lexer": "ipython3",
   "version": "3.6.9"
  }
 },
 "nbformat": 4,
 "nbformat_minor": 2
}
