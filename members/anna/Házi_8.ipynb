{
 "cells": [
  {
   "cell_type": "code",
   "execution_count": 2,
   "metadata": {},
   "outputs": [],
   "source": [
    "def aron_function(list_of_numbers, number):\n",
    "    solution = 0\n",
    "    list_of_numbers.sort()\n",
    "    for value in list_of_numbers:\n",
    "        if ((value / number) % 2) == 0:\n",
    "            solution = value\n",
    "    return solution\n",
    "\n",
    "aron_function(list_of_numbers, number)"
   ]
  },
  {
   "cell_type": "code",
   "execution_count": 7,
   "metadata": {},
   "outputs": [
    {
     "data": {
      "text/plain": [
       "2"
      ]
     },
     "execution_count": 7,
     "metadata": {},
     "output_type": "execute_result"
    }
   ],
   "source": [
    "def kornel_function(list_of_strings, string):\n",
    "    solution = 0\n",
    "    for value in list_of_strings:\n",
    "        if value.lower() == string:\n",
    "            solution += 1\n",
    "            \n",
    "    return solution\n",
    "\n",
    "kornel_function(list_of_strings, string)"
   ]
  },
  {
   "cell_type": "code",
   "execution_count": 8,
   "metadata": {},
   "outputs": [
    {
     "data": {
      "text/plain": [
       "134"
      ]
     },
     "execution_count": 8,
     "metadata": {},
     "output_type": "execute_result"
    }
   ],
   "source": [
    "list_of_numbers = [112,134,210]\n",
    "def flora_function(list_of_numbers):\n",
    "    list_of_good_numbers = []\n",
    "    for value in list_of_numbers:\n",
    "        good_number = 'TRUE'\n",
    "        value_string = str(value)\n",
    "        for character in range(len(value_string)-1):\n",
    "            if value_string[character] > value_string[character+1]:\n",
    "                good_number = 'FALSE'\n",
    "                    \n",
    "        if good_number == 'TRUE':\n",
    "            list_of_good_numbers.append(value)\n",
    "    list_of_good_numbers.sort\n",
    "    return list_of_good_numbers[-1]             \n",
    "\n",
    "flora_function(list_of_numbers)"
   ]
  },
  {
   "cell_type": "code",
   "execution_count": 72,
   "metadata": {},
   "outputs": [
    {
     "data": {
      "text/plain": [
       "'dsadaaaaa'"
      ]
     },
     "execution_count": 72,
     "metadata": {},
     "output_type": "execute_result"
    }
   ],
   "source": [
    "list_of_element = ['anna', 'AAA', 'dsadaaaaa']\n",
    "string = 'a'\n",
    "def marci_function(list_of_element, string):\n",
    "    character_counter = []\n",
    "    for element in list_of_element:\n",
    "        letter_counter = 0\n",
    "        for char in element:\n",
    "            if char == string:\n",
    "                letter_counter += 1\n",
    "        \n",
    "        element = element.swapcase()\n",
    "        \n",
    "        for char in element:\n",
    "            if char == string:\n",
    "                letter_counter += 1\n",
    "        \n",
    "        character_counter.append(letter_counter)\n",
    "    if max(character_counter)==0:\n",
    "        return('')\n",
    "    else:\n",
    "        a = character_counter.index(max(character_counter))\n",
    "        return(list_of_element[a])\n",
    "\n",
    "marci_function(list_of_element, string)\n",
    "        "
   ]
  },
  {
   "cell_type": "code",
   "execution_count": 21,
   "metadata": {},
   "outputs": [],
   "source": [
    "list_of_integer = [1,2,3,3,4]\n",
    "\n",
    "def petra_function(list_of_integer):\n",
    "    list_of_integer = set(list_of_integer)\n",
    "    list = []\n",
    "    for int in list_of_integer:\n",
    "        if int>0:\n",
    "            if int%2 != 0 :\n",
    "                list.append(int)\n",
    "    return sum(list)\n",
    "                \n",
    "petra_function(list_of_integer)\n",
    "    "
   ]
  },
  {
   "cell_type": "code",
   "execution_count": 46,
   "metadata": {},
   "outputs": [
    {
     "data": {
      "text/plain": [
       "0"
      ]
     },
     "execution_count": 46,
     "metadata": {},
     "output_type": "execute_result"
    }
   ],
   "source": [
    "list_of_words = ['anna','bél1','AAAA']\n",
    "\n",
    "def matos_function(list_of_words):\n",
    "    length_of_list = len(list_of_words) - 1\n",
    "    count_a_list = []\n",
    "    for words in range(length_of_list): \n",
    "        count_a_list.append(list_of_ words[words].count('a')+list_of_words[words].count('A'))\n",
    "    most_a_letters_index = count_a_list.index(max(count_a_list))\n",
    "    if len(count_a_list) > 0:\n",
    "        return(most_a_letters_index)\n",
    "    else:\n",
    "        return(-1)\n",
    "        \n",
    "matos_function(list_of_words)"
   ]
  },
  {
   "cell_type": "code",
   "execution_count": 52,
   "metadata": {},
   "outputs": [
    {
     "data": {
      "text/plain": [
       "30"
      ]
     },
     "execution_count": 52,
     "metadata": {},
     "output_type": "execute_result"
    }
   ],
   "source": [
    "list_of_numbers = [1,2,6,4,5]\n",
    "def danka_function(list_of_numbers):\n",
    "    sorted_list_of_numbers = sorted(list_of_numbers).copy()\n",
    "    extra_int = sorted_list_of_numbers[0]*sorted_list_of_numbers[1]\n",
    "    reverse_list_of_numbers = sorted(list_of_numbers, reverse = True)\n",
    "    reverse_int = reverse_list_of_numbers[0]*reverse_list_of_numbers[1]\n",
    "    solution = [extra_int, reverse_int]\n",
    "    solution_list = sorted(solution, reverse = True).copy()\n",
    "    return(solution_list[0])\n",
    "\n",
    "\n",
    "danka_function(list_of_numbers)\n",
    "    \n",
    "    "
   ]
  },
  {
   "cell_type": "code",
   "execution_count": 56,
   "metadata": {},
   "outputs": [
    {
     "data": {
      "text/plain": [
       "1"
      ]
     },
     "execution_count": 56,
     "metadata": {},
     "output_type": "execute_result"
    }
   ],
   "source": [
    "list_of_numbers_lili = [1,2,3,4]\n",
    "def lili_function(list_of_numbers_lili):\n",
    "    int_halves = []\n",
    "    for divident in list_of_numbers_lili:\n",
    "        for divisor in list_of_numbers_lili:\n",
    "            if divisor*2==divident:\n",
    "                int_halves.append(divisor)\n",
    "    if len(int_halves)==0:\n",
    "        return(0)\n",
    "    else:\n",
    "        smallest_where_double = min(int_halves)\n",
    "        return(smallest_where_double)\n",
    "lili_function(list_of_numbers_lili)"
   ]
  }
 ],
 "metadata": {
  "kernelspec": {
   "display_name": "Python 3",
   "language": "python",
   "name": "python3"
  },
  "language_info": {
   "codemirror_mode": {
    "name": "ipython",
    "version": 3
   },
   "file_extension": ".py",
   "mimetype": "text/x-python",
   "name": "python",
   "nbconvert_exporter": "python",
   "pygments_lexer": "ipython3",
   "version": "3.6.8"
  }
 },
 "nbformat": 4,
 "nbformat_minor": 2
}
