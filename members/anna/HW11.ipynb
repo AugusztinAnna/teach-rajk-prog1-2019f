{
 "cells": [
  {
   "cell_type": "code",
   "execution_count": 26,
   "metadata": {},
   "outputs": [],
   "source": [
    "import requests\n",
    "from bs4 import BeautifulSoup\n",
    "import pandas as pd"
   ]
  },
  {
   "cell_type": "code",
   "execution_count": 27,
   "metadata": {},
   "outputs": [],
   "source": [
    "roms = pd.concat([pd.DataFrame(\n",
    "    [{'arab':a.text.split()[0],'roman':a.text.split()[1]} for a in \\\n",
    " BeautifulSoup(requests.get('https://smorgasborg.artlung.com/roman-numerals/page/%d' % p) \\\n",
    "              .content,'html5lib').find('pre').find_all('a')]) for p in range(1,11)])\\\n",
    "    .loc[lambda df: df['arab'] != '0',:]"
   ]
  },
  {
   "cell_type": "code",
   "execution_count": 28,
   "metadata": {},
   "outputs": [],
   "source": [
    "def rom2ar_test(fun): # ez azokat az eseteket adja vissza, ahol az átváltás helytelen\n",
    "    calc = roms['roman'].apply(fun)\n",
    "    tru = roms['arab'].apply(int)\n",
    "    return roms[calc != tru]"
   ]
  },
  {
   "cell_type": "code",
   "execution_count": 29,
   "metadata": {},
   "outputs": [
    {
     "data": {
      "text/plain": [
       "arab     <class 'pandas.core.series.Series'>\n",
       "roman    <class 'pandas.core.series.Series'>\n",
       "dtype: object"
      ]
     },
     "execution_count": 29,
     "metadata": {},
     "output_type": "execute_result"
    }
   ],
   "source": [
    "roms.apply(type)"
   ]
  },
  {
   "cell_type": "code",
   "execution_count": 30,
   "metadata": {},
   "outputs": [
    {
     "name": "stdout",
     "output_type": "stream",
     "text": [
      "       arab                roman\n",
      "1         1                    I\n",
      "2         2                   II\n",
      "3         3                  III\n",
      "4         4                   IV\n",
      "5         5                    V\n",
      "6         6                   VI\n",
      "7         7                  VII\n",
      "8         8                 VIII\n",
      "9         9                   IX\n",
      "10       10                    X\n",
      "11       11                   XI\n",
      "12       12                  XII\n",
      "13       13                 XIII\n",
      "14       14                  XIV\n",
      "15       15                   XV\n",
      "16       16                  XVI\n",
      "17       17                 XVII\n",
      "18       18                XVIII\n",
      "19       19                  XIX\n",
      "20       20                   XX\n",
      "21       21                  XXI\n",
      "22       22                 XXII\n",
      "23       23                XXIII\n",
      "24       24                 XXIV\n",
      "25       25                  XXV\n",
      "26       26                 XXVI\n",
      "27       27                XXVII\n",
      "28       28               XXVIII\n",
      "29       29                 XXIX\n",
      "30       30                  XXX\n",
      "...     ...                  ...\n",
      "971    9971      MMMMMMMMMCMLXXI\n",
      "972    9972     MMMMMMMMMCMLXXII\n",
      "973    9973    MMMMMMMMMCMLXXIII\n",
      "974    9974     MMMMMMMMMCMLXXIV\n",
      "975    9975      MMMMMMMMMCMLXXV\n",
      "976    9976     MMMMMMMMMCMLXXVI\n",
      "977    9977    MMMMMMMMMCMLXXVII\n",
      "978    9978   MMMMMMMMMCMLXXVIII\n",
      "979    9979     MMMMMMMMMCMLXXIX\n",
      "980    9980      MMMMMMMMMCMLXXX\n",
      "981    9981     MMMMMMMMMCMLXXXI\n",
      "982    9982    MMMMMMMMMCMLXXXII\n",
      "983    9983   MMMMMMMMMCMLXXXIII\n",
      "984    9984    MMMMMMMMMCMLXXXIV\n",
      "985    9985     MMMMMMMMMCMLXXXV\n",
      "986    9986    MMMMMMMMMCMLXXXVI\n",
      "987    9987   MMMMMMMMMCMLXXXVII\n",
      "988    9988  MMMMMMMMMCMLXXXVIII\n",
      "989    9989    MMMMMMMMMCMLXXXIX\n",
      "990    9990        MMMMMMMMMCMXC\n",
      "991    9991       MMMMMMMMMCMXCI\n",
      "992    9992      MMMMMMMMMCMXCII\n",
      "993    9993     MMMMMMMMMCMXCIII\n",
      "994    9994      MMMMMMMMMCMXCIV\n",
      "995    9995       MMMMMMMMMCMXCV\n",
      "996    9996      MMMMMMMMMCMXCVI\n",
      "997    9997     MMMMMMMMMCMXCVII\n",
      "998    9998    MMMMMMMMMCMXCVIII\n",
      "999    9999      MMMMMMMMMCMXCIX\n",
      "1000  10000           MMMMMMMMMM\n",
      "\n",
      "[10009 rows x 2 columns]\n"
     ]
    }
   ],
   "source": [
    "print(roms)"
   ]
  },
  {
   "cell_type": "code",
   "execution_count": 31,
   "metadata": {},
   "outputs": [],
   "source": [
    "def roma(rom_string):\n",
    "    master_dict_reverse = {'IV' :4, 'IX': 9, 'XL': 40, 'XC': 90, 'CD':400, 'CM': 900}\n",
    "    master_dict = {'I': 1, 'V': 5, 'X': 10, 'L':50, 'C':100, 'D': 500, 'M': 1000}   \n",
    "    rom_actual = rom_string\n",
    "    solution = 0\n",
    "    \n",
    "    for roman, arab in master_dict_reverse.items():\n",
    "        if roman in rom_actual: \n",
    "            solution += arab\n",
    "            rom_actual = rom_actual.replace(roman,\"\") \n",
    "                        \n",
    "    for roman, arab in master_dict.items():\n",
    "        if roman in rom_actual:\n",
    "            solution += rom_actual.count(roman)*arab\n",
    "\n",
    "    return solution"
   ]
  },
  {
   "cell_type": "code",
   "execution_count": 32,
   "metadata": {},
   "outputs": [
    {
     "data": {
      "text/html": [
       "<div>\n",
       "<style scoped>\n",
       "    .dataframe tbody tr th:only-of-type {\n",
       "        vertical-align: middle;\n",
       "    }\n",
       "\n",
       "    .dataframe tbody tr th {\n",
       "        vertical-align: top;\n",
       "    }\n",
       "\n",
       "    .dataframe thead th {\n",
       "        text-align: right;\n",
       "    }\n",
       "</style>\n",
       "<table border=\"1\" class=\"dataframe\">\n",
       "  <thead>\n",
       "    <tr style=\"text-align: right;\">\n",
       "      <th></th>\n",
       "      <th>arab</th>\n",
       "      <th>roman</th>\n",
       "    </tr>\n",
       "  </thead>\n",
       "  <tbody>\n",
       "  </tbody>\n",
       "</table>\n",
       "</div>"
      ],
      "text/plain": [
       "Empty DataFrame\n",
       "Columns: [arab, roman]\n",
       "Index: []"
      ]
     },
     "execution_count": 32,
     "metadata": {},
     "output_type": "execute_result"
    }
   ],
   "source": [
    "rom2ar_test(roma)"
   ]
  },
  {
   "cell_type": "code",
   "execution_count": 33,
   "metadata": {},
   "outputs": [],
   "source": [
    "class Roman:\n",
    "    \n",
    "    def __init__(self, num):\n",
    "        \n",
    "        if isinstance(num, str):\n",
    "            self.roman = num\n",
    "            self.arab = self.roma()\n",
    "        \n",
    "        if isinstance(num, int):\n",
    "            self.arab = num\n",
    "            self.roman = 'I'\n",
    "        \n",
    "    def roma(self):\n",
    "        master_dict_reverse = {'IV' :4, 'IX': 9, 'XL': 40, 'XC': 90, 'CD':400, 'CM': 900}\n",
    "        master_dict = {'I': 1, 'V': 5, 'X': 10, 'L':50, 'C':100, 'D': 500, 'M': 1000}   \n",
    "        rom_actual = self.roman\n",
    "        solution = 0\n",
    "    \n",
    "        for roman_1, arab in master_dict_reverse.items():\n",
    "            if roman_1 in self.roman: \n",
    "                solution += arab\n",
    "                rom_actual = rom_actual.replace(roman_1,\"\") \n",
    "                        \n",
    "        for roman_1, arab in master_dict.items():\n",
    "            if roman_1 in self.roman:\n",
    "                solution += rom_actual.count(roman_1)*arab\n",
    "\n",
    "        return solution\n",
    "    \n",
    "    def __add__(self, other):\n",
    "        \n",
    "        summa = self.arab + other.arab\n",
    "        \n",
    "        return Roman(summa)\n",
    "    \n",
    "    def __lt__(self, other):\n",
    "        \n",
    "        return self.arab < other.arab"
   ]
  },
  {
   "cell_type": "code",
   "execution_count": 38,
   "metadata": {},
   "outputs": [
    {
     "data": {
      "text/plain": [
       "44"
      ]
     },
     "execution_count": 38,
     "metadata": {},
     "output_type": "execute_result"
    }
   ],
   "source": [
    "r = Roman('XXXXIV')\n",
    "r.arab\n"
   ]
  },
  {
   "cell_type": "markdown",
   "metadata": {},
   "source": [
    "Test Driven Development"
   ]
  },
  {
   "cell_type": "code",
   "execution_count": 39,
   "metadata": {},
   "outputs": [],
   "source": [
    "r = Roman('III')"
   ]
  },
  {
   "cell_type": "code",
   "execution_count": 40,
   "metadata": {},
   "outputs": [
    {
     "data": {
      "text/plain": [
       "'III'"
      ]
     },
     "execution_count": 40,
     "metadata": {},
     "output_type": "execute_result"
    }
   ],
   "source": [
    "r.roman"
   ]
  },
  {
   "cell_type": "code",
   "execution_count": 23,
   "metadata": {},
   "outputs": [
    {
     "data": {
      "text/plain": [
       "False"
      ]
     },
     "execution_count": 23,
     "metadata": {},
     "output_type": "execute_result"
    }
   ],
   "source": [
    "r1 = Roman(5)\n",
    "r1.roman == 'V'"
   ]
  },
  {
   "cell_type": "code",
   "execution_count": 24,
   "metadata": {},
   "outputs": [
    {
     "ename": "NameError",
     "evalue": "name 'r2' is not defined",
     "output_type": "error",
     "traceback": [
      "\u001b[1;31m---------------------------------------------------------------------------\u001b[0m",
      "\u001b[1;31mNameError\u001b[0m                                 Traceback (most recent call last)",
      "\u001b[1;32m<ipython-input-24-71e4eacddb56>\u001b[0m in \u001b[0;36m<module>\u001b[1;34m\u001b[0m\n\u001b[1;32m----> 1\u001b[1;33m \u001b[0mr3\u001b[0m \u001b[1;33m=\u001b[0m \u001b[0mr1\u001b[0m \u001b[1;33m+\u001b[0m \u001b[0mr2\u001b[0m\u001b[1;33m\u001b[0m\u001b[1;33m\u001b[0m\u001b[0m\n\u001b[0m\u001b[0;32m      2\u001b[0m \u001b[0mr3\u001b[0m\u001b[1;33m.\u001b[0m\u001b[0marab\u001b[0m \u001b[1;33m==\u001b[0m \u001b[1;36m20\u001b[0m\u001b[1;33m\u001b[0m\u001b[1;33m\u001b[0m\u001b[0m\n",
      "\u001b[1;31mNameError\u001b[0m: name 'r2' is not defined"
     ]
    }
   ],
   "source": [
    "r3 = r1 + r2\n",
    "r3.arab == 20"
   ]
  },
  {
   "cell_type": "code",
   "execution_count": 25,
   "metadata": {},
   "outputs": [
    {
     "name": "stdout",
     "output_type": "stream",
     "text": [
      "JAJJJ\n"
     ]
    }
   ],
   "source": [
    "for a in range(2000, 30000):\n",
    "    rt1 = Roman(a)\n",
    "    rt2 = Roman(rt1.roman)\n",
    "    if rt1.arab != rt2.arab:\n",
    "        print('JAJJJ')\n",
    "        break"
   ]
  },
  {
   "cell_type": "code",
   "execution_count": null,
   "metadata": {},
   "outputs": [],
   "source": []
  }
 ],
 "metadata": {
  "kernelspec": {
   "display_name": "Python 3",
   "language": "python",
   "name": "python3"
  },
  "language_info": {
   "codemirror_mode": {
    "name": "ipython",
    "version": 3
   },
   "file_extension": ".py",
   "mimetype": "text/x-python",
   "name": "python",
   "nbconvert_exporter": "python",
   "pygments_lexer": "ipython3",
   "version": "3.7.3"
  }
 },
 "nbformat": 4,
 "nbformat_minor": 2
}
