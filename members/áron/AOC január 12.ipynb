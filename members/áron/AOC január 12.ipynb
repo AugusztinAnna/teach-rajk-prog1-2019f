{
 "cells": [
  {
   "cell_type": "markdown",
   "metadata": {},
   "source": [
    "1st star"
   ]
  },
  {
   "cell_type": "code",
   "execution_count": 5,
   "metadata": {},
   "outputs": [
    {
     "name": "stdout",
     "output_type": "stream",
     "text": [
      "3394032\n"
     ]
    }
   ],
   "source": [
    "import math \n",
    "\n",
    "list_of_masses = []\n",
    "\n",
    "list_of_masses = open(\"input_1st_star.txt\").read().split()\n",
    "\n",
    "total_weight = 0\n",
    "for mass in list_of_masses:\n",
    "    unit_fuel = math.floor(int(mass)/3)-2    \n",
    "    total_weight += unit_fuel\n",
    "    \n",
    "print (total_weight)\n"
   ]
  },
  {
   "cell_type": "code",
   "execution_count": 6,
   "metadata": {},
   "outputs": [
    {
     "name": "stdout",
     "output_type": "stream",
     "text": [
      "['141496', '50729', '52916', '98133', '93839', '107272', '142069', '67632', '75009', '74371', '69081', '91480', '102664', '105221', '130656', '90946', '72792', '148049', '70881', '145510', '105035', '149880', '117058', '149669', '59725', '122995', '74449', '96690', '140220', '59294', '142524', '139379', '107322', '57832', '66101', '105801', '59189', '58687', '61454', '116490', '125198', '116264', '103459', '145734', '98738', '62783', '138935', '143958', '87769', '100410', '112567', '131008', '96648', '62022', '84654', '135197', '104771', '116477', '58956', '83449', '71150', '86343', '69346', '100858', '146224', '142933', '135930', '99671', '97840', '145286', '55577', '88347', '75169', '73059', '144308', '110284', '117688', '146396', '75934', '92370', '124781', '133506', '134441', '98229', '100872', '75249', '108598', '106277', '80388', '138398', '143521', '74189', '72945', '79918', '132770', '78616', '91499', '124595', '89042', '90715']\n"
     ]
    }
   ],
   "source": [
    "print(list_of_masses)"
   ]
  },
  {
   "cell_type": "markdown",
   "metadata": {},
   "source": [
    "2nd star"
   ]
  },
  {
   "cell_type": "code",
   "execution_count": 2,
   "metadata": {},
   "outputs": [
    {
     "name": "stdout",
     "output_type": "stream",
     "text": [
      "5088176\n"
     ]
    }
   ],
   "source": [
    "import math \n",
    "\n",
    "list_of_masses = []\n",
    "\n",
    "list_of_masses = open(\"input_1st_star.txt\").read().split()\n",
    "\n",
    "total_weight = 0\n",
    "for mass in list_of_masses:\n",
    "    unit_fuel = (int(mass)//3)-2\n",
    "    total_weight += unit_fuel\n",
    "    unit_fuel_fuel = (int(unit_fuel)//3)-2 \n",
    "    if unit_fuel_fuel < 0:\n",
    "            unit_fuel_fuel = 0\n",
    "    total_weight += unit_fuel_fuel\n",
    "    while unit_fuel_fuel > 0:\n",
    "        unit_fuel_fuel = (int(unit_fuel_fuel)//3) - 2\n",
    "        if unit_fuel_fuel < 0:\n",
    "            unit_fuel_fuel = 0\n",
    "        total_weight += unit_fuel_fuel\n",
    "    \n",
    "    \n",
    "    \n",
    "print (total_weight)"
   ]
  },
  {
   "cell_type": "markdown",
   "metadata": {},
   "source": [
    "3rd star"
   ]
  },
  {
   "cell_type": "code",
   "execution_count": 99,
   "metadata": {},
   "outputs": [],
   "source": [
    "list_gravity_program = []\n",
    "\n",
    "list_gravity_program = open(\"input_3rd_star.txt\").read().split(\",\")\n",
    "\n",
    "list_gravity_program[1] = 12\n",
    "\n",
    "list_gravity_program[2] = 2\n",
    "\n",
    "list_gravity_program[160] = 0\n",
    "\n",
    "for number in list_gravity_program:\n",
    "    number = int(number)"
   ]
  },
  {
   "cell_type": "code",
   "execution_count": 59,
   "metadata": {},
   "outputs": [],
   "source": [
    "def magicprogram(list):\n",
    "    index = -1\n",
    "    for number in list:\n",
    "        index += 1\n",
    "        if index % 4 == 0:\n",
    "            if int(number) == 1:\n",
    "                list[int(list[index + 3])] = int(list[int(list[index + 1])]) + int(list[int(list[index + 2])])\n",
    "            if int(number) == 2:\n",
    "                list[int(list[index + 3])] = int(list[int(list[index + 1])]) * int(list[int(list[index + 2])])\n",
    "            if int(number) == 99:\n",
    "                break\n",
    "    "
   ]
  },
  {
   "cell_type": "code",
   "execution_count": 98,
   "metadata": {},
   "outputs": [
    {
     "name": "stdout",
     "output_type": "stream",
     "text": [
      "3306701\n"
     ]
    }
   ],
   "source": [
    "magicprogram(list_gravity_program)\n",
    "\n",
    "print(list_gravity_program[0])"
   ]
  },
  {
   "cell_type": "markdown",
   "metadata": {},
   "source": [
    "4th star"
   ]
  },
  {
   "cell_type": "code",
   "execution_count": 93,
   "metadata": {},
   "outputs": [],
   "source": [
    "def magicprogram2(list):\n",
    "    index = -1\n",
    "    for number in list:\n",
    "        index += 1\n",
    "        if index % 4 == 0:\n",
    "            parameter1 = int(list[int(list[index + 1])])\n",
    "            parameter2 = int(list[int(list[index + 2])])\n",
    "            if int(list[index + 1]) > len(list):\n",
    "                parameter1 = 0\n",
    "            if int(list[index + 2]) > len(list):\n",
    "                parameter2 = 0\n",
    "            if int(list[index + 3]) > len(list):\n",
    "                break\n",
    "            if int(number) == 1:\n",
    "                list[int(list[index + 3])] = parameter1 + parameter2\n",
    "            if int(number) == 2:\n",
    "                list[int(list[index + 3])] = parameter1 * parameter2\n",
    "            if int(number) == 99:\n",
    "                break"
   ]
  },
  {
   "cell_type": "code",
   "execution_count": 95,
   "metadata": {},
   "outputs": [
    {
     "name": "stdout",
     "output_type": "stream",
     "text": [
      "7621\n"
     ]
    }
   ],
   "source": [
    "for number1 in range(100):\n",
    "    for number2 in range(100):\n",
    "        list_gravity_program = open(\"input_3rd_star.txt\").read().split(\",\")\n",
    "        list_gravity_program[1] = number1\n",
    "        list_gravity_program[2] = number2\n",
    "        magicprogram2(list_gravity_program)\n",
    "        if int(list_gravity_program[0]) == 19690720:\n",
    "            result = 100 * list_gravity_program[1] + list_gravity_program[2]\n",
    "            print(result)\n",
    "            break"
   ]
  },
  {
   "cell_type": "markdown",
   "metadata": {},
   "source": [
    "5th star"
   ]
  },
  {
   "cell_type": "code",
   "execution_count": 4,
   "metadata": {},
   "outputs": [
    {
     "name": "stdout",
     "output_type": "stream",
     "text": [
      "300\n",
      "['L1005', 'D52', 'L125', 'U787', 'L761', 'U262', 'L466', 'D966', 'R895', 'U789', 'R6', 'U2', 'R870', 'U971', 'R238', 'D946', 'L752', 'D240', 'R721', 'U349', 'L679', 'D518', 'L104', 'U417', 'L462', 'U544', 'L519', 'U797', 'R873', 'U70', 'R298', 'U45', 'L779', 'D921', 'R468', 'D421', 'R803', 'U108', 'L812', 'D498', 'R226', 'D309', 'R766', 'U724', 'L961', 'U472', 'R940', 'U944', 'R418', 'D682', 'R328', 'U55', 'R737', 'U961', 'L343', 'U397', 'R112', 'D292', 'L155', 'U162', 'R398', 'U445', 'L524', 'U256', 'R323', 'D587', 'L862', 'D726', 'R624', 'D230', 'R460', 'U539', 'R723', 'U93', 'L507', 'U608', 'L150', 'U159', 'R35', 'U458', 'R208', 'U546', 'L495', 'D835', 'L636', 'U960', 'L322', 'U408', 'L78', 'D250', 'L994', 'U818', 'R107', 'U978', 'R401', 'D147', 'R574', 'D549', 'R983', 'U698', 'L99', 'D63', 'L772', 'U409', 'R975', 'U990', 'L893', 'U467', 'L860', 'D721', 'R504', 'U102', 'R678', 'D672', 'L406', 'D933', 'R743', 'D788', 'R142', 'D44', 'R208', 'D424', 'R28', 'D674', 'R331', 'D968', 'L154', 'U206', 'R222', 'D354', 'R687', 'D331', 'L539', 'D390', 'L373', 'D514', 'L622', 'U673', 'R345', 'U943', 'L508', 'D337', 'R265', 'D785', 'L189', 'U429', 'R344', 'D719', 'R622', 'U199', 'L765', 'U350', 'R833', 'U309', 'R95', 'U911', 'R548', 'U746', 'R107', 'D867', 'L648', 'D680', 'R28', 'U596', 'L891', 'U168', 'R933', 'U571', 'R365', 'U267', 'R916', 'D130', 'L149', 'D898', 'L513', 'D167', 'R587', 'U799', 'R134', 'D328', 'R562', 'D929', 'L399', 'U568', 'R565', 'U241', 'L395', 'U822', 'L624', 'D145', 'L995', 'U516', 'R474', 'D609', 'R153', 'U52', 'R561', 'D15', 'R283', 'U321', 'L850', 'U218', 'L225', 'D635', 'L630', 'U102', 'L84', 'D672', 'L128', 'D885', 'L506', 'U911', 'R355', 'D132', 'R155', 'D120', 'L110', 'U368', 'R149', 'D343', 'L708', 'U378', 'R591', 'D585', 'L381', 'D517', 'R852', 'U432', 'R342', 'U273', 'R893', 'D277', 'L548', 'U859', 'L891', 'U311', 'L901', 'U255', 'R421', 'U90', 'L72', 'D474', 'L654', 'U12', 'L146', 'D867', 'L485', 'D663', 'R123', 'D82', 'L21', 'U408', 'L38', 'D864', 'L114', 'D645', 'R936', 'U765', 'L832', 'D668', 'L482', 'U79', 'L594', 'U276', 'L559', 'D469', 'R314', 'D162', 'R621', 'U230', 'L688', 'U82', 'R605', 'U191', 'L381', 'D327', 'L91', 'D217', 'R714', 'D942', 'R851', 'U358', 'R22', 'U952', 'R279', 'D897', 'R485', 'D867', 'L940', 'U891', 'L223', 'D264', 'L634', 'D560', 'R645', 'D705', 'L289', 'U584', 'R97', 'U920', 'R41']\n"
     ]
    }
   ],
   "source": [
    "cables = []\n",
    "\n",
    "list_of_cables = open(\"input_5th_star.txt\").read().split(\",\" or \"\\n\")\n",
    "\n",
    "\n",
    "\n",
    "print(list_of_cables.index('R976\\nL1005'))\n",
    "\n",
    "list_1stcable = list_of_cables[0:300]\n",
    "\n",
    "list_1stcable.append('R976')\n",
    "\n",
    "list_2ndcable = list_of_cables[300:(len(list_of_cables)-1)]\n",
    "\n",
    "list_2ndcable[0] = 'L1005'\n",
    "\n",
    "list_2ndcable.append('R41')\n",
    "\n",
    "list_all_positions = []\n",
    "\n",
    "print(list_2ndcable)"
   ]
  },
  {
   "cell_type": "code",
   "execution_count": 5,
   "metadata": {},
   "outputs": [],
   "source": [
    "def split_characters(string):\n",
    "    list = []\n",
    "    for char in string:\n",
    "        list.append(char)\n",
    "    return list\n",
    "\n",
    "def input_to_map(list):\n",
    "    index = -1\n",
    "    for position in list:\n",
    "        index += 1\n",
    "        position_splitted = split_characters(position)\n",
    "        position_direction = position_splitted[0]\n",
    "        position_length = position_splitted[1]\n",
    "        for i in range(2,len(position_splitted)):\n",
    "            position_length += position_splitted[i] \n",
    "        position_length = int(position_length)\n",
    "        position = {'position_direction': position_direction, 'position_length': position_length}\n",
    "        list[index] = position\n",
    "        \n",
    "\n",
    "\n"
   ]
  },
  {
   "cell_type": "code",
   "execution_count": 106,
   "metadata": {},
   "outputs": [],
   "source": [
    "def cablemap(list):\n",
    "    all_positions = [[0, 0]]\n",
    "    last_position = {'row': 0, 'column': 0}\n",
    "    \n",
    "    for position in list:\n",
    "        \n",
    "        if position['position_direction'] == 'R':\n",
    "            for number in range(1, position['position_length'] + 1):\n",
    "                actual_position = [last_position['row'], last_position['column'] + number]\n",
    "                all_positions.append(actual_position)\n",
    "            last_position = {'row': last_position['row'], 'column': last_position['column'] + position['position_length']}\n",
    "        \n",
    "        if position['position_direction'] == 'L':\n",
    "            for number in range(1, position['position_length'] + 1):\n",
    "                actual_position = [last_position['row'], last_position['column'] - number]\n",
    "                all_positions.append(actual_position)\n",
    "            last_position = {'row': last_position['row'], 'column': last_position['column'] - position['position_length']}\n",
    "        \n",
    "        if position['position_direction'] == 'U':\n",
    "            for number in range(1, position['position_length'] + 1):\n",
    "                actual_position = [last_position['row'] + number, last_position['column']]\n",
    "                all_positions.append(actual_position)\n",
    "            last_position = {'row': last_position['row'] + position['position_length'], 'column': last_position['column'] }\n",
    "                \n",
    "        if position['position_direction'] == 'D':\n",
    "            for number in range(1, position['position_length'] + 1):\n",
    "                actual_position = [last_position['row'] - number, last_position['column']]\n",
    "                all_positions.append(actual_position)\n",
    "            last_position = {'row': last_position['row'] - position['position_length'], 'column': last_position['column'] }\n",
    "                \n",
    "    global list_all_positions \n",
    "    list_all_positions = all_positions    \n",
    "    return all_positions\n",
    "       "
   ]
  },
  {
   "cell_type": "code",
   "execution_count": 107,
   "metadata": {},
   "outputs": [],
   "source": [
    "input_to_map(list_1stcable)\n",
    "\n",
    "input_to_map(list_2ndcable)\n"
   ]
  },
  {
   "cell_type": "code",
   "execution_count": 108,
   "metadata": {},
   "outputs": [],
   "source": [
    "cablemap(list_1stcable)\n",
    "\n",
    "all_positions_1stcable = list_all_positions\n",
    "\n",
    "cablemap(list_2ndcable)\n",
    "\n",
    "all_positions_2ndcable = list_all_positions"
   ]
  },
  {
   "cell_type": "code",
   "execution_count": 109,
   "metadata": {},
   "outputs": [],
   "source": [
    "list_crosscuts = []\n",
    "\n",
    "for position in all_positions_1stcable:\n",
    "    if position in all_positions_2ndcable:\n",
    "        list_crosscuts.append(position)"
   ]
  },
  {
   "cell_type": "code",
   "execution_count": 110,
   "metadata": {},
   "outputs": [
    {
     "name": "stdout",
     "output_type": "stream",
     "text": [
      "[0, 316, 770, 897, 995, 1006, 1020, 1024, 1051, 1053, 1069, 1140, 1145, 1232, 1249, 1262, 1309, 1310, 1319, 1341, 1368, 1409, 1451, 1499, 1531, 1571, 1598, 1647, 1654, 1693, 1711, 1718, 1720, 1735, 1737, 1744, 1817, 1827, 1840, 1864, 1865, 1872, 1873, 1903, 1913, 1914, 1940, 1945, 1948, 1952, 2013, 2037, 2055, 2159, 2178, 2182, 2222, 2226, 2238, 2274, 2295, 2304, 2316, 2317, 2330, 2364, 2378, 2392, 2399, 2402, 2480, 2488, 2501, 2504, 2528, 2541, 2586, 2589, 2590, 2611, 2638, 2655, 2671, 2678, 2683, 2695, 2697, 2704, 2708, 2712, 2732, 2740, 2814, 2839, 2845, 2845, 2859, 2865, 2870, 2880, 2886, 2888, 2899, 2912, 2914, 2930, 2932, 2935, 2941, 2942, 2947, 2975, 2976, 3014, 3024, 3034, 3117, 3117, 3125, 3137, 3153, 3181, 3196, 3215, 3219, 3246, 3250, 3260, 3279, 3283, 3295, 3310, 3313, 3338, 3347, 3348, 3354, 3364, 3412, 3417, 3443, 3449, 3461, 3474, 3478, 3489, 3508, 3514, 3517, 3519, 3527, 3527, 3531, 3562, 3569, 3580, 3588, 3593, 3593, 3595, 3600, 3602, 3604, 3609, 3610, 3611, 3612, 3632, 3637, 3641, 3644, 3647, 3655, 3663, 3665, 3674, 3677, 3679, 3698, 3700, 3713, 3718, 3735, 3752, 3754, 3755, 3755, 3756, 3768, 3784, 3787, 3791, 3799, 3808, 3818, 3830, 3848, 3848, 3852, 3868, 3870, 3875, 3879, 3881, 3883, 3906, 3918, 3951, 3954, 3959, 3990, 4000, 4007, 4042, 4053, 4055, 4058, 4069, 4101, 4109, 4115, 4119, 4126, 4150, 4182, 4210, 4264, 4272, 4278, 4292, 4302, 4307, 4318, 4340, 4344, 4353, 4384, 4411, 4426, 4435, 4437, 4442, 4493, 4508, 4520, 4534, 4545, 4560, 4727, 4730, 4825, 4830, 4851, 4886, 4919, 5031, 5053, 5101, 5117, 5126, 5188, 5210, 5221, 5241, 5286]\n",
      "316\n"
     ]
    }
   ],
   "source": [
    "list_manhattan_distance_crosscuts = []\n",
    "\n",
    "list_crosscuts_absolutevalue = list_crosscuts\n",
    "\n",
    "for crosscut in list_crosscuts_absolutevalue:\n",
    "    \n",
    "    if crosscut[0] < 0:\n",
    "        crosscut[0] = (-1) * crosscut[0]\n",
    "    if crosscut[1] < 0:\n",
    "        crosscut[1] = (-1) * crosscut[1]\n",
    "        \n",
    "    manhattan_distance = crosscut[0] + crosscut[1]\n",
    "    list_manhattan_distance_crosscuts.append(manhattan_distance)\n",
    "\n",
    "sorted_list_manhattan_distance_crosscuts = list_manhattan_distance_crosscuts\n",
    "sorted_list_manhattan_distance_crosscuts.sort()\n",
    "\n",
    "print(sorted_list_manhattan_distance_crosscuts)\n",
    "print(sorted_list_manhattan_distance_crosscuts[1])"
   ]
  },
  {
   "cell_type": "markdown",
   "metadata": {},
   "source": [
    "6th star"
   ]
  },
  {
   "cell_type": "code",
   "execution_count": 35,
   "metadata": {},
   "outputs": [],
   "source": [
    "list_crosscuts = [[0, 0], [63, 990], [796, 1077], [2122, 1466], [2155, 1323], [2354, 1323], [2407, 1195], [2407, 1162], [2407, 1101], [2354, 984], [2169, 984], [1951, 984], [1895, 813], [1783, 595], [1679, 595], [1055, 592], [1055, 313], [994, 315], [971, 348], [971, 480], [971, 560], [994, 577], [1077, 577], [1149, 586], [1151, 586], [1151, 560], [1151, 348], [954, 66], [760, 137], [760, 291], [63, 943], [63, 253], [517, 253], [932, 137], [954, 41], [1679, 41], [1776, 41], [1822, 123], [2036, 123], [2036, 19], [1679, 65], [1592, 321], [1592, 348], [1592, 586], [1855, 649], [2383, 321], [2383, 19], [2383, 9], [2383, 97], [2399, 239], [2444, 239], [3125, 239], [3539, 412], [3525, 37], [2862, 37], [2836, 9], [2836, 29], [2836, 50], [2836, 111], [2836, 757], [2836, 819], [2744, 865], [2624, 865], [2445, 865], [2169, 865], [2121, 1162], [2061, 1466], [787, 1077], [930, 668], [1590, 592], [1679, 559], [1725, 592], [1679, 685], [1679, 616], [1783, 616], [2001, 813], [2001, 844], [2169, 956], [2624, 956], [2744, 956], [2874, 956], [2993, 1065], [2993, 1116], [2993, 1189], [2951, 1367], [2911, 1367], [2717, 1189], [2717, 1162], [2717, 1101], [2717, 946], [2717, 757], [3125, 516], [3237, 681], [3237, 973], [3237, 1065], [3237, 1116], [3237, 1174], [3237, 1189], [2951, 1321], [2937, 1189], [2937, 1116], [2937, 946], [2937, 931], [2937, 819], [2937, 776], [3108, 111], [3108, 29], [3108, 9], [3108, 73], [2207, 321], [2207, 123], [2207, 19], [2207, 97], [2399, 142], [2444, 142], [3125, 470], [3547, 412], [3525, 154], [3125, 154], [2903, 111], [2903, 29], [2903, 9], [2903, 73], [2723, 9], [2862, 8], [3188, 8], [3125, 389], [2479, 111], [2479, 9], [1901, 321], [2410, 287], [2311, 984], [2266, 984], [2830, 9], [2830, 29], [2830, 50], [2830, 111], [3125, 229], [3525, 229], [3657, 412], [3657, 650], [3712, 808], [3737, 808], [4380, 808], [4380, 673], [3821, 906], [3821, 1009], [3821, 1030], [3821, 1065], [3821, 1296], [3821, 1420], [3821, 1465], [3730, 1491], [3719, 1491], [3635, 1491], [3610, 1491], [3540, 1491], [3428, 1491], [3334, 1491], [3319, 1411], [3319, 1189], [3319, 1174], [3319, 1116], [3319, 1065], [3319, 973], [3319, 681], [3125, 593], [3125, 485], [3469, 650], [3469, 681], [3469, 973], [3469, 1065], [3456, 1104], [3011, 1104], [2951, 1104], [2744, 1104], [2704, 1104], [2654, 1101], [2654, 958], [2654, 946], [2573, 844], [2573, 946], [2573, 958], [2573, 1101], [2573, 1162], [2573, 1195], [2503, 1195], [2503, 1162], [2503, 1101], [2503, 958], [2503, 946], [2503, 844], [2503, 757], [2444, 296], [2399, 296], [1916, 97], [1724, 313], [1724, 592], [1783, 718], [2399, 718], [2402, 813], [2402, 844], [2445, 903], [2624, 903], [2744, 903], [2849, 903], [2853, 931], [2853, 946], [2853, 1101], [2853, 1189], [2853, 1411], [2801, 1636], [2708, 1636], [2704, 1636], [2465, 1636], [2354, 1636], [2155, 1636], [1951, 1362], [2155, 1362], [2171, 1466], [2155, 1715], [2127, 1466], [2155, 1257], [2354, 1257], [2686, 1195], [2686, 1189], [2686, 1162], [2686, 1101], [2686, 958], [2686, 946], [2686, 757], [2444, 531], [2399, 531], [1728, 224], [1679, 224], [962, 300], [962, 348], [956, 385], [847, 385], [761, 379], [690, 334], [607, 538], [689, 560], [689, 720], [822, 871], [847, 871], [956, 871], [969, 871], [994, 871], [1077, 871], [1286, 586], [1328, 586], [1328, 1261], [1328, 1283], [1390, 1524], [1394, 1261], [1459, 1212], [1466, 1212], [1500, 1212], [1676, 1212], [1730, 1212], [1812, 1212], [2101, 1654], [2101, 1751], [1864, 2143]]  "
   ]
  },
  {
   "cell_type": "markdown",
   "metadata": {},
   "source": [
    "A cablemap függvényt módosítom, hogy az összes megtett lépést is  hozzáadja  az eredménylista elemlistáihoz"
   ]
  },
  {
   "cell_type": "code",
   "execution_count": 14,
   "metadata": {},
   "outputs": [],
   "source": [
    "def cablemap_steps(list):\n",
    "    all_positions = [[0, 0, 0]]\n",
    "    last_position = {'row': 0, 'column': 0, 'steps': 0}\n",
    "    steps = 0\n",
    "    \n",
    "    for position in list:\n",
    "        \n",
    "        if position['position_direction'] == 'R':\n",
    "            for number in range(1, position['position_length'] + 1):\n",
    "                actual_position = [last_position['row'], last_position['column'] + number, last_position['steps'] + number]\n",
    "                all_positions.append(actual_position)\n",
    "            last_position = {'row': last_position['row'], 'column': last_position['column'] + position['position_length'], 'steps': last_position['steps'] + position['position_length']}\n",
    "        \n",
    "        if position['position_direction'] == 'L':\n",
    "            for number in range(1, position['position_length'] + 1):\n",
    "                actual_position = [last_position['row'], last_position['column'] - number, last_position['steps'] + number]\n",
    "                all_positions.append(actual_position)\n",
    "            last_position = {'row': last_position['row'], 'column': last_position['column'] - position['position_length'], 'steps': last_position['steps'] + position['position_length']}\n",
    "        \n",
    "        if position['position_direction'] == 'U':\n",
    "            for number in range(1, position['position_length'] + 1):\n",
    "                actual_position = [last_position['row'] + number, last_position['column'], last_position['steps'] + number]\n",
    "                all_positions.append(actual_position)\n",
    "            last_position = {'row': last_position['row'] + position['position_length'], 'column': last_position['column'], 'steps': last_position['steps'] + position['position_length'] }\n",
    "                \n",
    "        if position['position_direction'] == 'D':\n",
    "            for number in range(1, position['position_length'] + 1):\n",
    "                actual_position = [last_position['row'] - number, last_position['column'], last_position['steps'] + number]\n",
    "                all_positions.append(actual_position)\n",
    "            last_position = {'row': last_position['row'] - position['position_length'], 'column': last_position['column'], 'steps': last_position['steps'] + position['position_length'] }\n",
    "                \n",
    "    global list_all_positions \n",
    "    list_all_positions = all_positions    \n",
    "    return all_positions\n",
    "\n",
    "def split_characters(string):\n",
    "    list = []\n",
    "    for char in string:\n",
    "        list.append(char)\n",
    "    return list\n",
    "\n",
    "def input_to_map(list):\n",
    "    index = -1\n",
    "    for position in list:\n",
    "        index += 1\n",
    "        position_splitted = split_characters(position)\n",
    "        position_direction = position_splitted[0]\n",
    "        position_length = position_splitted[1]\n",
    "        for i in range(2,len(position_splitted)):\n",
    "            position_length += position_splitted[i] \n",
    "        position_length = int(position_length)\n",
    "        position = {'position_direction': position_direction, 'position_length': position_length}\n",
    "        list[index] = position"
   ]
  },
  {
   "cell_type": "markdown",
   "metadata": {},
   "source": [
    "Előző csillag adatainak beolvasása újra"
   ]
  },
  {
   "cell_type": "code",
   "execution_count": 88,
   "metadata": {},
   "outputs": [
    {
     "name": "stdout",
     "output_type": "stream",
     "text": [
      "300\n"
     ]
    }
   ],
   "source": [
    "cables = []\n",
    "\n",
    "list_of_cables = open(\"input_5th_star.txt\").read().split(\",\" or \"\\n\")\n",
    "\n",
    "print(list_of_cables.index('R976\\nL1005'))\n",
    "\n",
    "list_1stcable = list_of_cables[0:300]\n",
    "\n",
    "list_1stcable.append('R976')\n",
    "\n",
    "list_2ndcable = list_of_cables[300:(len(list_of_cables)-1)]\n",
    "\n",
    "list_2ndcable[0] = 'L1005'\n",
    "\n",
    "list_2ndcable.append('R41')\n",
    "\n",
    "list_all_positions = []"
   ]
  },
  {
   "cell_type": "markdown",
   "metadata": {},
   "source": [
    "Újra lefuttattam a régi **adatokkal** a régi függvényeket és a cablemap_steps függvényt"
   ]
  },
  {
   "cell_type": "code",
   "execution_count": 89,
   "metadata": {},
   "outputs": [],
   "source": [
    "##Input_to_map újra futtatva:\n",
    "\n",
    "input_to_map(list_1stcable)\n",
    "\n",
    "input_to_map(list_2ndcable)\n",
    "\n",
    "\n",
    "##cablemap_steps függvény, output lementése\n",
    "\n",
    "cablemap_steps(list_1stcable)\n",
    "\n",
    "all_positions_1stcable_steps = list_all_positions\n",
    "\n",
    "cablemap_steps(list_2ndcable)\n",
    "\n",
    "all_positions_2ndcable_steps = list_all_positions"
   ]
  },
  {
   "cell_type": "code",
   "execution_count": 84,
   "metadata": {},
   "outputs": [],
   "source": [
    "list_crosscuts_steps = []\n",
    "\n",
    "for position1 in all_positions_1stcable_steps:\n",
    "    for position2 in all_positions_2ndcable_steps:\n",
    "        if position1[0] == position2[0] and position1[1] == position2[1]:\n",
    "            crosscut = [position1[0], position1[1], position1[2] + position2[2]]\n",
    "            list_crosscuts_steps.append(crosscut)"
   ]
  },
  {
   "cell_type": "code",
   "execution_count": 86,
   "metadata": {},
   "outputs": [
    {
     "name": "stdout",
     "output_type": "stream",
     "text": [
      "[0, 16368, 16514, 17656, 18274, 26324, 26726, 28694, 29100, 31962, 32532, 34330, 34330, 41768, 41768, 44166, 46404, 47294, 54354, 54354, 54354, 55642, 55898, 58356, 61198, 72726, 74602, 79454, 79454, 80652, 81436, 94050, 94312, 97734, 97734, 104098, 107490, 108398, 110374, 111180, 111204, 111616, 111734, 112142, 112334, 112628, 113366, 113930, 113930, 116950, 118596, 119682, 119964, 120026, 121440, 121970, 124500, 126348, 127452, 128486, 128790, 128950, 129060, 130440, 130712, 130712, 130758, 130758, 130898, 131108, 131534, 131864, 131864, 132580, 133672, 135506, 135590, 135962, 136190, 136338, 136654, 137054, 137194, 137194, 137826, 138326, 138326, 139670, 140428, 140454, 140544, 140636, 140770, 140780, 140780, 140868, 141016, 141016, 141024, 141024, 141426, 141648, 141654, 141654, 141958, 142372, 142532, 142744, 143184, 143316, 143458, 143562, 143582, 143694, 143756, 143776, 144018, 144270, 144856, 144858, 145082, 145126, 145194, 145754, 145754, 145898, 145920, 146036, 146586, 146586, 146744, 146902, 147390, 147560, 147802, 148594, 148636, 148950, 149240, 149804, 149804, 151280, 151336, 151528, 151600, 151666, 151996, 152588, 152732, 152902, 153192, 153466, 153736, 153736, 153876, 155548, 157518, 157918, 166354, 166398, 172644, 174156, 176106, 176392, 176890, 178868, 179314, 179742, 179868, 180034, 180104, 180430, 180528, 180860, 181270, 181460, 182632, 182632, 182940, 182946, 182946, 183006, 183006, 183418, 183418, 183496, 183592, 184500, 184500, 184964, 185688, 185688, 186306, 187430, 187604, 188676, 188960, 189084, 189342, 189526, 189944, 190264, 190320, 190320, 190930, 191650, 191940, 192912, 199650, 199994, 200318, 201734, 203798, 204496, 204732, 206392, 206560, 207120, 207184, 207244, 207506, 207508, 207916, 207916, 208818, 208900, 208900, 209106, 209752, 210548, 210548, 210908, 210908, 210966, 211252, 211898, 211898, 212220, 212520, 212520, 212770, 212836, 214130, 218320, 218344, 218344, 218590, 218690, 218804, 219406, 233800, 235682, 242182, 242746, 246150, 246914, 253194, 253194, 254640, 255194, 255300, 256396, 256520, 262262, 263296]\n"
     ]
    }
   ],
   "source": [
    "combined_steps_list = []\n",
    "for i in list_crosscuts_steps:\n",
    "    combined_steps_list.append(i[2])\n",
    "    \n",
    "combined_steps_list.sort()\n",
    "\n",
    "print(combined_steps_list)"
   ]
  },
  {
   "cell_type": "markdown",
   "metadata": {},
   "source": [
    "6th star"
   ]
  },
  {
   "cell_type": "markdown",
   "metadata": {},
   "source": [
    "Első próbálkozás, vakvágány:"
   ]
  },
  {
   "cell_type": "code",
   "execution_count": 5,
   "metadata": {},
   "outputs": [],
   "source": [
    "input = [152085, 670283]\n",
    "\n",
    "def split_characters(string):\n",
    "    list = []\n",
    "    for char in string:\n",
    "        list.append(char)\n",
    "    return list\n",
    "\n",
    "def codehacking(int1, int2):\n",
    "    \n",
    "    number_of_passwords = 0\n",
    "    list_double_digit_numbers = []\n",
    "    \n",
    "    for number in range (int1, int2):\n",
    "        digit_list = []\n",
    "        for digit_str in str(number):\n",
    "            digit_list.append(int(digit_str))\n",
    "        for i in range(0,9):\n",
    "            digit_occasion = 0\n",
    "            for digit in digit_list:\n",
    "                if i == digit:\n",
    "                    digit_occasion += 1\n",
    "                if digit_occasion > 1 and number not in list_double_digit_numbers:\n",
    "                    list_double_digit_numbers.append(number)\n",
    "    \n",
    "    list_wrong_double_digit_numbers = []\n",
    "    \n",
    "    for double_digit_number in list_double_digit_numbers:\n",
    "        digit_list = []\n",
    "        for digit_str in str(double_digit_number):\n",
    "            digit_list.append(int(digit_str))\n",
    "        for index in range(0, 4):\n",
    "            if digit_list[index] < digit_list[index + 1]:     \n",
    "                list_wrong_double_digit_numbers.append(double_digit_number)\n",
    "                \n",
    "    list_good_double_digit_numbers = []\n",
    "                \n",
    "    for double_digit_number in list_double_digit_numbers:\n",
    "        if not double_digit_number in list_wrong_double_digit_numbers:\n",
    "            list_good_double_digit_numbers.append(double_digit_number)\n",
    "    \n",
    "    global list_of_passwords\n",
    "    list_of_passwords =  list_good_double_digit_numbers\n",
    "    \n",
    "    return(len(list_good_double_digit_numbers))       \n",
    "            \n",
    "            \n",
    "                \n",
    "        "
   ]
  },
  {
   "cell_type": "markdown",
   "metadata": {},
   "source": [
    "Második próbálkozás, még ebben is van valami bökkenő:"
   ]
  },
  {
   "cell_type": "code",
   "execution_count": 62,
   "metadata": {},
   "outputs": [],
   "source": [
    "input = [152085, 670283]\n",
    "\n",
    "152085-670283\n",
    "\n",
    "def codehacking(int1, int2):\n",
    "    global list_of_passwords\n",
    "    list_of_passwords = []\n",
    "    \n",
    "    for number in range (int1, int2):\n",
    "        digit_list = []\n",
    "        for digit_str in str(number):\n",
    "            digit_list.append(int(digit_str))\n",
    "        if not (digit_list[0] > digit_list[1] or digit_list[1] > digit_list[2] or digit_list[2] > digit_list[3] or digit_list[3] > digit_list[4] or digit_list[4] > digit_list[5]):\n",
    "            for i in range(0,10):\n",
    "                digit_occasion = 0\n",
    "                for digit in digit_list:\n",
    "                    if i == digit:\n",
    "                        digit_occasion += 1\n",
    "                        if digit_occasion > 1 and number not in list_of_passwords:\n",
    "                            list_of_passwords.append(number)\n",
    "    \n",
    "    return(len(list_of_passwords))\n",
    "       \n",
    "                \n",
    "        "
   ]
  },
  {
   "cell_type": "code",
   "execution_count": 63,
   "metadata": {},
   "outputs": [
    {
     "data": {
      "text/plain": [
       "1764"
      ]
     },
     "execution_count": 63,
     "metadata": {},
     "output_type": "execute_result"
    }
   ],
   "source": [
    "codehacking(input[0], input[1])"
   ]
  },
  {
   "cell_type": "code",
   "execution_count": 69,
   "metadata": {
    "scrolled": false
   },
   "outputs": [],
   "source": [
    "#print(list_of_passwords)"
   ]
  },
  {
   "cell_type": "markdown",
   "metadata": {},
   "source": [
    "8th star"
   ]
  },
  {
   "cell_type": "code",
   "execution_count": 67,
   "metadata": {},
   "outputs": [],
   "source": [
    "def codehacking_2(int1, int2):\n",
    "    global list_of_passwords\n",
    "    list_of_passwords = []\n",
    "    \n",
    "    for number in range (int1, int2):\n",
    "        digit_list = []\n",
    "        for digit_str in str(number):\n",
    "            digit_list.append(int(digit_str))\n",
    "        if not (digit_list[0] > digit_list[1] or digit_list[1] > digit_list[2] or digit_list[2] > digit_list[3] or digit_list[3] > digit_list[4] or digit_list[4] > digit_list[5]):\n",
    "            for i in range(0,10):\n",
    "                digit_occasion = 0\n",
    "                for digit in digit_list:\n",
    "                    if i == digit:\n",
    "                        digit_occasion += 1\n",
    "                if digit_occasion == 2 and number not in list_of_passwords:\n",
    "                    list_of_passwords.append(number)\n",
    "    \n",
    "    return(len(list_of_passwords))"
   ]
  },
  {
   "cell_type": "code",
   "execution_count": 68,
   "metadata": {},
   "outputs": [
    {
     "data": {
      "text/plain": [
       "1196"
      ]
     },
     "execution_count": 68,
     "metadata": {},
     "output_type": "execute_result"
    }
   ],
   "source": [
    "input = [152085, 670283]\n",
    "\n",
    "codehacking_2(input[0], input[1])"
   ]
  },
  {
   "cell_type": "markdown",
   "metadata": {},
   "source": [
    "9th star"
   ]
  },
  {
   "cell_type": "code",
   "execution_count": 66,
   "metadata": {},
   "outputs": [
    {
     "name": "stdout",
     "output_type": "stream",
     "text": [
      "[3, 225, 1, 225, 6, 6, 1100, 1, 238, 225, 104, 0, 2, 136, 183, 224, 101, -5304, 224, 224, 4, 224, 1002, 223, 8, 223, 1001, 224, 6, 224, 1, 224, 223, 223, 1101, 72, 47, 225, 1101, 59, 55, 225, 1101, 46, 75, 225, 1101, 49, 15, 224, 101, -64, 224, 224, 4, 224, 1002, 223, 8, 223, 1001, 224, 5, 224, 1, 224, 223, 223, 102, 9, 210, 224, 1001, 224, -270, 224, 4, 224, 1002, 223, 8, 223, 1001, 224, 2, 224, 1, 223, 224, 223, 101, 14, 35, 224, 101, -86, 224, 224, 4, 224, 1002, 223, 8, 223, 101, 4, 224, 224, 1, 224, 223, 223, 1102, 40, 74, 224, 1001, 224, -2960, 224, 4, 224, 1002, 223, 8, 223, 101, 5, 224, 224, 1, 224, 223, 223, 1101, 10, 78, 225, 1001, 39, 90, 224, 1001, 224, -149, 224, 4, 224, 102, 8, 223, 223, 1001, 224, 4, 224, 1, 223, 224, 223, 1002, 217, 50, 224, 1001, 224, -1650, 224, 4, 224, 1002, 223, 8, 223, 1001, 224, 7, 224, 1, 224, 223, 223, 1102, 68, 8, 225, 1, 43, 214, 224, 1001, 224, -126, 224, 4, 224, 102, 8, 223, 223, 101, 3, 224, 224, 1, 224, 223, 223, 1102, 88, 30, 225, 1102, 18, 80, 225, 1102, 33, 28, 225, 4, 223, 99, 0, 0, 0, 677, 0, 0, 0, 0, 0, 0, 0, 0, 0, 0, 0, 1105, 0, 99999, 1105, 227, 247, 1105, 1, 99999, 1005, 227, 99999, 1005, 0, 256, 1105, 1, 99999, 1106, 227, 99999, 1106, 0, 265, 1105, 1, 99999, 1006, 0, 99999, 1006, 227, 274, 1105, 1, 99999, 1105, 1, 280, 1105, 1, 99999, 1, 225, 225, 225, 1101, 294, 0, 0, 105, 1, 0, 1105, 1, 99999, 1106, 0, 300, 1105, 1, 99999, 1, 225, 225, 225, 1101, 314, 0, 0, 106, 0, 0, 1105, 1, 99999, 108, 677, 677, 224, 102, 2, 223, 223, 1005, 224, 329, 1001, 223, 1, 223, 1107, 677, 226, 224, 102, 2, 223, 223, 1006, 224, 344, 1001, 223, 1, 223, 108, 226, 226, 224, 102, 2, 223, 223, 1005, 224, 359, 1001, 223, 1, 223, 1108, 677, 226, 224, 102, 2, 223, 223, 1006, 224, 374, 101, 1, 223, 223, 108, 677, 226, 224, 102, 2, 223, 223, 1006, 224, 389, 1001, 223, 1, 223, 107, 226, 226, 224, 102, 2, 223, 223, 1005, 224, 404, 1001, 223, 1, 223, 8, 226, 226, 224, 102, 2, 223, 223, 1006, 224, 419, 101, 1, 223, 223, 1107, 677, 677, 224, 102, 2, 223, 223, 1006, 224, 434, 1001, 223, 1, 223, 1107, 226, 677, 224, 1002, 223, 2, 223, 1006, 224, 449, 101, 1, 223, 223, 7, 677, 677, 224, 1002, 223, 2, 223, 1006, 224, 464, 1001, 223, 1, 223, 1108, 226, 677, 224, 1002, 223, 2, 223, 1005, 224, 479, 1001, 223, 1, 223, 8, 677, 226, 224, 1002, 223, 2, 223, 1005, 224, 494, 101, 1, 223, 223, 7, 226, 677, 224, 102, 2, 223, 223, 1005, 224, 509, 101, 1, 223, 223, 1008, 677, 226, 224, 102, 2, 223, 223, 1006, 224, 524, 101, 1, 223, 223, 8, 226, 677, 224, 1002, 223, 2, 223, 1006, 224, 539, 1001, 223, 1, 223, 1007, 677, 677, 224, 102, 2, 223, 223, 1005, 224, 554, 101, 1, 223, 223, 107, 226, 677, 224, 1002, 223, 2, 223, 1005, 224, 569, 1001, 223, 1, 223, 1108, 677, 677, 224, 1002, 223, 2, 223, 1006, 224, 584, 1001, 223, 1, 223, 1008, 226, 226, 224, 1002, 223, 2, 223, 1005, 224, 599, 101, 1, 223, 223, 1008, 677, 677, 224, 102, 2, 223, 223, 1005, 224, 614, 101, 1, 223, 223, 7, 677, 226, 224, 1002, 223, 2, 223, 1005, 224, 629, 1001, 223, 1, 223, 107, 677, 677, 224, 1002, 223, 2, 223, 1006, 224, 644, 101, 1, 223, 223, 1007, 226, 677, 224, 1002, 223, 2, 223, 1005, 224, 659, 1001, 223, 1, 223, 1007, 226, 226, 224, 102, 2, 223, 223, 1005, 224, 674, 101, 1, 223, 223, 4, 223, 99, 226]\n"
     ]
    }
   ],
   "source": [
    "list_TEST_program = []\n",
    "\n",
    "list_TEST_program = open(\"input_9th_star.txt\").read().split(\",\")\n",
    "\n",
    "index = -1\n",
    "\n",
    "for number in list_TEST_program:\n",
    "    index += 1\n",
    "    list_TEST_program[index] = int(number)\n",
    "\n",
    "list_TEST_program[(len(list_TEST_program)) - 1] = 226\n",
    "\n",
    "print (list_TEST_program)"
   ]
  },
  {
   "cell_type": "code",
   "execution_count": 55,
   "metadata": {},
   "outputs": [],
   "source": [
    "def testprogram(list):\n",
    "    index = -1\n",
    "    opcode_index = 0\n",
    "    global output_list\n",
    "    output_list = []\n",
    "    instruction_written_parameters_list = []\n",
    "    for number in list:\n",
    "        instruction_written_parameters_list.append(0)\n",
    "    for number in list:\n",
    "        index += 1\n",
    "        if index == opcode_index:\n",
    "            digit_list = []\n",
    "            for digit_str in str(number):\n",
    "                digit_list.append(int(digit_str))    \n",
    "            if len(digit_list) > 1:\n",
    "                last2digit = int ( digit_list[len(digit_list) - 2] + digit_list[len(digit_list) - 1] )\n",
    "            if len(digit_list) == 1:\n",
    "                last2digit = number\n",
    "            parametermode_list = []\n",
    "            \n",
    "            if len(digit_list) == 5:\n",
    "                if instruction_written_parameters_list[index + 1] == 1:\n",
    "                    parametermode_list.append(0)\n",
    "                else:\n",
    "                    parametermode_list.append(digit_list[2])\n",
    "                if last2digit != 3 and last2digit != 4:\n",
    "                    if instruction_written_parameters_list[index + 2] == 1:\n",
    "                        parametermode_list.append(0)\n",
    "                    else:\n",
    "                        parametermode_list.append(digit_list[1])\n",
    "                    if instruction_written_parameters_list[index + 3] == 1:\n",
    "                        parametermode_list.append(0)    \n",
    "                    else:\n",
    "                        parametermode_list.append(digit_list[0])\n",
    "                    \n",
    "            if len(digit_list) == 4:\n",
    "                if instruction_written_parameters_list[index + 1] == 1:\n",
    "                    parametermode_list.append(0)\n",
    "                else:\n",
    "                    parametermode_list.append(digit_list[1])\n",
    "                if last2digit != 3 and last2digit != 4:\n",
    "                    if instruction_written_parameters_list[index + 2] == 1:\n",
    "                        parametermode_list.append(0)\n",
    "                    else:\n",
    "                        parametermode_list.append(digit_list[0])\n",
    "                    parametermode_list.append(0)\n",
    "                \n",
    "            if len(digit_list) == 3:\n",
    "                if instruction_written_parameters_list[index + 1] == 1:\n",
    "                    parametermode_list.append(0)\n",
    "                else:\n",
    "                    parametermode_list.append(digit_list[0])\n",
    "                if last2digit != 3 and last2digit != 4:\n",
    "                    parametermode_list.append(0)\n",
    "                    parametermode_list.append(0)\n",
    "                    \n",
    "            if len(digit_list) < 3:\n",
    "                parametermode_list.append(0)\n",
    "                if last2digit != 3 and last2digit != 4:\n",
    "                    parametermode_list.append(0)\n",
    "                    parametermode_list.append(0)\n",
    "                \n",
    "            if last2digit == 3:\n",
    "                if parametermode_list[0] == 0:\n",
    "                    list[int(list[index + 1])] = int(input())\n",
    "                if parametermode_list[0] == 1:\n",
    "                    list[index + 1] = int(input())\n",
    "                opcode_index += 2\n",
    "                instruction_written_parameters_list[int(list[index + 1])] = 1\n",
    "            if last2digit == 4:\n",
    "                if parametermode_list[0] == 0:\n",
    "                    output_list.append(int(list[int(list[index + 1])]))\n",
    "                if parametermode_list[0] == 1:\n",
    "                    output_list.append(list[index + 1])\n",
    "                opcode_index += 2\n",
    "            if last2digit == 1:\n",
    "                if parametermode_list[0] == 0:\n",
    "                    firstparameter = int(list[int(list[index + 1])])\n",
    "                if parametermode_list[0] == 1:\n",
    "                    firstparameter = int(list[index + 1])\n",
    "                if parametermode_list[1] == 0:\n",
    "                    secondparameter = int(list[int(list[index + 2])])\n",
    "                if parametermode_list[1] == 1:\n",
    "                    secondparameter = int(list[index + 2])\n",
    "                if parametermode_list[2] == 0:\n",
    "                    list[int(list[index + 3])] = firstparameter + secondparameter\n",
    "                    instruction_written_parameters_list[int(list[index + 3])] = 1\n",
    "                if parametermode_list[2] == 1:\n",
    "                    instruction_written_parameters_list[index + 3] = firstparameter + secondparameter\n",
    "                    instruction_written_parameters_list[index + 3] = 1\n",
    "                opcode_index += 4\n",
    "            if last2digit == 2:\n",
    "                if parametermode_list[0] == 0:\n",
    "                    firstparameter = int(list[int(list[index + 1])])\n",
    "                if parametermode_list[0] == 1:\n",
    "                    firstparameter = int(list[index + 1])\n",
    "                if parametermode_list[1] == 0:\n",
    "                    secondparameter = int(list[int(list[index + 2])])\n",
    "                if parametermode_list[1] == 1:\n",
    "                    secondparameter = int(list[index + 2])\n",
    "                if parametermode_list[2] == 0:\n",
    "                    list[int(list[index + 3])] = firstparameter * secondparameter\n",
    "                    instruction_written_parameters_list[int(list[index + 3])] = 1\n",
    "                if parametermode_list[2] == 1:\n",
    "                    instruction_written_parameters_list[index + 3] = firstparameter * secondparameter\n",
    "                    instruction_written_parameters_list[index + 3] = 1\n",
    "                opcode_index += 4\n",
    "            if last2digit == 99:\n",
    "                return (output_list)\n",
    "                break\n",
    "            "
   ]
  },
  {
   "cell_type": "code",
   "execution_count": 56,
   "metadata": {},
   "outputs": [
    {
     "name": "stdout",
     "output_type": "stream",
     "text": [
      "1\n",
      "[0, 0, 0, 0, 0, 0, 0, 0, 0, 13978427]\n"
     ]
    }
   ],
   "source": [
    "testprogram(list_TEST_program)\n",
    "\n",
    "print(output_list)"
   ]
  },
  {
   "cell_type": "markdown",
   "metadata": {},
   "source": [
    "10th star"
   ]
  },
  {
   "cell_type": "code",
   "execution_count": 67,
   "metadata": {},
   "outputs": [],
   "source": [
    "def testprogram2(list):\n",
    "    index = -1\n",
    "    opcode_index = 0\n",
    "    global output_list\n",
    "    output_list = []\n",
    "    instruction_written_parameters_list = []\n",
    "    for number in list:\n",
    "        instruction_written_parameters_list.append(0)\n",
    "    for number in list:\n",
    "        index += 1\n",
    "        if index == opcode_index:\n",
    "            digit_list = []\n",
    "            for digit_str in str(number):\n",
    "                digit_list.append(int(digit_str))    \n",
    "            if len(digit_list) > 1:\n",
    "                last2digit = int ( digit_list[len(digit_list) - 2] + digit_list[len(digit_list) - 1] )\n",
    "            if len(digit_list) == 1:\n",
    "                last2digit = number\n",
    "            parametermode_list = []\n",
    "            \n",
    "            if len(digit_list) == 5:\n",
    "                if instruction_written_parameters_list[index + 1] == 1:\n",
    "                    parametermode_list.append(0)\n",
    "                else:\n",
    "                    parametermode_list.append(digit_list[2])\n",
    "                if last2digit != 3 and last2digit != 4:\n",
    "                    if instruction_written_parameters_list[index + 2] == 1:\n",
    "                        parametermode_list.append(0)\n",
    "                    else:\n",
    "                        parametermode_list.append(digit_list[1])\n",
    "                    if instruction_written_parameters_list[index + 3] == 1:\n",
    "                        parametermode_list.append(0)    \n",
    "                    else:\n",
    "                        parametermode_list.append(digit_list[0])\n",
    "                    \n",
    "            if len(digit_list) == 4:\n",
    "                if instruction_written_parameters_list[index + 1] == 1:\n",
    "                    parametermode_list.append(0)\n",
    "                else:\n",
    "                    parametermode_list.append(digit_list[1])\n",
    "                if last2digit != 3 and last2digit != 4:\n",
    "                    if instruction_written_parameters_list[index + 2] == 1:\n",
    "                        parametermode_list.append(0)\n",
    "                    else:\n",
    "                        parametermode_list.append(digit_list[0])\n",
    "                    parametermode_list.append(0)\n",
    "                \n",
    "            if len(digit_list) == 3:\n",
    "                if instruction_written_parameters_list[index + 1] == 1:\n",
    "                    parametermode_list.append(0)\n",
    "                else:\n",
    "                    parametermode_list.append(digit_list[0])\n",
    "                if last2digit != 3 and last2digit != 4:\n",
    "                    parametermode_list.append(0)\n",
    "                    parametermode_list.append(0)\n",
    "                    \n",
    "            if len(digit_list) < 3:\n",
    "                parametermode_list.append(0)\n",
    "                if last2digit != 3 and last2digit != 4:\n",
    "                    parametermode_list.append(0)\n",
    "                    parametermode_list.append(0)\n",
    "            \n",
    "            if last2digit == 3:\n",
    "                if parametermode_list[0] == 0:\n",
    "                    list[int(list[index + 1])] = int(input())\n",
    "                if parametermode_list[0] == 1:\n",
    "                    list[index + 1] = int(input())\n",
    "                opcode_index += 2\n",
    "                instruction_written_parameters_list[int(list[index + 1])] = 1\n",
    "            if last2digit == 4:\n",
    "                if parametermode_list[0] == 0:\n",
    "                    output_list.append(int(list[int(list[index + 1])]))\n",
    "                if parametermode_list[0] == 1:\n",
    "                    output_list.append(list[index + 1])\n",
    "                opcode_index += 2\n",
    "            if last2digit == 1:\n",
    "                if parametermode_list[0] == 0:\n",
    "                    firstparameter = int(list[int(list[index + 1])])\n",
    "                if parametermode_list[0] == 1:\n",
    "                    firstparameter = int(list[index + 1])\n",
    "                if parametermode_list[1] == 0:\n",
    "                    secondparameter = int(list[int(list[index + 2])])\n",
    "                if parametermode_list[1] == 1:\n",
    "                    secondparameter = int(list[index + 2])\n",
    "                if parametermode_list[2] == 0:\n",
    "                    list[int(list[index + 3])] = firstparameter + secondparameter\n",
    "                    instruction_written_parameters_list[int(list[index + 3])] = 1\n",
    "                if parametermode_list[2] == 1:\n",
    "                    instruction_written_parameters_list[index + 3] = firstparameter + secondparameter\n",
    "                    instruction_written_parameters_list[index + 3] = 1\n",
    "                opcode_index += 4\n",
    "            if last2digit == 2:\n",
    "                if parametermode_list[0] == 0:\n",
    "                    firstparameter = int(list[int(list[index + 1])])\n",
    "                if parametermode_list[0] == 1:\n",
    "                    firstparameter = int(list[index + 1])\n",
    "                if parametermode_list[1] == 0:\n",
    "                    secondparameter = int(list[int(list[index + 2])])\n",
    "                if parametermode_list[1] == 1:\n",
    "                    secondparameter = int(list[index + 2])\n",
    "                if parametermode_list[2] == 0:\n",
    "                    list[int(list[index + 3])] = firstparameter * secondparameter\n",
    "                    instruction_written_parameters_list[int(list[index + 3])] = 1\n",
    "                if parametermode_list[2] == 1:\n",
    "                    instruction_written_parameters_list[index + 3] = firstparameter * secondparameter\n",
    "                    instruction_written_parameters_list[index + 3] = 1\n",
    "                opcode_index += 4\n",
    "                \n",
    "            if last2digit == 5:\n",
    "                if parametermode_list[0] == 0:\n",
    "                    firstparameter = (list[(list[index + 1])])\n",
    "                if parametermode_list[0] == 1:\n",
    "                    firstparameter = (list[index + 1])\n",
    "                if parametermode_list[1] == 0:\n",
    "                    secondparameter = (list[(list[index + 2])])\n",
    "                if parametermode_list[1] == 1:\n",
    "                    secondparameter = (list[index + 2])\n",
    "                \n",
    "                \n",
    "                if firstparameter != 0:\n",
    "                    opcode_index = secondparameter\n",
    "                else:\n",
    "                    opcode_index += 3\n",
    "                    \n",
    "            if last2digit == 6:\n",
    "                if parametermode_list[0] == 0:\n",
    "                    firstparameter = (list[(list[index + 1])])\n",
    "                if parametermode_list[0] == 1:\n",
    "                    firstparameter = (list[index + 1])\n",
    "                if parametermode_list[1] == 0:\n",
    "                    secondparameter = (list[(list[index + 2])])\n",
    "                if parametermode_list[1] == 1:\n",
    "                    secondparameter = (list[index + 2])\n",
    "                \n",
    "                \n",
    "                if firstparameter == 0:\n",
    "                    opcode_index = secondparameter\n",
    "                else:\n",
    "                    opcode_index += 3\n",
    "                    \n",
    "            if last2digit == 7:\n",
    "                if parametermode_list[0] == 0:\n",
    "                    firstparameter = (list[(list[index + 1])])\n",
    "                if parametermode_list[0] == 1:\n",
    "                    firstparameter = (list[index + 1])\n",
    "                if parametermode_list[1] == 0:\n",
    "                    secondparameter = (list[(list[index + 2])])\n",
    "                if parametermode_list[1] == 1:\n",
    "                    secondparameter = (list[index + 2])\n",
    "                \n",
    "                if parametermode_list[2] == 0:\n",
    "                    if firstparameter < secondparameter:\n",
    "                        list[list[index + 3]] = 1\n",
    "                    else:\n",
    "                        list[list[index + 3]] = 0\n",
    "                if parametermode_list[0] == 1:\n",
    "                    if firstparameter < secondparameter:\n",
    "                        list[index + 3] = 1\n",
    "                    else:\n",
    "                        list[index + 3] = 0\n",
    "                opcode_index += 4\n",
    "                \n",
    "            if last2digit == 8:\n",
    "                if parametermode_list[0] == 0:\n",
    "                    firstparameter = (list[(list[index + 1])])\n",
    "                if parametermode_list[0] == 1:\n",
    "                    firstparameter = (list[index + 1])\n",
    "                if parametermode_list[1] == 0:\n",
    "                    secondparameter = (list[(list[index + 2])])\n",
    "                if parametermode_list[1] == 1:\n",
    "                    secondparameter = (list[index + 2])\n",
    "                \n",
    "                if parametermode_list[2] == 0:\n",
    "                    if firstparameter == secondparameter:\n",
    "                        list[list[index + 3]] = 1\n",
    "                    else:\n",
    "                        list[list[index + 3]] = 0\n",
    "                if parametermode_list[0] == 1:\n",
    "                    if firstparameter == secondparameter:\n",
    "                        list[index + 3] = 1\n",
    "                    else:\n",
    "                        list[index + 3] = 0\n",
    "                opcode_index += 4\n",
    "                \n",
    "                \n",
    "            if last2digit == 99:\n",
    "                return (output_list)\n",
    "                break\n",
    "            "
   ]
  },
  {
   "cell_type": "code",
   "execution_count": 68,
   "metadata": {},
   "outputs": [
    {
     "name": "stdout",
     "output_type": "stream",
     "text": [
      "5\n",
      "[11189491]\n"
     ]
    }
   ],
   "source": [
    "testprogram2(list_TEST_program)\n",
    "\n",
    "print(output_list)"
   ]
  }
 ],
 "metadata": {
  "kernelspec": {
   "display_name": "Python 3",
   "language": "python",
   "name": "python3"
  },
  "language_info": {
   "codemirror_mode": {
    "name": "ipython",
    "version": 3
   },
   "file_extension": ".py",
   "mimetype": "text/x-python",
   "name": "python",
   "nbconvert_exporter": "python",
   "pygments_lexer": "ipython3",
   "version": "3.7.4"
  }
 },
 "nbformat": 4,
 "nbformat_minor": 2
}
