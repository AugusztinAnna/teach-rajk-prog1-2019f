{
 "cells": [
  {
   "cell_type": "markdown",
   "metadata": {},
   "source": [
    "# Szükséges packagek"
   ]
  },
  {
   "cell_type": "code",
   "execution_count": 1,
   "metadata": {},
   "outputs": [],
   "source": [
    "import json\n",
    "import tweepy\n",
    "import csv\n",
    "\n",
    "import time\n",
    "import datetime\n",
    "\n",
    "import requests\n",
    "from bs4 import BeautifulSoup\n",
    "\n",
    "import smtplib, ssl\n",
    "from email.mime.text import MIMEText\n",
    "from email.mime.multipart import MIMEMultipart\n",
    "\n",
    "from IPython.core.display import display, HTML"
   ]
  },
  {
   "cell_type": "markdown",
   "metadata": {},
   "source": [
    "# Függvények"
   ]
  },
  {
   "cell_type": "code",
   "execution_count": 2,
   "metadata": {},
   "outputs": [],
   "source": [
    "def Twitter_scrapelés(keyword_1, keyword_2, maximum_number_of_tweets_to_be_extracted, api):\n",
    "    \n",
    "    #Twitter key-ek lementése:\n",
    "    \n",
    "    consumer_key = api[\"api key\"]\n",
    "    consumer_secret = api[\"api secret\"]\n",
    "    access_key = api[\"access token key\"]\n",
    "    access_secret = api[\"access token secret\"]\n",
    "\n",
    "    # API endpoint\n",
    "\n",
    "    auth = tweepy.OAuthHandler(consumer_key, consumer_secret)\n",
    "    api = tweepy.API(auth)\n",
    "\n",
    "    #Scrapelés\n",
    "\n",
    "    list_tweets_html = []\n",
    "    for tweet in tweepy.Cursor(api.search, q= keyword_1 + \" \" + keyword_2, rpp=100).items(maximum_number_of_tweets_to_be_extracted):\n",
    "        url = \"http://twitter.com/{}/status/{}\".format(tweet.user.screen_name,tweet.id)\n",
    "        resp = requests.get(\"https://publish.twitter.com/oembed\",\n",
    "                            params={\"url\":url})    \n",
    "        html_source = json.loads(resp.content)['html']\n",
    "        list_tweets_html.append(html_source)    \n",
    "    \n",
    "    #üzenet összerakása\n",
    "    global message_text\n",
    "    message_text = \"\"\"<html>\n",
    "      <body>\n",
    "        <p>Hello,<br>\n",
    "           Ez itt egy próba email.<br>\n",
    "           Ezeket a Tweeteket scrapeltük le a megadott hashtag alapján.\"\"\"\n",
    "\n",
    "    for tweet in list_tweets_html:\n",
    "        message_text = message_text + \"\\n\" + \"\\n\"\n",
    "        message_text = message_text + tweet + \"\\n\"\n",
    "\n",
    "    ending = \"\"\"   </p>\n",
    "      </body>\n",
    "    </html>\"\"\" \n",
    "    \n",
    "    message_text += ending"
   ]
  },
  {
   "cell_type": "code",
   "execution_count": 19,
   "metadata": {},
   "outputs": [],
   "source": [
    "def email_küldés(receiver_email, sender_email, keyword_1, keyword_2, message_text, password, date):\n",
    "\n",
    "    message = MIMEMultipart(\"alternative\")\n",
    "    message[\"Subject\"] = \"Heti Scholarship Tweetek: \" + keyword_1 + \" és \" + keyword_2 + \" kulcsszavakról\" + \" \" + date\n",
    "    message[\"From\"] = sender_email\n",
    "    message[\"To\"] = receiver_email\n",
    "\n",
    "\n",
    "    html = message_text\n",
    "    message_content = MIMEText(html, \"html\")\n",
    "    message.attach(message_content)\n",
    "\n",
    "    context = ssl.create_default_context()\n",
    "    with smtplib.SMTP_SSL(\"smtp.gmail.com\", 465, context=context) as server:\n",
    "        server.login(sender_email, password)\n",
    "        server.sendmail(\n",
    "            sender_email, receiver_email, message.as_string()\n",
    "        )"
   ]
  },
  {
   "cell_type": "markdown",
   "metadata": {},
   "source": [
    "# API kódok & engedélyek"
   ]
  },
  {
   "cell_type": "code",
   "execution_count": 4,
   "metadata": {},
   "outputs": [
    {
     "name": "stdout",
     "output_type": "stream",
     "text": [
      "{'api key': 'Ipm8hm7eTxjxuoRELDoULBnS1', 'api secret': 'enmMreaDHqHyJEzlsF94cbJ1ErKejfkiRxlUAmnp4dy0cn0Nn0', 'access token key': '3290381358-kzXn7bF9DpGB7397SxQbFRCEtQ0rPtbgaDPAVOl', 'access token secret': 'uKmJlCASied6M08UgAa4hGBHFSKLvTM4sRDlIkqPFz2jr'}\n"
     ]
    }
   ],
   "source": [
    "api_key = \"Ipm8hm7eTxjxuoRELDoULBnS1\"\n",
    "api_secret = \"enmMreaDHqHyJEzlsF94cbJ1ErKejfkiRxlUAmnp4dy0cn0Nn0\"\n",
    "access_token_key = \"3290381358-kzXn7bF9DpGB7397SxQbFRCEtQ0rPtbgaDPAVOl\"\n",
    "access_token_secret = \"uKmJlCASied6M08UgAa4hGBHFSKLvTM4sRDlIkqPFz2jr\"\n",
    "\n",
    "api_dict = {\"api key\": api_key, \"api secret\": api_secret, \"access token key\": access_token_key, \"access token secret\": access_token_secret}\n",
    "print(api_dict)"
   ]
  },
  {
   "cell_type": "markdown",
   "metadata": {},
   "source": [
    "# Írd be a szavakat, amik szerint szeretnél scrapelni"
   ]
  },
  {
   "cell_type": "code",
   "execution_count": 5,
   "metadata": {},
   "outputs": [
    {
     "name": "stdout",
     "output_type": "stream",
     "text": [
      "legyen benne a scrapelt mailekben ez a kulcsszó: kitten\n",
      "és ez a kulcsszó is: star\n",
      "ennyi tweetet scrapeljünk: 10\n",
      "jelszó (küldő email)stratkom2019\n"
     ]
    }
   ],
   "source": [
    "első_kulcsszó = input('legyen benne a scrapelt mailekben ez a kulcsszó: ')\n",
    "második_kulcsszó = input('és ez a kulcsszó is: ')\n",
    "max_tweetek = int(input('ennyi tweetet scrapeljünk: '))\n",
    "password = input('jelszó (küldő email)')\n",
    "\n",
    "üzenet = \"\""
   ]
  },
  {
   "cell_type": "markdown",
   "metadata": {},
   "source": [
    "# Próba scrapelés"
   ]
  },
  {
   "cell_type": "markdown",
   "metadata": {},
   "source": [
    "date_long = (str(datetime.datetime.now()))\n",
    "\n",
    "date = date_long[:16]\n",
    "\n",
    "Twitter_scrapelés(első_kulcsszó, második_kulcsszó, max_tweetek, api_dict) \n",
    "\n",
    "email_küldés(\"szaszi.aron@gmail.com\", \"rajkstratkom@gmail.com\", első_kulcsszó, második_kulcsszó, message_text, password, date)\n",
    "\n",
    "last_done = datetime.datetime.now() \n",
    "while True:\n",
    "    if last_done < (datetime.datetime.now() - datetime.timedelta(seconds=120)):\n",
    "        pass\n",
    "        date_long = (str(datetime.datetime.now()))\n",
    "        date = date_long[:16]\n",
    "        Twitter_scrapelés(első_kulcsszó, második_kulcsszó, max_tweetek, api_dict)\n",
    "        email_küldés(\"szaszi.aron@gmail.com\", \"rajkstratkom@gmail.com\", első_kulcsszó, második_kulcsszó, message_text, password, date)\n",
    "        last_done = datetime.datetime.now()\n",
    "\n",
    "    time.sleep(30)"
   ]
  },
  {
   "cell_type": "markdown",
   "metadata": {},
   "source": [
    "# Heti scrapelés"
   ]
  },
  {
   "cell_type": "code",
   "execution_count": null,
   "metadata": {},
   "outputs": [],
   "source": [
    "date_long = (str(datetime.datetime.now()))\n",
    "\n",
    "date = date_long[:10]\n",
    "\n",
    "Twitter_scrapelés(első_kulcsszó, második_kulcsszó, max_tweetek, api_dict) \n",
    "\n",
    "email_küldés(\"szaszi.aron@gmail.com\", \"rajkstratkom@gmail.com\", első_kulcsszó, második_kulcsszó, message_text, password, date)\n",
    "\n",
    "last_done = datetime.datetime.now() \n",
    "while True:\n",
    "    if last_done < (datetime.datetime.now() - datetime.timedelta(seconds=604800)):\n",
    "        pass\n",
    "        date_long = (str(datetime.datetime.now()))\n",
    "        date = date_long[:10]\n",
    "        Twitter_scrapelés(első_kulcsszó, második_kulcsszó, max_tweetek, api_dict)\n",
    "        email_küldés(\"szaszi.aron@gmail.com\", \"rajkstratkom@gmail.com\", első_kulcsszó, második_kulcsszó, message_text, password, date)\n",
    "        last_done = datetime.datetime.now()\n",
    "\n",
    "    time.sleep(3660)"
   ]
  }
 ],
 "metadata": {
  "kernelspec": {
   "display_name": "Python 3",
   "language": "python",
   "name": "python3"
  },
  "language_info": {
   "codemirror_mode": {
    "name": "ipython",
    "version": 3
   },
   "file_extension": ".py",
   "mimetype": "text/x-python",
   "name": "python",
   "nbconvert_exporter": "python",
   "pygments_lexer": "ipython3",
   "version": "3.7.4"
  }
 },
 "nbformat": 4,
 "nbformat_minor": 2
}
