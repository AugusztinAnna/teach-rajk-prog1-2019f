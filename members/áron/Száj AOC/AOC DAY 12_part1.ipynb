{
 "cells": [
  {
   "cell_type": "markdown",
   "metadata": {},
   "source": [
    "# Day 12, part I"
   ]
  },
  {
   "cell_type": "code",
   "execution_count": 1,
   "metadata": {},
   "outputs": [
    {
     "name": "stdout",
     "output_type": "stream",
     "text": [
      "['<x=-3, y=15, z=-11>', '<x=3, y=13, z=-19>', '<x=-13, y=18, z=-2>', '<x=6, y=0, z=-1>', '']\n"
     ]
    }
   ],
   "source": [
    "input = open(\"input_12th day.txt\").read().split('\\n')\n",
    "\n",
    "print(input)\n",
    "\n",
    "#first is always position, second is velocity\n",
    "position_0 = [{\"x\": -3, \"y\": 15, \"z\":  -11}, {\"x\": 3, \"y\": 13, \"z\": -19}, {\"x\": -13, \"y\": 18, \"z\": -2}, {\"x\": 6, \"y\": 0, \"z\": -1}]\n",
    "velocity_0 = [{\"x\": 0, \"y\": 0, \"z\": 0}, {\"x\": 0, \"y\": 0, \"z\": 0}, {\"x\": 0, \"y\": 0, \"z\": 0}, {\"x\": 0, \"y\": 0, \"z\": 0}]\n",
    "\n",
    "list_pos_vel = []\n",
    "list_pos_vel.append([position_0, velocity_0])\n",
    "\n",
    "#for time in range(0, 1000):\n",
    "\n",
    "\n",
    "                        \n",
    "\n"
   ]
  },
  {
   "cell_type": "code",
   "execution_count": 1,
   "metadata": {},
   "outputs": [],
   "source": [
    "def change(position, velocity):\n",
    "    moon_index = -1\n",
    "    for moon1 in position:\n",
    "        moon_index += 1 \n",
    "        moon_vel_copy = velocity[moon_index].copy()\n",
    "        for key in moon1.keys():\n",
    "            vel_change_counter = 0\n",
    "            for moon2 in position:\n",
    "                if moon1 != moon2:\n",
    "                    if moon1[key] < moon2[key]:\n",
    "                        vel_change_counter += 1\n",
    "                    if moon1[key] > moon2[key]:\n",
    "                        vel_change_counter -= 1\n",
    "            \n",
    "            moon_vel_copy[key] += vel_change_counter\n",
    "        velocity[moon_index] = moon_vel_copy\n",
    "            \n",
    "    moon_index = -1\n",
    "    for moon in position:\n",
    "        moon_index += 1\n",
    "        moon_position_copy = position[moon_index].copy()\n",
    "        moon_vel_copy = velocity[moon_index].copy()\n",
    "        for key2 in moon.keys():\n",
    "            gravity = moon_vel_copy[key2]\n",
    "            moon_position_copy[key2] += gravity\n",
    "        position[moon_index] = moon_position_copy"
   ]
  },
  {
   "cell_type": "code",
   "execution_count": null,
   "metadata": {},
   "outputs": [],
   "source": [
    "<x=-1, y=0, z=2>\n",
    "<x=2, y=-10, z=-7>\n",
    "<x=4, y=-8, z=8>\n",
    "<x=3, y=5, z=-1>"
   ]
  },
  {
   "cell_type": "code",
   "execution_count": 47,
   "metadata": {},
   "outputs": [
    {
     "name": "stdout",
     "output_type": "stream",
     "text": [
      "positions\n",
      "{'x': -1, 'y': 0, 'z': 2}\n",
      "{'x': 2, 'y': -10, 'z': -7}\n",
      "{'x': 4, 'y': -8, 'z': 8}\n",
      "{'x': 3, 'y': 5, 'z': -1}\n",
      "velocity\n",
      "{'x': 0, 'y': 0, 'z': 0}\n",
      "{'x': 0, 'y': 0, 'z': 0}\n",
      "{'x': 0, 'y': 0, 'z': 0}\n",
      "{'x': 0, 'y': 0, 'z': 0}\n",
      "{'x': 3, 'y': -1, 'z': -1}\n",
      "{'x': 1, 'y': 3, 'z': 3}\n",
      "{'x': -3, 'y': 1, 'z': -3}\n",
      "{'x': -1, 'y': -3, 'z': 1}\n",
      "positions\n",
      "{'x': 2, 'y': -1, 'z': 1}\n",
      "{'x': 3, 'y': -7, 'z': -4}\n",
      "{'x': 1, 'y': -7, 'z': 5}\n",
      "{'x': 2, 'y': 2, 'z': 0}\n",
      "velocity\n",
      "{'x': 3, 'y': -1, 'z': -1}\n",
      "{'x': 1, 'y': 3, 'z': 3}\n",
      "{'x': -3, 'y': 1, 'z': -3}\n",
      "{'x': -1, 'y': -3, 'z': 1}\n"
     ]
    }
   ],
   "source": [
    "position_0 = [{\"x\": -1, \"y\": 0, \"z\":  2}, {\"x\": 2, \"y\": -10, \"z\": -7}, {\"x\": 4, \"y\": -8, \"z\": 8}, {\"x\": 3, \"y\": 5, \"z\": -1}]\n",
    "velocity_0 = [{\"x\": 0, \"y\": 0, \"z\": 0}, {\"x\": 0, \"y\": 0, \"z\": 0}, {\"x\": 0, \"y\": 0, \"z\": 0}, {\"x\": 0, \"y\": 0, \"z\": 0}]\n",
    "\n",
    "print('positions')\n",
    "for i in range (0, 4):\n",
    "    print(position_0[i])\n",
    "print('velocity')   \n",
    "for i in range (0, 4):\n",
    "    print(velocity_0[i])\n",
    "\n",
    "change(position_0, velocity_0)\n"
   ]
  },
  {
   "cell_type": "code",
   "execution_count": 5,
   "metadata": {},
   "outputs": [],
   "source": [
    "def energy_counter(position, velocity):\n",
    "    total_energy_list = []\n",
    "    index = -1\n",
    "    for moon in position:\n",
    "        index += 1\n",
    "        kinetic_energy = 0\n",
    "        potential_energy = 0\n",
    "        total_energy = 0\n",
    "        moon_position_copy = moon\n",
    "        moon_vel_copy = velocity[index]\n",
    "        for key in moon_position_copy:\n",
    "            pos = moon_position_copy[key]\n",
    "            potential_energy += abs(pos)\n",
    "            vel = moon_vel_copy[key]\n",
    "            kinetic_energy += abs(vel)\n",
    "        total_energy = potential_energy * kinetic_energy\n",
    "        total_energy_list.append(total_energy)\n",
    "    global sum_total_energy\n",
    "    sum_total_energy = 0\n",
    "    for moon_energy in total_energy_list:\n",
    "        sum_total_energy += moon_energy\n",
    "    return(sum_total_energy)\n",
    "        \n",
    "    "
   ]
  },
  {
   "cell_type": "code",
   "execution_count": 3,
   "metadata": {},
   "outputs": [
    {
     "data": {
      "text/plain": [
       "3"
      ]
     },
     "execution_count": 3,
     "metadata": {},
     "output_type": "execute_result"
    }
   ],
   "source": [
    "position_0 = [{\"x\": -1, \"y\": 0, \"z\":  2}, {\"x\": 2, \"y\": -10, \"z\": -7}, {\"x\": 4, \"y\": -8, \"z\": 8}, {\"x\": 3, \"y\": 5, \"z\": -1}]\n",
    "velocity_0 = [{\"x\": 1, \"y\": 0, \"z\": 0}, {\"x\": 0, \"y\": 0, \"z\": 0}, {\"x\": 0, \"y\": 0, \"z\": 0}, {\"x\": 0, \"y\": 0, \"z\": 0}]\n",
    "\n",
    "energy_counter(position_0, velocity_0)\n"
   ]
  },
  {
   "cell_type": "code",
   "execution_count": 6,
   "metadata": {},
   "outputs": [],
   "source": [
    "position_0 = [{\"x\": -3, \"y\": 15, \"z\":  -11}, {\"x\": 3, \"y\": 13, \"z\": -19}, {\"x\": -13, \"y\": 18, \"z\": -2}, {\"x\": 6, \"y\": 0, \"z\": -1}]\n",
    "velocity_0 = [{\"x\": 0, \"y\": 0, \"z\": 0}, {\"x\": 0, \"y\": 0, \"z\": 0}, {\"x\": 0, \"y\": 0, \"z\": 0}, {\"x\": 0, \"y\": 0, \"z\": 0}]\n",
    "\n",
    "\n",
    "for i in range (0, 1000):\n",
    "    change(position_0, velocity_0)\n",
    "    energy_counter(position_0, velocity_0)\n",
    "    "
   ]
  },
  {
   "cell_type": "code",
   "execution_count": 7,
   "metadata": {},
   "outputs": [
    {
     "name": "stdout",
     "output_type": "stream",
     "text": [
      "12070\n"
     ]
    }
   ],
   "source": [
    "print(sum_total_energy)"
   ]
  },
  {
   "cell_type": "markdown",
   "metadata": {},
   "source": [
    "# Day 12, part II:"
   ]
  },
  {
   "cell_type": "code",
   "execution_count": null,
   "metadata": {},
   "outputs": [],
   "source": [
    "position_0 = [{\"x\": -3, \"y\": 15, \"z\":  -11}, {\"x\": 3, \"y\": 13, \"z\": -19}, {\"x\": -13, \"y\": 18, \"z\": -2}, {\"x\": 6, \"y\": 0, \"z\": -1}]\n",
    "velocity_0 = [{\"x\": 0, \"y\": 0, \"z\": 0}, {\"x\": 0, \"y\": 0, \"z\": 0}, {\"x\": 0, \"y\": 0, \"z\": 0}, {\"x\": 0, \"y\": 0, \"z\": 0}]\n",
    "\n",
    "all_states = []\n",
    "step_counter = 0\n",
    "first_occurrence = True\n",
    "all_states.append([position_0, velocity_0])\n",
    "while first_occurrence:\n",
    "    step_counter += 1\n",
    "    change(position_0, velocity_0)\n",
    "    identifier = \"\"\n",
    "    for moon in position_0:\n",
    "        for key in moon.keys():\n",
    "            identifier += str(moon[key])\n",
    "    for moon in velocity_0:\n",
    "        for key in moon.keys():\n",
    "            identifier += str(moon[key])\n",
    "    if identifier in all_states:\n",
    "        first_occurrence = False\n",
    "    all_states.append(identifier)\n",
    "        \n",
    "print(step_counter)"
   ]
  },
  {
   "cell_type": "markdown",
   "metadata": {},
   "source": [
    "Ez így sosem fog lefutni, de jó próbálkozás volt"
   ]
  }
 ],
 "metadata": {
  "kernelspec": {
   "display_name": "Python 3",
   "language": "python",
   "name": "python3"
  },
  "language_info": {
   "codemirror_mode": {
    "name": "ipython",
    "version": 3
   },
   "file_extension": ".py",
   "mimetype": "text/x-python",
   "name": "python",
   "nbconvert_exporter": "python",
   "pygments_lexer": "ipython3",
   "version": "3.6.9"
  }
 },
 "nbformat": 4,
 "nbformat_minor": 2
}
