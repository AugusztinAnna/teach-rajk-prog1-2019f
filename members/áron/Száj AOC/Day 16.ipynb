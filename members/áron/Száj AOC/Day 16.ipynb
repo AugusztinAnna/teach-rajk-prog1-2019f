{
 "cells": [
  {
   "cell_type": "markdown",
   "metadata": {},
   "source": [
    "# Day 16"
   ]
  },
  {
   "cell_type": "code",
   "execution_count": 52,
   "metadata": {},
   "outputs": [],
   "source": [
    "pattern = [0, 1, 0, -1]\n",
    "patterns = []\n",
    "\n",
    "input = open(\"input 16th day.txt\").read().split()\n",
    "input = input[0]\n",
    "\n",
    "\n",
    "for i in range(1, len(input_list) + 1):\n",
    "    pattern_2 = []\n",
    "    for num in pattern:\n",
    "        for iterate in range (0, i):\n",
    "            pattern_2.append(num)\n",
    "    patterns.append(pattern_2)\n",
    "\n",
    "\n",
    "#print(patterns)\n",
    "\n",
    "first_patterns = patterns.copy()\n",
    "\n",
    "first_patterns=[x[1:] for x in first_patterns]\n",
    "\n",
    "#print(patterns)\n",
    "\n",
    "#print(first_patterns)\n",
    "res=[]\n",
    "for x in range(len(input_list)):\n",
    "    #print(first_patterns[x])\n",
    "    res.append(first_patterns[x])\n",
    "    while len(res[x])<len(input_list):\n",
    "        res[x]+=patterns[x]\n",
    "        \n",
    "def fft(res, inputs):\n",
    "    input_list = []\n",
    "    for i in str(inputs):\n",
    "        input_list.append(int(i))\n",
    "    result=[]\n",
    "    for i in res:\n",
    "        result.append([input_list[z]*i[z] for z in range(len(input_list))])\n",
    "\n",
    "    output=[str(sum(x))[len(str(sum(x)))-1:] for x in result]\n",
    "\n",
    "    return ''.join([str(i) for i in output])\n"
   ]
  },
  {
   "cell_type": "code",
   "execution_count": 53,
   "metadata": {},
   "outputs": [
    {
     "data": {
      "text/plain": [
       "'59890992726800286265683707944198319440123002591807388312936064959872215349068467257344003948995801545491591500062711753977511284499484073236462290807173858935784540664153334817097168101764510649105623641789463948572023847715459349395569777727885928168815621339844028083707772768652726550828789144830527277331115631923023309628261978138135203508493816567849122050088593749117416132659702430513565031902382215283772505426855965779442239162847322417782358451827813558296341732364574356002174357153234821106368375104813470887477092562216641117504117676153942788808223696690059728527590001049662130147653876760872820516716248786457879368409516172985332178'"
      ]
     },
     "execution_count": 53,
     "metadata": {},
     "output_type": "execute_result"
    }
   ],
   "source": [
    "fft(res,input)"
   ]
  },
  {
   "cell_type": "code",
   "execution_count": 55,
   "metadata": {},
   "outputs": [],
   "source": [
    "for i in range(100):\n",
    "    output=fft(res,input)\n",
    "    input=output"
   ]
  },
  {
   "cell_type": "code",
   "execution_count": 59,
   "metadata": {},
   "outputs": [
    {
     "data": {
      "text/plain": [
       "'58672132'"
      ]
     },
     "execution_count": 59,
     "metadata": {},
     "output_type": "execute_result"
    }
   ],
   "source": [
    "output[:8]"
   ]
  }
 ],
 "metadata": {
  "kernelspec": {
   "display_name": "Python 3",
   "language": "python",
   "name": "python3"
  },
  "language_info": {
   "codemirror_mode": {
    "name": "ipython",
    "version": 3
   },
   "file_extension": ".py",
   "mimetype": "text/x-python",
   "name": "python",
   "nbconvert_exporter": "python",
   "pygments_lexer": "ipython3",
   "version": "3.6.9"
  }
 },
 "nbformat": 4,
 "nbformat_minor": 2
}
