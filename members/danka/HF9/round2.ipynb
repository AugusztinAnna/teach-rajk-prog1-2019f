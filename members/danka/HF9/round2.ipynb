{
 "cells": [
  {
   "cell_type": "code",
   "execution_count": 1,
   "metadata": {},
   "outputs": [],
   "source": [
    "import sys\n",
    "sys.path.insert(0, '..')\n",
    "from __import_file__ import danka\n",
    "from __import_file__ import szaj\n",
    "from __import_file__ import flora\n",
    "from __import_file__ import petra\n",
    "from __import_file__ import lili\n",
    "from __import_file__ import marci\n",
    "from __import_file__ import matos\n",
    "from __import_file__ import kornel\n",
    "from __import_file__ import anna"
   ]
  },
  {
   "cell_type": "markdown",
   "metadata": {},
   "source": [
    "## danka"
   ]
  },
  {
   "cell_type": "code",
   "execution_count": 2,
   "metadata": {},
   "outputs": [],
   "source": [
    "def danka_solution(list_of_numbers):\n",
    "    sorted_numbers = sorted(list_of_numbers)\n",
    "    multiple = sorted_numbers[0] * sorted_numbers[1]\n",
    "    reverse_sorted_numbers = sorted(list_of_numbers, reverse = True)\n",
    "    multiple_reverse = reverse_sorted_numbers[0] * reverse_sorted_numbers[1]\n",
    "    high_multiple = [multiple, multiple_reverse]\n",
    "    sorted_multiple = sorted(high_multiple, reverse = True)\n",
    "    return sorted_multiple[0]"
   ]
  },
  {
   "cell_type": "code",
   "execution_count": 3,
   "metadata": {},
   "outputs": [
    {
     "name": "stdout",
     "output_type": "stream",
     "text": [
      "- success rate: 497/497 (100.0%)\n",
      "- error count: 0\n",
      "- best performance: 1\n",
      "- worst performance: 1\n",
      "- mean performance: 1.0\n"
     ]
    }
   ],
   "source": [
    "danka.evaluate(danka_solution)"
   ]
  },
  {
   "cell_type": "markdown",
   "metadata": {},
   "source": [
    "## száj"
   ]
  },
  {
   "cell_type": "code",
   "execution_count": 47,
   "metadata": {},
   "outputs": [],
   "source": [
    "def szaj_solution(list_of_numbers, number):\n",
    "    null = 0\n",
    "    sorted_list_of_numbers = sorted(list_of_numbers)\n",
    "    for i in sorted_list_of_numbers:\n",
    "        if ((i / number) % 2 == 0):\n",
    "            null = i\n",
    "    return null"
   ]
  },
  {
   "cell_type": "code",
   "execution_count": 48,
   "metadata": {},
   "outputs": [
    {
     "name": "stdout",
     "output_type": "stream",
     "text": [
      "- success rate: 497/497 (100.0%)\n",
      "- error count: 0\n",
      "- best performance: 1\n",
      "- worst performance: 1\n",
      "- mean performance: 1.0\n"
     ]
    }
   ],
   "source": [
    "szaj.evaluate(szaj_solution)"
   ]
  },
  {
   "cell_type": "markdown",
   "metadata": {},
   "source": [
    "## flóra"
   ]
  },
  {
   "cell_type": "code",
   "execution_count": null,
   "metadata": {},
   "outputs": [],
   "source": [
    "def flora_solution(list_of_numbers):\n",
    "    list_of_good_numbers = []\n",
    "    for i in list_of_numbers:\n",
    "        good_number == True\n",
    "        str(i)\n",
    "    for i in \n",
    "    \n",
    "    ### cancer\n",
    "    \n",
    "    return 0"
   ]
  },
  {
   "cell_type": "code",
   "execution_count": null,
   "metadata": {},
   "outputs": [],
   "source": [
    "flora.evaluate(flora_solution)"
   ]
  },
  {
   "cell_type": "markdown",
   "metadata": {},
   "source": [
    "## petra"
   ]
  },
  {
   "cell_type": "code",
   "execution_count": 51,
   "metadata": {},
   "outputs": [],
   "source": [
    "def petra_solution(intlist):\n",
    "    intlist = set(intlist)\n",
    "    empty = []\n",
    "    for i in intlist:\n",
    "        if i > 0:\n",
    "            if i % 2 != 0:\n",
    "                empty.append(i)\n",
    "    return sum(empty)"
   ]
  },
  {
   "cell_type": "code",
   "execution_count": 52,
   "metadata": {},
   "outputs": [
    {
     "name": "stdout",
     "output_type": "stream",
     "text": [
      "- success rate: 497/497 (100.0%)\n",
      "- error count: 0\n",
      "- best performance: 1\n",
      "- worst performance: 1\n",
      "- mean performance: 1.0\n"
     ]
    }
   ],
   "source": [
    "petra.evaluate(petra_solution)"
   ]
  },
  {
   "cell_type": "markdown",
   "metadata": {},
   "source": [
    "## lili"
   ]
  },
  {
   "cell_type": "code",
   "execution_count": null,
   "metadata": {},
   "outputs": [],
   "source": [
    "def lili_solution(list_of_numbers):\n",
    "    int_halves = []\n",
    "    \n",
    "    return 0"
   ]
  },
  {
   "cell_type": "code",
   "execution_count": null,
   "metadata": {},
   "outputs": [],
   "source": [
    "lili.evaluate(lili_solution)"
   ]
  },
  {
   "cell_type": "markdown",
   "metadata": {},
   "source": [
    "## marci"
   ]
  },
  {
   "cell_type": "code",
   "execution_count": 65,
   "metadata": {},
   "outputs": [],
   "source": [
    "def marci_solution(mixed_list, str_val):\n",
    "    mixed_list = [item.lower() for item in mixed_list]\n",
    "    str_val = str_val.lower()\n",
    "    character_counter = []\n",
    "    for list_unit in mixed_list:\n",
    "        letter_counter = 0\n",
    "        for char in list_unit:\n",
    "            if char == str_val:\n",
    "                letter_counter = letter_counter + 1\n",
    "        character_counter.append(letter_counter)\n",
    "    if max(character_counter) == 0:\n",
    "        return \"\"\n",
    "    else:\n",
    "        ind = character_counter.index(max(character_counter))\n",
    "    return mixed_list[ind]"
   ]
  },
  {
   "cell_type": "code",
   "execution_count": 66,
   "metadata": {},
   "outputs": [
    {
     "name": "stdout",
     "output_type": "stream",
     "text": [
      "- success rate: 4/495 (1.0%)\n",
      "- error count: 0\n",
      "- best performance: 1\n",
      "- worst performance: 0\n",
      "- mean performance: 0.00808080808080808\n",
      "\n",
      "\n",
      " BAD SOLUTION at: \n",
      " {'letter': 'w', 'list_of_words': ['gTpigTHKbfoLISRABr1VjArnVgxwvqcCh5esM2wleOV911xCZkwPRQeNHpCq5QnuVdYXye4JSnE2NiiUH', 'K3yn9FfcgMXAdx9G81aSQHqNgAC72qFl41sNLjVHWGaub52Ztd26fEeVVhDIq2AnHTmt9OBGhnuKoneNo41eoPni6JDWYlg', 'vz1dOOdTXglHilC2eY1gOHafUozD13kay5WrRTWPElndTdtdD5GdF0e', 'Poh3pKMz', 'JtqPtqiOC56aMIgHFiveprBHs8YGPI5g2q3UjrnvQ0Fp4dNZcui8kBRIg6QjcwIAcw58cwQPvI', 'zMj518Y2bTu5X1YqWg21nYCsXoblu17rNy8H6h8l7qgATtLFxJpRa5HSUPwePut0SstzyshA6P3MsHarAJOCBnD3XkfFNuYUPnmbpD0ezNmREpO', '', 'UVgAk7Gdp0CXP9K63LSFZH3UDqpNVGMrerqtHioRRdzHzmA4KR1VxavU07zUHLnnBbuQzkChMbyIbNiCdxnuVxUZpfbH9vOWOU6mbjhPInRVkLUhY7', 'J5J4x6mKZpRsQ', 'h8WvAwFv0Yg7NZRBT7qYHDBTq0Zf2pCLxb0lnXv2Rra6fSEVQOEXfnQsKDGAUuRqphlhHVlnES8GrgmolaHr8IRh1E2JDBld6DYyeNd']}\n",
      "\n",
      "\n",
      " BAD SOLUTION at: \n",
      " {'letter': 'D', 'list_of_words': ['LXnGBB19sMLT6mnOjkeaBKsoRRCQ5WMO5AHO4ZektUJrhQR6FEecA', 'LboP1KbVYJVkGBr9BY8DztgjzEPyVcfphV1Za1CdG', 'UMVmI5BRh8LojIIf94ChZESFqZ8pIx5F21rWz5FYrsK9EjHvIHCtlRJoWcURYxPY8EcFK12BGCSzOjD', 'uQO001xtSV2ceN59UAgN2BR4cXsxjGJXk', 'LxQEKoNCP3', '3QjBvKNAp0mxDoJJ9s8OrJQUdLE4rXLvNMQSOZM4OtBJTfsUkiH8G4ZpZDY', '1XDeUnPPy0IfyqhwUqxNxPDM6uLONCROhcc9hoHyx6RHKT2OZM6rQnBow8w3Ndr86ZfnN8du9WmZIKYoWWKr99HXg1iwWKa', 'dTGUDWFgF6cW1GC7dDyQE4efLerNHu9GC', 'AXhO2I1A3zZyTttp7QDffAUxid7IPz26A4drtgFjD0vIhroAIVMPILOQbqV5vliOeT8fGxCjtu6K2', 'jMPqPEBqUhArQEPcyLa', '6VVrhEAiHoIPvyUBCetAzNrz7k6CQwBgBye1Un']}\n",
      "\n",
      "\n",
      " BAD SOLUTION at: \n",
      " {'letter': 'X', 'list_of_words': ['v7OjgpkjVe6MCIJQ2N9u8tBDNXKveCcwrN8fKxJ7Tc4J', 'tDjdg3vSFkpBBGjxrzuLWOef', 'xp07LjfP4tOPhRfINuhR694fPFbt6vVl9jsWFHTGP2MLjlQM3ScwS8LUWoo7W4mQJBVWFzkmL2dDx5SFhfjBFZ', '6nBvbdFo9xb', 'gSujc4DZVDM4bnj6LAWohoNMdZEHNJSsavJlPGw7HWFb2cxxUweoOgKUivuNZQ8DliS6cmX2ttyYDcOr1cOqXByB7vlQwXqfAA9lsgusBSkBBT4MANXdPzF', 'Q7iLWceWwxJLQ6xVJGyOphTExIqqB9r4Eh0C3BfQ0tveH30S5NXFhmiXbIwXILft9SGVZe8NBQv2WNl7A4dhjkuRv630pNI', 'MMfNKKkM3u5c1f6V', 'OVzNEMr7DXQsedBEmLtST18iwItCqpgrx', 'z73Y5Slj9C2EfyCoKdrL0PragiqwzcdIwrxBIZMLhfx9IwiLyccSXGj3i5tyM0KFFEIDbugzt32NLq', 'WWJSKkMM0jQb6gbtjQzW52TdimuPGtk4vvVSNQLlpIn8srmRtv5XqhPx8Y7XsrSvBpDmH5RiMKpPGNdzSgV', '', '8jO2DOUrrdVOoT0c5zZ5cZWlU2rcsL5uCNG3iFqYuTOSausPlLNzAuyf8D6axBquKJqwoP']}\n",
      "\n",
      "\n",
      " BAD SOLUTION at: \n",
      " {'letter': 'K', 'list_of_words': ['h4sMnijULzIDHPnpU2fBReIdHFJjuGhmKfFYCFCdCYSyYUJcvd95e5bzVV8OA9x14xQPHOvlHGTnabsPHGZpvr6S', 'bOM63oeKBP2pcB', 'n1dFrYTtLPtsiOnsd624MAE86PWtzjxUD0sRX4I8IipmO50fSlqPL2lVSID1u7a67h9Dp', 'RyotrCOtw2CXSVtmtc1TbIKSsmoJpI6uVESTCTviHl397G0eYdaiNejnCdN54OaGzbSHrFRA6l4Go', 'GYqyxzJ9oQ0O1VfxIdakEAWJ1fGcn13Dce53Ic5t7KUSyekoZy3uUi9SF8dBZvV7yVbq9Ew6AQOfMXS', 'qxWjywf6BV', 'ilBIzbvfLuxsy', 'SI9pGQkqqj', 'AAEeppMKmgs6uMXuuY18i', 'LRDlytTN8WurWw5m9lVbT6mXZe0XPispjAxBLKH51', 'HXw3HNfVOwOc8QyU7AaqFGJJByVKFvbgz7h6itCmDDBRtsYh0OPk9', 'FIuACXNlOyT2BAanrRXJXHwmhPE7tyy', 'v0MYRsMfihslQF']}\n",
      "\n",
      "\n",
      " BAD SOLUTION at: \n",
      " {'letter': 'f', 'list_of_words': ['9IEitBdwaiY7FEQz0EfbVsrHkCUVIhhWZwZcSH9gZUs9BvYB9WoYKvSNkimmdvrHuRrq19Qf7W491h1pSZVPEJqzCN2fFr6w6uaVTTCPwdHnAnqZuJJEvQd', 'MZb5jC9A942s', '5qOpx4kysRoORaDioQaRY9AiexTgt2iVUi9iGaOBSMjzQ1fgUKx7tirfILLWQ0OsGFUsd37EgEKG895i1JwQV7VbeqcdWFMFzRfHMrtFmYHyNZQ', 'tB7op5hL', 'tTThRRk', 'GWSkhWq2VbYqdSJeCwEJwpgJSoFc1pDxj51I4TAtzSqe', 'hPdnFcy21VtfCwsWTpw89WTHXj5bHNQauVxTtm8A78irco0', 'Rx8ffiYeJA7oqtXRTtqemWKjkCzH7mtqhjQZRcZufpwFPq9bzCUp', 'gXhdWnmyQ6fK4e9mOYf0Yh6d5ASExAv4rBjMMOE2DfxzNXp9HbxSDWvJtqb', 'n3Wd9GV98gOqY4d9n0Xv00kKXR4bR6IIl92EtEfonGa4miS40ubK4W017x6ygsij6X7Ok8R5WnKk', 'TslaRJ0VJltYLNgEuevtN7YPTuanQvWScBAkz2v', 'gD1OQke0st7ekxTH3fKMDb6k3jgmlRSTqrodJ0jwAsPLmbks', 'DhWD3qNyxx', 'BqCoqdUPfvH8KI0YzH1D2De']}\n",
      "\n",
      "\n",
      " BAD SOLUTION at: \n",
      " {'letter': 'N', 'list_of_words': ['B6knlceQmYjKtTYfII1G4aRKWgjJK7ggWW122qOJDkyMQyy2QdDqxuXt01Q8osUVtTLfB4zEGxdXeRzWGJk2mdcdwmwCy5Qp', 'Kl1Kvk3UQrxkJ71OQqzbWVa4OLapXs7NAxvpCPZygFP0xOLsgd9N1qS3sjV3XX', 'ztibEs4zTK9YvSQND6wskOIsDTSI463Onn2A2xKChdNJMDmhQGz1j9v939i1lfu9tdCmVJjWWiAA', '7xcmxatZlPMpQvhxKkZssTKu39v3wl64zoTiTKkwOc2pHd9PObQzxH', 'RmQaAgGMRz3FMrWELWZ8wzjH4QDoafgJE6WeS4NC8qdY20wPAh03aiOu37qT', 'Yly7qx0XOXhRd6jzKXQlxwbQZ8i5hzcqtRQVJJ8PuGRfPpv', 'NjZ3Ma5FDEkUturFIxYeBJfEt8UbzcIZX7N3IOCvZY0uVLSwCgOawNXHxg3EYUzpmh0nZluUcNPh3CKF7aTIAK', 'F5kJThyL2Fx84Vq78CizRUsR1S6NmMsvP8O7FRthvDJPzU0r0YGbjPmUjrp0QsUcYg1T1UIoWXrP5y78tIapMW1Z4ROUHLW7slQlkFxAIiKpuSjjud5MPE', 'IeRG7GWjHzv2Pus6MDIUOhvoN4pc2xXhpSbGVFFEsOtff8VHMnNnQZmZ2TAYeQbScelpeY4zB', 'AbPHNMUKRe5gWsfVByODHiyXH7iP4XTx6IIhaKH6sU4vzOFjnZm', 'PJdU9INePpmJ6wPorelEuOQ', 'JwtAapnTB0iT2CwsIkL', 'rZ3mTMT30NYJVncq3HOjy3K1iFfwao78QUijJJ2jT6cVoqoPGXy42cOg8NqTJJxxK3ep8nzYvX3a2BoFrjjLYOzuhPDKOzphKiF3jk5Gz8N', 'SPrfB91kZLXYlOqSvCKoxgm1FAjfDMcWFhDiLZ3WOGwcGoXWxKTVRgiDo1r2zlRWJhaOQtwjOp1AwrQUzWDwIptvRT1OUBRknyuIRRj7afj5Adne', 'S5yO']}\n",
      "\n",
      "\n",
      " BAD SOLUTION at: \n",
      " {'letter': 'K', 'list_of_words': ['5GmWFRMPwO8fryPzmaR4ITIKvYo7CzakFIFvhFpHXpBxDpvWQ31DpxWnRXzvHRqryUvIltnJlU5lTopqoZZw', 'g5PPMVHcDME931E94rnJdXDHFyQk8RCQanKuLqIoDMwEnRx0rliJogqoAxj7jXkE90GSWsIJyQdYDNBuwI5pbh17mJOkWwPET3x', 'C71N5ALz4evtOSLy3W6UGBk0hopUUnyf6DdV', 'VfqjO2tprMiZbP1uD8HqB8RkLNNIGNtvHXBwqsaY0vDa56DaAsoaxzIykTyxqAoV4YQ', 'OGqleigCCREtj8b8rhBafanAWExRbeUjqyHl', '0YZhVpVBTcCVG8DQtuNc6GpNm31nhNukrhWacWDKxfjfM59MdNRXho8WUXBlQwi3EBsRllvTrZ4IejsqwaNxlb1WoSOHyGEIMuNgGeZi2mEgJZOGRp', 'nSa5O5ZDNwU3YXdMGTZenGgoxlOJ6IIUVJPRAgXIFOHL53', '9uxVATLInV5p7ByT8KG9ssn1bYQrII5jcwiwKoYfy4TSXkZQJ4KsTJedVvYz11oOLaWxsc', 'JuRjP98UJfAWjuDUHqyARVDmyJI9GpqAQJgzwlvOVkvYXMB5oQjTfTpMjZrvXsDuTnHUI', 'TiRbKPckrWMdOayq0O1b1Oox8gt1GlFC5bpGuyjvvMo8FYM23YbIrj3Ofx7LMooj84uHmiHX1tRGi98', 'OJjeHSl0jbt87sUYNT', 'WglVLqJooQwQDFLSx0E', 'koz856nPmmk7BMQ13', 'zcTxtLUKG2WGBZc9GyTIFNdsysZCAMdGiZCShW6RizBlKSmCpQ4XSh', 'RNfRT8LjIcku21', '1lSAtVBMhimMpC1Ha2oK']}\n",
      "\n",
      "\n",
      " BAD SOLUTION at: \n",
      " {'letter': 'q', 'list_of_words': ['mldvjcJLufg9krORJI7UwcVu3YV0eDh1uznmdJ8GfSLWRA0qJM5METEY2osmhCXTmMzcvXnNQpesIVhuyJ7ZmZ5DDcijC13CY5dGJQIbJ', 'X3v8rb8M0JyK1URtbzEoC6nsgWW4BbDFl5TGWi2Y6P', 'mcy1htc02u3gVUbV', '3tlrtBhjqaMFmvtiRrpeMvBiDPgdAlKKZRMtYSPH8UCiY5DCQSCon1M4yRPW2CbDvCkVLhgYXuOXHyzMH', 'xvYKWAWHoPe5JEKCIYk7egYVxEOfY34NajjGyJmQtJ4s6A8vfa9zhswIdRYw1', 'bAKMSzAnkiI0wzr2haOi2O8iiX13R5MCAYxnAaETSq5JccDwJ7eTG1UrGGLpNPPQHJM4HaC4Juv8skRLsWqNJJOsTbEheWpMrpTL4TOwkWolGc', '7KYZUzxOTk', 'TvNUhkysUUHxRDi1a5BQ7Qc4N7A41uqgOyVUTKmuQlHPZaggBnrlbf6OZ6NRh1iO3J73RpC6N', '9VQPVpWrdy9qYle8myOgHAMgBqceTWbEOacyjuyaRVDzTYeoxQWhH9usd9Ow0v0VrmI7OsygQE2Blcb9oyXNE7Y7bvuSznOG61HToeTEb4MpOaN4YgLZdY', 'EXnXAY8Qu8JiZX', 'ckdqUkwkpKiXNxj2fa5RKrQXDhiqBokQKSLfZszIl98M19FCMmdgj04Ej5dwmpM3CgdHjbFeoBJzU3ogoozm3eKdBnLlxCmwq', 'hQdi0Ckv2LWNLk81f1E9KZrTTpuJ3KjJa8cDVcGDXY', 'EfUQznwo9aPkCJK8CiRl2MRaMxQGsURLJmQMu5F4wdxCcwORIViuHOTU2', 'nUnvqQrdvEGhSQHsMX6Y6e3Ce3r7grRE2GMs8HivBNsd2o6NzvOuKR0BsiWkqE8VcvCk5Sr80QPjocthqlIctvxHk', 'hb5V65j8HFOs38U9PXT5ugDcQhbMnwuLmGWVmf', 'BPfFmtL64wj0wxrv82fTB9XrX8A3iKfmD19e7Ufz4zISUilxIcZZsICbaq7ZDO3zEQphr9eUKJ1MDRhFJ0kdt2ikqA4wrG6FVlfUH2ZQsQQf', 'viirWz5knFZXIQ70SRXz4hibvQiB9G8ksUhhRQtn8AVgbEAmcOKD4csafhLKmPbjUrJv1WMFeY']}\n",
      "\n",
      "\n",
      " BAD SOLUTION at: \n",
      " {'letter': 'J', 'list_of_words': ['50DRlPgZ8AFzVtCGEwrSfExCTQ0', 'Is1le0DQl9EgBOfiyKg58e8uK9hZ', 'EVVKUX6wP69FjChEo6bTZEblLusMVOGECsEFHYHbV92hB0BckOW2kAtyVJEIHDIjdqKxPVrdKhwYKVMxA9zdpotfQ1hk', 'uC1J3qRK9xyJYgPuFVvMwBE0W0Hrc9yoUf0fueXDnXOsXAHmyMCVlbR1Jn7UC6HMVAJM', 'mCoUV0z14N0qrjQoojbXtE9A4mqbWrINcSWd3tsd73P2y00oJFhPJWGEfLVtZTXU6n', 'k8BpKEx6tAQ72', 'iDwtO4cTXd4PpxNR3QHoBa754s6Us1jBtYNWqeWET5uA4gjqeATHuRVNlBNamsJgpSVOiKz6B2ikKurfwyxZJbbILofCq0dMLj7kJaGV5ZEnm6YqUxAmnZT', 'zzjrqM4wQCaiuQQSRTpfduo4', '67LUcpMsyw8IJqF52itGihch2ZU5r2MVqt3t9Vj0OXdjocqRB95cwREE01hf1lkFq3KK8GJzeVP3b', '8hx5gubCRDMqOucMC694Xi1XrXUHLfpoVybmyyO7jsXT54LwfwmByqLfAwlNfF8POS5GOfDeXs9QspAJI4FFzCS', 'ppfFhPllyf2sKCPMq72llUL2gHahkDQ17LEM8wPQyshaga81mOOBMWlsCDbkjR7D1KmJZdaNS80TKIsEEKLQYESGAtd3zDE6vRbrlvon', 'Q50SD2Syz6OwD8kmQfDkjEX6EoI9wqPk1FYuhoIE9WVVI302Lgd6X7U8WL1gIFkhmwTRVE1jwYhm8VaZDrkqSzNpUGWiA437GQ6BVSGeuyVAyc5jJ88X', 'GsyQIsU4arG5RBmHWOR3WzmscuSTh9rfIGUjbXKoVT9gdxMvcOhsTC8X9J3MHKvrWSPSGpuKZwgSZfd3DBwGKGyqEAB5E8ZihSiR1hnDU6w7LzhJ', 'Ghsxs', 'XiK', '6srlTa', 'v1zJJ3WDSLVFCBB1uXPzoyH73TO1RJXRIhIlMJdJlD3h6lbWpR3BYLyc1bBz1tphgkipft', 'Qd7lSsgi3p63doLoFF6qtIebN4bIKgVOhJB0FWiHkp77IcY7MOkd']}\n",
      "\n",
      "\n",
      " BAD SOLUTION at: \n",
      " {'letter': 'T', 'list_of_words': ['HefRZS92nFX26N8RqPtn7u4i5LaakIREyf2OH3YBh8xLx0Y8hwlaUVQRlYMYn87cERLa9NgrFkmTPLkKUh512Tr0b8QMQ2', '', 'APO0u0zhGEGcSc4Htyu2Y9nQ74mudMbAbX50pD7ZYGoeLBfBh84x3QWdXdLAgdd0yMz1WMCCAMgOPbGKgaSK04hFwDMlichKFOwKHjDLs8GOioYIdv8NmelD', '8LuJ7MzkCWcnanoMoT7uTml9webhsmKVcbmk2SvIlb04bQxWg6soYO68922ei5XlxxL8pcMlHWudX2082mfDPeFU', 'UxGlSGD7DKNXOm3ConAxj0pfUsGocFuBAwEqbBqe3sFHerohwHuPpUV0lLi1SHqVrv96YUaO961oSnoKID', 'CXtlVRmBIxJh6aYZvzQzWHubW5j7uNLL18myHlgJB3fgIbQEle7roOedGk1zjgHDe71imARDL6KFQraidyYG42CJTr2CRSsMYkp3TC4l', 'fRc2j2HPeT34zVhwUFWzkmcbNPCvymcpRiPCCfOSBDrkZLkhTkPaqBlS3HBcNGPOgQBLdxmp', 'ofA9ulPn2XZkkzguIlmH6hnwkytyCeYOwensL8gH90k7L8RQ8RuN2t0DuLKxNoK9oM3tTUMdxsjmc5L6TurNVG8Orb0upH4PpQSLxtBa1elNimfKZ5oe', 'CkmALsJ7m1D6wxDALAj7DVAf4sHIkxsrIDuSm4a1TxzzyUxt9e29h5kV7VUvRNwdxApD5wRbPjL6jpJPkhfSxR8e42kA', 's7Oxtz2TfNWviU5yt9YaeRGOTkxRml6BYldlVq3zMM1ksxrvKDPgdUaK9gGaL9V5DuAw39Y6PxdwugCRS3iL1rRY', 'CQ1FOaN6tN28TQoETXv66DORgxLS12WSbEfZ99C37DHpk6R', 'ASj53VnpD3hiH', 'EXunJ5ev4USOW7BoqsgvKl6JhtxTtKlyAVX5hPKga0tYsnQjrU0ZctFQq0JNns7dYjS05nT5W1TsY4jbyADvyeTr5RHg', 'UJX0RCkiRsinUTaTJQ9j6A05f8ld8OK8MzcoEQ7Ox', '9PfCYxNBahhN4nK9DRfKx9RshuS1HzRyYWGdZHYOUmOh1RaBtcJOfpUfhs7k8Opc64sHiEt49LFQPcci1niIKrTA', 'px4yfpARHeT9RlxOYLAj9AbLehgHeNwuq1nax8xg5kTtYEGR1IL3k6yvT8GK0DhaFjhxTd', 'NwWQzCBvDr7GS5oNfsV0NeofJfr5Ya6P5iEQPHhalZaAHv9O596QcBk5V4kwivdEk8uQZ01rDqaNy557F3530daCsgvS', 'vgEfFjhEjOoysAlYgB0kvAw1mlcyU3jmDPqAIXSuV2F50yggbjF', 'QdZALaDrfAMTlrhqRPADWgTLl1Mjhyqljbm1xGR8nAdAdgw6Sp3laOtrrLApEugPQViwYUKLorKfgNLc82YlBg6MsDVHjhzS3V']}\n"
     ]
    }
   ],
   "source": [
    "marci.evaluate(marci_solution)"
   ]
  },
  {
   "cell_type": "markdown",
   "metadata": {},
   "source": [
    "## matos"
   ]
  },
  {
   "cell_type": "code",
   "execution_count": 28,
   "metadata": {},
   "outputs": [],
   "source": [
    "def matos_solution(str_list):\n",
    "    len_list = len(str_list)\n",
    "    str_counted = []\n",
    "    for strs in str_list:\n",
    "        str_a_count = strs.count('a') + strs.count('A')\n",
    "        str_counted.append(str_a_count)\n",
    "    if sum(str_counted) == 0:\n",
    "        return -1\n",
    "    else:\n",
    "        return str_counted.index(max(str_counted))"
   ]
  },
  {
   "cell_type": "code",
   "execution_count": 29,
   "metadata": {},
   "outputs": [
    {
     "name": "stdout",
     "output_type": "stream",
     "text": [
      "- success rate: 495/495 (100.0%)\n",
      "- error count: 0\n",
      "- best performance: 1\n",
      "- worst performance: 1\n",
      "- mean performance: 1.0\n"
     ]
    }
   ],
   "source": [
    "matos.evaluate(matos_solution)"
   ]
  },
  {
   "cell_type": "markdown",
   "metadata": {},
   "source": [
    "## kornél"
   ]
  },
  {
   "cell_type": "code",
   "execution_count": 43,
   "metadata": {},
   "outputs": [],
   "source": [
    "def kornel_solution(str_list, str_val):\n",
    "    null = 0\n",
    "    for i in str_list:\n",
    "        i = i.lower()\n",
    "        str_val = str_val.lower()\n",
    "        if i.count(str_val) > 0:\n",
    "            null = null + 1\n",
    "    return null"
   ]
  },
  {
   "cell_type": "code",
   "execution_count": 44,
   "metadata": {},
   "outputs": [
    {
     "name": "stdout",
     "output_type": "stream",
     "text": [
      "- success rate: 495/495 (100.0%)\n",
      "- error count: 0\n",
      "- best performance: 1\n",
      "- worst performance: 1\n",
      "- mean performance: 1.0\n"
     ]
    }
   ],
   "source": [
    "kornel.evaluate(kornel_solution)"
   ]
  },
  {
   "cell_type": "markdown",
   "metadata": {},
   "source": [
    "## anna"
   ]
  },
  {
   "cell_type": "code",
   "execution_count": 34,
   "metadata": {},
   "outputs": [],
   "source": [
    "def anna_solution(int_list, int_val):\n",
    "    for i in int_list:\n",
    "        new_var = int_val - i\n",
    "        if new_var % 3 == 0:\n",
    "            solution = i       \n",
    "    return solution"
   ]
  },
  {
   "cell_type": "code",
   "execution_count": 35,
   "metadata": {},
   "outputs": [
    {
     "name": "stdout",
     "output_type": "stream",
     "text": [
      "- success rate: 497/497 (100.0%)\n",
      "- error count: 0\n",
      "- best performance: 1\n",
      "- worst performance: 1\n",
      "- mean performance: 1.0\n"
     ]
    }
   ],
   "source": [
    "anna.evaluate(anna_solution)"
   ]
  }
 ],
 "metadata": {
  "kernelspec": {
   "display_name": "Python 3",
   "language": "python",
   "name": "python3"
  },
  "language_info": {
   "codemirror_mode": {
    "name": "ipython",
    "version": 3
   },
   "file_extension": ".py",
   "mimetype": "text/x-python",
   "name": "python",
   "nbconvert_exporter": "python",
   "pygments_lexer": "ipython3",
   "version": "3.6.8"
  }
 },
 "nbformat": 4,
 "nbformat_minor": 2
}
