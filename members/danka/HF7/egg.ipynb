{
 "cells": [
  {
   "cell_type": "markdown",
   "metadata": {},
   "source": [
    "# test: a tojás eltört"
   ]
  },
  {
   "cell_type": "code",
   "execution_count": 2,
   "metadata": {},
   "outputs": [],
   "source": [
    "egg_breaks_on_floor_test1 = [False, False, False, False, False, False, False, False, False, False, False, False, False, False, False, False, False, False, False, False, False, False, False, False, False, False, False, False, False, False, False, False, False, False, False, False, False, False, False, False, False, False, False, False, False, False, False, False, False, False, False, False, False, False, False, False, False, False, False, False, False, False, False, False, False, False, False, False, False, False, False, False, False, False, False, False, False, False, False, False, False, False, False, False, False, False, False, False, False, False, False, False, False, False, False, False, False, False, False, True, True]"
   ]
  },
  {
   "cell_type": "code",
   "execution_count": 3,
   "metadata": {},
   "outputs": [],
   "source": [
    "egg_breaks_on_floor_test2 = [False, False, False, False, False, False, False, False, False, False, False, False, False, False, False, False, False, False, False, False, False, False, False, False, False, False, False, False, False, False, False, False, False, False, False, False, False, False, False, False, False, False, False, False, False, False, False, False, False, False, False, False, False, False, False, False, False, False, False, False, False, False, False, False, False, False, False, False, False, False, False, False, False, False, False, False, False, False, False, False, False, False, False, False, False, False, False,True,True,True,True,True,True,True,True,True,True,True,True,True]"
   ]
  },
  {
   "cell_type": "markdown",
   "metadata": {},
   "source": [
    "# solution1: 10-es közönként"
   ]
  },
  {
   "cell_type": "code",
   "execution_count": 4,
   "metadata": {},
   "outputs": [],
   "source": [
    "def eggsolution1(egg_breaks_on_floor):\n",
    "    first_egg = 10\n",
    "    \n",
    "    while first_egg < 100:\n",
    "        if egg_breaks_on_floor[first_egg]:\n",
    "            second_egg = first_egg - 9\n",
    "            print(second_egg)\n",
    "            for i in [1, 2, 3, 4, 5, 6, 7, 8]:\n",
    "                if egg_breaks_on_floor[second_egg]:\n",
    "                    return second_egg\n",
    "                else:\n",
    "                    second_egg = second_egg + 1\n",
    "        elif first_egg > 85:\n",
    "            second_egg = 91\n",
    "            for i in [1, 2, 3, 4, 5, 6, 7, 8, 9]:\n",
    "                if egg_breaks_on_floor[second_egg]:\n",
    "                    return second_egg -1\n",
    "                else:\n",
    "                    second_egg = second_egg + 1\n",
    "        else:      \n",
    "            first_egg = first_egg + 10\n",
    "            print(first_egg)"
   ]
  },
  {
   "cell_type": "code",
   "execution_count": 5,
   "metadata": {},
   "outputs": [
    {
     "name": "stdout",
     "output_type": "stream",
     "text": [
      "20\n",
      "30\n",
      "40\n",
      "50\n",
      "60\n",
      "70\n",
      "80\n",
      "90\n",
      "81\n"
     ]
    },
    {
     "data": {
      "text/plain": [
       "87"
      ]
     },
     "execution_count": 5,
     "metadata": {},
     "output_type": "execute_result"
    }
   ],
   "source": [
    "eggsolution1(egg_breaks_on_floor_test2)"
   ]
  },
  {
   "cell_type": "code",
   "execution_count": 7,
   "metadata": {},
   "outputs": [],
   "source": [
    "from jkg_evaluators import eggdrop_100floor_2egg"
   ]
  },
  {
   "cell_type": "code",
   "execution_count": 8,
   "metadata": {},
   "outputs": [
    {
     "name": "stdout",
     "output_type": "stream",
     "text": [
      "- success rate: 0/101 (0.0%)\n",
      "- error count: 101\n",
      "\n",
      "\n",
      " ERROR at: \n",
      " {'egg_count': 2, 'floor_count': 100, 'max_floor': 0} \n",
      " - TypeError ('method' object is not subscriptable)\n",
      "\n",
      "\n",
      " ERROR at: \n",
      " {'egg_count': 2, 'floor_count': 100, 'max_floor': 1} \n",
      " - TypeError ('method' object is not subscriptable)\n",
      "\n",
      "\n",
      " ERROR at: \n",
      " {'egg_count': 2, 'floor_count': 100, 'max_floor': 2} \n",
      " - TypeError ('method' object is not subscriptable)\n",
      "\n",
      "\n",
      " ERROR at: \n",
      " {'egg_count': 2, 'floor_count': 100, 'max_floor': 3} \n",
      " - TypeError ('method' object is not subscriptable)\n",
      "\n",
      "\n",
      " ERROR at: \n",
      " {'egg_count': 2, 'floor_count': 100, 'max_floor': 4} \n",
      " - TypeError ('method' object is not subscriptable)\n",
      "\n",
      "\n",
      " ERROR at: \n",
      " {'egg_count': 2, 'floor_count': 100, 'max_floor': 5} \n",
      " - TypeError ('method' object is not subscriptable)\n",
      "\n",
      "\n",
      " ERROR at: \n",
      " {'egg_count': 2, 'floor_count': 100, 'max_floor': 6} \n",
      " - TypeError ('method' object is not subscriptable)\n",
      "\n",
      "\n",
      " ERROR at: \n",
      " {'egg_count': 2, 'floor_count': 100, 'max_floor': 7} \n",
      " - TypeError ('method' object is not subscriptable)\n",
      "\n",
      "\n",
      " ERROR at: \n",
      " {'egg_count': 2, 'floor_count': 100, 'max_floor': 8} \n",
      " - TypeError ('method' object is not subscriptable)\n",
      "\n",
      "\n",
      " ERROR at: \n",
      " {'egg_count': 2, 'floor_count': 100, 'max_floor': 9} \n",
      " - TypeError ('method' object is not subscriptable)\n"
     ]
    }
   ],
   "source": [
    "eggdrop_100floor_2egg.evaluate(eggsolution1)"
   ]
  },
  {
   "cell_type": "code",
   "execution_count": null,
   "metadata": {},
   "outputs": [],
   "source": []
  },
  {
   "cell_type": "code",
   "execution_count": null,
   "metadata": {},
   "outputs": [],
   "source": []
  }
 ],
 "metadata": {
  "kernelspec": {
   "display_name": "Python 3",
   "language": "python",
   "name": "python3"
  },
  "language_info": {
   "codemirror_mode": {
    "name": "ipython",
    "version": 3
   },
   "file_extension": ".py",
   "mimetype": "text/x-python",
   "name": "python",
   "nbconvert_exporter": "python",
   "pygments_lexer": "ipython3",
   "version": "3.6.5"
  }
 },
 "nbformat": 4,
 "nbformat_minor": 2
}
