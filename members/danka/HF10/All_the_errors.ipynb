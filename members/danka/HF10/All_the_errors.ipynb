{
 "cells": [
  {
   "cell_type": "markdown",
   "metadata": {},
   "source": [
    "## Adatok"
   ]
  },
  {
   "cell_type": "code",
   "execution_count": null,
   "metadata": {},
   "outputs": [],
   "source": [
    "import json"
   ]
  },
  {
   "cell_type": "code",
   "execution_count": null,
   "metadata": {},
   "outputs": [],
   "source": [
    "my_years = [2010, 2011, 2012, 2013, 2014, 2015, 2016, 2017, 2018, 2019]\n",
    "\n",
    "path_to_file = []\n",
    "for years in my_years:\n",
    "    path_to_file.append ('data/{}-msg.json'.format(years))\n",
    "print(path_to_file)\n",
    "\n",
    "list_of_dicts = []\n",
    "for dicts in path_to_file:\n",
    "    list_of_dicts.append (json.load(open(dicts, 'r')))\n",
    "\n",
    "flat_dicts = []\n",
    "for dictlist in list_of_dicts:\n",
    "    for dicts in dictlist:\n",
    "        flat_dicts.append(dicts)"
   ]
  },
  {
   "cell_type": "markdown",
   "metadata": {},
   "source": [
    "## Általános kódok"
   ]
  },
  {
   "cell_type": "markdown",
   "metadata": {},
   "source": [
    "### Group by sender_name"
   ]
  },
  {
   "cell_type": "code",
   "execution_count": null,
   "metadata": {},
   "outputs": [],
   "source": [
    "def group_by(flat_dicts):\n",
    "    user_dicts = {}\n",
    "    for dicts in flat_dicts:\n",
    "        if dicts['sender_name'] not in user_dicts.keys():\n",
    "            user_dicts[dicts['sender_name']] = [dicts]\n",
    "        else:\n",
    "            user_dicts[dicts['sender_name']].append(dicts)\n",
    "    return user_dicts"
   ]
  },
  {
   "cell_type": "code",
   "execution_count": null,
   "metadata": {},
   "outputs": [],
   "source": [
    "user_dicts = group_by(flat_dicts)"
   ]
  },
  {
   "cell_type": "markdown",
   "metadata": {},
   "source": [
    "### Group by hour"
   ]
  },
  {
   "cell_type": "code",
   "execution_count": null,
   "metadata": {},
   "outputs": [],
   "source": [
    "def group_by_hour(flat_dicts):\n",
    "    hour_dicts = {}\n",
    "    for dicts in flat_dicts:\n",
    "        if dicts['hour'] not in hour_dicts.keys():\n",
    "            hour_dicts[dicts['hour']] = [dicts]\n",
    "        else:\n",
    "            hour_dicts[dicts['hour']].append(dicts)\n",
    "    return hour_dicts"
   ]
  },
  {
   "cell_type": "code",
   "execution_count": null,
   "metadata": {},
   "outputs": [],
   "source": [
    "hour_dicts = group_by_hour(flat_dicts)"
   ]
  },
  {
   "cell_type": "markdown",
   "metadata": {},
   "source": [
    "### Group by thread_path"
   ]
  },
  {
   "cell_type": "code",
   "execution_count": null,
   "metadata": {},
   "outputs": [],
   "source": [
    "def group_by_path(flat_dicts):\n",
    "    thread_path_dicts = {}\n",
    "    for dicts in flat_dicts:\n",
    "        if dicts['thread_path'] not in thread_path_dicts.keys():\n",
    "            thread_path_dicts[dicts['thread_path']] = [dicts]\n",
    "        else:\n",
    "            thread_path_dicts[dicts['thread_path']].append(dicts)\n",
    "\n",
    "    return thread_path_dicts"
   ]
  },
  {
   "cell_type": "code",
   "execution_count": null,
   "metadata": {},
   "outputs": [],
   "source": [
    "thread_path_dicts = group_by_path(flat_dicts)"
   ]
  },
  {
   "cell_type": "markdown",
   "metadata": {},
   "source": [
    "\n",
    "\n",
    "\n",
    "# Explore feladatok"
   ]
  },
  {
   "cell_type": "markdown",
   "metadata": {},
   "source": [
    "### E.1. melyik vagyok én? (1 pont)"
   ]
  },
  {
   "cell_type": "code",
   "execution_count": null,
   "metadata": {},
   "outputs": [],
   "source": []
  },
  {
   "cell_type": "markdown",
   "metadata": {},
   "source": [
    "### E.2. melyik a jeszk-moments? (2 pont)"
   ]
  },
  {
   "cell_type": "code",
   "execution_count": null,
   "metadata": {},
   "outputs": [],
   "source": [
    "for dic in flat_dicts:\n",
    "    if (dic['month'] == 10 and dic['day'] == 16 and dic['hour'] == 23 and dic['minute'] == 54):\n",
    "        print(flat_dicts.index(dic))\n",
    "flat_dicts[262394]\n",
    "flat_dicts[275103]"
   ]
  },
  {
   "cell_type": "markdown",
   "metadata": {},
   "source": [
    "### E.3. melyik a 2017-es db-cset? (5 pont)"
   ]
  },
  {
   "cell_type": "code",
   "execution_count": null,
   "metadata": {},
   "outputs": [],
   "source": [
    "for dic in list_of_dicts_2017:\n",
    "    if (dic['month'] == 2 and dic['day'] == 10 and dic['hour'] == 12 and dic['minute'] == 20):\n",
    "        print(list_of_dicts_2017.index(dic))"
   ]
  },
  {
   "cell_type": "markdown",
   "metadata": {},
   "source": [
    "### E.4. hányan vannak akik minden évben küldtek üzenetet? (3 pont)"
   ]
  },
  {
   "cell_type": "code",
   "execution_count": null,
   "metadata": {},
   "outputs": [],
   "source": [
    "users_list = []\n",
    "for dicts in flat_dicts:\n",
    "        if dicts['sender_name'] not in users_list:\n",
    "            users_list.append(dicts['sender_name'])\n",
    "names_years_dic = {}\n",
    "for year in year_list: \n",
    "    names_years_dic[year] = []\n",
    "for dicts in flat_dicts:\n",
    "    for year in range(2010, 2020):\n",
    "        if dicts['year'] == year:\n",
    "            if dicts['sender_name'] not in names_years_dic[year]:\n",
    "                names_years_dic[year].append(dicts['sender_name'])\n",
    "len(names_years_dic[2019])"
   ]
  },
  {
   "cell_type": "markdown",
   "metadata": {},
   "source": [
    "### E.5. hányan vannak akik pontosan n évben küldtek üzenetet (2 pont, ábrázolásért +1)"
   ]
  },
  {
   "cell_type": "code",
   "execution_count": null,
   "metadata": {},
   "outputs": [],
   "source": [
    "def group_by(flat_dicts):\n",
    "    user_dicts = {}\n",
    "    for dicts in flat_dicts:\n",
    "        if dicts['sender_name'] not in user_dicts.keys():\n",
    "            user_dicts[dicts['sender_name']] = [dicts]\n",
    "        else:\n",
    "            user_dicts[dicts['sender_name']].append(dicts)\n",
    "    return user_dicts\n",
    "\n",
    "for dicts in flat_dicts:\n",
    "    for year in range(2010, 2020):\n",
    "        if dicts['type'] == 'Generic':\n",
    "            if dicts['year'] == year:\n",
    "                if dicts['sender_name'] not in names_years_dic[year]:\n",
    "                    names_years_dic[year].append(dicts['sender_name'])\n",
    "                    \n",
    "def group_by(flat_dicts):\n",
    "    user_dicts = {}\n",
    "    for dicts in flat_dicts:\n",
    "        if dicts['sender_name'] not in user_dicts.keys():\n",
    "            user_dicts[dicts['sender_name']] = [dicts]\n",
    "        else:\n",
    "            user_dicts[dicts['sender_name']].append(dicts)\n",
    "    return user_dicts\n",
    "\n",
    "def appendfrequency(names_years_dic):\n",
    "    year_user_dic = {}\n",
    "    for keys, values in names_years_dic.items():\n",
    "        if dicts['type'] == 'Generic':\n",
    "            for names in values:\n",
    "                if names not in year_user_dic.keys():\n",
    "                    year_user_dic[names] = [keys]\n",
    "                else:\n",
    "                    year_user_dic[names].append(keys)\n",
    "    return year_user_dic\n",
    "\n",
    "year_user_dic = appendfrequency(names_years_dic)\n",
    "year_user_dic\n",
    "year_list = [2010, 2011, 2012, 2013, 2014, 2015, 2016, 2017, 2017, 2018, 2019]\n",
    "res = {idx : sum(1 for i in j if i in year_list) for idx, j in year_user_dic.items()}\n",
    "res\n",
    "\n",
    "for keys, values in res.items():\n",
    "    n_mess = 0\n",
    "    for num in res.values():\n",
    "        if num == 4:\n",
    "            n_mess = n_mess + 1\n",
    "n_mess"
   ]
  },
  {
   "cell_type": "markdown",
   "metadata": {},
   "source": [
    "### E.6. ki írja átlagosan a leghosszabb üzeneteket? (2 pont)"
   ]
  },
  {
   "cell_type": "code",
   "execution_count": null,
   "metadata": {},
   "outputs": [],
   "source": [
    "def av_long_msg(user_dicts):\n",
    "    av_long_dict = {}\n",
    "    for key, value in user_dicts.items():\n",
    "        summ = 0\n",
    "        divider = 0\n",
    "        for dic in value:\n",
    "            summ = summ + dic.get('content_l')\n",
    "            divider = divider + 1\n",
    "        av_long_msg = summ / divider\n",
    "        av_long_dict[key] = [av_long_msg]\n",
    "    return av_long_dict"
   ]
  },
  {
   "cell_type": "code",
   "execution_count": 36,
   "metadata": {},
   "outputs": [],
   "source": [
    "av_long_dicts = av_long_msg(user_dicts)"
   ]
  },
  {
   "cell_type": "code",
   "execution_count": 73,
   "metadata": {},
   "outputs": [],
   "source": [
    "def fun(x):\n",
    "    return (x[1])"
   ]
  },
  {
   "cell_type": "code",
   "execution_count": 74,
   "metadata": {},
   "outputs": [],
   "source": [
    "sorted_av_long_dicts = sorted(av_long_dicts.items(), key=fun, reverse = True)"
   ]
  },
  {
   "cell_type": "code",
   "execution_count": 42,
   "metadata": {},
   "outputs": [
    {
     "name": "stdout",
     "output_type": "stream",
     "text": [
      "[('Sally Field', [427.0]), ('Gwyneth Paltrow', [405.5]), ('Jackie Earle Haley', [393.0]), ('Samantha Morton', [386.0]), ('Toni Collette', [348.85714285714283]), ('Shirley Jones', [347.0]), ('Barbra Streisand', [311.3333333333333]), ('Michael Fassbender', [307.6666666666667]), ('Walter Matthau', [302.5]), ('Melvyn Douglas', [300.0]), ('Lee Marvin', [295.0]), ('Morgan Freeman', [255.0]), ('Charles Laughton', [248.9344262295082]), ('Vanessa Redgrave', [248.66666666666666]), (\"Lupita Nyong'o\", [237.0]), ('Coldplay', [223.8]), ('Beyoncé', [220.0]), ('Simon Cowell', [211.6153846153846]), ('Fay Bainter', [204.0]), ('Anjelica Huston', [202.0]), ('Liza Minnelli', [182.0]), ('Maggie Gyllenhaal', [174.84415584415584]), ('Joseph Schildkraut', [169.21052631578948]), ('NSYNC', [161.0]), ('Melissa Leo', [155.5]), ('Jennifer Lopez', [154.3]), ('Tilda Swinton', [148.75]), ('Justin Bieber', [146.36363636363637]), (\"Tatum O'Neal\", [146.16666666666666]), ('Felicity Jones', [145.0]), ('Ben Johnson', [137.0]), ('The Eagles', [135.28571428571428]), ('Barry Fitzgerald', [133.10714285714286]), ('Gary Cooper', [125.5]), ('Geoffrey Rush', [125.42307692307692]), ('Dr. Dre', [124.66666666666667]), ('J. K. Simmons', [124.0]), ('Mickey Rourke', [123.66666666666667]), ('Marina de Tavira', [123.16666666666667]), ('Michael Caine', [121.5]), ('Jack Palance', [117.0]), ('James Cagney', [115.0]), ('Robert Downey Jr.', [109.74193548387096]), ('Alicia Vikander', [109.57142857142857]), (\"Shaquille O'Neal\", [109.33333333333333]), ('Sam Rockwell', [109.25]), ('Mare Winningham', [108.5]), ('Terrence Howard', [106.0]), ('Lauren Bacall', [105.92307692307692]), ('Josephine Hull', [103.96052631578948]), ('Paul Newman', [102.12820512820512]), ('Ethan Hawke', [101.0]), ('Ryan Gosling', [100.52941176470588]), ('Cristiano Ronaldo', [99.33333333333333]), ('Mercedes Ruehl', [97.0]), ('Richard E. Grant', [96.6]), ('Michael Lerner', [93.8]), ('Benicio del Toro', [93.66666666666667]), ('Taylor Swift', [93.41954022988506]), ('Felicity Huffman', [92.0952380952381]), ('Alan Arkin', [92.0]), ('Ruth Negga', [90.21052631578948]), ('Anna Kendrick', [89.5]), ('Richard Farnsworth', [88.0]), ('Joel Grey', [86.42857142857143]), ('Gabourey Sidibe', [86.0]), ('Backstreet Boys', [85.0]), ('James Woods', [84.83333333333333]), ('Mary McDonnell', [84.0]), ('Bill Murray', [83.71428571428571]), ('Rachel Weisz', [83.0]), ('Johnny Depp', [82.82608695652173]), ('Elton John', [82.5]), ('Angela Bassett', [81.45833333333333]), ('Julie Andrews', [81.22222222222223]), ('Allison Janney', [81.2]), ('Britney Spears', [81.0]), ('J. K. Rowling', [80.54545454545455]), ('Joan Fontaine', [80.0]), ('George Lucas', [79.25]), ('Miranda Richardson', [78.38461538461539]), ('Abigail Breslin', [77.1858407079646]), ('Nigel Hawthorne', [77.0]), ('Laurie Metcalf', [75.32142857142857]), ('Ingrid Bergman', [75.25]), ('Rami Malek', [75.0]), ('Yalitza Aparicio', [74.5]), ('Holly Hunter', [73.0]), ('Tommy Lee Jones', [72.0]), ('Oprah Winfrey', [71.61111111111111]), ('Helen Mirren', [71.52941176470588]), ('Anne Revere', [71.4015748031496]), ('Gloria Stuart', [71.375]), ('George C. Scott §', [71.33333333333333]), ('Michael Jordan', [71.0]), ('Meryl Streep', [70.825]), ('Margot Robbie', [70.61748633879782]), ('Canelo Alvarez', [69.75]), ('Chris Cooper', [69.41666666666667]), ('Patricia Neal', [68.5]), ('Linda Hunt', [66.87058823529412]), ('Martin Balsam', [66.72406181015452]), ('John Travolta', [66.65168539325843]), ('Penélope Cruz', [65.27777777777777]), ('George Kennedy', [65.27272727272727]), ('James Franco', [65.0]), ('Sharon Stone', [64.0]), ('Mark Wahlberg', [63.5]), ('Jessica Lange', [63.46341463414634]), ('Chloë Sevigny', [63.12407363136505]), ('Jack Lemmon', [61.66525958272683]), ('Rosemary Harris', [61.55957230142566]), ('George Chakiris', [61.11538461538461]), ('Dorothy Malone', [60.40654205607477]), ('Jane Fonda', [59.28200721773501]), ('Robert De Niro', [59.2195945945946]), ('Lionel Messi', [59.0]), ('Halle Berry', [58.943548387096776]), ('Kim Hunter', [58.925196850393704]), ('Matt Dillon', [58.39393939393939]), ('The Beatles', [58.125]), (\"Edmond O'Brien\", [57.91181364392679]), ('Janet McTeer', [57.61402095084609]), ('Madonna', [57.0]), ('Julie Walters', [57.0]), ('Cher', [56.953271028037385]), ('Mary Steenburgen', [56.64492753623188]), ('Jude Law', [56.58186397984887]), ('Bradley Cooper', [56.575]), ('Maggie Smith', [56.5]), ('Jesse Eisenberg', [56.375586854460096]), ('Naomie Harris', [56.3]), ('Julianne Moore', [56.294117647058826]), ('Joan Plowright', [56.0]), ('Martin Landau', [56.0]), ('Cuba Gooding Jr.', [55.88452520515826]), ('Clive Owen', [55.29545454545455]), ('Uma Thurman', [55.25]), ('Jerry Seinfeld', [55.14031971580817]), ('Jennifer Hudson', [54.532170119956376]), ('Hailee Steinfeld', [54.44881889763779]), ('Lady Gaga', [54.30769230769231]), ('Marisa Tomei', [54.25]), ('Sophie Okonedo', [54.0]), ('Miyoshi Umeki', [54.0]), ('Joan Allen', [53.92307692307692]), ('Kate Nelligan', [53.92]), ('John Mills', [53.811764705882354]), ('Sophia Loren', [53.666666666666664]), ('William Hurt', [53.66184448462929]), ('Denzel Washington', [53.55102040816327]), ('John Houseman', [53.48275862068966]), ('Helen Hunt', [53.3]), ('Brenda Fricker', [53.02884615384615]), ('Mira Sorvino', [53.0]), ('Neymar', [52.96]), ('Marie Dressler', [52.8671875]), ('Dean Jagger', [52.75]), ('Kristin Scott Thomas', [52.49738219895288]), ('The Weeknd', [52.03333333333333]), ('Greer Garson', [51.75]), ('Julia Roberts', [51.528301886792455]), ('Cliff Robertson', [51.23686818632309]), ('Peter Ustinov', [51.087278106508876]), ('Debra Winger', [51.0]), ('Phil McGraw', [50.8]), ('Daniel Day-Lewis', [50.666666666666664]), ('Thomas Mitchell', [50.43249877270496]), ('Liam Neeson', [50.30769230769231]), ('Sandy Dennis', [49.72727272727273]), ('Diane Ladd', [49.666666666666664]), ('Yul Brynner', [49.41692789968652]), ('Jim Broadbent', [49.26470588235294]), ('Jodie Foster', [49.11351351351351]), ('Alec Baldwin', [48.99636363636364]), ('Ed Begley', [48.70145310435932]), ('Laurence Fishburne', [48.666666666666664]), ('Goldie Hawn', [48.61290322580645]), ('Ed Sheeran', [48.5]), ('Burt Reynolds', [48.333333333333336]), ('The Police', [48.22222222222222]), ('Kathleen Quinlan', [48.06086956521739]), ('Peter Finch', [48.0]), ('Matt Damon', [48.0]), ('Van Heflin', [48.0]), ('Michael Douglas', [47.94038748137109]), ('Roger Federer', [47.75]), ('Don Cheadle', [47.357142857142854]), ('Jake Gyllenhaal', [47.26923076923077]), ('Burt Lancaster', [47.12844036697248]), ('Rooney Mara', [47.10588235294118]), ('Kylie Jenner', [46.90909090909091]), ('Rachel Griffiths', [46.5026455026455]), ('Rod Steiger', [46.47963800904977]), ('Ken Watanabe', [46.35918367346939]), ('Robert Duvall', [46.35143769968051]), ('Jennifer Aniston', [46.311286843997124]), ('Bérénice Bejo', [46.25]), ('Jeremy Irons', [46.248520710059175]), ('Mariah Carey', [46.17424242424242]), (\"Peter O'Toole\", [46.142857142857146]), ('Cate Blanchett', [46.0]), ('David Beckham', [46.0]), ('Tim Robbins', [45.75056861258529]), ('Floyd Mayweather', [45.59910913140312]), ('Eddie Redmayne', [45.59178204555605]), ('Marcia Gay Harden', [45.56808510638298]), ('Judi Dench', [45.54545454545455]), ('Bruce Willis', [45.476190476190474]), ('Olivia de Havilland', [45.42724458204334]), ('Max von Sydow', [45.330330330330334]), ('Alice Brady', [45.25757575757576]), ('Sean Connery', [45.227450980392156]), ('Tim Roth', [45.05681818181818]), ('Henry Fonda', [45.05555555555556]), ('Dwayne Johnson', [45.0]), ('Jack Albertson', [44.36296296296296]), ('George Sanders', [44.35568513119534]), ('Mercedes McCambridge', [44.111111111111114]), ('Will Smith', [44.0]), ('Audrey Hepburn', [44.0]), ('Minnie Driver', [44.0]), ('Ruth Gordon', [43.74740484429066]), ('Whoopi Goldberg', [43.74731257852855]), ('Bruce Dern', [43.739644970414204]), ('John Malkovich', [43.71474358974359]), ('Lesley Manville', [43.57142857142857]), ('Harold Russell', [43.49122807017544]), ('Ellen Burstyn', [43.39607843137255]), ('Elisabeth Shue', [43.37354085603113]), ('Gregory Peck', [43.33519553072626]), ('Rosamund Pike', [43.32447954055994]), ('Robin Williams', [43.25]), ('José Ferrer', [43.24824473420261]), ('Nick Nolte', [43.0]), ('Loretta Young', [43.0]), ('Nicole Kidman', [43.0]), ('Jennifer Jason Leigh', [43.0]), ('Lynn Redgrave', [43.0]), ('Warner Baxter', [43.0]), ('Michelle Pfeiffer', [43.0]), ('F. Murray Abraham', [43.0]), ('Albert Finney', [43.0]), ('Claudette Colbert', [43.0]), ('Kathy Bates', [43.0]), ('Paul Lukas', [43.0]), ('June Squibb', [43.0]), ('Haing S. Ngor', [42.85641025641026]), ('Ginger Rogers', [42.82183908045977]), ('Bing Crosby', [42.76820660891883]), ('Red Buttons', [42.666666666666664]), ('Richard Jenkins', [42.638297872340424]), ('Gloria Grahame', [42.5]), ('Laura Dern', [42.061648280337444]), ('Anne Baxter', [42.0]), ('Quvenzhané Wallis', [42.0]), ('Hugh Jackman', [42.0]), ('Floyd Mayweather, Jr.', [42.0]), ('Anthony Hopkins', [41.90231092436975]), ('Vera Farmiga', [41.8932384341637]), ('Mark Ruffalo', [41.846416382252556]), ('Peggy Ashcroft', [41.70338983050848]), ('Chazz Palminteri', [41.641966190710654]), ('Mel Gibson', [41.59975369458128]), ('Susan Sarandon', [41.543413173652695]), ('Rihanna', [41.40112994350282]), ('Jeff Bridges', [41.36923076923077]), ('Kobe Bryant', [41.04076086956522]), ('J.K. Rowling', [41.0]), ('Thomas Haden Church', [41.0]), ('Barbara Hershey', [41.0]), ('Tom Wilkinson', [41.0]), ('Shirley MacLaine', [41.0]), ('Anne Hathaway', [41.0]), (\"Sean 'Diddy' Combs\", [41.0]), ('Ed Harris', [40.91370174110522]), ('Alec Guinness', [40.806763285024154]), ('Gary Oldman', [40.80245398773006]), ('Bryan Cranston', [40.71356783919598]), ('Saoirse Ronan', [40.515151515151516]), ('Viola Davis', [40.38095238095238]), ('50 Cent', [40.25688073394495]), ('Kim Kardashian', [40.17567567567568]), ('Brie Larson', [40.140625]), ('Bruce Springsteen', [40.06317689530686]), ('Andrew Garfield', [40.0]), ('Ben Kingsley', [40.0]), ('Frank Sinatra', [39.7887323943662]), ('Mary Pickford', [39.77777777777778]), ('Haley Joel Osment', [39.685344827586206]), ('Clark Gable', [39.642857142857146]), ('Louis Gossett Jr.', [39.592592592592595]), ('Reese Witherspoon', [39.5]), ('Jason Robards', [39.351351351351354]), ('Jamie Foxx', [39.296231884057974]), ('Jennifer Lawrence', [39.21052631578947]), ('Wallace Beery', [39.15677966101695]), ('Judy Sheindlin', [39.0]), ('Juliette Lewis', [38.980606060606064]), ('The Rolling Stones', [38.9375]), ('Glenn Close', [38.9375]), ('Brad Pitt', [38.89577464788732]), ('Emil Jannings', [38.779661016949156]), ('Mark Rylance', [38.774193548387096]), ('James Stewart', [38.5]), ('Céline Dion', [38.48913043478261]), ('Colin Firth', [38.16544117647059]), ('Keira Knightley', [38.142857142857146]), ('Sylvester Stallone', [38.03636363636364]), ('Tom Hardy', [38.0]), ('Dev Patel', [38.0]), ('Rex Harrison', [37.94444444444444]), ('Manny Pacquiao', [37.85748709122203]), ('John Hawkes', [37.7109375]), ('Harrison Ford', [37.69230769230769]), ('David Strathairn', [37.666666666666664]), ('Christian Bale', [37.47727272727273]), ('Paul McCartney', [37.45934065934066]), ('David Paymer', [37.394557823129254]), ('Helena Bonham Carter', [37.38181818181818]), ('Robert Donat', [37.3469387755102]), ('Laurence Olivier', [37.2]), ('Salma Hayek', [37.137142857142855]), ('Jessica Tandy', [37.03974895397489]), ('Anna Magnani', [37.02857142857143]), ('William Holden', [37.0]), ('Joe Pesci', [36.92204301075269]), ('Jon Voight', [36.90909090909091]), ('Norma Shearer', [36.79611650485437]), ('Garth Brooks', [36.75871766029246]), ('Javier Bardem', [36.6968085106383]), ('Taraji P. Henson', [36.593476531424024]), ('Djimon Hounsou', [36.54054054054054]), ('Robert Downey, Jr.', [36.50847457627118]), ('Dan Brown', [36.48570876786404]), ('Melissa McCarthy', [36.15523059617548]), ('/ One Direction', [36.15]), ('Natalie Portman', [36.116279069767444]), ('Gale Sondergaard', [36.0]), ('Faye Dunaway', [35.91314741035857]), ('Bette Davis', [35.79658952496955]), ('Lee Grant', [35.67741935483871]), ('Samuel L. Jackson', [35.565156794425086]), ('Greg Kinnear', [35.396153846153844]), ('Brenda Blethyn', [35.18803418803419]), ('Patricia Arquette', [35.16905901116427]), ('James Coburn', [35.0]), ('Christopher Walken', [34.97540751947199]), ('George Clooney', [34.68235294117647]), ('Margaret Rutherford', [34.63887630267331]), ('Diane Lane', [34.61290322580645]), ('Geena Davis', [34.543083900226755]), ('Jessica Chastain', [34.48936170212766]), ('Wendy Hiller', [34.42282507015903]), ('Jennifer Jones', [34.37837837837838]), ('Marlon Brando §', [34.353968253968254]), ('Barkhad Abdi', [34.27542372881356]), ('Al Pacino', [34.27111111111111]), ('Walter Brennan', [34.0]), ('Dianne Wiest', [33.96488946684005]), ('James Cromwell', [33.888489208633096]), ('Emma Stone', [33.858536585365854]), ('Joanne Woodward', [33.853717026378895]), ('Hugh Griffith', [33.67722007722008]), ('Marianne Jean-Baptiste', [33.54851485148515]), ('Forest Whitaker', [33.45358306188925]), ('Anthony Quinn', [33.333333333333336]), ('Gig Young', [33.285714285714285]), ('Rosie Perez', [33.27237354085603]), ('Bette Midler', [33.27058823529412]), ('Sissy Spacek', [33.15384615384615]), ('William H. Macy', [33.148936170212764]), ('Katina Paxinou', [33.0]), ('Charlton Heston', [33.0]), ('Michael Keaton', [32.598601398601396]), ('Diane Keaton', [32.47330097087379]), ('Ray Milland', [32.408]), ('Edmund Gwenn', [32.37685459940653]), ('Keisha Castle-Hughes', [32.34893617021277]), ('Estelle Parsons', [32.22727272727273]), ('Benedict Cumberbatch', [32.0]), ('Rachel McAdams', [31.8]), ('Christoph Waltz', [31.776726584673604]), ('James Dunn', [31.668639053254438]), ('Annette Bening', [31.630434782608695]), ('Philip Seymour Hoffman', [31.571428571428573]), ('Amy Ryan', [31.511363636363637]), ('Chiwetel Ejiofor', [31.4]), ('Ellen DeGeneres', [31.380116959064328]), ('Humphrey Bogart', [31.37037037037037]), ('Kevin Kline', [31.333333333333332]), ('Warren Beatty', [31.3215859030837]), ('Spice Girls', [31.024495200264813]), ('Ethel Barrymore', [31.0]), ('Lila Kedrova', [31.0]), ('Frances McDormand', [31.0]), ('Spencer Tracy', [30.966037735849056]), ('Catherine Deneuve', [30.945479540856812]), ('John Wayne', [30.88888888888889]), ('Elizabeth Taylor', [30.8125]), ('LeBron James', [30.699386503067483]), ('Adrien Brody', [30.575163398692812]), ('Brad Pitt/ Paula Deen', [30.508854781582055]), ('Regina King', [30.486486486486488]), ('Jane Darwell', [30.478552278820377]), ('Sally Hawkins', [30.443946188340806]), ('Shohreh Aghdashloo', [30.424242424242426]), ('Glenda Jackson', [30.42168674698795]), ('Marion Cotillard', [30.413998510796723]), ('Ralph Fiennes', [30.375]), ('Stephen Rea', [30.307692307692307]), ('Joaquin Phoenix', [30.2]), ('Janet Gaynor', [30.0]), ('Michael Shannon', [30.0]), ('Emmanuelle Riva', [30.0]), ('Edward Norton', [30.0]), ('Sean Penn', [30.0]), ('Patty Duke', [30.0]), ('Roberto Benigni', [29.94142259414226]), ('Adam Driver', [29.666666666666668]), ('Jo Van Fleet', [29.565671641791045]), ('Teresa Wright', [29.413527980535278]), ('Eminem/ Dr. Dre', [29.36082474226804]), ('Hilary Swank', [29.275862068965516]), ('Geraldine Page', [29.264655172413793]), ('Dustin Hoffman', [29.124505928853754]), ('Sam Elliott', [29.058823529411764]), ('Art Carney', [29.0]), ('Tom Hanks', [29.0]), ('Sidney Poitier', [29.0]), ('U2', [29.0]), ('Kevin Spacey', [29.0]), ('Mary Astor', [29.0]), ('Angelina Jolie', [28.90950226244344]), ('Frank Langella', [28.833333333333332]), ('Kate Winslet', [28.833333333333332]), ('Louise Fletcher', [28.711409395973153]), ('Victor McLaglen', [28.697318007662837]), ('Rush Limbaugh', [28.663081193615543]), ('Steve Carell', [28.64983164983165]), ('Claire Trevor', [28.6]), ('Catherine Keener', [28.497310977538753]), ('Lionel Barrymore', [28.4]), ('Naomi Watts', [28.134615384615383]), ('Ben Affleck', [28.121776504297994]), ('Susan Hayward', [28.0]), ('Leonardo DiCaprio', [27.83823529411765]), ('Massimo Troisi', [27.692737430167597]), ('Woody Harrelson', [27.63157894736842]), ('Maureen Stapleton', [27.62771285475793]), ('Jeremy Renner', [27.615384615384617]), ('Fernanda Montenegro', [27.615384615384617]), ('Julie Christie', [27.5]), ('Timothée Chalamet', [27.323785803237858]), ('Kim Basinger', [27.0]), ('Jennifer Tilly', [27.0]), ('Hal Holbrook', [27.0]), ('Katharine Hepburn', [26.85054945054945]), ('Helen Hayes', [26.8125]), ('Paul Scofield', [26.8]), ('Billy Bob Thornton', [26.72222222222222]), ('Katy Perry', [26.682978723404254]), ('Kenneth Branagh', [26.612962962962964]), ('Donna Reed', [26.576271186440678]), ('John Gielgud', [26.505353319057814]), ('Karl Malden', [26.49581589958159]), ('Broderick Crawford', [26.352941176470587]), ('Clint Eastwood', [26.3]), ('Willem Dafoe', [26.210526315789473]), ('Steven Spielberg', [26.2]), ('Grace Kelly', [26.05263157894737]), ('Christopher Plummer', [25.781954887218046]), ('Nicolas Cage', [25.666666666666668]), ('Jennifer Connelly', [25.38095238095238]), ('Charles Coburn', [25.05]), ('Judy Davis', [25.03252032520325]), ('Richard Dreyfuss', [25.0]), ('Charlize Theron', [24.9]), ('Mahershala Ali', [24.745019920318725]), ('James Cameron', [24.685082872928177]), ('Paul Giamatti', [24.6]), ('Joan Crawford', [24.591836734693878]), ('Cloris Leachman', [24.519507186858316]), ('Howard Stern', [24.38943894389439]), ('Jared Leto', [24.297520661157026]), ('Vivien Leigh', [24.070422535211268]), ('Josh Brolin', [23.958333333333332]), (\"Mo'Nique\", [23.476923076923075]), ('Jaye Davidson', [23.428571428571427]), ('Jay-Z', [23.4]), ('Walter Huston', [23.4]), ('Jean Dujardin', [23.298561151079138]), ('Daniel Kaluuya', [23.284644194756556]), ('Michael Clarke Duncan', [23.181818181818183]), ('George Arliss', [23.081967213114755]), ('Drake', [22.925]), ('Bon Jovi', [22.60330578512397]), ('Pete Postlethwaite', [22.58]), ('Ian McKellen', [22.451612903225808]), ('Timothy Hutton', [22.3125]), ('Jacki Weaver', [22.0]), ('Fredric March', [21.807692307692307]), ('Stockard Channing', [21.666666666666668]), ('Catalina Sandino Moreno', [21.26086956521739]), ('Winona Ryder', [21.25]), ('Judy Holliday', [21.0]), ('Imelda Staunton', [21.0]), ('Eileen Heckart', [20.833333333333332]), ('Don Ameche', [20.763698630136986]), ('Ronald Colman', [20.76208487084871]), ('Rinko Kikuchi', [20.666666666666668]), ('Juliette Binoche', [20.431818181818183]), ('Peter Fonda', [20.0]), ('Russell Crowe', [19.721649484536083]), ('Adriana Barraza', [19.639344262295083]), ('Amy Adams', [19.5]), ('Jack Nicholson', [19.272727272727273]), ('Olivia Colman', [19.170212765957448]), ('Olympia Dukakis', [18.976190476190474]), ('Queen Latifah', [18.88235294117647]), ('Shirley Booth', [18.416666666666668]), ('Simone Signoret', [17.5]), ('Beatrice Straight', [17.5]), ('Kate Hudson', [17.0]), ('Tom Cruise', [16.25925925925926]), ('Donald Crisp', [16.0]), ('Kevin Hart', [15.0]), ('Virginia Madsen', [14.75]), ('Gary Sinise', [14.572987721691678]), ('David Niven', [14.5]), ('Charlotte Rampling', [14.5]), ('Viggo Mortensen', [13.6]), ('Burl Ives', [13.5]), ('Matthew McConaughey', [13.461538461538462]), ('John C. Reilly', [13.333333333333334]), ('Gene Hackman', [12.0]), ('Isabelle Huppert', [12.0]), ('Adele', [11.333333333333334]), ('Marlee Matlin', [11.0]), ('Carey Mulligan', [10.333333333333334]), ('Eddie Murphy', [10.0]), ('Sandra Bullock', [10.0]), ('Mary J. Blige', [9.235294117647058]), ('Patricia Clarkson', [7.0]), ('Jane Wyman', [7.0]), ('George Burns', [6.0]), ('Rita Moreno', [5.0]), ('Paul Muni', [5.0]), ('Heath Ledger', [4.0])]\n"
     ]
    }
   ],
   "source": [
    "print(sorted_av_long_dicts)"
   ]
  },
  {
   "cell_type": "code",
   "execution_count": null,
   "metadata": {},
   "outputs": [],
   "source": []
  },
  {
   "cell_type": "markdown",
   "metadata": {},
   "source": [
    "### E.7. ki van bent a második legtöbb csetben? (3 pont)"
   ]
  },
  {
   "cell_type": "code",
   "execution_count": null,
   "metadata": {},
   "outputs": [],
   "source": []
  },
  {
   "cell_type": "markdown",
   "metadata": {},
   "source": [
    "### E.8. melyik az a cset ahol a legtöbb idő telt el két üzenet között és mennyi idő? (4 pont)"
   ]
  },
  {
   "cell_type": "code",
   "execution_count": null,
   "metadata": {},
   "outputs": [],
   "source": [
    "def top_silence(thread_path_dicts):\n",
    "    top_silence_chat = {}\n",
    "    for key, value in thread_path_dicts.items():\n",
    "        sorted_dicts = sorted(value, key=lambda x: (x['timestamp_ms']), reverse=True)\n",
    "        difference = 0\n",
    "        for dic in value:\n",
    "            print(type(dic))\n",
    "            if dic['type'] == 'Generic':\n",
    "                \n",
    "                if difference < dic.next('timestamp_ms') - dic.get('timestamp_ms'):\n",
    "                    difference = dic.next('timestamp_ms') - dic.get('timestamp_ms')\n",
    "    return difference"
   ]
  },
  {
   "cell_type": "markdown",
   "metadata": {},
   "source": [
    "# Függvény feladatok"
   ]
  },
  {
   "cell_type": "markdown",
   "metadata": {},
   "source": [
    "### F.1. megadok egy timestamp-et, ki az eddigi leghosszabb üzenet szerzője? (1 pont)"
   ]
  },
  {
   "cell_type": "code",
   "execution_count": null,
   "metadata": {},
   "outputs": [],
   "source": [
    "def longest_message(user_dicts, timestamp):\n",
    "    longest_message_dicts = {}\n",
    "    for key, value in user_dicts.items():\n",
    "        max_content = 0\n",
    "        for dic in value:\n",
    "            if dic['timestamp_ms'] <= timestamp:\n",
    "                if max_content < dic['content_l']:\n",
    "                    max_content = dic['content_l']\n",
    "                    longest_message_dicts[key] = max_content\n",
    "    return longest_message_dicts"
   ]
  },
  {
   "cell_type": "code",
   "execution_count": null,
   "metadata": {},
   "outputs": [],
   "source": [
    "to_be_sorted_2 = longest_message(user_dicts, 1486539462490)"
   ]
  },
  {
   "cell_type": "code",
   "execution_count": null,
   "metadata": {},
   "outputs": [],
   "source": [
    "longest_message_sender = sorted(to_be_sorted_2.items(), key=lambda x: (x[1]), reverse=True)"
   ]
  },
  {
   "cell_type": "code",
   "execution_count": null,
   "metadata": {},
   "outputs": [],
   "source": [
    "longest_message_sender"
   ]
  },
  {
   "cell_type": "markdown",
   "metadata": {},
   "source": [
    "### F.2. megadok egy timestamp-et, melyik óra eddig a legkevésbé aktív (1 pont)"
   ]
  },
  {
   "cell_type": "code",
   "execution_count": null,
   "metadata": {},
   "outputs": [],
   "source": [
    "def silent_hour(hour_dicts, timestamp):\n",
    "    silent_hour_dicts = {}\n",
    "    for key, value in hour_dicts.items():\n",
    "        events = 0\n",
    "        for dic in value:\n",
    "            if dic['timestamp_ms'] <= timestamp:\n",
    "                events = events + 1\n",
    "                silent_hour_dicts[key] = events\n",
    "    return silent_hour_dicts"
   ]
  },
  {
   "cell_type": "code",
   "execution_count": null,
   "metadata": {},
   "outputs": [],
   "source": [
    "to_be_sorted_3 = silent_hour(hour_dicts, 1486539462490)"
   ]
  },
  {
   "cell_type": "code",
   "execution_count": null,
   "metadata": {},
   "outputs": [],
   "source": [
    "most_silent_hour = sorted(to_be_sorted_3.items(), key=lambda x: (x[1]), reverse=False)"
   ]
  },
  {
   "cell_type": "code",
   "execution_count": null,
   "metadata": {},
   "outputs": [],
   "source": [
    "most_silent_hour"
   ]
  },
  {
   "cell_type": "markdown",
   "metadata": {},
   "source": [
    "### F.3. megadok egy timestamp-et, hányan írtak eddig legalább 10 üzenetet? (3 pont)"
   ]
  },
  {
   "cell_type": "code",
   "execution_count": null,
   "metadata": {},
   "outputs": [],
   "source": [
    "def morethan10_message(user_dicts, timestamp):\n",
    "    morethan10_message_dicts = {}\n",
    "    for key, value in user_dicts.items():\n",
    "        more_content = 0\n",
    "        for dic in value:\n",
    "            if dic['type'] == 'Generic':\n",
    "                if dic['timestamp_ms'] <= timestamp:\n",
    "                    more_content = more_content + 1\n",
    "                    morethan10_message_dicts[key] = more_content\n",
    "    return morethan10_message_dicts"
   ]
  },
  {
   "cell_type": "code",
   "execution_count": null,
   "metadata": {},
   "outputs": [],
   "source": [
    "to_be_sorted_7 = morethan10_message(user_dicts, 1486539462490)"
   ]
  },
  {
   "cell_type": "code",
   "execution_count": null,
   "metadata": {},
   "outputs": [],
   "source": [
    "top_morethan10_chat = sorted(to_be_sorted_7.items(), key=lambda x: (x[1]), reverse=True)"
   ]
  },
  {
   "cell_type": "code",
   "execution_count": null,
   "metadata": {},
   "outputs": [],
   "source": [
    "top_morethan10_chat"
   ]
  },
  {
   "cell_type": "code",
   "execution_count": null,
   "metadata": {},
   "outputs": [],
   "source": [
    "#ezt manuálisan ki kell keresni a kiadott listából :(\n",
    "#ez a feladat 20.55 és 21 között készült el :( \n",
    "\n",
    "a=top_morethan10_chat.index(('Kevin Hart', 10))"
   ]
  },
  {
   "cell_type": "code",
   "execution_count": null,
   "metadata": {},
   "outputs": [],
   "source": [
    "a+1"
   ]
  },
  {
   "cell_type": "markdown",
   "metadata": {},
   "source": [
    "### F.4. megadok egy timestamp-et, mi volt a leghosszabb periódus eddig üzenet nélkül (7 pont)"
   ]
  },
  {
   "cell_type": "code",
   "execution_count": null,
   "metadata": {},
   "outputs": [],
   "source": [
    "def longest_silence(flat_dicts, timestamp):\n",
    "    time_list = []\n",
    "    for dicts in flat_dicts:\n",
    "        if dicts['timestamp_ms'] <= timestamp:\n",
    "            if dicts['type'] == 'Generic':\n",
    "                if dicts['timestamp_ms'] not in users_list:\n",
    "                    time_list.append(dicts['timestamp_ms'])\n",
    "    sorted_time_list = sorted(time_list,reverse=False)\n",
    "    \n",
    "    diff_list = []\n",
    "    \n",
    "    for i in range (0,len(sorted_time_list)-1):\n",
    "        \n",
    "            diff_list.append(sorted_time_list[i+1]-sorted_time_list[i])\n",
    "    solution = max(diff_list)\n",
    "    return solution "
   ]
  },
  {
   "cell_type": "code",
   "execution_count": null,
   "metadata": {},
   "outputs": [],
   "source": [
    "longest_silence(flat_dicts,1486539462490)"
   ]
  },
  {
   "cell_type": "markdown",
   "metadata": {},
   "source": [
    "### F.5. megadok egy timestamp-et és egy embert, mond meg hány karaktert küldött eddig (2 pont)"
   ]
  },
  {
   "cell_type": "code",
   "execution_count": null,
   "metadata": {},
   "outputs": [],
   "source": [
    "-"
   ]
  },
  {
   "cell_type": "markdown",
   "metadata": {},
   "source": [
    "### F.6. megadok egy timestamp-et és egy csetet (thread_path) összesen hány különböző ember, hány üzenetben, hány karaktert írt (4 pont)"
   ]
  },
  {
   "cell_type": "code",
   "execution_count": null,
   "metadata": {},
   "outputs": [],
   "source": [
    "-"
   ]
  },
  {
   "cell_type": "markdown",
   "metadata": {},
   "source": [
    "### F.7. megadok egy timestampet, melyik csetbe és kicsoda írta eddig a legtöbb karaktert addig a pontig (5 pont)"
   ]
  },
  {
   "cell_type": "code",
   "execution_count": null,
   "metadata": {},
   "outputs": [],
   "source": [
    "-"
   ]
  },
  {
   "cell_type": "markdown",
   "metadata": {},
   "source": [
    "### F.8. megadok egy timestamp-et, melyik volt a top5 legaktívabb cset eddig (4 pont)"
   ]
  },
  {
   "cell_type": "code",
   "execution_count": null,
   "metadata": {},
   "outputs": [],
   "source": [
    "def top5_active(thread_path_dicts, timestamp):\n",
    "    active_chat = {}\n",
    "    for key, value in thread_path_dicts.items():\n",
    "        event = 0\n",
    "        for dic in value:\n",
    "            if dic['timestamp_ms'] <= timestamp:\n",
    "                event = event +1\n",
    "                active_chat[key] = event\n",
    "    return active_chat"
   ]
  },
  {
   "cell_type": "code",
   "execution_count": null,
   "metadata": {},
   "outputs": [],
   "source": [
    "to_be_sorted = top5_active(thread_path_dicts, 1486539462490)"
   ]
  },
  {
   "cell_type": "code",
   "execution_count": null,
   "metadata": {},
   "outputs": [],
   "source": [
    "active_dicts = sorted(to_be_sorted.items(), key=lambda x: (x[1]), reverse=True)"
   ]
  },
  {
   "cell_type": "code",
   "execution_count": null,
   "metadata": {},
   "outputs": [],
   "source": [
    "active_dicts"
   ]
  },
  {
   "cell_type": "markdown",
   "metadata": {},
   "source": [
    "# Extrák"
   ]
  },
  {
   "cell_type": "markdown",
   "metadata": {},
   "source": [
    "### extra - unsubscribe"
   ]
  },
  {
   "cell_type": "code",
   "execution_count": null,
   "metadata": {},
   "outputs": [],
   "source": [
    "def top_unsubscribe(thread_path_dicts, timestamp):\n",
    "    unsubscribe_chat = {}\n",
    "    for key, value in thread_path_dicts.items():\n",
    "        event = 0\n",
    "        for dic in value:\n",
    "            if dic['type'] == 'Unsubscribe':\n",
    "                if dic['timestamp_ms'] <= timestamp:\n",
    "                    event = event +1\n",
    "                    unsubscribe_chat[key] = event\n",
    "    return unsubscribe_chat"
   ]
  },
  {
   "cell_type": "code",
   "execution_count": null,
   "metadata": {},
   "outputs": [],
   "source": [
    "to_be_sorted_4 = top_unsubscribe(thread_path_dicts, 1573328382696)"
   ]
  },
  {
   "cell_type": "code",
   "execution_count": null,
   "metadata": {},
   "outputs": [],
   "source": [
    "top_unsubscribe_chat = sorted(to_be_sorted_4.items(), key=lambda x: (x[1]), reverse=True)"
   ]
  },
  {
   "cell_type": "code",
   "execution_count": null,
   "metadata": {},
   "outputs": [],
   "source": [
    "top_unsubscribe_chat"
   ]
  },
  {
   "cell_type": "markdown",
   "metadata": {},
   "source": [
    "### extra - melyik chat-ben volt a legtöbb üzenet?"
   ]
  },
  {
   "cell_type": "code",
   "execution_count": null,
   "metadata": {},
   "outputs": [],
   "source": [
    "def most_messages(thread_path_dicts, timestamp):\n",
    "    messages_chat = {}\n",
    "    for key, value in thread_path_dicts.items():\n",
    "        event = 0\n",
    "        for dic in value:\n",
    "            if dic['type'] == 'Generic':\n",
    "                if dic['timestamp_ms'] <= timestamp:\n",
    "                    event = event +1\n",
    "                    messages_chat[key] = event\n",
    "    return messages_chat"
   ]
  },
  {
   "cell_type": "code",
   "execution_count": null,
   "metadata": {},
   "outputs": [],
   "source": [
    "to_be_sorted_5 = most_messages(thread_path_dicts, 1573328382696)"
   ]
  },
  {
   "cell_type": "code",
   "execution_count": null,
   "metadata": {},
   "outputs": [],
   "source": [
    "top_messages_chat = sorted(to_be_sorted_5.items(), key=lambda x: (x[1]), reverse=True)"
   ]
  },
  {
   "cell_type": "code",
   "execution_count": null,
   "metadata": {},
   "outputs": [],
   "source": [
    "top_messages_chat"
   ]
  },
  {
   "cell_type": "markdown",
   "metadata": {},
   "source": [
    "### extra - melyik chatben volt a legtöbb gif/video/fotó/sticker elküldve?"
   ]
  },
  {
   "cell_type": "code",
   "execution_count": null,
   "metadata": {},
   "outputs": [],
   "source": [
    "def most_media(thread_path_dicts, timestamp):\n",
    "    media_chat = {}\n",
    "    for key, value in thread_path_dicts.items():\n",
    "        events1 = 0\n",
    "        for dic in value:\n",
    "            if dic['type'] == 'Share':\n",
    "                if dic['timestamp_ms'] <= timestamp:\n",
    "                    events1 = events1 +1\n",
    "                    media_chat[key] = events1\n",
    "    return media_chat"
   ]
  },
  {
   "cell_type": "code",
   "execution_count": null,
   "metadata": {},
   "outputs": [],
   "source": [
    "to_be_sorted_6 = most_media(thread_path_dicts, 1573328382696)"
   ]
  },
  {
   "cell_type": "code",
   "execution_count": null,
   "metadata": {},
   "outputs": [],
   "source": [
    "top_media_chat = sorted(to_be_sorted_6.items(), key=lambda x: (x[1]), reverse=True)"
   ]
  },
  {
   "cell_type": "code",
   "execution_count": null,
   "metadata": {},
   "outputs": [],
   "source": [
    "top_media_chat"
   ]
  },
  {
   "cell_type": "markdown",
   "metadata": {},
   "source": [
    "### extra - Az idei progkurzus tagok összesen hány privát üzenetet küldtek Endrének az évek során? (7p)\n"
   ]
  },
  {
   "cell_type": "markdown",
   "metadata": {},
   "source": [
    "Danka: Alec Guinness\n",
    "Kornél: Catherine Keener\n",
    "Bence: William Hurt\n",
    "Anna: Karl Malden\n",
    "Száj: Kobe Bryant\n",
    "Petra: Jack Albertson\n",
    "Marci: Anthony Hopkins\n",
    "Lili: Alice Brady\n",
    "Flóra: Dan Brown"
   ]
  },
  {
   "cell_type": "code",
   "execution_count": null,
   "metadata": {},
   "outputs": [],
   "source": [
    "list_of_prog_members = ['Alec Guinness', 'Catherine Keener', 'William Hurt', 'Karl Malden', 'Kobe Bryant', 'Jack Albertson', 'Anthony Hopkins', 'Alice Brady', 'Dan Brown']"
   ]
  },
  {
   "cell_type": "code",
   "execution_count": 89,
   "metadata": {},
   "outputs": [],
   "source": [
    "def prog_msgs(list_of_prog_members, flat_dicts):\n",
    "    msgs_count = 0\n",
    "    for dicts in flat_dicts:\n",
    "        if dicts['thread_type'] == 'Regular':\n",
    "            for name in list_of_prog_members:\n",
    "                if dicts['sender_name'] == name:\n",
    "                    msgs_count = msgs_count + 1\n",
    "    return msgs_count"
   ]
  },
  {
   "cell_type": "code",
   "execution_count": null,
   "metadata": {},
   "outputs": [],
   "source": [
    "prog_msgs(list_of_prog_members, flat_dicts)"
   ]
  }
 ],
 "metadata": {
  "kernelspec": {
   "display_name": "Python 3",
   "language": "python",
   "name": "python3"
  },
  "language_info": {
   "codemirror_mode": {
    "name": "ipython",
    "version": 3
   },
   "file_extension": ".py",
   "mimetype": "text/x-python",
   "name": "python",
   "nbconvert_exporter": "python",
   "pygments_lexer": "ipython3",
   "version": "3.6.8"
  }
 },
 "nbformat": 4,
 "nbformat_minor": 2
}
