{
 "cells": [
  {
   "cell_type": "markdown",
   "metadata": {},
   "source": [
    "### Day 1.1"
   ]
  },
  {
   "cell_type": "code",
   "execution_count": 11,
   "metadata": {},
   "outputs": [],
   "source": [
    "with open('input1.txt') as fp:\n",
    "    file_contents = fp.read()"
   ]
  },
  {
   "cell_type": "code",
   "execution_count": 12,
   "metadata": {},
   "outputs": [
    {
     "name": "stdout",
     "output_type": "stream",
     "text": [
      "142536\n",
      "103450\n",
      "101545\n",
      "133505\n",
      "112476\n",
      "62461\n",
      "108718\n",
      "93376\n",
      "149609\n",
      "147657\n",
      "120888\n",
      "85008\n",
      "82501\n",
      "122988\n",
      "109493\n",
      "91656\n",
      "70001\n",
      "130308\n",
      "140298\n",
      "104623\n",
      "103542\n",
      "129220\n",
      "67381\n",
      "143889\n",
      "105384\n",
      "139467\n",
      "129004\n",
      "89271\n",
      "123863\n",
      "108567\n",
      "95453\n",
      "109698\n",
      "139953\n",
      "107458\n",
      "69734\n",
      "106036\n",
      "126036\n",
      "84832\n",
      "68715\n",
      "51484\n",
      "92833\n",
      "50734\n",
      "58267\n",
      "109650\n",
      "137004\n",
      "77709\n",
      "95073\n",
      "84817\n",
      "55711\n",
      "95408\n",
      "148990\n",
      "51697\n",
      "129180\n",
      "56196\n",
      "72692\n",
      "77049\n",
      "124294\n",
      "85102\n",
      "124400\n",
      "75981\n",
      "135842\n",
      "119561\n",
      "79871\n",
      "98771\n",
      "134213\n",
      "141322\n",
      "131828\n",
      "65692\n",
      "113994\n",
      "104632\n",
      "129273\n",
      "118023\n",
      "54700\n",
      "148185\n",
      "61618\n",
      "132304\n",
      "88308\n",
      "121386\n",
      "119548\n",
      "115527\n",
      "76627\n",
      "63168\n",
      "137582\n",
      "113598\n",
      "100899\n",
      "100167\n",
      "134345\n",
      "90716\n",
      "55476\n",
      "113403\n",
      "52745\n",
      "78755\n",
      "73421\n",
      "93337\n",
      "71171\n",
      "122979\n",
      "134298\n",
      "123117\n",
      "111244\n",
      "122177\n"
     ]
    }
   ],
   "source": [
    "print(file_contents)"
   ]
  },
  {
   "cell_type": "code",
   "execution_count": 13,
   "metadata": {},
   "outputs": [],
   "source": [
    "string_list = file_contents.split('\\n')"
   ]
  },
  {
   "cell_type": "code",
   "execution_count": 14,
   "metadata": {},
   "outputs": [],
   "source": [
    "module_list = [int(i) for i in string_list] "
   ]
  },
  {
   "cell_type": "code",
   "execution_count": 15,
   "metadata": {},
   "outputs": [
    {
     "data": {
      "text/plain": [
       "[142536,\n",
       " 103450,\n",
       " 101545,\n",
       " 133505,\n",
       " 112476,\n",
       " 62461,\n",
       " 108718,\n",
       " 93376,\n",
       " 149609,\n",
       " 147657,\n",
       " 120888,\n",
       " 85008,\n",
       " 82501,\n",
       " 122988,\n",
       " 109493,\n",
       " 91656,\n",
       " 70001,\n",
       " 130308,\n",
       " 140298,\n",
       " 104623,\n",
       " 103542,\n",
       " 129220,\n",
       " 67381,\n",
       " 143889,\n",
       " 105384,\n",
       " 139467,\n",
       " 129004,\n",
       " 89271,\n",
       " 123863,\n",
       " 108567,\n",
       " 95453,\n",
       " 109698,\n",
       " 139953,\n",
       " 107458,\n",
       " 69734,\n",
       " 106036,\n",
       " 126036,\n",
       " 84832,\n",
       " 68715,\n",
       " 51484,\n",
       " 92833,\n",
       " 50734,\n",
       " 58267,\n",
       " 109650,\n",
       " 137004,\n",
       " 77709,\n",
       " 95073,\n",
       " 84817,\n",
       " 55711,\n",
       " 95408,\n",
       " 148990,\n",
       " 51697,\n",
       " 129180,\n",
       " 56196,\n",
       " 72692,\n",
       " 77049,\n",
       " 124294,\n",
       " 85102,\n",
       " 124400,\n",
       " 75981,\n",
       " 135842,\n",
       " 119561,\n",
       " 79871,\n",
       " 98771,\n",
       " 134213,\n",
       " 141322,\n",
       " 131828,\n",
       " 65692,\n",
       " 113994,\n",
       " 104632,\n",
       " 129273,\n",
       " 118023,\n",
       " 54700,\n",
       " 148185,\n",
       " 61618,\n",
       " 132304,\n",
       " 88308,\n",
       " 121386,\n",
       " 119548,\n",
       " 115527,\n",
       " 76627,\n",
       " 63168,\n",
       " 137582,\n",
       " 113598,\n",
       " 100899,\n",
       " 100167,\n",
       " 134345,\n",
       " 90716,\n",
       " 55476,\n",
       " 113403,\n",
       " 52745,\n",
       " 78755,\n",
       " 73421,\n",
       " 93337,\n",
       " 71171,\n",
       " 122979,\n",
       " 134298,\n",
       " 123117,\n",
       " 111244,\n",
       " 122177]"
      ]
     },
     "execution_count": 15,
     "metadata": {},
     "output_type": "execute_result"
    }
   ],
   "source": [
    "module_list"
   ]
  },
  {
   "cell_type": "code",
   "execution_count": 18,
   "metadata": {},
   "outputs": [],
   "source": [
    "def aoc1(module_list):\n",
    "    fuel_list = []\n",
    "    for module in module_list:\n",
    "        fuel = module / 3\n",
    "        fuel = int(fuel)\n",
    "        fuel = fuel - 2\n",
    "        fuel_list.append(fuel)\n",
    "    print(fuel_list)\n",
    "    solution = sum(fuel_list)\n",
    "    print(solution)"
   ]
  },
  {
   "cell_type": "code",
   "execution_count": 19,
   "metadata": {},
   "outputs": [
    {
     "name": "stdout",
     "output_type": "stream",
     "text": [
      "[47510, 34481, 33846, 44499, 37490, 20818, 36237, 31123, 49867, 49217, 40294, 28334, 27498, 40994, 36495, 30550, 23331, 43434, 46764, 34872, 34512, 43071, 22458, 47961, 35126, 46487, 42999, 29755, 41285, 36187, 31815, 36564, 46649, 35817, 23242, 35343, 42010, 28275, 22903, 17159, 30942, 16909, 19420, 36548, 45666, 25901, 31689, 28270, 18568, 31800, 49661, 17230, 43058, 18730, 24228, 25681, 41429, 28365, 41464, 25325, 45278, 39851, 26621, 32921, 44735, 47105, 43940, 21895, 37996, 34875, 43089, 39339, 18231, 49393, 20537, 44099, 29434, 40460, 39847, 38507, 25540, 21054, 45858, 37864, 33631, 33387, 44779, 30236, 18490, 37799, 17579, 26249, 24471, 31110, 23721, 40991, 44764, 41037, 37079, 40723]\n",
      "3432671\n"
     ]
    }
   ],
   "source": [
    "aoc1(module_list)"
   ]
  },
  {
   "cell_type": "markdown",
   "metadata": {},
   "source": [
    "### Day 1.2"
   ]
  },
  {
   "cell_type": "code",
   "execution_count": 32,
   "metadata": {},
   "outputs": [],
   "source": [
    "def aoc2(module_list):\n",
    "    fuel_list = []\n",
    "    for module in module_list:\n",
    "        fuel = module\n",
    "        while fuel > 0:\n",
    "            fuel = fuel / 3\n",
    "            fuel = int(fuel)\n",
    "            fuel = fuel - 2\n",
    "            if fuel < 0 :\n",
    "                fuel = 0\n",
    "            fuel_list.append(fuel)\n",
    "    solution = sum(fuel_list)\n",
    "    print(solution)"
   ]
  },
  {
   "cell_type": "code",
   "execution_count": 33,
   "metadata": {},
   "outputs": [
    {
     "name": "stdout",
     "output_type": "stream",
     "text": [
      "5146132\n"
     ]
    }
   ],
   "source": [
    "aoc2(module_list)"
   ]
  }
 ],
 "metadata": {
  "kernelspec": {
   "display_name": "Python 3",
   "language": "python",
   "name": "python3"
  },
  "language_info": {
   "codemirror_mode": {
    "name": "ipython",
    "version": 3
   },
   "file_extension": ".py",
   "mimetype": "text/x-python",
   "name": "python",
   "nbconvert_exporter": "python",
   "pygments_lexer": "ipython3",
   "version": "3.6.5"
  }
 },
 "nbformat": 4,
 "nbformat_minor": 2
}
