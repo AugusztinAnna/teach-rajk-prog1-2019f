{
 "cells": [
  {
   "cell_type": "markdown",
   "metadata": {},
   "source": [
    "### Day 3"
   ]
  },
  {
   "cell_type": "code",
   "execution_count": 18,
   "metadata": {},
   "outputs": [],
   "source": [
    "with open('input3_1.txt') as fp:\n",
    "    list1 = fp.read()"
   ]
  },
  {
   "cell_type": "code",
   "execution_count": 19,
   "metadata": {},
   "outputs": [],
   "source": [
    "strings1 = list1.split(',')"
   ]
  },
  {
   "cell_type": "code",
   "execution_count": 20,
   "metadata": {},
   "outputs": [],
   "source": [
    "newlist1 = []\n",
    "for strings in strings1:\n",
    "    if strings[0] == 'R':\n",
    "        newlist1.append('1')\n",
    "    if strings[0] == 'L':\n",
    "        newlist1.append('2')  \n",
    "    if strings[0] == 'U':\n",
    "        newlist1.append('3')    \n",
    "    if strings[0] == 'D':\n",
    "        newlist1.append('4')    \n",
    "    newlist1.append(strings[1:])"
   ]
  },
  {
   "cell_type": "code",
   "execution_count": 21,
   "metadata": {},
   "outputs": [
    {
     "name": "stdout",
     "output_type": "stream",
     "text": [
      "<class 'int'>\n"
     ]
    }
   ],
   "source": [
    "intlist1 = []\n",
    "for strings in newlist1:\n",
    "    strings = int(strings)\n",
    "    intlist1.append(strings)\n",
    "    \n",
    "print(type(intlist1[7]))"
   ]
  },
  {
   "cell_type": "code",
   "execution_count": 22,
   "metadata": {},
   "outputs": [],
   "source": [
    "matrix = 30000"
   ]
  },
  {
   "cell_type": "code",
   "execution_count": 23,
   "metadata": {},
   "outputs": [],
   "source": [
    "center = int(matrix / 2)"
   ]
  },
  {
   "cell_type": "markdown",
   "metadata": {},
   "source": [
    "#### 1 --> Right\n",
    "#### 2 --> Left\n",
    "#### 3 --> Up\n",
    "#### 4 --> Down"
   ]
  },
  {
   "cell_type": "code",
   "execution_count": 24,
   "metadata": {},
   "outputs": [
    {
     "ename": "MemoryError",
     "evalue": "",
     "output_type": "error",
     "traceback": [
      "\u001b[1;31m---------------------------------------------------------------------------\u001b[0m",
      "\u001b[1;31mMemoryError\u001b[0m                               Traceback (most recent call last)",
      "\u001b[1;32m<ipython-input-24-3816897d2093>\u001b[0m in \u001b[0;36m<module>\u001b[1;34m()\u001b[0m\n\u001b[0;32m      1\u001b[0m \u001b[1;32mimport\u001b[0m \u001b[0mnumpy\u001b[0m \u001b[1;32mas\u001b[0m \u001b[0mnp\u001b[0m\u001b[1;33m\u001b[0m\u001b[0m\n\u001b[1;32m----> 2\u001b[1;33m \u001b[0mzeros\u001b[0m \u001b[1;33m=\u001b[0m \u001b[0mnp\u001b[0m\u001b[1;33m.\u001b[0m\u001b[0mzeros\u001b[0m\u001b[1;33m(\u001b[0m \u001b[1;33m(\u001b[0m\u001b[0mmatrix\u001b[0m\u001b[1;33m,\u001b[0m \u001b[0mmatrix\u001b[0m\u001b[1;33m)\u001b[0m \u001b[1;33m)\u001b[0m\u001b[1;33m\u001b[0m\u001b[0m\n\u001b[0m\u001b[0;32m      3\u001b[0m \u001b[0mprint\u001b[0m\u001b[1;33m(\u001b[0m\u001b[0mzeros\u001b[0m\u001b[1;33m)\u001b[0m\u001b[1;33m\u001b[0m\u001b[0m\n",
      "\u001b[1;31mMemoryError\u001b[0m: "
     ]
    }
   ],
   "source": [
    "import numpy as np\n",
    "zeros = np.zeros( (matrix, matrix) )\n",
    "print(zeros)"
   ]
  },
  {
   "cell_type": "code",
   "execution_count": 25,
   "metadata": {},
   "outputs": [],
   "source": [
    "def AOC3(intlist1, zeros):\n",
    "    way = 0\n",
    "    col = center\n",
    "    row = center\n",
    "    \n",
    "    while way < len(intlist1):\n",
    "        if intlist1[way] == 1:\n",
    "            for step in range(intlist1[way+1]):\n",
    "                col = (col + 1)\n",
    "                zeros[row][col] = 1\n",
    "        if intlist1[way] == 2:\n",
    "            for step in range(intlist1[way+1]):\n",
    "                col = (col - 1)\n",
    "                zeros[row][col] = 1        \n",
    "        if intlist1[way] == 3:\n",
    "            for step in range(intlist1[way+1]):\n",
    "                row = (row - 1)\n",
    "                zeros[row][col] = 1\n",
    "        if intlist1[way] == 4:\n",
    "            for step in range(intlist1[way+1]):\n",
    "                row = (row + 1)\n",
    "                zeros[row][col] = 1\n",
    "        way = way + 2"
   ]
  },
  {
   "cell_type": "code",
   "execution_count": 26,
   "metadata": {},
   "outputs": [],
   "source": [
    "AOC3(intlist1, zeros)"
   ]
  },
  {
   "cell_type": "code",
   "execution_count": 27,
   "metadata": {},
   "outputs": [],
   "source": [
    "with open('input3_2.txt') as fp:\n",
    "    list2 = fp.read()"
   ]
  },
  {
   "cell_type": "code",
   "execution_count": 28,
   "metadata": {},
   "outputs": [],
   "source": [
    "strings2 = list2.split(',')"
   ]
  },
  {
   "cell_type": "code",
   "execution_count": 29,
   "metadata": {},
   "outputs": [],
   "source": [
    "newlist2 = []\n",
    "for strings in strings2:\n",
    "    if strings[0] == 'R':\n",
    "        newlist2.append('1')\n",
    "    if strings[0] == 'L':\n",
    "        newlist2.append('2')  \n",
    "    if strings[0] == 'U':\n",
    "        newlist2.append('3')    \n",
    "    if strings[0] == 'D':\n",
    "        newlist2.append('4')    \n",
    "    newlist2.append(strings[1:])"
   ]
  },
  {
   "cell_type": "code",
   "execution_count": 30,
   "metadata": {},
   "outputs": [
    {
     "name": "stdout",
     "output_type": "stream",
     "text": [
      "<class 'int'>\n"
     ]
    }
   ],
   "source": [
    "intlist2 = []\n",
    "for strings in newlist2:\n",
    "    strings = int(strings)\n",
    "    intlist2.append(strings)\n",
    "    \n",
    "print(type(intlist2[7]))"
   ]
  },
  {
   "cell_type": "code",
   "execution_count": null,
   "metadata": {},
   "outputs": [],
   "source": []
  },
  {
   "cell_type": "code",
   "execution_count": null,
   "metadata": {},
   "outputs": [],
   "source": []
  },
  {
   "cell_type": "code",
   "execution_count": 31,
   "metadata": {},
   "outputs": [],
   "source": [
    "def AOC3_2(intlist2, zeros):\n",
    "    way = 0\n",
    "    col = center\n",
    "    row = center\n",
    "    \n",
    "    while way < len(intlist2):\n",
    "        if intlist2[way] == 1:\n",
    "            for step in range(intlist2[way+1]):\n",
    "                col = (col + 1)\n",
    "                if zeros[row][col] == 1:\n",
    "                    zeros[row][col] = 2\n",
    "        if intlist2[way] == 2:\n",
    "            for step in range(intlist2[way+1]):\n",
    "                col = (col - 1)\n",
    "                if zeros[row][col] == 1:\n",
    "                    zeros[row][col] = 2     \n",
    "        if intlist2[way] == 3:\n",
    "            for step in range(intlist2[way+1]):\n",
    "                row = (row - 1)\n",
    "                if zeros[row][col] == 1:\n",
    "                    zeros[row][col] = 2\n",
    "        if intlist2[way] == 4:\n",
    "            for step in range(intlist2[way+1]):\n",
    "                row = (row + 1)\n",
    "                if zeros[row][col] == 1:\n",
    "                    zeros[row][col] = 2\n",
    "        way = way + 2"
   ]
  },
  {
   "cell_type": "code",
   "execution_count": 32,
   "metadata": {},
   "outputs": [],
   "source": [
    "AOC3_2(intlist2, zeros)"
   ]
  },
  {
   "cell_type": "code",
   "execution_count": 33,
   "metadata": {},
   "outputs": [],
   "source": [
    "def aoc3dif2(zeros):\n",
    "    result = np.where(zeros == 2)\n",
    "    print(result)\n",
    "    listOfCoordinates= list(zip(result[0], result[1]))\n",
    "    print(\" lenght of listOfCoordinates = \", (len(listOfCoordinates)))\n",
    "    coords = []\n",
    "    for tuples in listOfCoordinates:\n",
    "        coords.append(list(tuples))\n",
    "    diff = []\n",
    "    for lists in coords:\n",
    "        dif = abs(lists[0] - center) + abs(lists[1] - center)\n",
    "        diff.append(dif)\n",
    "    print(len(diff))\n",
    "    solution = min(diff)\n",
    "    print(diff[:10])\n",
    "    print(coords[:10])\n",
    "    print(solution)\n",
    "    return\n"
   ]
  },
  {
   "cell_type": "code",
   "execution_count": 34,
   "metadata": {},
   "outputs": [
    {
     "name": "stdout",
     "output_type": "stream",
     "text": [
      "(array([13243, 13243, 13243, 13274, 13311, 13548, 13594, 13649, 13649,\n",
      "       13652, 13830, 13842, 13869, 13942, 13947, 13947, 13948, 14121,\n",
      "       14172, 14367, 14392, 14392, 14491, 14538, 14546, 14675, 14744,\n",
      "       14754, 14754, 14839, 14912, 14923, 14949, 15000, 15000, 15000,\n",
      "       15152, 15152, 15152, 15179, 15179, 15179, 15181, 15186, 15195,\n",
      "       15226, 15236, 15236, 15236, 15236, 15274, 15303, 15303, 15303,\n",
      "       15303, 15303, 15303, 15337, 15358, 15358, 15372, 15398, 15455,\n",
      "       15465, 15486, 15486, 15486, 15511, 15511, 15553, 15565, 15565,\n",
      "       15565, 15565, 15569, 15569, 15569, 15632, 15632, 15662, 15688,\n",
      "       15705, 15705, 15705, 15727, 15776, 15786, 15786, 15790, 15790,\n",
      "       15790, 15802, 15802, 15802, 15846, 15846, 15846, 15846, 15846,\n",
      "       15857, 15994, 16035, 16058, 16061, 16124, 16124, 16126, 16126,\n",
      "       16127, 16127, 16137, 16160, 16160, 16160, 16160, 16160, 16160,\n",
      "       16160, 16164, 16164, 16229, 16229, 16268, 16320, 16359, 16359,\n",
      "       16400, 16425, 16425, 16425, 16425, 16446, 16446, 16446, 16485,\n",
      "       16499, 16530, 16530, 16609, 16609, 16609, 16615, 16633, 16688,\n",
      "       16787, 16787, 16839, 16839, 16839, 16889, 16889, 16889, 16941,\n",
      "       16966, 17388, 17388, 17478, 17488, 18041, 18316, 18413],\n",
      "      dtype=int64), array([16390, 16540, 16573, 17115, 13965, 13407, 16062, 16324, 16540,\n",
      "       16324, 16508, 17115, 17115, 17115, 13407, 14148, 17321, 14212,\n",
      "       14701, 14701, 14736, 14892, 17628, 15405, 14914, 17943, 15405,\n",
      "       16738, 16837, 16853, 17943, 15303, 15303, 14246, 14355, 15303,\n",
      "       15190, 15390, 15499, 15190, 15390, 15499, 15637, 16536, 17943,\n",
      "       16536, 15190, 15390, 15499, 15628, 16496, 15190, 15390, 15499,\n",
      "       15596, 15628, 15693, 16757, 13977, 14246, 15190, 17943, 15190,\n",
      "       16634, 15325, 15514, 15750, 15325, 15514, 13917, 17659, 17670,\n",
      "       17706, 17917, 16215, 16486, 16496, 15325, 15514, 15325, 15325,\n",
      "       16215, 16629, 16757, 15750, 14378, 13917, 14289, 15325, 15514,\n",
      "       15750, 15879, 15911, 16066, 14941, 14979, 14981, 15213, 15313,\n",
      "       15313, 16775, 12397, 17432, 14941, 15750, 15771, 15750, 15771,\n",
      "       14971, 15251, 15213, 15759, 15792, 15879, 15911, 16066, 16190,\n",
      "       16575, 15251, 15300, 15792, 15911, 17096, 17551, 15313, 15350,\n",
      "       15996, 15313, 15350, 15792, 16066, 14643, 14932, 14971, 16182,\n",
      "       15350, 14932, 14971, 15324, 15350, 15792, 16182, 16182, 13450,\n",
      "       15376, 15474, 15376, 15474, 16182, 16190, 16199, 16308, 12397,\n",
      "       12589, 15071, 15324, 14927, 14927, 14927, 15389, 15389],\n",
      "      dtype=int64))\n",
      " lenght of listOfCoordinates =  161\n",
      "161\n",
      "[3147, 3297, 3330, 3841, 2724, 3045, 2468, 2675, 2891, 2672]\n",
      "[[13243, 16390], [13243, 16540], [13243, 16573], [13274, 17115], [13311, 13965], [13548, 13407], [13594, 16062], [13649, 16324], [13649, 16540], [13652, 16324]]\n",
      "303\n"
     ]
    }
   ],
   "source": [
    "aoc3dif2(zeros)"
   ]
  },
  {
   "cell_type": "code",
   "execution_count": null,
   "metadata": {},
   "outputs": [],
   "source": []
  },
  {
   "cell_type": "code",
   "execution_count": null,
   "metadata": {},
   "outputs": [],
   "source": []
  },
  {
   "cell_type": "markdown",
   "metadata": {},
   "source": [
    "## TEST"
   ]
  },
  {
   "cell_type": "code",
   "execution_count": null,
   "metadata": {},
   "outputs": [],
   "source": [
    "with open('aoc3test.txt') as fp:\n",
    "    testlist1 = fp.read()"
   ]
  },
  {
   "cell_type": "code",
   "execution_count": null,
   "metadata": {},
   "outputs": [],
   "source": [
    "teststrings1 = testlist1.split(',')"
   ]
  },
  {
   "cell_type": "code",
   "execution_count": null,
   "metadata": {},
   "outputs": [],
   "source": [
    "newtestlist1 = []\n",
    "for strings in teststrings1:\n",
    "    if strings[0] == 'R':\n",
    "        newtestlist1.append('1')\n",
    "    if strings[0] == 'L':\n",
    "        newtestlist1.append('2')  \n",
    "    if strings[0] == 'U':\n",
    "        newtestlist1.append('3')    \n",
    "    if strings[0] == 'D':\n",
    "        newtestlist1.append('4')    \n",
    "    newtestlist1.append(strings[1:])"
   ]
  },
  {
   "cell_type": "code",
   "execution_count": null,
   "metadata": {},
   "outputs": [],
   "source": [
    "testintlist1 = []\n",
    "for strings in newtestlist1:\n",
    "    strings = int(strings)\n",
    "    testintlist1.append(strings)\n",
    "    \n",
    "print(type(testintlist1[7]))\n",
    "print(testintlist1)"
   ]
  },
  {
   "cell_type": "code",
   "execution_count": null,
   "metadata": {},
   "outputs": [],
   "source": [
    "matrix = 500"
   ]
  },
  {
   "cell_type": "code",
   "execution_count": null,
   "metadata": {},
   "outputs": [],
   "source": [
    "center = int(matrix / 2)"
   ]
  },
  {
   "cell_type": "code",
   "execution_count": null,
   "metadata": {},
   "outputs": [],
   "source": [
    "import numpy as np\n",
    "testzeros = np.zeros( (matrix, matrix ) )\n",
    "print(testzeros)"
   ]
  },
  {
   "cell_type": "code",
   "execution_count": null,
   "metadata": {},
   "outputs": [],
   "source": [
    "def testAOC3(testintlist1, testzeros):\n",
    "    way = 0\n",
    "    col = center\n",
    "    row = center\n",
    "    testzeros[row][col] = -5\n",
    "\n",
    "    while way < len(testintlist1):\n",
    "        if testintlist1[way] == 1:\n",
    "            for step in range(testintlist1[way+1]):\n",
    "                col = (col + 1)\n",
    "                testzeros[row][col] = (testzeros[row][col] + 1)\n",
    "        if testintlist1[way] == 2:\n",
    "            for step in range(testintlist1[way+1]):\n",
    "                col = (col - 1)\n",
    "                testzeros[row][col] = (testzeros[row][col] + 1)\n",
    "        if testintlist1[way] == 3:\n",
    "            for step in range(testintlist1[way+1]):\n",
    "                row = (row - 1)\n",
    "                testzeros[row][col] = (testzeros[row][col] + 1)\n",
    "        if testintlist1[way] == 4:\n",
    "            for step in range(testintlist1[way+1]):\n",
    "                row = (row + 1)\n",
    "                testzeros[row][col] = (testzeros[row][col] + 1)\n",
    "        way = way + 2\n",
    "    print(testzeros)"
   ]
  },
  {
   "cell_type": "code",
   "execution_count": null,
   "metadata": {},
   "outputs": [],
   "source": [
    "testAOC3(testintlist1, testzeros)"
   ]
  },
  {
   "cell_type": "code",
   "execution_count": null,
   "metadata": {},
   "outputs": [],
   "source": [
    "with open('aoc3test2.txt') as fp:\n",
    "    testlist2 = fp.read()\n",
    "print(testlist2)"
   ]
  },
  {
   "cell_type": "code",
   "execution_count": null,
   "metadata": {},
   "outputs": [],
   "source": [
    "teststrings2 = testlist2.split(',')\n",
    "print(teststrings2)"
   ]
  },
  {
   "cell_type": "code",
   "execution_count": null,
   "metadata": {},
   "outputs": [],
   "source": [
    "newtestlist2 = []\n",
    "for strings in teststrings2:\n",
    "    if strings[0] == 'R':\n",
    "        newtestlist2.append('1')\n",
    "    if strings[0] == 'L':\n",
    "        newtestlist2.append('2')  \n",
    "    if strings[0] == 'U':\n",
    "        newtestlist2.append('3')    \n",
    "    if strings[0] == 'D':\n",
    "        newtestlist2.append('4')    \n",
    "    newtestlist2.append(strings[1:])\n",
    "print(newtestlist2)"
   ]
  },
  {
   "cell_type": "code",
   "execution_count": null,
   "metadata": {},
   "outputs": [],
   "source": [
    "testintlist2 = []\n",
    "for strings in newtestlist2:\n",
    "    strings = int(strings)\n",
    "    testintlist2.append(strings)\n",
    "    \n",
    "print(type(testintlist2[2]))\n",
    "print(testintlist2)"
   ]
  },
  {
   "cell_type": "code",
   "execution_count": null,
   "metadata": {},
   "outputs": [],
   "source": [
    "def testAOC3_2(testintlist1, testzeros):\n",
    "    way = 0\n",
    "    col = center\n",
    "    row = center\n",
    "    testzeros[row][col] = -5\n",
    "\n",
    "    while way < len(testintlist1):\n",
    "        if testintlist1[way] == 1:\n",
    "            for step in range(testintlist1[way+1]):\n",
    "                col = (col + 1)\n",
    "                testzeros[row][col] = (testzeros[row][col] + 100)\n",
    "        if testintlist1[way] == 2:\n",
    "            for step in range(testintlist1[way+1]):\n",
    "                col = (col - 1)\n",
    "                testzeros[row][col] = (testzeros[row][col] + 100)\n",
    "        if testintlist1[way] == 3:\n",
    "            for step in range(testintlist1[way+1]):\n",
    "                row = (row - 1)\n",
    "                testzeros[row][col] = (testzeros[row][col] + 100)\n",
    "        if testintlist1[way] == 4:\n",
    "            for step in range(testintlist1[way+1]):\n",
    "                row = (row + 1)\n",
    "                testzeros[row][col] = (testzeros[row][col] + 100)\n",
    "        way = way + 2\n",
    "    print(testzeros)"
   ]
  },
  {
   "cell_type": "code",
   "execution_count": null,
   "metadata": {},
   "outputs": [],
   "source": [
    "testAOC3_2(testintlist2, testzeros)"
   ]
  },
  {
   "cell_type": "code",
   "execution_count": null,
   "metadata": {},
   "outputs": [],
   "source": [
    "def aoc3dif2(testzeros):\n",
    "    result = np.where((testzeros > 100) & ((testzeros % 100) != 0))\n",
    "    print(result)\n",
    "    listOfCoordinates= list(zip(result[0], result[1]))\n",
    "    print(listOfCoordinates)\n",
    "    coords = []\n",
    "    for tuples in listOfCoordinates:\n",
    "        coords.append(list(tuples))\n",
    "    print(coords)\n",
    "    diff = []\n",
    "    for lists in coords:\n",
    "        dif = abs((lists[0] - center) + abs((lists[1] - center))\n",
    "        diff.append(dif)\n",
    "    print(diff)\n",
    "    solution = min(diff)\n",
    "    print(solution)\n",
    "    return"
   ]
  },
  {
   "cell_type": "code",
   "execution_count": null,
   "metadata": {
    "scrolled": false
   },
   "outputs": [],
   "source": [
    "aoc3dif2(testzeros)"
   ]
  },
  {
   "cell_type": "code",
   "execution_count": null,
   "metadata": {},
   "outputs": [],
   "source": []
  },
  {
   "cell_type": "code",
   "execution_count": null,
   "metadata": {},
   "outputs": [],
   "source": []
  },
  {
   "cell_type": "code",
   "execution_count": null,
   "metadata": {},
   "outputs": [],
   "source": []
  },
  {
   "cell_type": "code",
   "execution_count": null,
   "metadata": {},
   "outputs": [],
   "source": []
  },
  {
   "cell_type": "code",
   "execution_count": null,
   "metadata": {},
   "outputs": [],
   "source": []
  },
  {
   "cell_type": "code",
   "execution_count": null,
   "metadata": {},
   "outputs": [],
   "source": [
    "### listlist = testzeros.tolist()"
   ]
  },
  {
   "cell_type": "code",
   "execution_count": 1,
   "metadata": {},
   "outputs": [
    {
     "ename": "IndentationError",
     "evalue": "unexpected indent (<ipython-input-1-83732cad67c4>, line 2)",
     "output_type": "error",
     "traceback": [
      "\u001b[1;36m  File \u001b[1;32m\"<ipython-input-1-83732cad67c4>\"\u001b[1;36m, line \u001b[1;32m2\u001b[0m\n\u001b[1;33m    winlist = []\u001b[0m\n\u001b[1;37m    ^\u001b[0m\n\u001b[1;31mIndentationError\u001b[0m\u001b[1;31m:\u001b[0m unexpected indent\n"
     ]
    }
   ],
   "source": [
    "### def aoc3dif(listlist):\n",
    "    winlist = []\n",
    "    for rows in listlist:\n",
    "        for elements in rows:\n",
    "            if elements > 100:\n",
    "                diff1 = abs((listlist.index(rows) - 200) + (rows.index(elements) - 200))\n",
    "                winlist.append(diff1)\n",
    "    print(winlist)\n",
    "    solution = min(winlist)\n",
    "    print(solution)"
   ]
  },
  {
   "cell_type": "code",
   "execution_count": null,
   "metadata": {},
   "outputs": [],
   "source": [
    "### aoc3dif(listlist)"
   ]
  },
  {
   "cell_type": "code",
   "execution_count": null,
   "metadata": {},
   "outputs": [],
   "source": []
  },
  {
   "cell_type": "code",
   "execution_count": null,
   "metadata": {},
   "outputs": [],
   "source": []
  },
  {
   "cell_type": "code",
   "execution_count": null,
   "metadata": {},
   "outputs": [],
   "source": []
  },
  {
   "cell_type": "markdown",
   "metadata": {},
   "source": [
    "## Day 3.2"
   ]
  },
  {
   "cell_type": "code",
   "execution_count": null,
   "metadata": {},
   "outputs": [],
   "source": []
  },
  {
   "cell_type": "code",
   "execution_count": null,
   "metadata": {},
   "outputs": [],
   "source": []
  },
  {
   "cell_type": "code",
   "execution_count": null,
   "metadata": {},
   "outputs": [],
   "source": []
  }
 ],
 "metadata": {
  "kernelspec": {
   "display_name": "Python 3",
   "language": "python",
   "name": "python3"
  },
  "language_info": {
   "codemirror_mode": {
    "name": "ipython",
    "version": 3
   },
   "file_extension": ".py",
   "mimetype": "text/x-python",
   "name": "python",
   "nbconvert_exporter": "python",
   "pygments_lexer": "ipython3",
   "version": "3.6.5"
  }
 },
 "nbformat": 4,
 "nbformat_minor": 2
}
