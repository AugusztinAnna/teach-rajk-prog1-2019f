{
 "cells": [
  {
   "cell_type": "markdown",
   "metadata": {},
   "source": [
    "### Day 8.1"
   ]
  },
  {
   "cell_type": "code",
   "execution_count": null,
   "metadata": {},
   "outputs": [],
   "source": [
    "with open(\"input8.txt\", \"r\", encoding=\"utf-8\") as fp:\n",
    "    raw_input = fp.read().split(\",\")\n",
    "raw_input\n",
    "\n",
    "string = raw_input[0]\n",
    "\n",
    "\n",
    "layer_list = [string[x:x+150] for x in range(0, len(string),150)]\n",
    "layer_list\n",
    "\n",
    "counter = []\n",
    "for layers in layer_list:\n",
    "    counter.append(layers.count('0'))\n",
    "\n",
    "good_layer_index = counter.index(min(counter))\n",
    "\n",
    "print(layer_list[good_layer_index].count('1')*layer_list[good_layer_index].count('2'))"
   ]
  },
  {
   "cell_type": "markdown",
   "metadata": {},
   "source": [
    "### Day 8.2"
   ]
  },
  {
   "cell_type": "code",
   "execution_count": null,
   "metadata": {},
   "outputs": [],
   "source": [
    "layer_list"
   ]
  },
  {
   "cell_type": "code",
   "execution_count": 2,
   "metadata": {},
   "outputs": [
    {
     "name": "stdout",
     "output_type": "stream",
     "text": [
      "['1', '1', '1', '1', '0', '0', '1', '1', '0', '0', '1', '0', '0', '1', '0', '1', '1', '1', '1', '0', '1', '1', '1', '1', '0']\n",
      "['1', '0', '0', '0', '0', '1', '0', '0', '1', '0', '1', '0', '0', '1', '0', '1', '0', '0', '0', '0', '1', '0', '0', '0', '0']\n",
      "['1', '1', '1', '0', '0', '1', '0', '0', '1', '0', '1', '1', '1', '1', '0', '1', '1', '1', '0', '0', '1', '1', '1', '0', '0']\n",
      "['1', '0', '0', '0', '0', '1', '1', '1', '1', '0', '1', '0', '0', '1', '0', '1', '0', '0', '0', '0', '1', '0', '0', '0', '0']\n",
      "['1', '0', '0', '0', '0', '1', '0', '0', '1', '0', '1', '0', '0', '1', '0', '1', '0', '0', '0', '0', '1', '0', '0', '0', '0']\n",
      "['1', '0', '0', '0', '0', '1', '0', '0', '1', '0', '1', '0', '0', '1', '0', '1', '1', '1', '1', '0', '1', '0', '0', '0', '0']\n"
     ]
    }
   ],
   "source": [
    "with open(\"input8.txt\", \"r\", encoding=\"utf-8\") as fp:\n",
    "    raw_input = fp.read().split(\",\")\n",
    "raw_input\n",
    "\n",
    "string = raw_input[0]\n",
    "\n",
    "layer_list = [string[x:x+150] for x in range(0, len(string),150)]\n",
    "\n",
    "\n",
    "\n",
    "reverse = list(reversed(layer_list))\n",
    "rendered = [\"x\"] * 150\n",
    "\n",
    "\n",
    "for i in range(len(rendered)):\n",
    "    for layers in reverse:\n",
    "        if layers[i] == \"1\":\n",
    "            rendered[i] = \"1\"\n",
    "        if layers[i] == \"0\":\n",
    "            rendered[i] = \"0\"\n",
    "\n",
    "rendered_image = [rendered[x:x+25] for x in range(0, len(rendered),25)]\n",
    "\n",
    "\n",
    "final = []\n",
    "\n",
    "for element in rendered_image:\n",
    "    final.append(''.join(element))\n",
    "    \n",
    "print(rendered[:25])\n",
    "print(rendered[25:50])\n",
    "print(rendered[50:75])\n",
    "print(rendered[75:100])\n",
    "print(rendered[100:125])\n",
    "print(rendered[125:150])\n",
    "\n"
   ]
  },
  {
   "cell_type": "markdown",
   "metadata": {},
   "source": [
    "# FAHEF"
   ]
  }
 ],
 "metadata": {
  "kernelspec": {
   "display_name": "Python 3",
   "language": "python",
   "name": "python3"
  },
  "language_info": {
   "codemirror_mode": {
    "name": "ipython",
    "version": 3
   },
   "file_extension": ".py",
   "mimetype": "text/x-python",
   "name": "python",
   "nbconvert_exporter": "python",
   "pygments_lexer": "ipython3",
   "version": "3.6.5"
  }
 },
 "nbformat": 4,
 "nbformat_minor": 2
}
