{
 "cells": [
  {
   "cell_type": "code",
   "execution_count": 7,
   "metadata": {},
   "outputs": [
    {
     "name": "stdout",
     "output_type": "stream",
     "text": [
      "positions:\n",
      "[[-7, 17, -11], [9, 12, 5], [-9, 0, -4], [4, 6, 0]]\n",
      "\n",
      "velocities:\n",
      "[[0, 0, 0], [0, 0, 0], [0, 0, 0], [0, 0, 0]]\n"
     ]
    }
   ],
   "source": [
    "with open(\"input12.txt\") as f:\n",
    "    content = f.read()\n",
    "    content_list = content.split('\\n')\n",
    "content_list\n",
    "\n",
    "delete = [\"<\", \"x\", \"=\", \"y\", \"z\", \">\", \" \"]\n",
    "\n",
    "for i in range(len(content_list)):\n",
    "    for elem in delete :\n",
    "        if elem in content_list[i] :\n",
    "            content_list[i] = content_list[i].replace(elem, \"\")\n",
    "            \n",
    "for l in range(len(content_list)):\n",
    "    content_list[l] = content_list[l].split(\",\")\n",
    "    \n",
    "for f in range(len(content_list)):\n",
    "    for g in range(len(content_list[0])):\n",
    "        content_list[f][g] = int(content_list[f][g])\n",
    "\n",
    "pos_list = content_list\n",
    "print(\"positions:\")\n",
    "print(pos_list)\n",
    "print(\"\")\n",
    "\n",
    "vel_list = [[0,0,0],[0,0,0],[0,0,0],[0,0,0]]\n",
    "print(\"velocities:\")\n",
    "print(vel_list)"
   ]
  },
  {
   "cell_type": "code",
   "execution_count": 8,
   "metadata": {},
   "outputs": [],
   "source": [
    "for _ in range (1000):\n",
    "    for j in range(3):\n",
    "        for i in range(0, len(pos_list)):\n",
    "            for k in range(0, len(pos_list)):\n",
    "                if pos_list[i][j] < pos_list[k][j]:\n",
    "                    vel_list[i][j] += 1\n",
    "                if pos_list[i][j] > pos_list[k][j]:\n",
    "                    vel_list[i][j] -= 1\n",
    "                pos_new1 = map(lambda x, y: x + y, pos_list[0], vel_list[0])\n",
    "                pos_new2 = map(lambda x, y: x + y, pos_list[1], vel_list[1])\n",
    "                pos_new3 = map(lambda x, y: x + y, pos_list[2], vel_list[2])\n",
    "                pos_new4 = map(lambda x, y: x + y, pos_list[3], vel_list[3])\n",
    "                pos_to_iterate = [list(pos_new1),list(pos_new2),list(pos_new3),list(pos_new4)]\n",
    "    pos_list = pos_to_iterate"
   ]
  },
  {
   "cell_type": "code",
   "execution_count": 9,
   "metadata": {},
   "outputs": [
    {
     "data": {
      "text/plain": [
       "[[6, 9, 12], [-20, -4, -8], [6, 4, 0], [8, -9, -4]]"
      ]
     },
     "execution_count": 9,
     "metadata": {},
     "output_type": "execute_result"
    }
   ],
   "source": [
    "vel_list"
   ]
  },
  {
   "cell_type": "code",
   "execution_count": 10,
   "metadata": {},
   "outputs": [
    {
     "name": "stdout",
     "output_type": "stream",
     "text": [
      "86\n",
      "54\n",
      "101\n",
      "93\n",
      "27\n",
      "32\n",
      "10\n",
      "21\n"
     ]
    }
   ],
   "source": [
    "p1 = abs(pos_list[0][0]) + abs(pos_list[0][1]) + abs(pos_list[0][2])\n",
    "p2 = abs(pos_list[1][0]) + abs(pos_list[1][1]) + abs(pos_list[1][2])\n",
    "p3 = abs(pos_list[2][0]) + abs(pos_list[2][1]) + abs(pos_list[2][2])\n",
    "p4 = abs(pos_list[3][0]) + abs(pos_list[3][1]) + abs(pos_list[3][2])\n",
    "\n",
    "print(p1)\n",
    "print(p2)\n",
    "print(p3)\n",
    "print(p4)\n",
    "\n",
    "v1 = abs(vel_list[0][0]) + abs(vel_list[0][1]) + abs(vel_list[0][2])\n",
    "v2 = abs(vel_list[1][0]) + abs(vel_list[1][1]) + abs(vel_list[1][2])\n",
    "v3 = abs(vel_list[2][0]) + abs(vel_list[2][1]) + abs(vel_list[2][2])\n",
    "v4 = abs(vel_list[3][0]) + abs(vel_list[3][1]) + abs(vel_list[3][2])\n",
    "\n",
    "print(v1)\n",
    "print(v2)\n",
    "print(v3)\n",
    "print(v4)\n",
    "\n",
    "solution = p1 * v1 + p2 * v2 + p3 * v3 + p4 * v4"
   ]
  },
  {
   "cell_type": "code",
   "execution_count": 11,
   "metadata": {},
   "outputs": [
    {
     "data": {
      "text/plain": [
       "7013"
      ]
     },
     "execution_count": 11,
     "metadata": {},
     "output_type": "execute_result"
    }
   ],
   "source": [
    "solution"
   ]
  },
  {
   "cell_type": "code",
   "execution_count": null,
   "metadata": {},
   "outputs": [],
   "source": []
  },
  {
   "cell_type": "code",
   "execution_count": null,
   "metadata": {},
   "outputs": [],
   "source": []
  }
 ],
 "metadata": {
  "kernelspec": {
   "display_name": "Python 3",
   "language": "python",
   "name": "python3"
  },
  "language_info": {
   "codemirror_mode": {
    "name": "ipython",
    "version": 3
   },
   "file_extension": ".py",
   "mimetype": "text/x-python",
   "name": "python",
   "nbconvert_exporter": "python",
   "pygments_lexer": "ipython3",
   "version": "3.6.5"
  }
 },
 "nbformat": 4,
 "nbformat_minor": 2
}
