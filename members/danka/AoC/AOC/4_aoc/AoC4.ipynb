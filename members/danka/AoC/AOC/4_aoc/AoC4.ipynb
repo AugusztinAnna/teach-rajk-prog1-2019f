{
 "cells": [
  {
   "cell_type": "markdown",
   "metadata": {},
   "source": [
    "### Day 4"
   ]
  },
  {
   "cell_type": "code",
   "execution_count": 34,
   "metadata": {},
   "outputs": [
    {
     "name": "stdout",
     "output_type": "stream",
     "text": [
      "[172857, 172858, 172859, 172860, 172861, 172862, 172863, 172864, 172865]\n"
     ]
    }
   ],
   "source": [
    "input = list(range(172851, 675870))\n",
    "print(input[6:15])"
   ]
  },
  {
   "cell_type": "code",
   "execution_count": 42,
   "metadata": {},
   "outputs": [],
   "source": [
    "def aoc4(input):\n",
    "    passlist = []\n",
    "    for numbers in input:\n",
    "        if len(set(str(numbers))) < len(list(str(numbers))):\n",
    "            if sorted(str(numbers)) == list(str(numbers)):\n",
    "                passlist.append(numbers)\n",
    "    return len(passlist)"
   ]
  },
  {
   "cell_type": "code",
   "execution_count": 43,
   "metadata": {},
   "outputs": [
    {
     "data": {
      "text/plain": [
       "1660"
      ]
     },
     "execution_count": 43,
     "metadata": {},
     "output_type": "execute_result"
    }
   ],
   "source": [
    "aoc4(input)"
   ]
  },
  {
   "cell_type": "code",
   "execution_count": 30,
   "metadata": {},
   "outputs": [],
   "source": [
    "test = 123545"
   ]
  },
  {
   "cell_type": "code",
   "execution_count": 48,
   "metadata": {},
   "outputs": [
    {
     "data": {
      "text/plain": [
       "2"
      ]
     },
     "execution_count": 48,
     "metadata": {},
     "output_type": "execute_result"
    }
   ],
   "source": [
    "str(test).count('5')"
   ]
  },
  {
   "cell_type": "code",
   "execution_count": 38,
   "metadata": {},
   "outputs": [
    {
     "data": {
      "text/plain": [
       "{'1', '2', '3', '4', '5'}"
      ]
     },
     "execution_count": 38,
     "metadata": {},
     "output_type": "execute_result"
    }
   ],
   "source": [
    "set(str(test))"
   ]
  },
  {
   "cell_type": "code",
   "execution_count": 45,
   "metadata": {},
   "outputs": [
    {
     "data": {
      "text/plain": [
       "['1', '2', '3', '5', '4', '5']"
      ]
     },
     "execution_count": 45,
     "metadata": {},
     "output_type": "execute_result"
    }
   ],
   "source": [
    "list((str(test)))"
   ]
  },
  {
   "cell_type": "markdown",
   "metadata": {},
   "source": [
    "### Day 4.2"
   ]
  },
  {
   "cell_type": "code",
   "execution_count": 49,
   "metadata": {},
   "outputs": [],
   "source": [
    "def aoc4_2(input):\n",
    "    passlist = []\n",
    "    for numbers in input:\n",
    "        if sorted(str(numbers)) == list(str(numbers)):\n",
    "            digitcount = []\n",
    "            digitcount.append(str(numbers).count('0'))\n",
    "            digitcount.append(str(numbers).count('1'))\n",
    "            digitcount.append(str(numbers).count('2'))\n",
    "            digitcount.append(str(numbers).count('3'))\n",
    "            digitcount.append(str(numbers).count('4'))\n",
    "            digitcount.append(str(numbers).count('5'))\n",
    "            digitcount.append(str(numbers).count('6'))\n",
    "            digitcount.append(str(numbers).count('7'))\n",
    "            digitcount.append(str(numbers).count('8'))\n",
    "            digitcount.append(str(numbers).count('9'))\n",
    "            if 2 in digitcount:\n",
    "                passlist.append(numbers)\n",
    "    return len(passlist)"
   ]
  },
  {
   "cell_type": "code",
   "execution_count": 51,
   "metadata": {},
   "outputs": [
    {
     "data": {
      "text/plain": [
       "1135"
      ]
     },
     "execution_count": 51,
     "metadata": {},
     "output_type": "execute_result"
    }
   ],
   "source": [
    "aoc4_2(input)"
   ]
  }
 ],
 "metadata": {
  "kernelspec": {
   "display_name": "Python 3",
   "language": "python",
   "name": "python3"
  },
  "language_info": {
   "codemirror_mode": {
    "name": "ipython",
    "version": 3
   },
   "file_extension": ".py",
   "mimetype": "text/x-python",
   "name": "python",
   "nbconvert_exporter": "python",
   "pygments_lexer": "ipython3",
   "version": "3.6.5"
  }
 },
 "nbformat": 4,
 "nbformat_minor": 2
}
