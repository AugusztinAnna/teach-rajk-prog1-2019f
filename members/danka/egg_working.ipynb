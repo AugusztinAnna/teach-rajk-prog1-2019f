{
 "cells": [
  {
   "cell_type": "markdown",
   "metadata": {},
   "source": [
    "# solution1: 10-es közönként"
   ]
  },
  {
   "cell_type": "code",
   "execution_count": 46,
   "metadata": {},
   "outputs": [],
   "source": [
    "def eggsolution(breaks):\n",
    "    first_egg_floor = 10\n",
    "    while first_egg_floor < 101:\n",
    "        if breaks(first_egg_floor):\n",
    "            second_egg_floor = first_egg_floor - 9\n",
    "            while breaks(second_egg_floor) == False:\n",
    "                second_egg_floor += 1\n",
    "            \n",
    "            return second_egg_floor - 1\n",
    "        else:      \n",
    "            first_egg_floor += 10\n",
    "    return 100"
   ]
  },
  {
   "cell_type": "code",
   "execution_count": 16,
   "metadata": {},
   "outputs": [],
   "source": [
    "from jkg_evaluators import eggdrop_100floor_2egg"
   ]
  },
  {
   "cell_type": "code",
   "execution_count": 47,
   "metadata": {},
   "outputs": [
    {
     "name": "stdout",
     "output_type": "stream",
     "text": [
      "- success rate: 101/101 (100.0%)\n",
      "- error count: 0\n",
      "- best performance: 2\n",
      "- worst performance: 20\n",
      "- mean performance: 10.990099009900991\n"
     ]
    }
   ],
   "source": [
    "eggdrop_100floor_2egg.evaluate(eggsolution)"
   ]
  }
 ],
 "metadata": {
  "kernelspec": {
   "display_name": "Python 3",
   "language": "python",
   "name": "python3"
  },
  "language_info": {
   "codemirror_mode": {
    "name": "ipython",
    "version": 3
   },
   "file_extension": ".py",
   "mimetype": "text/x-python",
   "name": "python",
   "nbconvert_exporter": "python",
   "pygments_lexer": "ipython3",
   "version": "3.6.5"
  }
 },
 "nbformat": 4,
 "nbformat_minor": 2
}
