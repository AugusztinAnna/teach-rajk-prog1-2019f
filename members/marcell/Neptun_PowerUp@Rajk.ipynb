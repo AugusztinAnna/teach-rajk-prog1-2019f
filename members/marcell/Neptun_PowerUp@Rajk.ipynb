{
 "cells": [
  {
   "cell_type": "code",
   "execution_count": 26,
   "metadata": {},
   "outputs": [],
   "source": [
    "#rendszer inicializálása\n",
    "\n",
    "from selenium import webdriver\n",
    "from selenium.webdriver.support.ui import Select\n",
    "from selenium.webdriver.common.keys import Keys\n",
    "from datetime import datetime\n",
    "from selenium.webdriver.common.by import By\n",
    "from selenium.webdriver.support.ui import WebDriverWait\n",
    "from selenium.webdriver.support import expected_conditions as EC"
   ]
  },
  {
   "cell_type": "code",
   "execution_count": null,
   "metadata": {},
   "outputs": [],
   "source": []
  },
  {
   "cell_type": "code",
   "execution_count": 27,
   "metadata": {},
   "outputs": [],
   "source": [
    "neptun_code = 'EF764M'\n",
    "password = '19NEPtun96'\n",
    "targy_neve = 'Statisztika I.'\n",
    "szeminarium_kodja = 'G4'\n",
    "maximum_time_waiting = 10"
   ]
  },
  {
   "cell_type": "code",
   "execution_count": null,
   "metadata": {},
   "outputs": [],
   "source": []
  },
  {
   "cell_type": "code",
   "execution_count": 28,
   "metadata": {},
   "outputs": [],
   "source": [
    "#chrome megnyitása\n",
    "#neptun oldalának lekérése\n",
    "\n",
    "browser = webdriver.Chrome()\n",
    "url = 'https://neptun3r.web.uni-corvinus.hu/hallgatoi_1/login.aspx'\n",
    "browser.get(url)"
   ]
  },
  {
   "cell_type": "code",
   "execution_count": 29,
   "metadata": {},
   "outputs": [],
   "source": [
    "browser.implicitly_wait(5)"
   ]
  },
  {
   "cell_type": "code",
   "execution_count": 32,
   "metadata": {},
   "outputs": [
    {
     "ename": "TimeoutException",
     "evalue": "Message: \n",
     "output_type": "error",
     "traceback": [
      "\u001b[1;31m---------------------------------------------------------------------------\u001b[0m",
      "\u001b[1;31mTimeoutException\u001b[0m                          Traceback (most recent call last)",
      "\u001b[1;32m<ipython-input-32-44e15719a3ae>\u001b[0m in \u001b[0;36m<module>\u001b[1;34m\u001b[0m\n\u001b[0;32m      1\u001b[0m element = WebDriverWait(browser, maximum_time_waiting).until(\n\u001b[1;32m----> 2\u001b[1;33m         EC.presence_of_element_located((By.ID, \"user_sel\")))\n\u001b[0m",
      "\u001b[1;32mc:\\programdata\\miniconda3\\lib\\site-packages\\selenium\\webdriver\\support\\wait.py\u001b[0m in \u001b[0;36muntil\u001b[1;34m(self, method, message)\u001b[0m\n\u001b[0;32m     78\u001b[0m             \u001b[1;32mif\u001b[0m \u001b[0mtime\u001b[0m\u001b[1;33m.\u001b[0m\u001b[0mtime\u001b[0m\u001b[1;33m(\u001b[0m\u001b[1;33m)\u001b[0m \u001b[1;33m>\u001b[0m \u001b[0mend_time\u001b[0m\u001b[1;33m:\u001b[0m\u001b[1;33m\u001b[0m\u001b[1;33m\u001b[0m\u001b[0m\n\u001b[0;32m     79\u001b[0m                 \u001b[1;32mbreak\u001b[0m\u001b[1;33m\u001b[0m\u001b[1;33m\u001b[0m\u001b[0m\n\u001b[1;32m---> 80\u001b[1;33m         \u001b[1;32mraise\u001b[0m \u001b[0mTimeoutException\u001b[0m\u001b[1;33m(\u001b[0m\u001b[0mmessage\u001b[0m\u001b[1;33m,\u001b[0m \u001b[0mscreen\u001b[0m\u001b[1;33m,\u001b[0m \u001b[0mstacktrace\u001b[0m\u001b[1;33m)\u001b[0m\u001b[1;33m\u001b[0m\u001b[1;33m\u001b[0m\u001b[0m\n\u001b[0m\u001b[0;32m     81\u001b[0m \u001b[1;33m\u001b[0m\u001b[0m\n\u001b[0;32m     82\u001b[0m     \u001b[1;32mdef\u001b[0m \u001b[0muntil_not\u001b[0m\u001b[1;33m(\u001b[0m\u001b[0mself\u001b[0m\u001b[1;33m,\u001b[0m \u001b[0mmethod\u001b[0m\u001b[1;33m,\u001b[0m \u001b[0mmessage\u001b[0m\u001b[1;33m=\u001b[0m\u001b[1;34m''\u001b[0m\u001b[1;33m)\u001b[0m\u001b[1;33m:\u001b[0m\u001b[1;33m\u001b[0m\u001b[1;33m\u001b[0m\u001b[0m\n",
      "\u001b[1;31mTimeoutException\u001b[0m: Message: \n"
     ]
    }
   ],
   "source": [
    "element = WebDriverWait(browser, maximum_time_waiting).until(\n",
    "        EC.presence_of_element_located((By.ID, \"user_sel\")))"
   ]
  },
  {
   "cell_type": "code",
   "execution_count": null,
   "metadata": {},
   "outputs": [],
   "source": [
    "el = WebDriverWait(driver).until(lambda d: d.find_element_by_tag_name(\"p\"))"
   ]
  },
  {
   "cell_type": "code",
   "execution_count": null,
   "metadata": {},
   "outputs": [],
   "source": [
    "neptun_code_form = browser.find_element_by_name('user')\n",
    "neptun_code_form.send_keys(neptun_code)"
   ]
  },
  {
   "cell_type": "code",
   "execution_count": 247,
   "metadata": {},
   "outputs": [],
   "source": [
    "password_form = browser.find_element_by_name('pwd')\n",
    "password_form.send_keys(password)"
   ]
  },
  {
   "cell_type": "code",
   "execution_count": 248,
   "metadata": {},
   "outputs": [],
   "source": [
    "submit_button = browser.find_element_by_name('btnSubmit')\n",
    "submit_button.click()"
   ]
  },
  {
   "cell_type": "markdown",
   "metadata": {},
   "source": [
    "browser.implicitly_wait(15)"
   ]
  },
  {
   "cell_type": "code",
   "execution_count": 249,
   "metadata": {},
   "outputs": [],
   "source": [
    "targyak_menu_gomb =browser.find_element_by_xpath(\"//ul[@id='mb1']/li[3]\").click()\n",
    "\n",
    "targyfelvetel_gomb = browser.find_element_by_xpath(\"//li[@id='mb1_Targyak']/ul/li[3]\").click()"
   ]
  },
  {
   "cell_type": "markdown",
   "metadata": {},
   "source": [
    "targyak_menu_gomb = WebDriverWait(browser, 10).until(\n",
    "        EC.presence_of_element_located(browser.find_element_by_xpath(\"//ul[@id='mb1']/li[3]\").click()))\n",
    "\n",
    "targyfelvetel_gomb = WebDriverWait(browser, 10).until(\n",
    "        EC.presence_of_element_located(browser.find_element_by_xpath(\"//li[@id='mb1_Targyak']/ul/li[3]\").click()))"
   ]
  },
  {
   "cell_type": "code",
   "execution_count": 250,
   "metadata": {},
   "outputs": [],
   "source": [
    "browser.implicitly_wait(15)"
   ]
  },
  {
   "cell_type": "markdown",
   "metadata": {},
   "source": [
    "currentMonth = datetime.now().month\n",
    "currentYear = datetime.now().year\n",
    "semester = 2\n",
    "\n",
    "if 3 < currentMonth < 11:\n",
    "    semester = 1\n",
    "    currentYear += 1\n",
    "elif currentMonth == 11 or 12:\n",
    "    currentYear += 1\n",
    "\n",
    "neptun_date = str(currentYear - 1) + '/' + str(currentYear)[-2:] + '/' + str(semester)\n",
    "#70619 = 2019/20/2"
   ]
  },
  {
   "cell_type": "markdown",
   "metadata": {},
   "source": [
    "#ez akkor működik jól, ha a szerver számokkal jelöli a szemesztereket (70619 = 2019/20/2)\n",
    "neptun_date_option = browser.find_element_by_xpath(\"//table[@id = 'upFilter_bodytable']/tbody/tr[1]/td/select/option[@value = 70619]\")\n",
    "neptun_date_option.click()"
   ]
  },
  {
   "cell_type": "code",
   "execution_count": 251,
   "metadata": {},
   "outputs": [],
   "source": [
    "#ez akkor működik jól, ha mindig az első opció a legfrissebb szemeszter / ami szerintem mindig igaz\n",
    "neptun_date_option = browser.find_element_by_xpath(\"//table[@id = 'upFilter_bodytable']/tbody/tr[1]/td/select/option[1]\")\n",
    "neptun_date_option.click()"
   ]
  },
  {
   "cell_type": "code",
   "execution_count": 252,
   "metadata": {},
   "outputs": [],
   "source": [
    "mintatanterv_targyak_gomb = browser.find_element_by_xpath(\"//table[@id = 'upFilter_rbtnSubjectType']/tbody/tr[1]/td/input\")\n",
    "mintatanterv_targyak_gomb.click()"
   ]
  },
  {
   "cell_type": "code",
   "execution_count": 253,
   "metadata": {},
   "outputs": [],
   "source": [
    "syllabus_option = browser.find_element_by_xpath(\"//table[@id = 'upFilter_bodytable']/tbody/tr[4]/td/select/option[@value = 'All']\")\n",
    "syllabus_option.click()"
   ]
  },
  {
   "cell_type": "code",
   "execution_count": 255,
   "metadata": {},
   "outputs": [],
   "source": [
    "subject_classes_option = browser.find_element_by_xpath(\"//table[@id = 'upFilter_bodytable']/tbody/tr[5]/td[4]/select/option[@value = 'All']\")\n",
    "subject_classes_option.click()"
   ]
  },
  {
   "cell_type": "code",
   "execution_count": 256,
   "metadata": {},
   "outputs": [],
   "source": [
    "subject_classes_option = browser.find_element_by_xpath(\"//table[@id = 'upFilter_bodytable']/tbody/tr[6]/td[4]/select/option[@value = 0]\")\n",
    "subject_classes_option.click()"
   ]
  },
  {
   "cell_type": "code",
   "execution_count": 257,
   "metadata": {},
   "outputs": [],
   "source": [
    "subject_classes_option = browser.find_element_by_xpath(\"//table[@id = 'upFilter_bodytable']/tbody/tr[5]/td[2]/input\")\n",
    "subject_classes_option.clear()\n",
    "subject_classes_option.click()\n",
    "subject_classes_option.send_keys(targy_neve + Keys.RETURN)"
   ]
  },
  {
   "cell_type": "code",
   "execution_count": 258,
   "metadata": {},
   "outputs": [],
   "source": [
    "found_seminars = browser.find_element_by_xpath(\"//table[@id = 'h_addsubjects_gridSubjects_bodytable']/tbody/tr[1]/td[2]/span\").click()"
   ]
  },
  {
   "cell_type": "code",
   "execution_count": 259,
   "metadata": {},
   "outputs": [],
   "source": [
    "specific_seminar = browser.find_element_by_xpath(\"//table[@id = 'h_addsubjects_gridSubjects_bodytable']/tbody\")"
   ]
  },
  {
   "cell_type": "code",
   "execution_count": 260,
   "metadata": {},
   "outputs": [],
   "source": [
    "specific_seminar = browser.find_element_by_xpath(\"//table[@id = 'Addsubject_course1_gridCourses_bodytable']/tbody/tr[2]/td[13]/input\").click()"
   ]
  },
  {
   "cell_type": "code",
   "execution_count": 261,
   "metadata": {},
   "outputs": [],
   "source": [
    "save_button = browser.find_element_by_xpath(\"//table[@id = 'Addsubject_course1_gridCourses_tablebottom']/tbody/tr[1]/td[3]/table/tbody/tr/td/input\").click()"
   ]
  },
  {
   "cell_type": "code",
   "execution_count": null,
   "metadata": {},
   "outputs": [],
   "source": []
  },
  {
   "cell_type": "code",
   "execution_count": null,
   "metadata": {},
   "outputs": [],
   "source": []
  },
  {
   "cell_type": "code",
   "execution_count": null,
   "metadata": {},
   "outputs": [],
   "source": [
    "#Neptun 5 perc inaktivitás után kiéptet automatikusan"
   ]
  },
  {
   "cell_type": "code",
   "execution_count": null,
   "metadata": {},
   "outputs": [],
   "source": []
  },
  {
   "cell_type": "code",
   "execution_count": null,
   "metadata": {},
   "outputs": [],
   "source": [
    "for i in range(1,3):\n",
    "    print(i)\n",
    "    try:\n",
    "        specific_seminar = browser.find_element_by_xpath(\"//table[@id = 'h_addsubjects_gridSubjects_bodytable']/tbody/tr[%i]/td[2]/span\" %(i)).text\n",
    "        print(specific_seminar)\n",
    "    except:\n",
    "        print('nincs')\n"
   ]
  },
  {
   "cell_type": "code",
   "execution_count": null,
   "metadata": {},
   "outputs": [],
   "source": [
    "szeminarium_kodja = 'G4'\n",
    "                                                 \n",
    "for i in range(1,5):\n",
    "    exist = True\n",
    "    try:\n",
    "        specific_seminar = browser.find_element_by_xpath(\"//table[@id = 'Addsubject_course1_gridCourses_bodytable']/tbody/tr[%i]/td[2]/span\" %(i))\n",
    "    except:\n",
    "        exist = False\n",
    "    print(exist)\n",
    "    if exist == True:\n",
    "        specific_seminar = browser.find_element_by_xpath(\"//table[@id = 'Addsubject_course1_gridCourses_bodytable']/tbody/tr[%i]/td[2]/span\" %(i)).text\n",
    "        print(i)\n",
    "        print(specific_seminar)\n",
    "        if specific_seminar == szeminarium_kodja:\n",
    "            specific_seminar = browser.find_element_by_xpath(\"//table[@id = 'Addsubject_course1_gridCourses_bodytable']/tbody/tr[i]/td[13]/input\").click()"
   ]
  }
 ],
 "metadata": {
  "kernelspec": {
   "display_name": "Python 3",
   "language": "python",
   "name": "python3"
  },
  "language_info": {
   "codemirror_mode": {
    "name": "ipython",
    "version": 3
   },
   "file_extension": ".py",
   "mimetype": "text/x-python",
   "name": "python",
   "nbconvert_exporter": "python",
   "pygments_lexer": "ipython3",
   "version": "3.7.1"
  }
 },
 "nbformat": 4,
 "nbformat_minor": 2
}
