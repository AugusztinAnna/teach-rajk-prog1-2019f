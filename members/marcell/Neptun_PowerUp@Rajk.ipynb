{
 "cells": [
  {
   "cell_type": "code",
   "execution_count": 1,
   "metadata": {},
   "outputs": [],
   "source": [
    "#rendszer inicializálása\n",
    "\n",
    "from selenium import webdriver\n",
    "from selenium.webdriver.support.ui import Select\n",
    "from selenium.webdriver.common.keys import Keys\n",
    "from datetime import datetime\n",
    "from selenium.webdriver.common.by import By\n",
    "from selenium.webdriver.support.ui import WebDriverWait\n",
    "from selenium.webdriver.support import expected_conditions as EC\n",
    "import time"
   ]
  },
  {
   "cell_type": "code",
   "execution_count": 2,
   "metadata": {},
   "outputs": [],
   "source": [
    "from bejelentkezo_v1 import bejelentkezo\n",
    "from targyfelvevo_v1 import targyfelvevo"
   ]
  },
  {
   "cell_type": "code",
   "execution_count": null,
   "metadata": {},
   "outputs": [],
   "source": [
    "neptun_code = 'EF764M'\n",
    "password = '19NEPtun96'\n",
    "maximum_time_waiting = 10\n",
    "targy_lista = [\n",
    "    {\"name\": \"A mindennapi élet története 1500-2000-ig\", \"code\": \"E\"},\n",
    "    {\"name\": \"Politikai gazdaságtan\", \"code\": \"G1\"}\n",
    "]\n",
    "\n",
    "browser = bejelentkezo(neptun_code, password, maximum_time_waiting)\n",
    "\n",
    "targyfelvevo(targy_lista, browser, maximum_time_waiting)"
   ]
  },
  {
   "cell_type": "code",
   "execution_count": null,
   "metadata": {},
   "outputs": [],
   "source": []
  },
  {
   "cell_type": "code",
   "execution_count": null,
   "metadata": {},
   "outputs": [],
   "source": []
  },
  {
   "cell_type": "code",
   "execution_count": null,
   "metadata": {},
   "outputs": [],
   "source": []
  },
  {
   "cell_type": "code",
   "execution_count": null,
   "metadata": {},
   "outputs": [],
   "source": []
  },
  {
   "cell_type": "code",
   "execution_count": null,
   "metadata": {},
   "outputs": [],
   "source": []
  },
  {
   "cell_type": "code",
   "execution_count": null,
   "metadata": {},
   "outputs": [],
   "source": []
  },
  {
   "cell_type": "code",
   "execution_count": null,
   "metadata": {},
   "outputs": [],
   "source": []
  },
  {
   "cell_type": "code",
   "execution_count": null,
   "metadata": {},
   "outputs": [],
   "source": []
  },
  {
   "cell_type": "code",
   "execution_count": null,
   "metadata": {},
   "outputs": [],
   "source": []
  },
  {
   "cell_type": "code",
   "execution_count": null,
   "metadata": {},
   "outputs": [],
   "source": []
  },
  {
   "cell_type": "code",
   "execution_count": null,
   "metadata": {},
   "outputs": [],
   "source": []
  },
  {
   "cell_type": "code",
   "execution_count": null,
   "metadata": {},
   "outputs": [],
   "source": []
  },
  {
   "cell_type": "code",
   "execution_count": 5,
   "metadata": {},
   "outputs": [],
   "source": [
    "#chrome megnyitása\n",
    "#neptun oldalának lekérése\n",
    "\n",
    "browser = webdriver.Chrome()\n",
    "url = 'https://neptun3r.web.uni-corvinus.hu/hallgatoi_1/login.aspx'\n",
    "browser.get(url)"
   ]
  },
  {
   "cell_type": "code",
   "execution_count": 6,
   "metadata": {},
   "outputs": [],
   "source": [
    "neptun_code = 'EF764M'\n",
    "password = '19NEPtun96'\n",
    "targy_neve = 'Statisztika I.'\n",
    "szeminarium_kodja = 'G4'\n",
    "maximum_time_waiting = 10"
   ]
  },
  {
   "cell_type": "code",
   "execution_count": 7,
   "metadata": {},
   "outputs": [],
   "source": [
    "#vár, amíg a felhasználónév mező nem töltődik be\n",
    "\n",
    "el = WebDriverWait(browser, maximum_time_waiting).until(lambda browser: browser.find_element_by_name(\"user\"))"
   ]
  },
  {
   "cell_type": "code",
   "execution_count": 8,
   "metadata": {},
   "outputs": [],
   "source": [
    "#beírja a megadott neptun kódot\n",
    "\n",
    "browser.find_element_by_name('user').send_keys(neptun_code)"
   ]
  },
  {
   "cell_type": "code",
   "execution_count": 9,
   "metadata": {},
   "outputs": [],
   "source": [
    "#beírja a megadott jelszót\n",
    "\n",
    "browser.find_element_by_name('pwd').send_keys(password)"
   ]
  },
  {
   "cell_type": "code",
   "execution_count": 10,
   "metadata": {},
   "outputs": [],
   "source": [
    "#megnyomja a belépés gombot\n",
    "\n",
    "browser.find_element_by_name('btnSubmit').click()"
   ]
  },
  {
   "cell_type": "code",
   "execution_count": 11,
   "metadata": {},
   "outputs": [],
   "source": [
    "#vár amíg a fenti menüsáv nem töltődik be (köztük a Tárgyak gomb)\n",
    "\n",
    "el = WebDriverWait(browser, maximum_time_waiting).until(lambda browser: browser.find_element_by_id(\"mb1\"))"
   ]
  },
  {
   "cell_type": "code",
   "execution_count": 12,
   "metadata": {},
   "outputs": [],
   "source": [
    "# a Tárgyak gombra kattint, utána pedig azonnal a Tárgyfelvételre a lenyíló menüből\n",
    "\n",
    "targyak_menu_gomb =browser.find_element_by_xpath(\"//ul[@id='mb1']/li[3]\").click()\n",
    "targyfelvetel_gomb = browser.find_element_by_xpath(\"//li[@id='mb1_Targyak']/ul/li[3]\").click()"
   ]
  },
  {
   "cell_type": "markdown",
   "metadata": {},
   "source": [
    "#Kiszámolja az adott félévet\n",
    "\n",
    "currentMonth = datetime.now().month\n",
    "currentYear = datetime.now().year\n",
    "semester = 2\n",
    "\n",
    "if 3 < currentMonth < 11:\n",
    "    semester = 1\n",
    "    currentYear += 1\n",
    "elif currentMonth == 11 or 12:\n",
    "    currentYear += 1\n",
    "\n",
    "neptun_date = str(currentYear - 1) + '/' + str(currentYear)[-2:] + '/' + str(semester)\n",
    "#70619 = 2019/20/2"
   ]
  },
  {
   "cell_type": "markdown",
   "metadata": {},
   "source": [
    "#ez akkor működik jól, ha a szerver számokkal jelöli a szemesztereket (70619 = 2019/20/2)\n",
    "neptun_date_option = browser.find_element_by_xpath(\"//table[@id = 'upFilter_bodytable']/tbody/tr[1]/td/select/option[@value = 70619]\")\n",
    "neptun_date_option.click()"
   ]
  },
  {
   "cell_type": "code",
   "execution_count": 13,
   "metadata": {},
   "outputs": [],
   "source": [
    "#megvárja, amíg az adatmazők meg nem jelennek (maga a tábla, ami tartalmazza őket)\n",
    "\n",
    "el = WebDriverWait(browser, maximum_time_waiting).until(lambda browser: browser.find_element_by_id(\"upFilter_bodytable\"))"
   ]
  },
  {
   "cell_type": "code",
   "execution_count": 14,
   "metadata": {},
   "outputs": [],
   "source": [
    "#ez akkor működik jól, ha mindig az első opció a legfrissebb szemeszter / ami szerintem mindig igaz\n",
    "#kiválasztja a legfelső (legfrissebb) félévet\n",
    "\n",
    "neptun_date_option = browser.find_element_by_xpath(\"//table[@id = 'upFilter_bodytable']/tbody/tr[1]/td/select/option[1]\")\n",
    "neptun_date_option.click()"
   ]
  },
  {
   "cell_type": "code",
   "execution_count": 15,
   "metadata": {},
   "outputs": [],
   "source": [
    "browser.implicitly_wait(3)"
   ]
  },
  {
   "cell_type": "code",
   "execution_count": 16,
   "metadata": {},
   "outputs": [],
   "source": [
    "#a tárgytípusok között bepipálja a mintatanterv tárgyai opciót (az \"egyéb szabadon felvehető tárgyak\" helyett)\n",
    "\n",
    "mintatanterv_targyak_gomb = browser.find_element_by_xpath(\"//table[@id = 'upFilter_rbtnSubjectType']/tbody/tr[1]/td/input\")\n",
    "mintatanterv_targyak_gomb.click()"
   ]
  },
  {
   "cell_type": "code",
   "execution_count": 17,
   "metadata": {},
   "outputs": [],
   "source": [
    "browser.implicitly_wait(3)"
   ]
  },
  {
   "cell_type": "code",
   "execution_count": 18,
   "metadata": {},
   "outputs": [],
   "source": [
    "#kiválasztja hogy minden tárgy között keressen a kereső (mintatantervek = minden)\n",
    "\n",
    "syllabus_option = browser.find_element_by_xpath(\"//table[@id = 'upFilter_bodytable']/tbody/tr[4]/td/select/option[@value = 'All']\")\n",
    "syllabus_option.click()"
   ]
  },
  {
   "cell_type": "code",
   "execution_count": 19,
   "metadata": {},
   "outputs": [],
   "source": [
    "browser.implicitly_wait(5)"
   ]
  },
  {
   "cell_type": "code",
   "execution_count": 3,
   "metadata": {},
   "outputs": [],
   "source": [
    "#kiválasztja, hogy minden tárgycsoport között keressen (tárgycsoportok = minden)\n",
    "\n",
    "subject_classes_option = browser.find_element_by_xpath(\"//table[@id = 'upFilter_bodytable']/tbody/tr[5]/td[4]/select/option[@value = 'All']\")\n",
    "subject_classes_option.click()"
   ]
  },
  {
   "cell_type": "code",
   "execution_count": 87,
   "metadata": {},
   "outputs": [],
   "source": [
    "browser.implicitly_wait(3)"
   ]
  },
  {
   "cell_type": "code",
   "execution_count": 24,
   "metadata": {},
   "outputs": [],
   "source": [
    "#beállítja, hogy minden nyelvű kurzus kereshető legyen\n",
    "\n",
    "subject_classes_option = browser.find_element_by_xpath(\"//table[@id = 'upFilter_bodytable']/tbody/tr[6]/td[4]/select/option[@value = 0]\")\n",
    "subject_classes_option.click()"
   ]
  },
  {
   "cell_type": "code",
   "execution_count": 89,
   "metadata": {},
   "outputs": [],
   "source": [
    "browser.implicitly_wait(3)"
   ]
  },
  {
   "cell_type": "code",
   "execution_count": 90,
   "metadata": {},
   "outputs": [],
   "source": [
    "#megkeresei a tárgynév mezőt, kitörli a tartalmát, belekattint és beírja a megadott tárgynevet, majd nyom egy entert.\n",
    "\n",
    "subject_classes_option = browser.find_element_by_xpath(\"//table[@id = 'upFilter_bodytable']/tbody/tr[5]/td[2]/input\")\n",
    "subject_classes_option.clear()\n",
    "subject_classes_option.click()\n",
    "subject_classes_option.send_keys(targy_neve + Keys.RETURN)"
   ]
  },
  {
   "cell_type": "code",
   "execution_count": 91,
   "metadata": {},
   "outputs": [],
   "source": [
    "#vár, amíg a tárgyakat kategorizáló felső sáv (tárgyneve, tárgy kódja (...) meg nem jelenik\n",
    "\n",
    "el = WebDriverWait(browser, maximum_time_waiting).until(lambda browser: browser.find_element_by_id(\"h_addsubjects_gridSubjects_headerrow\"))"
   ]
  },
  {
   "cell_type": "markdown",
   "metadata": {},
   "source": [
    "#rákattint a legfelső találatra\n",
    "found_seminars = browser.find_element_by_xpath(\"//table[@id = 'h_addsubjects_gridSubjects_bodytable']/tbody/tr[1]/td[2]/span\").click()"
   ]
  },
  {
   "cell_type": "code",
   "execution_count": 92,
   "metadata": {},
   "outputs": [],
   "source": [
    "for i in range(1,3):\n",
    "    try:\n",
    "        specific_seminar = browser.find_element_by_xpath(\"//table[@id = 'h_addsubjects_gridSubjects_bodytable']/tbody/tr[%i]/td[2]/span\" %(i)).text\n",
    "        if specific_seminar == targy_neve:\n",
    "            browser.find_element_by_xpath(\"//table[@id = 'h_addsubjects_gridSubjects_bodytable']/tbody/tr[%i]/td[2]/span\" %(i)).click()\n",
    "            break\n",
    "    except:\n",
    "        print('Nem található ez a tárgynév!')\n"
   ]
  },
  {
   "cell_type": "code",
   "execution_count": 93,
   "metadata": {},
   "outputs": [],
   "source": [
    "#megvárja, amíg a szemináriumokat tartalmazó tábla nem töltődik be.\n",
    "\n",
    "el = WebDriverWait(browser, maximum_time_waiting).until(lambda browser: browser.find_element_by_id(\"Addsubject_course1_gridCourses_bodytable\"))"
   ]
  },
  {
   "cell_type": "markdown",
   "metadata": {},
   "source": [
    "specific_seminar = browser.find_element_by_xpath(\"//table[@id = 'Addsubject_course1_gridCourses_bodytable']/tbody/tr[2]/td[13]/input\").click()"
   ]
  },
  {
   "cell_type": "markdown",
   "metadata": {},
   "source": [
    "from fing2 import Fing"
   ]
  },
  {
   "cell_type": "markdown",
   "metadata": {},
   "source": [
    "Fing()"
   ]
  },
  {
   "cell_type": "markdown",
   "metadata": {},
   "source": [
    "f1 = lambda x, y : x + 2 * y\n",
    "\n",
    "def f2(x, y):\n",
    "    return x + 2 * y"
   ]
  },
  {
   "cell_type": "markdown",
   "metadata": {},
   "source": [
    "type(lambda x: x)"
   ]
  },
  {
   "cell_type": "code",
   "execution_count": null,
   "metadata": {},
   "outputs": [],
   "source": [
    "szeminarium_kodja = 'G4'\n",
    "                                                 \n",
    "for i in range(1,5):\n",
    "    exist = True\n",
    "    try:\n",
    "        specific_seminar = browser.find_element_by_xpath(\"//table[@id = 'Addsubject_course1_gridCourses_bodytable']/tbody/tr[%i]/td[2]/span\" %(i)).text\n",
    "        if specific_seminar == szeminarium_kodja:\n",
    "            specific_seminar = browser.find_element_by_xpath(\"//table[@id = 'Addsubject_course1_gridCourses_bodytable']/tbody/tr[i]/td[13]/input\").click()\n",
    "    except:\n",
    "        print('Nem található ilyen kódú szeminárium!')"
   ]
  },
  {
   "cell_type": "code",
   "execution_count": 94,
   "metadata": {},
   "outputs": [],
   "source": [
    "for i in range(1,40):\n",
    "    exist = True\n",
    "    try:\n",
    "        found_seminar = browser.find_element_by_xpath(\"//table[@id = 'Addsubject_course1_gridCourses_bodytable']/tbody/tr[%i]/td[2]/span\" %(i))\n",
    "    except:\n",
    "        exist = False\n",
    "    if exist:\n",
    "        if found_seminar.text == szeminarium_kodja:\n",
    "            assert exist\n",
    "            seminar_pipa = browser.find_element_by_xpath(\"//table[@id = 'Addsubject_course1_gridCourses_bodytable']/tbody/tr[%i]/td[13]/input\" % i)\n",
    "            seminar_pipa.click()"
   ]
  },
  {
   "cell_type": "code",
   "execution_count": 95,
   "metadata": {},
   "outputs": [],
   "source": [
    "#rákattint a mentés gombra\n",
    "\n",
    "save_button = browser.find_element_by_xpath(\"//table[@id = 'Addsubject_course1_gridCourses_tablebottom']/tbody/tr[1]/td[3]/table/tbody/tr/td/input\").click()"
   ]
  },
  {
   "cell_type": "code",
   "execution_count": null,
   "metadata": {},
   "outputs": [],
   "source": []
  }
 ],
 "metadata": {
  "kernelspec": {
   "display_name": "Python 3",
   "language": "python",
   "name": "python3"
  }
 },
 "nbformat": 4,
 "nbformat_minor": 2
}
