{
 "cells": [
  {
   "cell_type": "code",
   "execution_count": 284,
   "metadata": {},
   "outputs": [],
   "source": [
    "#rendszer inicializálása\n",
    "\n",
    "from selenium import webdriver\n",
    "from selenium.webdriver.support.ui import Select\n",
    "from selenium.webdriver.common.keys import Keys\n",
    "from datetime import datetime\n",
    "from selenium.webdriver.common.by import By\n",
    "from selenium.webdriver.support.ui import WebDriverWait\n",
    "from selenium.webdriver.support import expected_conditions as EC"
   ]
  },
  {
   "cell_type": "code",
   "execution_count": null,
   "metadata": {},
   "outputs": [],
   "source": []
  },
  {
   "cell_type": "code",
   "execution_count": 285,
   "metadata": {},
   "outputs": [],
   "source": [
    "neptun_code = 'EF764M'\n",
    "password = '19NEPtun96'\n",
    "targy_neve = 'Statisztika I.'"
   ]
  },
  {
   "cell_type": "code",
   "execution_count": null,
   "metadata": {},
   "outputs": [],
   "source": []
  },
  {
   "cell_type": "code",
   "execution_count": 286,
   "metadata": {},
   "outputs": [],
   "source": [
    "#chrome megnyitása\n",
    "#neptun oldalának lekérése\n",
    "\n",
    "browser = webdriver.Chrome()\n",
    "url = 'https://neptun3r.web.uni-corvinus.hu/hallgatoi_1/login.aspx'\n",
    "browser.get(url)"
   ]
  },
  {
   "cell_type": "code",
   "execution_count": 287,
   "metadata": {},
   "outputs": [],
   "source": [
    "neptun_code_form = browser.find_element_by_name('user')\n",
    "neptun_code_form.send_keys(neptun_code)"
   ]
  },
  {
   "cell_type": "code",
   "execution_count": 288,
   "metadata": {},
   "outputs": [],
   "source": [
    "password_form = browser.find_element_by_name('pwd')\n",
    "password_form.send_keys(password)"
   ]
  },
  {
   "cell_type": "code",
   "execution_count": 289,
   "metadata": {},
   "outputs": [],
   "source": [
    "submit_button = browser.find_element_by_name('btnSubmit')\n",
    "submit_button.click()"
   ]
  },
  {
   "cell_type": "code",
   "execution_count": 290,
   "metadata": {},
   "outputs": [],
   "source": [
    "browser.implicitly_wait(15)"
   ]
  },
  {
   "cell_type": "code",
   "execution_count": 291,
   "metadata": {},
   "outputs": [],
   "source": [
    "targyak_menu_gomb = browser.find_element_by_xpath(\"//ul[@id='mb1']/li[3]\").click()\n",
    "\n",
    "targyfelvetel_gomb = browser.find_element_by_xpath(\"//li[@id='mb1_Targyak']/ul/li[3]\").click()"
   ]
  },
  {
   "cell_type": "code",
   "execution_count": 292,
   "metadata": {},
   "outputs": [],
   "source": [
    "browser.implicitly_wait(15)"
   ]
  },
  {
   "cell_type": "markdown",
   "metadata": {},
   "source": [
    "currentMonth = datetime.now().month\n",
    "currentYear = datetime.now().year\n",
    "semester = 2\n",
    "\n",
    "if 3 < currentMonth < 11:\n",
    "    semester = 1\n",
    "    currentYear += 1\n",
    "elif currentMonth == 11 or 12:\n",
    "    currentYear += 1\n",
    "\n",
    "neptun_date = str(currentYear - 1) + '/' + str(currentYear)[-2:] + '/' + str(semester)\n",
    "#70619 = 2019/20/2"
   ]
  },
  {
   "cell_type": "markdown",
   "metadata": {},
   "source": [
    "#ez akkor működik jól, ha a szerver számokkal jelöli a szemesztereket (70619 = 2019/20/2)\n",
    "neptun_date_option = browser.find_element_by_xpath(\"//table[@id = 'upFilter_bodytable']/tbody/tr[1]/td/select/option[@value = 70619]\")\n",
    "neptun_date_option.click()"
   ]
  },
  {
   "cell_type": "code",
   "execution_count": 293,
   "metadata": {},
   "outputs": [],
   "source": [
    "#ez akkor működik jól, ha mindig az első opció a legfrissebb szemeszter / ami szerintem mindig igaz\n",
    "neptun_date_option = browser.find_element_by_xpath(\"//table[@id = 'upFilter_bodytable']/tbody/tr[1]/td/select/option[1]\")\n",
    "neptun_date_option.click()"
   ]
  },
  {
   "cell_type": "code",
   "execution_count": 294,
   "metadata": {},
   "outputs": [],
   "source": [
    "mintatanterv_targyak_gomb = browser.find_element_by_xpath(\"//table[@id = 'upFilter_rbtnSubjectType']/tbody/tr[1]/td/input\")\n",
    "mintatanterv_targyak_gomb.click()"
   ]
  },
  {
   "cell_type": "code",
   "execution_count": 295,
   "metadata": {},
   "outputs": [],
   "source": [
    "syllabus_option = browser.find_element_by_xpath(\"//table[@id = 'upFilter_bodytable']/tbody/tr[4]/td/select/option[@value = 'All']\")\n",
    "syllabus_option.click()"
   ]
  },
  {
   "cell_type": "code",
   "execution_count": 296,
   "metadata": {},
   "outputs": [],
   "source": [
    "subject_classes_option = browser.find_element_by_xpath(\"//table[@id = 'upFilter_bodytable']/tbody/tr[5]/td[4]/select/option[@value = 'All']\")\n",
    "subject_classes_option.click()"
   ]
  },
  {
   "cell_type": "code",
   "execution_count": 297,
   "metadata": {},
   "outputs": [],
   "source": [
    "subject_classes_option = browser.find_element_by_xpath(\"//table[@id = 'upFilter_bodytable']/tbody/tr[6]/td[4]/select/option[@value = 0]\")\n",
    "subject_classes_option.click()"
   ]
  },
  {
   "cell_type": "code",
   "execution_count": 298,
   "metadata": {},
   "outputs": [],
   "source": [
    "subject_classes_option = browser.find_element_by_xpath(\"//table[@id = 'upFilter_bodytable']/tbody/tr[5]/td[2]/input\")\n",
    "subject_classes_option.clear()\n",
    "subject_classes_option.click()\n",
    "subject_classes_option.send_keys(targy_neve + Keys.RETURN)"
   ]
  },
  {
   "cell_type": "code",
   "execution_count": null,
   "metadata": {},
   "outputs": [],
   "source": []
  },
  {
   "cell_type": "code",
   "execution_count": null,
   "metadata": {},
   "outputs": [],
   "source": []
  },
  {
   "cell_type": "code",
   "execution_count": 299,
   "metadata": {},
   "outputs": [],
   "source": [
    "#Neptun 5 perc inaktivitás után kiéptet automatikusan"
   ]
  },
  {
   "cell_type": "code",
   "execution_count": null,
   "metadata": {},
   "outputs": [],
   "source": []
  }
 ],
 "metadata": {
  "kernelspec": {
   "display_name": "Python 3",
   "language": "python",
   "name": "python3"
  },
  "language_info": {
   "codemirror_mode": {
    "name": "ipython",
    "version": 3
   },
   "file_extension": ".py",
   "mimetype": "text/x-python",
   "name": "python",
   "nbconvert_exporter": "python",
   "pygments_lexer": "ipython3",
   "version": "3.7.1"
  }
 },
 "nbformat": 4,
 "nbformat_minor": 2
}
