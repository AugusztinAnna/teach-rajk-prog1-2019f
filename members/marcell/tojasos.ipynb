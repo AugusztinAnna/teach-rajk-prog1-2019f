{
 "cells": [
  {
   "cell_type": "code",
   "execution_count": 2,
   "metadata": {},
   "outputs": [],
   "source": [
    "from jkg_evaluators import eggdrop_100floor_2egg"
   ]
  },
  {
   "cell_type": "code",
   "execution_count": 8,
   "metadata": {},
   "outputs": [],
   "source": [
    "def my_solution(breaks):\n",
    "\n",
    "    lowest_possible_floor = 15\n",
    "    highest_possible_floor = 100\n",
    "    memory = 0\n",
    "    \n",
    "    while not breaks(lowest_possible_floor):\n",
    "\n",
    "        if highest_possible_floor - lowest_possible_floor > 71:\n",
    "            memory = lowest_possible_floor\n",
    "            lowest_possible_floor = lowest_possible_floor + 15\n",
    "\n",
    "        elif 71 > highest_possible_floor - lowest_possible_floor >= 30:\n",
    "            memory = lowest_possible_floor\n",
    "            lowest_possible_floor = lowest_possible_floor + 10\n",
    "\n",
    "        else:\n",
    "            memory = lowest_possible_floor\n",
    "            lowest_possible_floor = lowest_possible_floor + 5\n",
    "\n",
    "    lowest_possible_floor = memory\n",
    "\n",
    "    while not breaks(lowest_possible_floor):\n",
    "        lowest_possible_floor = lowest_possible_floor +1\n",
    "\n",
    "\n",
    "    return lowest_possible_floor - 1"
   ]
  },
  {
   "cell_type": "code",
   "execution_count": 9,
   "metadata": {},
   "outputs": [
    {
     "name": "stdout",
     "output_type": "stream",
     "text": [
      "- success rate: 101/101 (100.0%)\n",
      "- error count: 0\n",
      "- best performance: 3\n",
      "- worst performance: 18\n",
      "- mean performance: 11.623762376237623\n"
     ]
    }
   ],
   "source": [
    "eggdrop_100floor_2egg.evaluate(my_solution)"
   ]
  },
  {
   "cell_type": "code",
   "execution_count": null,
   "metadata": {},
   "outputs": [],
   "source": []
  }
 ],
 "metadata": {
  "kernelspec": {
   "display_name": "Python 3",
   "language": "python",
   "name": "python3"
  },
  "language_info": {
   "codemirror_mode": {
    "name": "ipython",
    "version": 3
   },
   "file_extension": ".py",
   "mimetype": "text/x-python",
   "name": "python",
   "nbconvert_exporter": "python",
   "pygments_lexer": "ipython3",
   "version": "3.7.1"
  }
 },
 "nbformat": 4,
 "nbformat_minor": 2
}
