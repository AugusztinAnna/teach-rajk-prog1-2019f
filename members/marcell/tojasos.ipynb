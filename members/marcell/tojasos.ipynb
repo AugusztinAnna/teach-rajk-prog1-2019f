{
 "cells": [
  {
   "cell_type": "code",
   "execution_count": 2,
   "metadata": {},
   "outputs": [],
   "source": [
    "from jkg_evaluators import eggdrop_100floor_2egg"
   ]
  },
  {
   "cell_type": "code",
   "execution_count": 6,
   "metadata": {},
   "outputs": [],
   "source": [
    "def my_solution(breaks):\n",
    "\n",
    "    lowest_possible_floor = 15\n",
    "    highest_possible_floor = 100\n",
    "    \n",
    "    while not breaks(lowest_possible_floor):\n",
    "\n",
    "        if highest_possible_floor - lowest_possible_floor > 71:\n",
    "            memory = lowest_possible_floor\n",
    "            lowest_possible_floor = lowest_possible_floor + 15\n",
    "\n",
    "        elif 71 > highest_possible_floor - lowest_possible_floor >= 30:\n",
    "            memory = lowest_possible_floor\n",
    "            lowest_possible_floor = lowest_possible_floor + 10\n",
    "\n",
    "        else:\n",
    "            memory = lowest_possible_floor\n",
    "            lowest_possible_floor = lowest_possible_floor + 5\n",
    "\n",
    "    lowest_possible_floor = memory\n",
    "\n",
    "    while not breaks(lowest_possible_floor):\n",
    "        lowest_possible_floor = lowest_possible_floor +1\n",
    "\n",
    "\n",
    "    return lowest_possible_floor - 1"
   ]
  },
  {
   "cell_type": "code",
   "execution_count": 7,
   "metadata": {},
   "outputs": [
    {
     "name": "stdout",
     "output_type": "stream",
     "text": [
      "- success rate: 86/101 (85.0%)\n",
      "- error count: 15\n",
      "- best performance: 4\n",
      "- worst performance: 18\n",
      "- mean performance: 11.906976744186046\n",
      "\n",
      "\n",
      " ERROR at: \n",
      " {'egg_count': 2, 'floor_count': 100, 'max_floor': 0} \n",
      " - UnboundLocalError (local variable 'memory' referenced before assignment)\n",
      "\n",
      "\n",
      " ERROR at: \n",
      " {'egg_count': 2, 'floor_count': 100, 'max_floor': 1} \n",
      " - UnboundLocalError (local variable 'memory' referenced before assignment)\n",
      "\n",
      "\n",
      " ERROR at: \n",
      " {'egg_count': 2, 'floor_count': 100, 'max_floor': 2} \n",
      " - UnboundLocalError (local variable 'memory' referenced before assignment)\n",
      "\n",
      "\n",
      " ERROR at: \n",
      " {'egg_count': 2, 'floor_count': 100, 'max_floor': 3} \n",
      " - UnboundLocalError (local variable 'memory' referenced before assignment)\n",
      "\n",
      "\n",
      " ERROR at: \n",
      " {'egg_count': 2, 'floor_count': 100, 'max_floor': 4} \n",
      " - UnboundLocalError (local variable 'memory' referenced before assignment)\n",
      "\n",
      "\n",
      " ERROR at: \n",
      " {'egg_count': 2, 'floor_count': 100, 'max_floor': 5} \n",
      " - UnboundLocalError (local variable 'memory' referenced before assignment)\n",
      "\n",
      "\n",
      " ERROR at: \n",
      " {'egg_count': 2, 'floor_count': 100, 'max_floor': 6} \n",
      " - UnboundLocalError (local variable 'memory' referenced before assignment)\n",
      "\n",
      "\n",
      " ERROR at: \n",
      " {'egg_count': 2, 'floor_count': 100, 'max_floor': 7} \n",
      " - UnboundLocalError (local variable 'memory' referenced before assignment)\n",
      "\n",
      "\n",
      " ERROR at: \n",
      " {'egg_count': 2, 'floor_count': 100, 'max_floor': 8} \n",
      " - UnboundLocalError (local variable 'memory' referenced before assignment)\n",
      "\n",
      "\n",
      " ERROR at: \n",
      " {'egg_count': 2, 'floor_count': 100, 'max_floor': 9} \n",
      " - UnboundLocalError (local variable 'memory' referenced before assignment)\n"
     ]
    }
   ],
   "source": [
    "eggdrop_100floor_2egg.evaluate(my_solution)"
   ]
  },
  {
   "cell_type": "code",
   "execution_count": null,
   "metadata": {},
   "outputs": [],
   "source": []
  }
 ],
 "metadata": {
  "kernelspec": {
   "display_name": "Python 3",
   "language": "python",
   "name": "python3"
  },
  "language_info": {
   "codemirror_mode": {
    "name": "ipython",
    "version": 3
   },
   "file_extension": ".py",
   "mimetype": "text/x-python",
   "name": "python",
   "nbconvert_exporter": "python",
   "pygments_lexer": "ipython3",
   "version": "3.7.1"
  }
 },
 "nbformat": 4,
 "nbformat_minor": 2
}
