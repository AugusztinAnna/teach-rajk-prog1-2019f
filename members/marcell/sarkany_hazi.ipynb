{
 "cells": [
  {
   "cell_type": "code",
   "execution_count": 2,
   "metadata": {},
   "outputs": [],
   "source": [
    "from jkg_evaluators import dragonfind_10_to_500"
   ]
  },
  {
   "cell_type": "code",
   "execution_count": 1,
   "metadata": {},
   "outputs": [],
   "source": [
    "def my_solution1(is_dead, number_of_cows):\n",
    "    fat_alive_cow_index = 0\n",
    "    thin_alive_cow_index = number_of_cows - 1\n",
    "    \n",
    "    while(fat_alive_cow_index + 1) != thin_alive_cow_index:\n",
    "          \n",
    "    #while (fat_alive_cow_index + 1) < thin_alive_cow_index:\n",
    "    \n",
    "        middle_cow = int((fat_alive_cow_index + thin_alive_cow_index) / 2)\n",
    "        if not is_dead(middle_cow):\n",
    "            thin_alive_cow_index = middle_cow\n",
    "        else:\n",
    "            fat_alive_cow_index = middle_cow\n",
    "    return thin_alive_cow_index"
   ]
  },
  {
   "cell_type": "code",
   "execution_count": 3,
   "metadata": {},
   "outputs": [
    {
     "name": "stdout",
     "output_type": "stream",
     "text": [
      "- success rate: 124714/124714 (100.0%)\n",
      "- error count: 0\n",
      "- best performance: 3\n",
      "- worst performance: 9\n",
      "- mean performance: 8.301874689289093\n"
     ]
    }
   ],
   "source": [
    "        \n",
    "dragonfind_10_to_500.evaluate(my_solution1)"
   ]
  }
 ],
 "metadata": {
  "kernelspec": {
   "display_name": "Python 3",
   "language": "python",
   "name": "python3"
  },
  "language_info": {
   "codemirror_mode": {
    "name": "ipython",
    "version": 3
   },
   "file_extension": ".py",
   "mimetype": "text/x-python",
   "name": "python",
   "nbconvert_exporter": "python",
   "pygments_lexer": "ipython3",
   "version": "3.7.1"
  }
 },
 "nbformat": 4,
 "nbformat_minor": 2
}
