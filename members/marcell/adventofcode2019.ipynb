{
 "cells": [
  {
   "cell_type": "code",
   "execution_count": null,
   "metadata": {},
   "outputs": [],
   "source": [
    "#első feladat"
   ]
  },
  {
   "cell_type": "code",
   "execution_count": 85,
   "metadata": {},
   "outputs": [],
   "source": [
    "import math"
   ]
  },
  {
   "cell_type": "code",
   "execution_count": 5,
   "metadata": {},
   "outputs": [],
   "source": [
    "#megnyitom és egy listában elhelyezem\n",
    "with open('adventofcode2019_input1.txt', 'r') as f:\n",
    "    input = f.read().splitlines()\n",
    "f.close()"
   ]
  },
  {
   "cell_type": "code",
   "execution_count": 25,
   "metadata": {},
   "outputs": [
    {
     "data": {
      "text/plain": [
       "3512133"
      ]
     },
     "execution_count": 25,
     "metadata": {},
     "output_type": "execute_result"
    }
   ],
   "source": [
    "sum([math.floor(int(i)/3) - 2 for i in input])"
   ]
  },
  {
   "cell_type": "code",
   "execution_count": null,
   "metadata": {
    "collapsed": true
   },
   "outputs": [],
   "source": [
    "#második része az első feladatnak"
   ]
  },
  {
   "cell_type": "code",
   "execution_count": null,
   "metadata": {},
   "outputs": [],
   "source": [
    "sum_of_all_fuel = 0\n",
    "for i in input:\n",
    "    additional_fuel = math.floor(int(i) / 3) - 2\n",
    "    while additional_fuel > 0:\n",
    "        sum_of_all_fuel += additional_fuel\n",
    "        additional_fuel = math.floor(additional_fuel / 3) - 2\n",
    "sum_of_all_fuel"
   ]
  },
  {
   "cell_type": "code",
   "execution_count": 235,
   "metadata": {},
   "outputs": [],
   "source": [
    "#második feladat"
   ]
  },
  {
   "cell_type": "code",
   "execution_count": 408,
   "metadata": {},
   "outputs": [],
   "source": [
    "#megnyitom és egy listában elhelyezem\n",
    "with open('adventofcode2019_input2.txt', 'r') as f:\n",
    "    input = f.read().splitlines()\n",
    "f.close()"
   ]
  },
  {
   "cell_type": "code",
   "execution_count": 412,
   "metadata": {},
   "outputs": [],
   "source": [
    "int_input = []\n",
    "for i in range(0, len(input)):\n",
    "    a = input[i].split(',')\n",
    "for ii in a:\n",
    "    int_input.append(int(ii))\n",
    "int_input[1] = 12\n",
    "int_input[2] = 2"
   ]
  },
  {
   "cell_type": "code",
   "execution_count": 410,
   "metadata": {},
   "outputs": [
    {
     "name": "stdout",
     "output_type": "stream",
     "text": [
      "3267740\n"
     ]
    }
   ],
   "source": [
    "for i in range (0,len(int_input),4):\n",
    "    if int_input[i] == 1:\n",
    "        int_input[int_input[i+3]] = int_input[int_input[i+1]] + int_input[int_input[i+2]]\n",
    "    elif int_input[i] == 2:\n",
    "        int_input[int_input[i+3]] = int_input[int_input[i+1]] * int_input[int_input[i+2]]\n",
    "    elif int_input[i] == 99:\n",
    "        print(int_input[0])\n",
    "        break"
   ]
  },
  {
   "cell_type": "code",
   "execution_count": null,
   "metadata": {},
   "outputs": [],
   "source": [
    "#második része a második feladatnak"
   ]
  },
  {
   "cell_type": "code",
   "execution_count": 433,
   "metadata": {},
   "outputs": [
    {
     "name": "stdout",
     "output_type": "stream",
     "text": [
      "True\n",
      "[78, 70]\n",
      "7870\n"
     ]
    }
   ],
   "source": [
    "for b in range(0,100):\n",
    "    for bb in range(0,100):\n",
    "        int_input = []\n",
    "        for i in range(0, len(input)):\n",
    "            a = input[i].split(',')\n",
    "        for ii in a:\n",
    "            int_input.append(int(ii))\n",
    "        int_input[1] = b\n",
    "        int_input[2] = bb\n",
    "\n",
    "        for i in range (0,len(int_input),4):\n",
    "            if int_input[i] == 1:\n",
    "                int_input[int_input[i+3]] = int_input[int_input[i+1]] + int_input[int_input[i+2]]\n",
    "            elif int_input[i] == 2:\n",
    "                int_input[int_input[i+3]] = int_input[int_input[i+1]] * int_input[int_input[i+2]]\n",
    "            elif int_input[i] == 99:\n",
    "                break\n",
    "        if int_input[0] == 19690720:\n",
    "            print(int_input[0] == 19690720)\n",
    "            print(int_input[1:3])\n",
    "            print(100*int_input[1] + int_input[2])"
   ]
  },
  {
   "cell_type": "code",
   "execution_count": null,
   "metadata": {},
   "outputs": [],
   "source": []
  },
  {
   "cell_type": "code",
   "execution_count": null,
   "metadata": {},
   "outputs": [],
   "source": []
  }
 ],
 "metadata": {
  "kernelspec": {
   "display_name": "Python 3",
   "language": "python",
   "name": "python3"
  },
  "language_info": {
   "codemirror_mode": {
    "name": "ipython",
    "version": 3
   },
   "file_extension": ".py",
   "mimetype": "text/x-python",
   "name": "python",
   "nbconvert_exporter": "python",
   "pygments_lexer": "ipython3",
   "version": "3.7.1"
  }
 },
 "nbformat": 4,
 "nbformat_minor": 2
}
