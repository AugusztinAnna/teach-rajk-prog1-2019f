{
 "cells": [
  {
   "cell_type": "code",
   "execution_count": null,
   "metadata": {},
   "outputs": [],
   "source": [
    "#első feladat"
   ]
  },
  {
   "cell_type": "code",
   "execution_count": 85,
   "metadata": {},
   "outputs": [],
   "source": [
    "import math"
   ]
  },
  {
   "cell_type": "code",
   "execution_count": 5,
   "metadata": {},
   "outputs": [],
   "source": [
    "#megnyitom és egy listában elhelyezem\n",
    "with open('adventofcode2019_input1.txt', 'r') as f:\n",
    "    input = f.read().splitlines()\n",
    "f.close()"
   ]
  },
  {
   "cell_type": "code",
   "execution_count": 25,
   "metadata": {},
   "outputs": [
    {
     "data": {
      "text/plain": [
       "3512133"
      ]
     },
     "execution_count": 25,
     "metadata": {},
     "output_type": "execute_result"
    }
   ],
   "source": [
    "sum([math.floor(int(i)/3) - 2 for i in input])"
   ]
  },
  {
   "cell_type": "code",
   "execution_count": null,
   "metadata": {
    "collapsed": true
   },
   "outputs": [],
   "source": [
    "#második része az első feladatnak"
   ]
  },
  {
   "cell_type": "code",
   "execution_count": null,
   "metadata": {},
   "outputs": [],
   "source": [
    "sum_of_all_fuel = 0\n",
    "for i in input:\n",
    "    additional_fuel = math.floor(int(i) / 3) - 2\n",
    "    while additional_fuel > 0:\n",
    "        sum_of_all_fuel += additional_fuel\n",
    "        additional_fuel = math.floor(additional_fuel / 3) - 2\n",
    "sum_of_all_fuel"
   ]
  },
  {
   "cell_type": "code",
   "execution_count": 235,
   "metadata": {},
   "outputs": [],
   "source": [
    "#második feladat"
   ]
  },
  {
   "cell_type": "code",
   "execution_count": 1,
   "metadata": {},
   "outputs": [],
   "source": [
    "#megnyitom és egy listában elhelyezem\n",
    "with open('adventofcode2019_input2.txt', 'r') as f:\n",
    "    input = f.read().splitlines()\n",
    "f.close()"
   ]
  },
  {
   "cell_type": "code",
   "execution_count": 2,
   "metadata": {},
   "outputs": [
    {
     "data": {
      "text/plain": [
       "[1,\n",
       " 12,\n",
       " 2,\n",
       " 3,\n",
       " 1,\n",
       " 1,\n",
       " 2,\n",
       " 3,\n",
       " 1,\n",
       " 3,\n",
       " 4,\n",
       " 3,\n",
       " 1,\n",
       " 5,\n",
       " 0,\n",
       " 3,\n",
       " 2,\n",
       " 1,\n",
       " 10,\n",
       " 19,\n",
       " 1,\n",
       " 19,\n",
       " 5,\n",
       " 23,\n",
       " 1,\n",
       " 6,\n",
       " 23,\n",
       " 27,\n",
       " 1,\n",
       " 27,\n",
       " 5,\n",
       " 31,\n",
       " 2,\n",
       " 31,\n",
       " 10,\n",
       " 35,\n",
       " 2,\n",
       " 35,\n",
       " 6,\n",
       " 39,\n",
       " 1,\n",
       " 39,\n",
       " 5,\n",
       " 43,\n",
       " 2,\n",
       " 43,\n",
       " 9,\n",
       " 47,\n",
       " 1,\n",
       " 47,\n",
       " 6,\n",
       " 51,\n",
       " 1,\n",
       " 13,\n",
       " 51,\n",
       " 55,\n",
       " 2,\n",
       " 9,\n",
       " 55,\n",
       " 59,\n",
       " 1,\n",
       " 59,\n",
       " 13,\n",
       " 63,\n",
       " 1,\n",
       " 6,\n",
       " 63,\n",
       " 67,\n",
       " 2,\n",
       " 67,\n",
       " 10,\n",
       " 71,\n",
       " 1,\n",
       " 9,\n",
       " 71,\n",
       " 75,\n",
       " 2,\n",
       " 75,\n",
       " 6,\n",
       " 79,\n",
       " 1,\n",
       " 79,\n",
       " 5,\n",
       " 83,\n",
       " 1,\n",
       " 83,\n",
       " 5,\n",
       " 87,\n",
       " 2,\n",
       " 9,\n",
       " 87,\n",
       " 91,\n",
       " 2,\n",
       " 9,\n",
       " 91,\n",
       " 95,\n",
       " 1,\n",
       " 95,\n",
       " 10,\n",
       " 99,\n",
       " 1,\n",
       " 9,\n",
       " 99,\n",
       " 103,\n",
       " 2,\n",
       " 103,\n",
       " 6,\n",
       " 107,\n",
       " 2,\n",
       " 9,\n",
       " 107,\n",
       " 111,\n",
       " 1,\n",
       " 111,\n",
       " 5,\n",
       " 115,\n",
       " 2,\n",
       " 6,\n",
       " 115,\n",
       " 119,\n",
       " 1,\n",
       " 5,\n",
       " 119,\n",
       " 123,\n",
       " 1,\n",
       " 123,\n",
       " 2,\n",
       " 127,\n",
       " 1,\n",
       " 127,\n",
       " 9,\n",
       " 0,\n",
       " 99,\n",
       " 2,\n",
       " 0,\n",
       " 14,\n",
       " 0]"
      ]
     },
     "execution_count": 2,
     "metadata": {},
     "output_type": "execute_result"
    }
   ],
   "source": [
    "int_input = []\n",
    "for i in range(0, len(input)):\n",
    "    a = input[i].split(',')\n",
    "for ii in a:\n",
    "    int_input.append(int(ii))\n",
    "int_input[1] = 12\n",
    "int_input[2] = 2"
   ]
  },
  {
   "cell_type": "code",
   "execution_count": 410,
   "metadata": {},
   "outputs": [
    {
     "name": "stdout",
     "output_type": "stream",
     "text": [
      "3267740\n"
     ]
    }
   ],
   "source": [
    "for i in range (0,len(int_input),4):\n",
    "    if int_input[i] == 1:\n",
    "        int_input[int_input[i+3]] = int_input[int_input[i+1]] + int_input[int_input[i+2]]\n",
    "    elif int_input[i] == 2:\n",
    "        int_input[int_input[i+3]] = int_input[int_input[i+1]] * int_input[int_input[i+2]]\n",
    "    elif int_input[i] == 99:\n",
    "        print(int_input[0])\n",
    "        break"
   ]
  },
  {
   "cell_type": "code",
   "execution_count": null,
   "metadata": {},
   "outputs": [],
   "source": [
    "#második része a második feladatnak"
   ]
  },
  {
   "cell_type": "code",
   "execution_count": 433,
   "metadata": {},
   "outputs": [
    {
     "name": "stdout",
     "output_type": "stream",
     "text": [
      "True\n",
      "[78, 70]\n",
      "7870\n"
     ]
    }
   ],
   "source": [
    "for b in range(0,100):\n",
    "    for bb in range(0,100):\n",
    "        int_input = []\n",
    "        for i in range(0, len(input)):\n",
    "            a = input[i].split(',')\n",
    "        for ii in a:\n",
    "            int_input.append(int(ii))\n",
    "        int_input[1] = b\n",
    "        int_input[2] = bb\n",
    "\n",
    "        for i in range (0,len(int_input),4):\n",
    "            if int_input[i] == 1:\n",
    "                int_input[int_input[i+3]] = int_input[int_input[i+1]] + int_input[int_input[i+2]]\n",
    "            elif int_input[i] == 2:\n",
    "                int_input[int_input[i+3]] = int_input[int_input[i+1]] * int_input[int_input[i+2]]\n",
    "            elif int_input[i] == 99:\n",
    "                break\n",
    "        if int_input[0] == 19690720:\n",
    "            print(int_input[0] == 19690720)\n",
    "            print(int_input[1:3])\n",
    "            print(100*int_input[1] + int_input[2])"
   ]
  },
  {
   "cell_type": "code",
   "execution_count": null,
   "metadata": {},
   "outputs": [],
   "source": [
    "#harmadik feladat"
   ]
  },
  {
   "cell_type": "code",
   "execution_count": 1,
   "metadata": {},
   "outputs": [],
   "source": [
    "#megnyitom és egy listában elhelyezem\n",
    "with open('adventofcode2019_input3.txt', 'r') as f:\n",
    "    input = f.read().split('\\n')\n",
    "f.close()\n",
    "A_wire = input[0].split(',')\n",
    "B_wire = input[1].split(',')"
   ]
  },
  {
   "cell_type": "code",
   "execution_count": 2,
   "metadata": {},
   "outputs": [],
   "source": [
    "#két koordináta dict, az első koordináta a jobb/bal, a második a fel/le, ezeken iterálok majd\n",
    "#annyiszor, ahány ismétlést ír az adott lépés\n",
    "X = {'L': -1, 'R': 1, 'U': 0, 'D': 0}\n",
    "Y = {'L': 0, 'R': 0, 'U': 1, 'D': -1}"
   ]
  },
  {
   "cell_type": "code",
   "execution_count": 3,
   "metadata": {},
   "outputs": [],
   "source": [
    "#ez a bemeneti lista elemein végig iterál és a fenti két dict segítségével egy újabb key/value párt hoz létre\n",
    "#melynek a key-je az aktuális koordináta, a value pedig az összes addig megtett lépés\n",
    "#így a vonalak minden egyes koordinátáját ismerni fogom\n",
    "#a lépéseket a második feladathoz kell beépíteni, mert ott van szükség a megtett útra\n",
    "def coordinates(inp):\n",
    "    x = 0\n",
    "    y = 0\n",
    "    distance = 0\n",
    "    solution_dict = {}\n",
    "    for i in inp:\n",
    "        cmd = i[0]\n",
    "        steps = int(i[1:])\n",
    "        for ii in range(steps):\n",
    "            x += X[cmd]\n",
    "            y += Y[cmd]\n",
    "            distance += 1\n",
    "            if (x,y) not in solution_dict:\n",
    "                solution_dict[(x,y)] = distance\n",
    "    return solution_dict"
   ]
  },
  {
   "cell_type": "code",
   "execution_count": 4,
   "metadata": {},
   "outputs": [
    {
     "data": {
      "text/plain": [
       "1431"
      ]
     },
     "execution_count": 4,
     "metadata": {},
     "output_type": "execute_result"
    }
   ],
   "source": [
    "#a két megkapott vonal koordinátái között megvizsgálja a közöseket és azokból egy listát épít,\n",
    "#minek az elemei a koordináták abszolút értékeiből számolt összegek, azaz a középpontól vett távolságuk a kereszteződéseknek\n",
    "A_wire_line = coordinates(A_wire)\n",
    "B_wire_line = coordinates(B_wire)\n",
    "intersections = []\n",
    "for i in A_wire_line:\n",
    "    if i in B_wire_line:\n",
    "        intersections.append((abs(i[0]) + abs(i[1])))\n",
    "min(intersections)"
   ]
  },
  {
   "cell_type": "code",
   "execution_count": 5,
   "metadata": {},
   "outputs": [
    {
     "data": {
      "text/plain": [
       "48012"
      ]
     },
     "execution_count": 5,
     "metadata": {},
     "output_type": "execute_result"
    }
   ],
   "source": [
    "#csinálok egy dictet, ami a találkozásokat tartalmazza csak és a key-k a koordináták, a valuek pedig a két vonal\n",
    "#addig megtett távolságának az összege\n",
    "intersections_dict = {}\n",
    "for i in A_wire_line:\n",
    "    if i in B_wire_line:\n",
    "        intersections_dict[i] = A_wire_line[i] + B_wire_line[i]\n",
    "min(intersections_dict.values())"
   ]
  },
  {
   "cell_type": "code",
   "execution_count": null,
   "metadata": {},
   "outputs": [],
   "source": [
    "#negyedik feladat"
   ]
  },
  {
   "cell_type": "code",
   "execution_count": 41,
   "metadata": {},
   "outputs": [],
   "source": [
    "#input 273025-767253"
   ]
  },
  {
   "cell_type": "code",
   "execution_count": 12,
   "metadata": {},
   "outputs": [],
   "source": [
    "def password_counter(min,max):\n",
    "    correct_password = 0\n",
    "    passwords = min\n",
    "    while passwords != max:\n",
    "        splitted_list = [int(i) for i in str(passwords)]\n",
    "        if splitted_list == sorted(splitted_list):\n",
    "            if len(splitted_list) > len(set(splitted_list)):\n",
    "                q = 0\n",
    "                for i in '0123456789':\n",
    "                        if 2*i in str(passwords):\n",
    "                            correct_password += 1\n",
    "                            passwords += 1\n",
    "                            break\n",
    "                        elif i == '9':\n",
    "                            passwords += 1\n",
    "            else:\n",
    "                passwords += 1\n",
    "        else:\n",
    "            passwords += 1\n",
    "    return (correct_password)"
   ]
  },
  {
   "cell_type": "code",
   "execution_count": 13,
   "metadata": {},
   "outputs": [],
   "source": [
    "#kulcs az volt, hogy a két feltétel (sortolt lista, van 2es ismétlődés) egyszerre alkalmazva azt jelenti, hogy elég a 3-as\n",
    "#nem előfordulására szűrni, \n",
    "#ugyanis a két részbe szedett többszörös ismétlődések '1121111' nem léteznek az első feltétel miatt\n",
    "def password_counter_max2(min,max):\n",
    "    correct_password = 0\n",
    "    passwords = min\n",
    "    while passwords != max:\n",
    "        splitted_list = [int(i) for i in str(passwords)]\n",
    "        if splitted_list == sorted(splitted_list):\n",
    "            if len(splitted_list) > len(set(splitted_list)):\n",
    "                q = 0\n",
    "                for i in '0123456789':\n",
    "                        if 2*i in str(passwords):\n",
    "                            if 3*i not in str(passwords):\n",
    "                                correct_password += 1\n",
    "                                passwords += 1\n",
    "                                break\n",
    "                            elif i == '9':\n",
    "                                passwords += 1\n",
    "                        elif i == '9':\n",
    "                            passwords += 1\n",
    "            else:\n",
    "                passwords += 1\n",
    "        else:\n",
    "            passwords += 1\n",
    "    return (correct_password)"
   ]
  },
  {
   "cell_type": "code",
   "execution_count": 16,
   "metadata": {},
   "outputs": [
    {
     "name": "stdout",
     "output_type": "stream",
     "text": [
      "910 598\n"
     ]
    }
   ],
   "source": [
    "print(password_counter(273025,767253), password_counter_max2(273025,767253))"
   ]
  },
  {
   "cell_type": "code",
   "execution_count": null,
   "metadata": {},
   "outputs": [],
   "source": [
    "#otodik feladat eleje"
   ]
  },
  {
   "cell_type": "code",
   "execution_count": null,
   "metadata": {},
   "outputs": [],
   "source": [
    "#megnyitom és egy listában elhelyezem\n",
    "with open('adventofcode2019_input4.txt', 'r') as f:\n",
    "    input = f.read().split('\\n')\n",
    "f.close()\n",
    "del input[-1]\n",
    "for i in range(0, len(input)):\n",
    "    a = input[i].split(',')\n",
    "int_input = []\n",
    "for ii in a:\n",
    "    int_input.append(int(ii))\n",
    "int_input"
   ]
  },
  {
   "cell_type": "code",
   "execution_count": null,
   "metadata": {},
   "outputs": [],
   "source": [
    "i = 0\n",
    "check = True\n",
    "while check:\n",
    "    opcode = [int(i) for i in str(int_input[i])][-1]\n",
    "    modes1 = [int(i) for i in str(int_input[i])][:-2]\n",
    "    modes1 = list(reversed(modes1))\n",
    "    modes2 = [0] * (4 - len(modes1))\n",
    "    modes = modes1 + modes2\n",
    "    assert opcode in [1,2,3,4,5,6,7,8,99]\n",
    "    \n",
    "    if opcode == 1:\n",
    "        int_input[int_input[i+3]] = (int_input[int_input[i+1]] if modes[0] == 0 else int_input[i+1]) + \\\n",
    "        (int_input[int_input[i+2]] if modes[1] == 0 else int_input[i+2])\n",
    "        i += 4\n",
    "    elif opcode == 2:\n",
    "        int_input[int_input[i+3]] = (int_input[int_input[i+1]] if modes[0] == 0 else int_input[i+1]) * \\\n",
    "        (int_input[int_input[i+2]] if modes[1] == 0 else int_input[i+2])\n",
    "        i += 4\n",
    "    elif opcode == 3:\n",
    "        int_input[int_input[i+1]] = 5 #első megadott érték\n",
    "        i += 2\n",
    "    elif opcode == 4:\n",
    "        print(int_input[int_input[i+1]]) if modes[0] == 0 else print(int_input[i+1])\n",
    "        i += 2\n",
    "    elif opcode == 5:\n",
    "        if (int_input[int_input[i+1]] if modes[0] == 0 else int_input[i+1]) != 0:\n",
    "            i = int_input[int_input[i+2]] if modes[1] == 0 else int_input[i+2]\n",
    "        else:\n",
    "            i += 3\n",
    "    elif opcode == 6:\n",
    "        if (int_input[int_input[i+1]] if modes[0] == 0 else int_input[i+1]) == 0:\n",
    "            i = int_input[int_input[i+2]] if modes[1] == 0 else int_input[i+2]\n",
    "        else:\n",
    "            i += 3\n",
    "    elif opcode == 7:\n",
    "        if (int_input[int_input[i+1]] if modes[0] == 0 else int_input[i+1]) <\\\n",
    "        (int_input[int_input[i+2]] if modes[1] == 0 else int_input[i+2]):\n",
    "            int_input[int_input[i+3]] = 1\n",
    "        else:\n",
    "            int_input[int_input[i+3]] = 0\n",
    "        i += 4\n",
    "    elif opcode == 8:\n",
    "        if (int_input[int_input[i+1]] if modes[0] == 0 else int_input[i+1]) ==\\\n",
    "        (int_input[int_input[i+2]] if modes[1] == 0 else int_input[i+2]):\n",
    "            int_input[int_input[i+3]] = 1\n",
    "        else:\n",
    "            int_input[int_input[i+3]] = 0\n",
    "        i += 4\n",
    "    elif opcode == 99:\n",
    "        print(int_input[0])\n",
    "        check = False\n",
    "        break"
   ]
  },
  {
   "cell_type": "code",
   "execution_count": null,
   "metadata": {},
   "outputs": [],
   "source": [
    "#hatodik feladat megoldása"
   ]
  },
  {
   "cell_type": "code",
   "execution_count": 41,
   "metadata": {},
   "outputs": [
    {
     "name": "stdout",
     "output_type": "stream",
     "text": [
      "162816\n"
     ]
    }
   ],
   "source": [
    "#megnyitom és egy listában elhelyezem\n",
    "inputs = open('adventofcode2019_input5.txt').read().splitlines()\n",
    "\n",
    "levels = {'COM': 0}\n",
    "\n",
    "while len(inputs) > 0:\n",
    "    for i in inputs:\n",
    "        nagy = i[:3]\n",
    "        kicsi = i[4:]\n",
    "        if nagy in levels:\n",
    "            levels[kicsi] = levels[nagy] + 1\n",
    "            inputs.remove(i)\n",
    "\n",
    "print(sum(levels.values()))"
   ]
  },
  {
   "cell_type": "code",
   "execution_count": 136,
   "metadata": {},
   "outputs": [
    {
     "name": "stdout",
     "output_type": "stream",
     "text": [
      "304\n"
     ]
    }
   ],
   "source": [
    "levels = {x[4:]:x[0:3] for x in open('adventofcode2019_input5.txt').read().split('\\n')}\n",
    "\n",
    "common_ancester1 = levels['YOU']\n",
    "common_ancester2 = levels['SAN']\n",
    "needed_steps1 = 0\n",
    "needed_steps2 = 0\n",
    "archive1 = []\n",
    "\n",
    "while common_ancester1 != 'COM':\n",
    "    common_ancester1 = levels[common_ancester1]\n",
    "    archive1.append(common_ancester1)\n",
    "\n",
    "while common_ancester2 not in archive1:\n",
    "    common_ancester2 = levels[common_ancester2]\n",
    "    needed_steps2 += 1\n",
    "    \n",
    "common_ancester1 = levels['YOU']\n",
    "while common_ancester1 != common_ancester2:\n",
    "    common_ancester1 = levels[common_ancester1]\n",
    "    needed_steps1 += 1\n",
    "\n",
    "print(needed_steps1 + needed_steps2)"
   ]
  }
 ],
 "metadata": {
  "kernelspec": {
   "display_name": "Python 3",
   "language": "python",
   "name": "python3"
  },
  "language_info": {
   "codemirror_mode": {
    "name": "ipython",
    "version": 3
   },
   "file_extension": ".py",
   "mimetype": "text/x-python",
   "name": "python",
   "nbconvert_exporter": "python",
   "pygments_lexer": "ipython3",
   "version": "3.7.1"
  }
 },
 "nbformat": 4,
 "nbformat_minor": 2
}
