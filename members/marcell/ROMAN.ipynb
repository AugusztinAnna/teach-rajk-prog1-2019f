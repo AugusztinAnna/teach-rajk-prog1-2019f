{
 "cells": [
  {
   "cell_type": "code",
   "execution_count": 1,
   "metadata": {},
   "outputs": [],
   "source": [
    "import requests\n",
    "from bs4 import BeautifulSoup\n",
    "import pandas as pd"
   ]
  },
  {
   "cell_type": "code",
   "execution_count": 78,
   "metadata": {},
   "outputs": [],
   "source": [
    "roms = pd.concat([pd.DataFrame(\n",
    "    [{'arab':a.text.split()[0],'roman':a.text.split()[1]} for a in \\\n",
    " BeautifulSoup(requests.get('https://smorgasborg.artlung.com/roman-numerals/page/%d' % p) \\\n",
    "              .content,'html5lib').find('pre').find_all('a')[1:]]) for p in range(1,11)])\\\n",
    "    .loc[lambda df: df['arab'] != '0',:]"
   ]
  },
  {
   "cell_type": "code",
   "execution_count": 83,
   "metadata": {},
   "outputs": [],
   "source": [
    "def rom2ar_test(fun): # ez azokat az eseteket adja vissza, ahol az átváltás helytelen\n",
    "    calc = roms['roman'].apply(fun)\n",
    "    tru = roms['arab'].apply(int)\n",
    "    return roms[calc != tru]"
   ]
  },
  {
   "cell_type": "code",
   "execution_count": 110,
   "metadata": {},
   "outputs": [],
   "source": [
    "def rom2ar(rom_string):\n",
    "\n",
    "    lista = []\n",
    "    for i in rom_string:\n",
    "        if i == 'I':\n",
    "            y = 1\n",
    "        elif i == 'X':\n",
    "            y = 10\n",
    "        elif i == 'V':\n",
    "            y = 5\n",
    "        elif i == 'L':\n",
    "            y = 50\n",
    "        elif i == 'C':\n",
    "            y = 100\n",
    "        elif i == 'D':\n",
    "            y = 500\n",
    "        elif i == 'M':\n",
    "            y = 1000\n",
    "\n",
    "        lista.append(y)\n",
    "\n",
    "    _ordinary = []\n",
    "    previous = lista[0]\n",
    "    counter = 0\n",
    "    for num in lista:\n",
    "        if previous < int(num):\n",
    "            _ordinary.append(counter - 1)\n",
    "        previous = num\n",
    "        counter += 1\n",
    "    vegso_roman_to_arab = 0\n",
    "\n",
    "    for i in lista:\n",
    "        vegso_roman_to_arab += i\n",
    "    for i in _ordinary:\n",
    "        vegso_roman_to_arab -= 2 * lista[i]\n",
    "    return vegso_roman_to_arab"
   ]
  },
  {
   "cell_type": "code",
   "execution_count": 84,
   "metadata": {},
   "outputs": [],
   "source": [
    "def rom2ar2(rom_string):\n",
    "    return int(roms.loc[roms['roman']== rom_string, 'arab'].item())"
   ]
  },
  {
   "cell_type": "code",
   "execution_count": 88,
   "metadata": {},
   "outputs": [
    {
     "data": {
      "text/html": [
       "<div>\n",
       "<style scoped>\n",
       "    .dataframe tbody tr th:only-of-type {\n",
       "        vertical-align: middle;\n",
       "    }\n",
       "\n",
       "    .dataframe tbody tr th {\n",
       "        vertical-align: top;\n",
       "    }\n",
       "\n",
       "    .dataframe thead th {\n",
       "        text-align: right;\n",
       "    }\n",
       "</style>\n",
       "<table border=\"1\" class=\"dataframe\">\n",
       "  <thead>\n",
       "    <tr style=\"text-align: right;\">\n",
       "      <th></th>\n",
       "      <th>arab</th>\n",
       "      <th>roman</th>\n",
       "    </tr>\n",
       "  </thead>\n",
       "  <tbody>\n",
       "  </tbody>\n",
       "</table>\n",
       "</div>"
      ],
      "text/plain": [
       "Empty DataFrame\n",
       "Columns: [arab, roman]\n",
       "Index: []"
      ]
     },
     "execution_count": 88,
     "metadata": {},
     "output_type": "execute_result"
    }
   ],
   "source": [
    "rom2ar_test(rom2ar)"
   ]
  },
  {
   "cell_type": "code",
   "execution_count": null,
   "metadata": {},
   "outputs": [],
   "source": []
  },
  {
   "cell_type": "code",
   "execution_count": null,
   "metadata": {},
   "outputs": [],
   "source": []
  },
  {
   "cell_type": "code",
   "execution_count": null,
   "metadata": {},
   "outputs": [],
   "source": []
  },
  {
   "cell_type": "code",
   "execution_count": 10,
   "metadata": {},
   "outputs": [],
   "source": [
    "class Roman:\n",
    "    \n",
    "    def __init__(self, num):\n",
    "        \n",
    "        if isinstance(num, str):\n",
    "            self.roman = num\n",
    "            self.arab = self.rom2ar()\n",
    "            \n",
    "        \n",
    "        if isinstance(num, int):\n",
    "            self.arab = num\n",
    "            self.roman = 'I'\n",
    "        \n",
    "    \n",
    "    def __add__(self, other):\n",
    "        \n",
    "        summa = self.arab + other.arab\n",
    "        \n",
    "        return Roman(summa)\n",
    "    \n",
    "    def __lt__(self, other):\n",
    "        \n",
    "        return self.arab < other.arab\n",
    "    \n",
    "    def rom2ar(self):\n",
    "\n",
    "        lista = []\n",
    "        for i in self.roman:\n",
    "            if i == 'I':\n",
    "                y = 1\n",
    "            elif i == 'X':\n",
    "                y = 10\n",
    "            elif i == 'V':\n",
    "                y = 5\n",
    "            elif i == 'L':\n",
    "                y = 50\n",
    "            elif i == 'C':\n",
    "                y = 100\n",
    "            elif i == 'D':\n",
    "                y = 500\n",
    "            elif i == 'M':\n",
    "                y = 1000\n",
    "\n",
    "            lista.append(y)\n",
    "\n",
    "        _ordinary = []\n",
    "        previous = lista[0]\n",
    "        counter = 0\n",
    "        for num in lista:\n",
    "            if previous < int(num):\n",
    "                _ordinary.append(counter - 1)\n",
    "            previous = num\n",
    "            counter += 1\n",
    "        vegso_roman_to_arab = 0\n",
    "\n",
    "        for i in lista:\n",
    "            vegso_roman_to_arab += i\n",
    "        for i in _ordinary:\n",
    "            vegso_roman_to_arab -= 2 * lista[i]\n",
    "        return vegso_roman_to_arab"
   ]
  },
  {
   "cell_type": "code",
   "execution_count": 11,
   "metadata": {},
   "outputs": [
    {
     "data": {
      "text/plain": [
       "True"
      ]
     },
     "execution_count": 11,
     "metadata": {},
     "output_type": "execute_result"
    }
   ],
   "source": [
    "r2 = Roman('XV')\n",
    "r2.arab == 15"
   ]
  },
  {
   "cell_type": "markdown",
   "metadata": {},
   "source": [
    "##TDD\n",
    "#Test Driven Development"
   ]
  },
  {
   "cell_type": "code",
   "execution_count": 105,
   "metadata": {},
   "outputs": [],
   "source": [
    "r = Roman(100)"
   ]
  },
  {
   "cell_type": "code",
   "execution_count": 106,
   "metadata": {},
   "outputs": [
    {
     "data": {
      "text/plain": [
       "'I'"
      ]
     },
     "execution_count": 106,
     "metadata": {},
     "output_type": "execute_result"
    }
   ],
   "source": [
    "r.roman"
   ]
  },
  {
   "cell_type": "code",
   "execution_count": 94,
   "metadata": {},
   "outputs": [
    {
     "data": {
      "text/plain": [
       "False"
      ]
     },
     "execution_count": 94,
     "metadata": {},
     "output_type": "execute_result"
    }
   ],
   "source": [
    "r1 = Roman(5)\n",
    "r1.roman == 'V'"
   ]
  },
  {
   "cell_type": "code",
   "execution_count": 96,
   "metadata": {},
   "outputs": [
    {
     "data": {
      "text/plain": [
       "False"
      ]
     },
     "execution_count": 96,
     "metadata": {},
     "output_type": "execute_result"
    }
   ],
   "source": [
    "r3 = r1 + r2\n",
    "r3.arab == 20"
   ]
  },
  {
   "cell_type": "code",
   "execution_count": 97,
   "metadata": {},
   "outputs": [
    {
     "data": {
      "text/plain": [
       "False"
      ]
     },
     "execution_count": 97,
     "metadata": {},
     "output_type": "execute_result"
    }
   ],
   "source": [
    "r3.roman == \"XX\""
   ]
  },
  {
   "cell_type": "code",
   "execution_count": 98,
   "metadata": {},
   "outputs": [
    {
     "data": {
      "text/plain": [
       "False"
      ]
     },
     "execution_count": 98,
     "metadata": {},
     "output_type": "execute_result"
    }
   ],
   "source": [
    "r1 < r2"
   ]
  },
  {
   "cell_type": "code",
   "execution_count": null,
   "metadata": {},
   "outputs": [],
   "source": [
    "r4 = r3 * r2\n",
    "r4.arab == 300"
   ]
  },
  {
   "cell_type": "code",
   "execution_count": 118,
   "metadata": {},
   "outputs": [
    {
     "name": "stdout",
     "output_type": "stream",
     "text": [
      "JAJJJ\n"
     ]
    }
   ],
   "source": [
    "for a in range(2000, 30000):\n",
    "    rt1 = Roman(a)\n",
    "    rt2 = Roman(rt1.roman)\n",
    "    if rt1.arab != rt2.arab:\n",
    "        print('JAJJJ')\n",
    "        break"
   ]
  },
  {
   "cell_type": "code",
   "execution_count": 102,
   "metadata": {},
   "outputs": [
    {
     "data": {
      "text/plain": [
       "2000"
      ]
     },
     "execution_count": 102,
     "metadata": {},
     "output_type": "execute_result"
    }
   ],
   "source": [
    "rt1.arab"
   ]
  },
  {
   "cell_type": "code",
   "execution_count": 103,
   "metadata": {},
   "outputs": [
    {
     "data": {
      "text/plain": [
       "0"
      ]
     },
     "execution_count": 103,
     "metadata": {},
     "output_type": "execute_result"
    }
   ],
   "source": [
    "rt2.arab"
   ]
  },
  {
   "cell_type": "code",
   "execution_count": 104,
   "metadata": {},
   "outputs": [
    {
     "data": {
      "text/plain": [
       "'I'"
      ]
     },
     "execution_count": 104,
     "metadata": {},
     "output_type": "execute_result"
    }
   ],
   "source": [
    "rt1.roman"
   ]
  }
 ],
 "metadata": {
  "kernelspec": {
   "display_name": "Python 3",
   "language": "python",
   "name": "python3"
  },
  "language_info": {
   "codemirror_mode": {
    "name": "ipython",
    "version": 3
   },
   "file_extension": ".py",
   "mimetype": "text/x-python",
   "name": "python",
   "nbconvert_exporter": "python",
   "pygments_lexer": "ipython3",
   "version": "3.6.9"
  }
 },
 "nbformat": 4,
 "nbformat_minor": 2
}
