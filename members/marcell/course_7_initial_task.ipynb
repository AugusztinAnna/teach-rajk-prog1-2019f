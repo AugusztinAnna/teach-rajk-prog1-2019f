{
 "cells": [
  {
   "cell_type": "markdown",
   "metadata": {},
   "source": [
    "#### find the string that contains a given letter the largest number of times\n",
    "\n",
    "if none of the strings contain the letter, return an empty string.\n",
    "upper or lower case should be ignored. if multiple strings contain the letter the same amount of time, that is the highest, return the first one\n",
    "\n",
    "> ```[\"bAbB\", \"cad\", \"BBaaCc\"], \"B\" -> \"bAbB\"```"
   ]
  },
  {
   "cell_type": "code",
   "execution_count": 3,
   "metadata": {},
   "outputs": [],
   "source": [
    "from jkg_evaluators import word_with_most_of_letters"
   ]
  },
  {
   "cell_type": "code",
   "execution_count": 4,
   "metadata": {},
   "outputs": [],
   "source": [
    "def find_word_with_most_of_letters(list_of_strings, letter):\n",
    "    \n",
    "    character_counter = []\n",
    "    \n",
    "    for current_string in list_of_strings:\n",
    "        \n",
    "        letter_counter = 0\n",
    "        \n",
    "        for ii in current_string:\n",
    "            if ii == letter:\n",
    "                letter_counter += 1\n",
    "                \n",
    "        swapped_string = current_string.swapcase()\n",
    "        \n",
    "        for ii in swapped_string:\n",
    "            if ii == letter:\n",
    "                letter_counter += 1\n",
    "                \n",
    "        character_counter.append(letter_counter)\n",
    "    \n",
    "    if max(character_counter) == 0:\n",
    "        return \"\"\n",
    "    else:\n",
    "        return list_of_strings[character_counter.index(max(character_counter))]"
   ]
  },
  {
   "cell_type": "code",
   "execution_count": 4,
   "metadata": {
    "scrolled": true
   },
   "outputs": [
    {
     "name": "stdout",
     "output_type": "stream",
     "text": [
      "- success rate: 495/495 (100.0%)\n",
      "- error count: 0\n",
      "- best performance: 1\n",
      "- worst performance: 1\n",
      "- mean performance: 1.0\n"
     ]
    }
   ],
   "source": [
    "word_with_most_of_letters.evaluate(find_word_with_most_of_letters)"
   ]
  },
  {
   "cell_type": "code",
   "execution_count": null,
   "metadata": {},
   "outputs": [],
   "source": [
    "charatcter_counter = [123,342,654,5,4,3,20,12,3,4,5]\n",
    "list_of_string = ['cydfs','243rwfsd','ghzt65r','5tgz','ewfrgtr','t53rw','6zt5r4','32rew','t']\n"
   ]
  },
  {
   "cell_type": "code",
   "execution_count": 9,
   "metadata": {},
   "outputs": [
    {
     "data": {
      "text/plain": [
       "0"
      ]
     },
     "execution_count": 9,
     "metadata": {},
     "output_type": "execute_result"
    }
   ],
   "source": [
    "charatcter_counter.index(123)"
   ]
  },
  {
   "cell_type": "code",
   "execution_count": null,
   "metadata": {},
   "outputs": [],
   "source": []
  }
 ],
 "metadata": {
  "kernelspec": {
   "display_name": "Python 3",
   "language": "python",
   "name": "python3"
  },
  "language_info": {
   "codemirror_mode": {
    "name": "ipython",
    "version": 3
   },
   "file_extension": ".py",
   "mimetype": "text/x-python",
   "name": "python",
   "nbconvert_exporter": "python",
   "pygments_lexer": "ipython3",
   "version": "3.6.8"
  }
 },
 "nbformat": 4,
 "nbformat_minor": 2
}
