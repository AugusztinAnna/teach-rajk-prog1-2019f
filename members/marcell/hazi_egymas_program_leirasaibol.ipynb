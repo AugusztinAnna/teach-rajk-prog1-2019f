{
 "cells": [
  {
   "cell_type": "code",
   "execution_count": 4,
   "metadata": {},
   "outputs": [],
   "source": [
    "def danka_func(input_list):\n",
    "    sorted_input_list = sorted(input_list)\n",
    "    new_variable = sorted_input_list[0] * sorted_input_list[1]\n",
    "    reverse_sorted_list = sorted(input_list, reverse = True)\n",
    "    new_variable2 = reverse_sorted_list[0] * reverse_sorted_list[1]\n",
    "    new_list = [new_variable, new_variable2]\n",
    "    final_list = sorted(new_list, reverse = True)\n",
    "    return final_list[0]\n",
    "\n",
    "danka.evaluate(danka_func)"
   ]
  },
  {
   "cell_type": "code",
   "execution_count": null,
   "metadata": {},
   "outputs": [],
   "source": [
    "def hoffmann_func(list_of_strings, one_character):\n",
    "    new_variable = 0\n",
    "    for i in list_of_strings:\n",
    "        if one_character.lower() in i.lower():\n",
    "            new_variable += 1\n",
    "    return new_variable\n",
    "\n",
    "kornel.evaluate(hoffmann_func)"
   ]
  },
  {
   "cell_type": "code",
   "execution_count": null,
   "metadata": {},
   "outputs": [],
   "source": [
    "def augusztin_func(list_of_ints, one_int):\n",
    "    for i in list_of_ints:\n",
    "        new_variable = one_int - i\n",
    "        if new_variable % 3 == 0:\n",
    "            last_solution = i\n",
    "    return last_solution\n",
    "\n",
    "anna.evaluate(augusztin_func)"
   ]
  },
  {
   "cell_type": "code",
   "execution_count": null,
   "metadata": {},
   "outputs": [],
   "source": [
    "def szaj_func(list_of_numbers, number):\n",
    "    variable = 0\n",
    "    list_of_numbers.sort()\n",
    "    for i in list_of_numbers:\n",
    "        if i % number % 2 == 0:\n",
    "            variable = i\n",
    "            \n",
    "    return variable\n",
    "\n",
    "szaj.evaluate(szaj_func)"
   ]
  },
  {
   "cell_type": "code",
   "execution_count": 13,
   "metadata": {},
   "outputs": [],
   "source": [
    "list_of_numbers = [1,2,3,4,5,6,4,3,456,3,222,34,543,23456,987,4]\n",
    "def flora_func(list_of_numbers):\n",
    "    list_of_good_numbers = []\n",
    "    for i in list_of_numbers:\n",
    "        good_number = True        \n",
    "        for ii in i:\n",
    "            if ii < x:\n",
    "                list_of_good_numbers.append(ii)\n",
    "            x = ii\n",
    "    if max(list_of_good_numbers) == 0:\n",
    "        return 0\n",
    "    else:\n",
    "        return max(list_of_good_numbers)\n",
    "    "
   ]
  },
  {
   "cell_type": "code",
   "execution_count": null,
   "metadata": {},
   "outputs": [],
   "source": [
    "de petra_func(list_of_input):\n",
    "    corrected_input = list_of_input.set()\n",
    "    unknown_list = []\n",
    "    for i in corrected_input:\n",
    "        if i > 0:\n",
    "            if i % 2 == 0:\n",
    "                unknown_list.append(i)\n",
    "    return sum(unknown_list)\n",
    "\n",
    "petra.evaluate(petra_func)"
   ]
  },
  {
   "cell_type": "code",
   "execution_count": 23,
   "metadata": {},
   "outputs": [],
   "source": [
    "list_of_words = ['asdfgSDFGFS', 'ASDFErdswWSa', 'ADCFfdsaEAS']\n",
    "def matos_func(list_of_words):\n",
    "    lenght_of_list = len(list_of_words)\n",
    "    list_of_counted = []\n",
    "    for i in list_of_words:\n",
    "        numero = 0\n",
    "        for ii in i:\n",
    "            if 'a' == ii.lower():\n",
    "                numero += 1\n",
    "        list_of_counted.append(numero)\n",
    "    if max(list_of_counted) == 0:\n",
    "        return -1\n",
    "    else:\n",
    "        return list_of_counted.index(max(list_of_counted))\n",
    "matos.evaluate(matos_func)"
   ]
  },
  {
   "cell_type": "code",
   "execution_count": null,
   "metadata": {},
   "outputs": [],
   "source": [
    "#list_of_numbers =[2,44,8676,3,668,8]\n",
    "def lili_func(list_of_numbers):\n",
    "    int_halves = []\n",
    "    for dividend in list_of_numbers:\n",
    "        for divisor in list_of_numbers:\n",
    "            if divisor * 2 == dividend:\n",
    "                int_halves.append(divisor)\n",
    "    if max(int_halves) == 0:\n",
    "        return 0\n",
    "    else:\n",
    "        return min(int_halves)\n",
    "lili.evaluate(lili_func)"
   ]
  }
 ],
 "metadata": {
  "kernelspec": {
   "display_name": "Python 3",
   "language": "python",
   "name": "python3"
  },
  "language_info": {
   "codemirror_mode": {
    "name": "ipython",
    "version": 3
   },
   "file_extension": ".py",
   "mimetype": "text/x-python",
   "name": "python",
   "nbconvert_exporter": "python",
   "pygments_lexer": "ipython3",
   "version": "3.7.1"
  }
 },
 "nbformat": 4,
 "nbformat_minor": 2
}
