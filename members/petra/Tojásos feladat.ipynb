{
 "cells": [
  {
   "cell_type": "code",
   "execution_count": 4,
   "metadata": {},
   "outputs": [],
   "source": [
    "from jkg_evaluators import eggdrop_100floor_2egg"
   ]
  },
  {
   "cell_type": "code",
   "execution_count": 11,
   "metadata": {},
   "outputs": [],
   "source": [
    "\"\"\" az lenne a megoldásom, hogy ledobom a 10. emeletről a tojást, ha széttörik, visszamegyek az elsőre, és onnan \n",
    "emeletenként próbálkozom, hogy melyiken törhet szét. Ha nem törik szét, tizesével lépegetek, és amelyiken széttörik, \n",
    "visszamegyek 9-et és megkeresem pontosan melyik a határ. \"\"\" \n",
    "\n",
    "def my_solution1(breaks):\n",
    "    szint = 10\n",
    "    lepes = 10\n",
    "    while (breaks(szint) == False):\n",
    "        szint = szint + lepes\n",
    "    \n",
    "    biztos_breaks = szint\n",
    "    lepes = lepes + 1\n",
    "    szint = szint - lepes + 1\n",
    "    \n",
    "    while (breaks(szint) == False):\n",
    "        if (szint + 1) == biztos_breaks:\n",
    "            return szint\n",
    "        else:\n",
    "            szint = szint + 1\n",
    "        \n",
    "    return szint - 1"
   ]
  },
  {
   "cell_type": "code",
   "execution_count": 12,
   "metadata": {
    "scrolled": true
   },
   "outputs": [
    {
     "name": "stdout",
     "output_type": "stream",
     "text": [
      "- success rate: 101/101 (100.0%)\n",
      "- error count: 0\n",
      "- best performance: 3\n",
      "- worst performance: 20\n",
      "- mean performance: 11.910891089108912\n"
     ]
    }
   ],
   "source": [
    "eggdrop_100floor_2egg.evaluate(my_solution1)"
   ]
  }
 ],
 "metadata": {
  "kernelspec": {
   "display_name": "Python 3",
   "language": "python",
   "name": "python3"
  },
  "language_info": {
   "codemirror_mode": {
    "name": "ipython",
    "version": 3
   },
   "file_extension": ".py",
   "mimetype": "text/x-python",
   "name": "python",
   "nbconvert_exporter": "python",
   "pygments_lexer": "ipython3",
   "version": "3.7.3"
  }
 },
 "nbformat": 4,
 "nbformat_minor": 2
}
