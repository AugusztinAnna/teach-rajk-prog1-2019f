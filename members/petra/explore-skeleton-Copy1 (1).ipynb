{
 "cells": [
  {
   "cell_type": "markdown",
   "metadata": {},
   "source": [
    "# Adat:\n",
    "\n",
    "## leírás\n",
    "\n",
    "Az adat amivel játszani lehet, az én saját teljes facebook messenger historym, 2010-től, keddig. Azért nem láttok belőle mindent, a következők a korlátok:\n",
    "\n",
    "- az üzeneteket nem látjátok, csak a hosszukat, karakterben\n",
    "- a neveket kicserélgettem. mindenkinek a nevét véletlenszerűen kicseréltem egy híres emberével (a forbes celebrity top100-ból és oszkárdíjas/oszkár jelölt színészek közül válogatva)\n",
    "- a névcsere konziztens, így egy híresség mindig ugyanazt az embert jelöli (akkoris ha a csetben esetleg valaki megváltoztatta a nevét)\n",
    "- fotók, videók, stickerek és gifek sincsenek meg, csak hogy adott üzenetben a küldő hány ilyet küldött\n",
    "\n",
    "## forma\n",
    "\n",
    "- az adat json formátumban van, amit a pythonba úgy fogunk beolvasni hogy egy listát kapunk amiben dictionaryk vannak\n",
    "- minden dictionary egy csetben történt eseményt jelöl. vagy egy elküldött üzenetet, vagy azt hogy valaki megosztott valamilyen tartalmat, vagy azt, hogy valakit felvettek a beszélgetésbe vagy kirakták/kirakta magát\n",
    "- minden dictionaryben 19 key van, amik a következőket jelentik:\n",
    "    - **type** ez négy féle dolog lehet:\n",
    "        - Generic: ez azt jelenti, hogy a dictionary egy sima üzenetet jelöl\n",
    "        - Share: ez, hogy valami tartalom megosztását jelenti\n",
    "        - Subscribe: ez azt jelenti hogy valaki hozzáadott valakit a beszélgetéshez\n",
    "        - Unsubscribe: ez azt jelenti hogy valaki levett valakit a beszélgetésről\n",
    "    - sender_name: *string*, a küldő, megosztó, vagy beszélgetésbe felvevő/leszedő neve átkódolva híres emberré\n",
    "    - datetime/timestamp_ms/year/month/day/hour/minute: ezek az esemény idejét jelzik\n",
    "        - az egyetlen ami talán nem világos közülük az a timestamp_ms, az az 1970 január 1 óta eltelt miliszekundumok számát jelzi. arra pl elég jó hogy nagyon könnyen ki lehet vele számolni két esemény között eltelt időt, meg összehasonlításra is szuper\n",
    "    - content: *float*, ez mindig az üzenetben elküldött karakterek számát jelöli\n",
    "    - gifs/videos/photos/sticker: ezek a nevükben megfogalmazott tartalomtípus darabszámát jelölik az üzenetben\n",
    "    - reactions: ez egy lista azokról az emberekről, akik reactokat nyomkodtak az üzenetre\n",
    "    - users: ez egy lista azokról az emberekről akik a beszélgetéshez hozzá lettek adva, vagy el lettek távolítva (csak akkor aktuális ha a type Subscribe vagy Unsubscribe értéket vesz fel)\n",
    "    - thread_path: ez egy azonosító, hogy az adott esemény melyik threadben (beszélgetésben) történt\n",
    "    - thread_type: ez az, hogy milyen fajta thread (beszélgetés), csoportos vagy egyéni. ennek két releváns értéke Regular és RegularGroup\n",
    "    - index: ez az adott esemény indexe, évenként egyedi\n",
    "- **az adat nincs időrendi sorrendben** ha olyan feladatot szeretnétek megoldani, amihez ez hasznos, nektek kell sorbarakni"
   ]
  },
  {
   "cell_type": "markdown",
   "metadata": {},
   "source": [
    "# Segítség:"
   ]
  },
  {
   "cell_type": "markdown",
   "metadata": {},
   "source": [
    "## Az adat évenként van külön fájlokba szedve, így tudom pl 2011-et beolvasni:"
   ]
  },
  {
   "cell_type": "code",
   "execution_count": 8,
   "metadata": {},
   "outputs": [],
   "source": [
    "import json"
   ]
  },
  {
   "cell_type": "code",
   "execution_count": 10,
   "metadata": {},
   "outputs": [],
   "source": [
    "path_to_file = 'data/2011-msg.json'"
   ]
  },
  {
   "cell_type": "code",
   "execution_count": 12,
   "metadata": {},
   "outputs": [],
   "source": [
    "list_of_dicts_2011 = json.load(open(path_to_file, 'r'))"
   ]
  },
  {
   "cell_type": "code",
   "execution_count": 14,
   "metadata": {},
   "outputs": [
    {
     "data": {
      "text/plain": [
       "list"
      ]
     },
     "execution_count": 14,
     "metadata": {},
     "output_type": "execute_result"
    }
   ],
   "source": [
    "type(list_of_dicts_2011)"
   ]
  },
  {
   "cell_type": "code",
   "execution_count": 1,
   "metadata": {},
   "outputs": [
    {
     "ename": "NameError",
     "evalue": "name 'list_of_dicts_2011' is not defined",
     "output_type": "error",
     "traceback": [
      "\u001b[0;31m---------------------------------------------------------------------------\u001b[0m",
      "\u001b[0;31mNameError\u001b[0m                                 Traceback (most recent call last)",
      "\u001b[0;32m<ipython-input-1-d48e1515019a>\u001b[0m in \u001b[0;36m<module>\u001b[0;34m\u001b[0m\n\u001b[0;32m----> 1\u001b[0;31m \u001b[0mprint\u001b[0m\u001b[0;34m(\u001b[0m\u001b[0mlist_of_dicts_2011\u001b[0m\u001b[0;34m)\u001b[0m\u001b[0;34m\u001b[0m\u001b[0;34m\u001b[0m\u001b[0m\n\u001b[0m",
      "\u001b[0;31mNameError\u001b[0m: name 'list_of_dicts_2011' is not defined"
     ]
    }
   ],
   "source": [
    "print(list_of_dicts_2011)"
   ]
  },
  {
   "cell_type": "code",
   "execution_count": 22,
   "metadata": {},
   "outputs": [
    {
     "data": {
      "text/plain": [
       "6361"
      ]
     },
     "execution_count": 22,
     "metadata": {},
     "output_type": "execute_result"
    }
   ],
   "source": [
    "len(list_of_dicts_2011)"
   ]
  },
  {
   "cell_type": "markdown",
   "metadata": {},
   "source": [
    "## A python string formázós technikájával változóban tárolt évre is be lehet olvasni:"
   ]
  },
  {
   "cell_type": "code",
   "execution_count": 21,
   "metadata": {},
   "outputs": [],
   "source": [
    "my_year = 2012\n",
    "path_to_file2 = 'data/{}-msg.json'.format(my_year)"
   ]
  },
  {
   "cell_type": "code",
   "execution_count": 22,
   "metadata": {},
   "outputs": [
    {
     "data": {
      "text/plain": [
       "'data/2012-msg.json'"
      ]
     },
     "execution_count": 22,
     "metadata": {},
     "output_type": "execute_result"
    }
   ],
   "source": [
    "path_to_file2"
   ]
  },
  {
   "cell_type": "code",
   "execution_count": 24,
   "metadata": {},
   "outputs": [],
   "source": [
    "list_of_dicts_2012 = json.load(open(path_to_file2,'r'))"
   ]
  },
  {
   "cell_type": "code",
   "execution_count": 25,
   "metadata": {},
   "outputs": [
    {
     "data": {
      "text/plain": [
       "61961"
      ]
     },
     "execution_count": 25,
     "metadata": {},
     "output_type": "execute_result"
    }
   ],
   "source": [
    "len(list_of_dicts_2012)"
   ]
  },
  {
   "cell_type": "markdown",
   "metadata": {},
   "source": [
    "## Ha esetleg szeretnétek valamit ábrázolni, javaslom hozzá a matplotlib package-et\n",
    "\n",
    "### itt egy példa arról, hogy hogyan készül egy histogramm az események hónapokra vonatkozó eloszlásáról (2012-ből)"
   ]
  },
  {
   "cell_type": "code",
   "execution_count": 17,
   "metadata": {},
   "outputs": [
    {
     "data": {
      "text/plain": [
       "'tadaa!'"
      ]
     },
     "execution_count": 17,
     "metadata": {},
     "output_type": "execute_result"
    },
    {
     "data": {
      "image/png": "[encoded data removed]",
      "text/plain": [
       "<Figure size 432x288 with 1 Axes>"
      ]
     },
     "metadata": {
      "needs_background": "light"
     },
     "output_type": "display_data"
    }
   ],
   "source": [
    "#készítek egy listát amibe minden eseménynél berakom a hónapot\n",
    "event_months = []\n",
    "for dic in list_of_dicts_2012:\n",
    "    event_months.append(dic['month'])\n",
    "\n",
    "#importálom matplotlibet és beállítom hogy faszán működjön jupyter notebookban\n",
    "#ezt érdemes csak egyszer a notebook elején\n",
    "import matplotlib.pyplot as plt\n",
    "%matplotlib inline\n",
    "\n",
    "#ezzel a borzasztó egyszerű parancsal elkészítem a histogrammot\n",
    "plt.hist(event_months,bins=12)\n",
    "\n",
    "\"tadaa!\""
   ]
  },
  {
   "cell_type": "markdown",
   "metadata": {},
   "source": [
    "# Explore feladatok\n",
    "\n",
    "- melyik vagyok én? (1 pont)\n",
    "\n",
    "Listán belül - minden évben igaz lesz valószínűleg - az adott éven belül \n",
    "(1) ki van benne az összes beszélgetésbe / csoportbeszélgetése\n",
    "pl. 2011-ben ki volt benne az összes beszélgetésben / legtöbb beszélgetésben\n",
    "vagy kihez tartozik a legtöbb esemény\n",
    "egy listában összegyűjtjük a unique eseményeket: végigiterál, ha még nincs benne az új listában, hozzáadjuk az új listához\n",
    "\n",
    "\n",
    "\n",
    "\n",
    "- melyik a jeszk-moments? (2 pont) A.1\n",
    "- melyik a 2017-es db-cset? (5 pont) A.1\n",
    "\n",
    "\n",
    "- hányan vannak akik minden évben küldtek üzenetet? (3 pont) B.1.2\n",
    "- hányan vannak akik pontosan n évben küldtek üzenetet (2 pont, ábrázolásért +1) B.1.1\n",
    "- ki írja átlagosan a leghosszabb üzeneteket? (2 pont) C.1\n",
    "- ki van bent a második legtöbb csetben? (3 pont) C.2\n",
    "- melyik az a cset ahol a legtöbb idő telt el két üzenet között és mennyi idő? (4 pont) A.2\n",
    "\n",
    "Közben írjunk plusz kérdéseket!\n",
    "\n",
    "# Függvény Feladatok\n",
    "\n",
    "Vagy iterálunk az évek között, vagy egybetesszük az egészet\n",
    "\n",
    "- megadok egy timestamp-et, ki az eddigi leghosszabb üzenet szerzője? (1 pont)\n",
    "- megadok egy timestamp-et, melyik óra eddig a legkevésbé aktív (1 pont) -Ez az 1. feladat átalakítása\n",
    "- megadok egy timestamp-et, hányan írtak eddig legalább 10 üzenetet? (3 pont) \n",
    "- megadok egy timestamp-et, mi volt a leghosszabb periódus eddig üzenet nélkül (7 pont)\n",
    "- megadok egy timestamp-et és egy embert, mond meg hány karaktert küldött eddig (2 pont)\n",
    "- megadok egy timestamp-et és egy csetet (thread_path) összesen hány különböző ember, hány üzenetben, hány karaktert írt (4 pont)\n",
    "- megadok egy timestampet, melyik csetbe és kicsoda írta eddig a legtöbb karaktert addig a pontig (5 pont)\n",
    "- megadok egy timestamp-et, melyik volt a top5 legaktívabb cset eddig (4 pont)\n",
    "\n",
    "### bónusz:\n",
    "\n",
    "- bárhol ahol top1-et keresünk, megadni top5öt +1 pont\n",
    "- bármelyik csapat dobhat be plusz feladatokat a megbeszélt időkorlátig publikusan, rögtön válaszolok rá, hogy hány pontot érne\n",
    "- ha olyan feladatot csinálsz meg, amit egyik másik csapat sem tudott +1 pont"
   ]
  },
  {
   "cell_type": "code",
   "execution_count": null,
   "metadata": {},
   "outputs": [],
   "source": []
  },
  {
   "cell_type": "markdown",
   "metadata": {},
   "source": [
    "KÖZÖS ADATOK BETÖLTÉSE"
   ]
  },
  {
   "cell_type": "code",
   "execution_count": 2,
   "metadata": {},
   "outputs": [],
   "source": [
    "import json"
   ]
  },
  {
   "cell_type": "code",
   "execution_count": 4,
   "metadata": {},
   "outputs": [],
   "source": [
    "path_to_file = 'data/2010-msg.json'\n",
    "path_to_file1 = 'data/2011-msg.json'\n",
    "path_to_file2 = 'data/2012-msg.json'\n",
    "path_to_file3 = 'data/2013-msg.json'\n",
    "path_to_file4 = 'data/2014-msg.json'\n",
    "path_to_file5 = 'data/2015-msg.json'\n",
    "path_to_file6 = 'data/2016-msg.json'\n",
    "path_to_file7 = 'data/2017-msg.json'\n",
    "path_to_file8 = 'data/2018-msg.json'\n",
    "path_to_file9 = 'data/2019-msg.json'"
   ]
  },
  {
   "cell_type": "code",
   "execution_count": 5,
   "metadata": {},
   "outputs": [],
   "source": [
    "list_of_dicts_2010 = json.load(open(path_to_file, 'r'))\n",
    "list_of_dicts_2011 = json.load(open(path_to_file1, 'r'))\n",
    "list_of_dicts_2012 = json.load(open(path_to_file2, 'r'))\n",
    "list_of_dicts_2013 = json.load(open(path_to_file3, 'r'))\n",
    "list_of_dicts_2014 = json.load(open(path_to_file4, 'r'))\n",
    "list_of_dicts_2015 = json.load(open(path_to_file5, 'r'))\n",
    "list_of_dicts_2016 = json.load(open(path_to_file6, 'r'))\n",
    "list_of_dicts_2017 = json.load(open(path_to_file7, 'r'))\n",
    "list_of_dicts_2018 = json.load(open(path_to_file8, 'r'))\n",
    "list_of_dicts_2019 = json.load(open(path_to_file9, 'r'))"
   ]
  },
  {
   "cell_type": "code",
   "execution_count": 25,
   "metadata": {},
   "outputs": [],
   "source": [
    "all_lists = []\n",
    "\n",
    "all_lists.extend(list_of_dicts_2010)\n",
    "all_lists.extend(list_of_dicts_2011)\n",
    "all_lists.extend(list_of_dicts_2012)\n",
    "all_lists.extend(list_of_dicts_2013)\n",
    "all_lists.extend(list_of_dicts_2014)\n",
    "all_lists.extend(list_of_dicts_2015)\n",
    "all_lists.extend(list_of_dicts_2016)\n",
    "all_lists.extend(list_of_dicts_2017)\n",
    "all_lists.extend(list_of_dicts_2018)\n",
    "all_lists.extend(list_of_dicts_2019)"
   ]
  },
  {
   "cell_type": "code",
   "execution_count": null,
   "metadata": {},
   "outputs": [],
   "source": [
    "len(all_lists)"
   ]
  },
  {
   "cell_type": "code",
   "execution_count": null,
   "metadata": {},
   "outputs": [],
   "source": []
  },
  {
   "cell_type": "markdown",
   "metadata": {},
   "source": [
    "A LISTÁKAT KRONOLOGIKUS SORRENDBE RAKÓ FÜGGVÉNY"
   ]
  },
  {
   "cell_type": "code",
   "execution_count": 29,
   "metadata": {},
   "outputs": [],
   "source": [
    "#a paraméterként megadott dictekből álló listát a timestamp_ms key alapján \n",
    "#növekvő sorrendbe rakja (vannak egyenlő értékek is)\n",
    "def chronologic(input_list):\n",
    "    sorted_list = sorted(input_list, key = lambda i: i['timestamp_ms'])\n",
    "    return sorted_list"
   ]
  },
  {
   "cell_type": "code",
   "execution_count": null,
   "metadata": {},
   "outputs": [],
   "source": []
  },
  {
   "cell_type": "markdown",
   "metadata": {},
   "source": [
    "FÜGGVÉNY FELADATOK MEGOLDÁSA"
   ]
  },
  {
   "cell_type": "markdown",
   "metadata": {},
   "source": [
    "megadok egy timestamp-et, ki az eddigi leghosszabb üzenet szerzője? (1 pont)"
   ]
  },
  {
   "cell_type": "code",
   "execution_count": 113,
   "metadata": {},
   "outputs": [],
   "source": [
    "#a paraméterként megadott listában megkeresi, hogy a paraméterként megadott timestampig ki küldte a leghosszabb üzenetet\n",
    "#és az milyen hosszú\n",
    "def leghosszabb_uzenet(timestamp, list_of_input):\n",
    "    longest_message = 0\n",
    "    sender_of_longest_message = \"\"\n",
    "    for i in list_of_input:\n",
    "        if i[\"timestamp_ms\"]!= timestamp:\n",
    "            if i[\"content_l\"] > longest_message:\n",
    "                longest_message = i[\"content_l\"]\n",
    "                sender_of_longest_message = i[\"sender_name\"]\n",
    "    return (sender_of_longest_message, longest_message)"
   ]
  },
  {
   "cell_type": "code",
   "execution_count": 114,
   "metadata": {},
   "outputs": [
    {
     "data": {
      "text/plain": [
       "('Christopher Walken', 14103)"
      ]
     },
     "execution_count": 114,
     "metadata": {},
     "output_type": "execute_result"
    }
   ],
   "source": [
    "leghosszabb_uzenet(1423785600000, all_lists)"
   ]
  },
  {
   "cell_type": "markdown",
   "metadata": {},
   "source": [
    "megadok egy timestamp-et, melyik óra eddig a legkevésbé aktív (1 pont)"
   ]
  },
  {
   "cell_type": "code",
   "execution_count": 115,
   "metadata": {},
   "outputs": [],
   "source": [
    "#ennek a függvénynek a két paramétere az adott timestamp és a lista\n",
    "#létrehozok egy olyan dictet, amelyiknek a key-jei a 24 óra és value-k azok az események, amik ott történtek\n",
    "#visszatérési értéke a leginaktívabb óra\n",
    "def inaktiv_ora(timestamp, list_of_input):\n",
    "    sorted_input = chronologic(list_of_input)\n",
    "    a = [0,0,0,0,0,0,0,0,0,0,0,0,0,0,0,0,0,0,0,0,0,0,0,0]\n",
    "    dict_of_hours = dict(enumerate(a))\n",
    "    for i in sorted_input:\n",
    "        if i[\"timestamp_ms\"] != timestamp:\n",
    "            dict_of_hours[i[\"hour\"]] += 1\n",
    "    most_inactive_hour = min(dict_of_hours, key = dict_of_hours.get)\n",
    "    \n",
    "    return most_inactive_hour"
   ]
  },
  {
   "cell_type": "code",
   "execution_count": 116,
   "metadata": {},
   "outputs": [
    {
     "data": {
      "text/plain": [
       "7"
      ]
     },
     "execution_count": 116,
     "metadata": {},
     "output_type": "execute_result"
    }
   ],
   "source": [
    "inaktiv_ora(1423785600000, all_lists)"
   ]
  },
  {
   "cell_type": "markdown",
   "metadata": {},
   "source": [
    "- megadok egy timestamp-et, hányan írtak eddig legalább 10 üzenetet? (3 pont)"
   ]
  },
  {
   "cell_type": "code",
   "execution_count": 40,
   "metadata": {},
   "outputs": [],
   "source": [
    "def legalabb_10_uzenet(timestamp, list_of_input):\n",
    "    sorted_input = chronologic(list_of_input)\n",
    "    people_above_9 = 0\n",
    "    dict_of_names = {}\n",
    "    for i in sorted_input:\n",
    "        if i[\"timestamp_ms\"] != timestamp:\n",
    "            if i[\"content_l\"] > 0:\n",
    "                if i[\"sender_name\"] in dict_of_names:\n",
    "                    dict_of_names[i[\"sender_name\"]] += 1\n",
    "                else:\n",
    "                    dict_of_names[i[\"sender_name\"]] = 1\n",
    "    \n",
    "    \n",
    "    for key, value in dict_of_names.items(): \n",
    "        if value > 9: \n",
    "              people_above_9 += 1\n",
    "    \n",
    "    return people_above_9"
   ]
  },
  {
   "cell_type": "code",
   "execution_count": 41,
   "metadata": {},
   "outputs": [
    {
     "data": {
      "text/plain": [
       "349"
      ]
     },
     "execution_count": 41,
     "metadata": {},
     "output_type": "execute_result"
    }
   ],
   "source": [
    "legalabb_10_uzenet(1570399351448, all_lists)"
   ]
  },
  {
   "cell_type": "markdown",
   "metadata": {},
   "source": [
    "megadok egy timestamp-et, mi volt a leghosszabb periódus eddig üzenet nélkül (7 pont)"
   ]
  },
  {
   "cell_type": "code",
   "execution_count": 42,
   "metadata": {},
   "outputs": [],
   "source": [
    "def leghosszabb_szunet(timestamp, list_of_input):\n",
    "    sorted_input = chronologic(list_of_input)\n",
    "    x1 = 0\n",
    "    x2 = 0\n",
    "    longest_pause = 0\n",
    "    for i in sorted_input:\n",
    "        if i[\"content_l\"] > 0:\n",
    "            x2 = x1\n",
    "            x1 = i[\"timestamp_ms\"]\n",
    "            if x1 - x2 > longest_pause:\n",
    "                longest_pause = x1 - x2\n",
    "    \n",
    "    return longest_pause"
   ]
  },
  {
   "cell_type": "code",
   "execution_count": 43,
   "metadata": {},
   "outputs": [
    {
     "data": {
      "text/plain": [
       "1281128694000"
      ]
     },
     "execution_count": 43,
     "metadata": {},
     "output_type": "execute_result"
    }
   ],
   "source": [
    "leghosszabb_szunet(1570399351448, all_lists)"
   ]
  },
  {
   "cell_type": "markdown",
   "metadata": {},
   "source": [
    "megadok egy timestamp-et és egy embert, mond meg hány karaktert küldött eddig (2 pont)"
   ]
  },
  {
   "cell_type": "code",
   "execution_count": 44,
   "metadata": {},
   "outputs": [],
   "source": [
    "def adott_ember_adott_ideig(person, timestamp, list_of_input):\n",
    "    sorted_input = chronologic(list_of_input)\n",
    "    cumm_char = 0\n",
    "    for i in sorted_input:\n",
    "        if i[\"timestamp_ms\"] != timestamp:\n",
    "            if i[\"sender_name\"] == person:\n",
    "                cumm_char += i[\"content_l\"]\n",
    "    return cumm_char               "
   ]
  },
  {
   "cell_type": "code",
   "execution_count": 45,
   "metadata": {},
   "outputs": [
    {
     "data": {
      "text/plain": [
       "1270921"
      ]
     },
     "execution_count": 45,
     "metadata": {},
     "output_type": "execute_result"
    }
   ],
   "source": [
    "adott_ember_adott_ideig(\"Jack Lemmon\", 1570399351448, all_lists)"
   ]
  },
  {
   "cell_type": "markdown",
   "metadata": {},
   "source": [
    "megadok egy timestamp-et és egy csetet (thread_path) összesen hány különböző ember, hány üzenetben, hány karaktert írt (4 pont)"
   ]
  },
  {
   "cell_type": "code",
   "execution_count": 130,
   "metadata": {},
   "outputs": [],
   "source": [
    "def adott_ideig_adott_csetben_hany_ember(timestamp, threadpath, list_of_input):\n",
    "    sorted_input = chronologic(list_of_input)\n",
    "    number_of_messages = 0\n",
    "    number_of_characters = 0\n",
    "    list_of_names = []\n",
    "    \n",
    "    for i in sorted_input:\n",
    "        if i[\"timestamp_ms\"] != timestamp:\n",
    "            if i[\"thread_path\"] == threadpath:\n",
    "                if i[\"content_l\"] > 0:\n",
    "                    number_of_messages += 1\n",
    "                    number_of_characters += i[\"content_l\"]\n",
    "                    if i[\"sender_name\"]not in list_of_names:\n",
    "                        list_of_names.append(i[\"sender_name\"])\n",
    "    return len(list_of_names), number_of_messages, number_of_characters\n",
    "        "
   ]
  },
  {
   "cell_type": "code",
   "execution_count": 131,
   "metadata": {},
   "outputs": [
    {
     "data": {
      "text/plain": [
       "(11, 31192, 1424254)"
      ]
     },
     "execution_count": 131,
     "metadata": {},
     "output_type": "execute_result"
    }
   ],
   "source": [
    "adott_ideig_adott_csetben_hany_ember(1487850825288, 465, list_of_dicts_2017)"
   ]
  },
  {
   "cell_type": "markdown",
   "metadata": {},
   "source": [
    "megadok egy timestampet, melyik csetbe és kicsoda írta eddig a legtöbb karaktert addig a pontig (5 pont)"
   ]
  },
  {
   "cell_type": "code",
   "execution_count": 134,
   "metadata": {},
   "outputs": [],
   "source": [
    "def adott_ideig_melyik_csetbe_kicsoda(timestamp, list_of_input):\n",
    "    sorted_input = chronologic(list_of_input)\n",
    "    most_character = 0\n",
    "    for i in sorted_input:\n",
    "        if i[\"timestamp_ms\"] != timestamp:\n",
    "            if most_character < i[\"content_l\"]:\n",
    "                most_character = i[\"content_l\"]\n",
    "                name_of_sender = i[\"sender_name\"]\n",
    "                threadpath = i[\"thread_path\"]\n",
    "    return most_character , name_of_sender , threadpath"
   ]
  },
  {
   "cell_type": "code",
   "execution_count": 135,
   "metadata": {},
   "outputs": [
    {
     "data": {
      "text/plain": [
       "(4223, 'Jack Lemmon', 828)"
      ]
     },
     "execution_count": 135,
     "metadata": {},
     "output_type": "execute_result"
    }
   ],
   "source": [
    "adott_ideig_melyik_csetbe_kicsoda(1487850825288, list_of_dicts_2017)"
   ]
  },
  {
   "cell_type": "markdown",
   "metadata": {},
   "source": [
    "megadok egy timestamp-et, melyik volt a top5 legaktívabb cset eddig (4 pont)"
   ]
  },
  {
   "cell_type": "code",
   "execution_count": 177,
   "metadata": {},
   "outputs": [],
   "source": [
    "def legaktivabb_cset(timestamp, list_of_input):\n",
    "    sorted_input = chronologic(list_of_input)\n",
    "    dict_of_groups = {}\n",
    "    for i in sorted_input:\n",
    "        if i[\"timestamp_ms\"] != timestamp:\n",
    "            if i[\"thread_path\"] in dict_of_groups:\n",
    "                dict_of_groups[i[\"thread_path\"]] += 1\n",
    "            else:\n",
    "                dict_of_groups[i[\"thread_path\"]] = 1\n",
    "                \n",
    "    highest = []  \n",
    "    max_value = 0\n",
    "    \n",
    "    for i in 'hello':\n",
    "        max_value = max(dict_of_groups, key = dict_of_groups.get)\n",
    "        highest.append(max_value)\n",
    "        dict_of_groups[max_value] = 0\n",
    "            \n",
    "    return highest"
   ]
  },
  {
   "cell_type": "code",
   "execution_count": 178,
   "metadata": {},
   "outputs": [
    {
     "data": {
      "text/plain": [
       "[465, 855, 828, 104, 755]"
      ]
     },
     "execution_count": 178,
     "metadata": {},
     "output_type": "execute_result"
    }
   ],
   "source": [
    "legaktivabb_cset(1487850825288, list_of_dicts_2017)"
   ]
  },
  {
   "cell_type": "markdown",
   "metadata": {},
   "source": [
    "ki írja átlagosan a leghosszabb üzeneteket? (2 pont)"
   ]
  },
  {
   "cell_type": "code",
   "execution_count": 185,
   "metadata": {},
   "outputs": [
    {
     "name": "stdout",
     "output_type": "stream",
     "text": [
      "Phil McGraw\n"
     ]
    }
   ],
   "source": [
    "list_of_input = list_of_dicts_2017\n",
    "\n",
    "dict_of_messages = {}\n",
    "dict_of_characters = {}\n",
    "dict_of_dicts = {}\n",
    "\n",
    "for i in list_of_input:\n",
    "    if i[\"content_l\"] > 0:\n",
    "        if i[\"sender_name\"] not in dict_of_dicts.keys():\n",
    "            dict_of_dicts[i[\"sender_name\"]] = {\"dict_of_messages\": 1, \"dict_of_characters\": i[\"content_l\"]}\n",
    "        else:\n",
    "            dict_of_dicts[i[\"sender_name\"]][\"dict_of_messages\"] += 1\n",
    "            dict_of_dicts[i[\"sender_name\"]][\"dict_of_characters\"] += i[\"content_l\"]\n",
    "\n",
    "dict_of_divided = {}\n",
    "\n",
    "for i in dict_of_dicts.keys():\n",
    "    if i not in dict_of_divided.keys():\n",
    "        dict_of_divided[i] = dict_of_dicts[i][\"dict_of_messages\"] / dict_of_dicts[i][\"dict_of_characters\"]\n",
    "\n",
    "max_value = max(dict_of_divided, key = dict_of_divided.get)\n",
    "print(max_value)"
   ]
  },
  {
   "cell_type": "code",
   "execution_count": null,
   "metadata": {},
   "outputs": [],
   "source": []
  },
  {
   "cell_type": "markdown",
   "metadata": {},
   "source": [
    "EXPLORER KÉRDÉSEK EGY RÉSZE (AMI NEM A SZÁJNÁL VAN)"
   ]
  },
  {
   "cell_type": "code",
   "execution_count": null,
   "metadata": {},
   "outputs": [],
   "source": []
  },
  {
   "cell_type": "markdown",
   "metadata": {},
   "source": [
    "első feladat: ki vagyok én? - legtöbb üzenetet küldő"
   ]
  },
  {
   "cell_type": "markdown",
   "metadata": {},
   "source": [
    "event_senders = []\n",
    "for dic in all_lists:\n",
    "    event_senders.append(dic['sender_name'])\n",
    "\n",
    "\n",
    "unique_senders = list(set(event_senders))\n",
    "\n",
    "number_of_events = 0\n",
    "list_of_name_occurances = []\n",
    "for sender in unique_senders:\n",
    "    number_of_events = 0\n",
    "    for allsender in event_senders:\n",
    "        if sender == allsender:\n",
    "            number_of_events += 1\n",
    "    list_of_name_occurances.append(number_of_events)\n",
    "\n",
    "print(max(list_of_name_occurances))\n",
    "\n",
    "import operator\n",
    "index, value = max(enumerate(list_of_name_occurances), key=operator.itemgetter(1))\n",
    "\n",
    "print(unique_senders[index])\n",
    "\n",
    "list_of_name_occurances.sort(reverse = True)\n",
    "\n",
    "print(list_of_name_occurances[:5])"
   ]
  },
  {
   "cell_type": "markdown",
   "metadata": {},
   "source": [
    "hányan vannak, akik minden évben küldtek üzenetet?"
   ]
  },
  {
   "cell_type": "code",
   "execution_count": 90,
   "metadata": {},
   "outputs": [],
   "source": [
    "event_senders = []\n",
    "for dic in all_lists:\n",
    "    event_senders.append(dic['sender_name'])\n",
    "\n",
    "unique_senders = list(set(event_senders))\n",
    "\n",
    "#2010-es unique senders\n",
    "\n",
    "event_senders2010 = []\n",
    "for dic in list_of_dicts_2010:\n",
    "    event_senders2010.append(dic['sender_name'])\n",
    "\n",
    "\n",
    "unique_senders2010 = list(set(event_senders2010))\n",
    "\n",
    "#2011-es unique senders\n",
    "\n",
    "event_senders2011 = []\n",
    "for dic in list_of_dicts_2011:\n",
    "    event_senders2011.append(dic['sender_name'])\n",
    "\n",
    "\n",
    "unique_senders2011 = list(set(event_senders2011))\n",
    "\n",
    "#2012-es unique senders\n",
    "\n",
    "event_senders2012 = []\n",
    "for dic in list_of_dicts_2012:\n",
    "    event_senders2012.append(dic['sender_name'])\n",
    "\n",
    "\n",
    "unique_senders2012 = list(set(event_senders2012))\n",
    "\n",
    "#2013-as unique senders\n",
    "\n",
    "event_senders2013 = []\n",
    "for dic in list_of_dicts_2013:\n",
    "    event_senders2013.append(dic['sender_name'])\n",
    "\n",
    "\n",
    "unique_senders2013 = list(set(event_senders2013))\n",
    "\n",
    "#2014-es unique senders\n",
    "\n",
    "event_senders2014 = []\n",
    "for dic in list_of_dicts_2014:\n",
    "    event_senders2014.append(dic['sender_name'])\n",
    "\n",
    "\n",
    "unique_senders2014 = list(set(event_senders2014))\n",
    "\n",
    "#2015-ös unique senders\n",
    "\n",
    "event_senders2015 = []\n",
    "for dic in list_of_dicts_2015:\n",
    "    event_senders2015.append(dic['sender_name'])\n",
    "\n",
    "\n",
    "unique_senders2015 = list(set(event_senders2015))\n",
    "\n",
    "#2016-os unique senders\n",
    "\n",
    "event_senders2016 = []\n",
    "for dic in list_of_dicts_2016:\n",
    "    event_senders2016.append(dic['sender_name'])\n",
    "\n",
    "\n",
    "unique_senders2016 = list(set(event_senders2016))\n",
    "\n",
    "#2017-es unique senders\n",
    "\n",
    "event_senders2017 = []\n",
    "for dic in list_of_dicts_2017:\n",
    "    event_senders2017.append(dic['sender_name'])\n",
    "\n",
    "\n",
    "unique_senders2017 = list(set(event_senders2017))\n",
    "\n",
    "#2018-as unique senders\n",
    "\n",
    "event_senders2018 = []\n",
    "for dic in list_of_dicts_2018:\n",
    "    event_senders2018.append(dic['sender_name'])\n",
    "\n",
    "\n",
    "unique_senders2018 = list(set(event_senders2018))\n",
    "\n",
    "#2019-es unique senders\n",
    "\n",
    "event_senders2019 = []\n",
    "for dic in list_of_dicts_2019:\n",
    "    event_senders2019.append(dic['sender_name'])\n",
    "\n",
    "\n",
    "unique_senders2019 = list(set(event_senders2019))\n",
    "\n",
    "#minden évre iterálok\n",
    "\n",
    "senders_every_year = \"\"\n",
    "unique_senders_name_every_year = []\n",
    "for name2010 in unique_senders2010:\n",
    "    if name2010 in unique_senders2011:\n",
    "        if name2010 in unique_senders2012:\n",
    "            if name2010 in unique_senders2013:\n",
    "                if name2010 in unique_senders2014:\n",
    "                    if name2010 in unique_senders2015:\n",
    "                        if name2010 in unique_senders2016:\n",
    "                            if name2010 in unique_senders2017:\n",
    "                                if name2010 in unique_senders2018:\n",
    "                                    if name2010 in unique_senders2019:\n",
    "                                        if name2010 not in unique_senders_name_every_year:\n",
    "                                            unique_senders_name_every_year.append(name2010)\n",
    "    \n",
    "print(unique_senders_name_every_year)"
   ]
  },
  {
   "cell_type": "code",
   "execution_count": 56,
   "metadata": {},
   "outputs": [
    {
     "data": {
      "text/plain": [
       "3"
      ]
     },
     "execution_count": 56,
     "metadata": {},
     "output_type": "execute_result"
    }
   ],
   "source": [
    "len(unique_senders_name_every_year)    "
   ]
  },
  {
   "cell_type": "code",
   "execution_count": null,
   "metadata": {},
   "outputs": [],
   "source": []
  },
  {
   "cell_type": "markdown",
   "metadata": {},
   "source": [
    "hányan üzentek n évben?"
   ]
  },
  {
   "cell_type": "code",
   "execution_count": null,
   "metadata": {},
   "outputs": [],
   "source": [
    "all_senders = []\n",
    "\n",
    "all_senders.extend(unique_senders2010)\n",
    "all_senders.extend(unique_senders2011)\n",
    "all_senders.extend(unique_senders2012)\n",
    "all_senders.extend(unique_senders2013)\n",
    "all_senders.extend(unique_senders2014)\n",
    "all_senders.extend(unique_senders2015)\n",
    "all_senders.extend(unique_senders2016)\n",
    "all_senders.extend(unique_senders2017)\n",
    "all_senders.extend(unique_senders2018)\n",
    "all_senders.extend(unique_senders2019)"
   ]
  },
  {
   "cell_type": "code",
   "execution_count": null,
   "metadata": {},
   "outputs": [],
   "source": [
    "def hanyan_uzentek_n_evben(years, list_of_input):\n",
    "    \n",
    "    solution = 0\n",
    "    main_dic ={}\n",
    "    for i in list_of_input:\n",
    "        if i not in main_dic:\n",
    "            main_dic[i] = 1\n",
    "        else:\n",
    "            main_dic[i] += 1\n",
    "    for key, value in main_dic.items():\n",
    "        if value == years:\n",
    "            solution += 1\n",
    "    \n",
    "    return solution"
   ]
  },
  {
   "cell_type": "code",
   "execution_count": null,
   "metadata": {},
   "outputs": [],
   "source": [
    "x = hanyan_uzentek_n_evben(10, all_senders)\n",
    "print(x)"
   ]
  },
  {
   "cell_type": "code",
   "execution_count": null,
   "metadata": {},
   "outputs": [],
   "source": []
  },
  {
   "cell_type": "markdown",
   "metadata": {},
   "source": [
    "BEKÜLDÖTT FELADATOK"
   ]
  },
  {
   "cell_type": "markdown",
   "metadata": {},
   "source": [
    "Flóra kérdése: Az egyes években pontosan hány ember küldött üzenetet?"
   ]
  },
  {
   "cell_type": "code",
   "execution_count": 105,
   "metadata": {},
   "outputs": [
    {
     "name": "stdout",
     "output_type": "stream",
     "text": [
      "2010-ben ennyien küldtek üzenetet: 29\n",
      "2011-ben ennyien küldtek üzenetet: 61\n",
      "2012-ben ennyien küldtek üzenetet: 81\n",
      "2013-ben ennyien küldtek üzenetet: 108\n",
      "2014-ben ennyien küldtek üzenetet: 126\n",
      "2015-ben ennyien küldtek üzenetet: 116\n",
      "2016-ben ennyien küldtek üzenetet: 158\n",
      "2017-ben ennyien küldtek üzenetet: 255\n",
      "2018-ben ennyien küldtek üzenetet: 225\n",
      "2019-ben ennyien küldtek üzenetet: 212\n"
     ]
    }
   ],
   "source": [
    "print('2010-ben ennyien küldtek üzenetet:', len(unique_senders2010))\n",
    "print('2011-ben ennyien küldtek üzenetet:', len(unique_senders2011))\n",
    "print('2012-ben ennyien küldtek üzenetet:', len(unique_senders2012))\n",
    "print('2013-ben ennyien küldtek üzenetet:', len(unique_senders2013))\n",
    "print('2014-ben ennyien küldtek üzenetet:', len(unique_senders2014))\n",
    "print('2015-ben ennyien küldtek üzenetet:', len(unique_senders2015))\n",
    "print('2016-ben ennyien küldtek üzenetet:', len(unique_senders2016))\n",
    "print('2017-ben ennyien küldtek üzenetet:', len(unique_senders2017))\n",
    "print('2018-ben ennyien küldtek üzenetet:', len(unique_senders2018))\n",
    "print('2019-ben ennyien küldtek üzenetet:', len(unique_senders2019))"
   ]
  },
  {
   "cell_type": "markdown",
   "metadata": {},
   "source": [
    "ki Chikán Attila?"
   ]
  },
  {
   "cell_type": "code",
   "execution_count": 96,
   "metadata": {},
   "outputs": [
    {
     "name": "stdout",
     "output_type": "stream",
     "text": [
      "Cloris Leachman\n",
      "Cloris Leachman\n"
     ]
    }
   ],
   "source": [
    "for i in list_of_dicts_2019:\n",
    "    if i['month'] == 10:\n",
    "        if i['day'] == 30:\n",
    "            if i['hour'] == 13:\n",
    "                if i['minute'] == 29:\n",
    "                    print(i['sender_name'])\n",
    "        "
   ]
  },
  {
   "cell_type": "markdown",
   "metadata": {},
   "source": [
    "Mikor és ki hozta létre a Faszik chatet?"
   ]
  },
  {
   "cell_type": "code",
   "execution_count": 100,
   "metadata": {},
   "outputs": [
    {
     "name": "stdout",
     "output_type": "stream",
     "text": [
      "Jennifer Aniston\n",
      "2018-01-01T20:01:13.914Z\n",
      "Jennifer Aniston\n",
      "2018-01-01T20:01:13.914Z\n"
     ]
    }
   ],
   "source": [
    "for alapito in list_of_dicts_2018:\n",
    "    if alapito['month'] == 1:\n",
    "        if alapito['day'] == 1:\n",
    "            if alapito['hour'] == 20:\n",
    "                if alapito['minute'] == 1:\n",
    "                    if alapito['content_l'] == 3:\n",
    "                        if alapito['thread_type'] == 'RegularGroup':\n",
    "                            print(alapito['sender_name'])\n",
    "                            print(alapito['datetime'])"
   ]
  },
  {
   "cell_type": "markdown",
   "metadata": {},
   "source": [
    "Az idei progkurzus tagok összesen hány privát üzenetet küldtek Endrének az évek során?"
   ]
  },
  {
   "cell_type": "code",
   "execution_count": null,
   "metadata": {},
   "outputs": [],
   "source": [
    "for petra in list_of_dicts_2019:\n",
    "    if petra['month'] == 10:\n",
    "        if petra['day'] == 3:\n",
    "            if petra['hour'] == 15:\n",
    "                if petra['minute'] == 12:\n",
    "                    print(petra['sender_name'])"
   ]
  },
  {
   "cell_type": "code",
   "execution_count": null,
   "metadata": {},
   "outputs": [],
   "source": [
    "for marci in list_of_dicts_2019:\n",
    "    if marci['month'] == 10:\n",
    "        if marci['day'] == 18:\n",
    "            if marci['hour'] == 22:\n",
    "                if marci['minute'] == 10:\n",
    "                    print(marci['sender_name'])"
   ]
  },
  {
   "cell_type": "code",
   "execution_count": null,
   "metadata": {},
   "outputs": [],
   "source": [
    "for szaj in list_of_dicts_2019:\n",
    "    if szaj['month'] == 10:\n",
    "        if szaj['day'] == 25:\n",
    "            if szaj['hour'] == 16:\n",
    "                if szaj['minute'] == 4:\n",
    "                    print(szaj['sender_name'])"
   ]
  },
  {
   "cell_type": "code",
   "execution_count": null,
   "metadata": {},
   "outputs": [],
   "source": [
    "for matos in list_of_dicts_2019:\n",
    "    if matos['month'] == 10:\n",
    "        if matos['day'] == 15:\n",
    "            if matos['hour'] == 14:\n",
    "                if matos['minute'] == 17:\n",
    "                    print(matos['sender_name'])"
   ]
  },
  {
   "cell_type": "code",
   "execution_count": null,
   "metadata": {},
   "outputs": [],
   "source": [
    "for anna in list_of_dicts_2019:\n",
    "    if anna['month'] == 10:\n",
    "        if anna['day'] == 3:\n",
    "            if anna['hour'] == 17:\n",
    "                if anna['minute'] == 47:\n",
    "                    print(anna['sender_name'])"
   ]
  },
  {
   "cell_type": "code",
   "execution_count": null,
   "metadata": {},
   "outputs": [],
   "source": [
    "for flora in list_of_dicts_2019:\n",
    "    if flora['month'] == 10:\n",
    "        if flora['day'] == 16:\n",
    "            if flora['hour'] == 11:\n",
    "                if flora['minute'] == 17:\n",
    "                    print(flora['sender_name'])"
   ]
  },
  {
   "cell_type": "code",
   "execution_count": null,
   "metadata": {},
   "outputs": [],
   "source": [
    "for lili in list_of_dicts_2019:\n",
    "    if lili['month'] == 10:\n",
    "        if lili['day'] == 26:\n",
    "            if lili['hour'] == 15:\n",
    "                if lili['minute'] == 31:\n",
    "                    print(lili['sender_name'])"
   ]
  },
  {
   "cell_type": "code",
   "execution_count": null,
   "metadata": {},
   "outputs": [],
   "source": [
    "for danka in list_of_dicts_2019:\n",
    "    if danka['month'] == 10:\n",
    "        if danka['day'] == 26:\n",
    "            if danka['hour'] == 15:\n",
    "                if danka['minute'] == 25:\n",
    "                    print(danka['sender_name'])"
   ]
  },
  {
   "cell_type": "code",
   "execution_count": 97,
   "metadata": {},
   "outputs": [
    {
     "name": "stdout",
     "output_type": "stream",
     "text": [
      "Catherine Keener\n",
      "Catherine Keener\n",
      "Catherine Keener\n",
      "Catherine Keener\n"
     ]
    }
   ],
   "source": [
    "for kornel in list_of_dicts_2019:\n",
    "    if kornel['month'] == 11:\n",
    "        if kornel['day'] == 4:\n",
    "            if kornel['hour'] == 8:\n",
    "                if kornel['minute'] == 44:\n",
    "                    print(kornel['sender_name'])"
   ]
  },
  {
   "cell_type": "code",
   "execution_count": 98,
   "metadata": {},
   "outputs": [],
   "source": [
    "def hany_privat_uzenet(name, list_of_input):\n",
    "    number_of_masseges = 0\n",
    "    for i in list_of_input:\n",
    "        if i['sender_name'] == name:\n",
    "            if i['thread_type'] == 'Regular':\n",
    "                if i['content_l'] > 0:\n",
    "                    number_of_masseges += 1\n",
    "    return number_of_masseges"
   ]
  },
  {
   "cell_type": "code",
   "execution_count": 99,
   "metadata": {},
   "outputs": [
    {
     "data": {
      "text/plain": [
       "512"
      ]
     },
     "execution_count": 99,
     "metadata": {},
     "output_type": "execute_result"
    }
   ],
   "source": [
    "hany_privat_uzenet('Catherine Keener', all_lists)\n",
    "#Kornél"
   ]
  },
  {
   "cell_type": "code",
   "execution_count": null,
   "metadata": {},
   "outputs": [],
   "source": [
    "'''Kornél = Catherine Keener, 512 üzi\n",
    "    Danka = Alec Guinness, 154 üzi\n",
    "    Lili = Alice Brady, 20 üzi\n",
    "    Flóra = Dan Brown, 2368 üzi\n",
    "    Anna = Karl Malden, 1078 üzi\n",
    "    Matos = William Hurt, 322 üzi\n",
    "    Száj = Kobe Bryant, 304 üzi\n",
    "    Marci = Anthony Hopkins, 456 üzi\n",
    "    Petra = Jack Albertson, 30 üzi'''\n",
    "    "
   ]
  },
  {
   "cell_type": "code",
   "execution_count": 141,
   "metadata": {},
   "outputs": [
    {
     "name": "stdout",
     "output_type": "stream",
     "text": [
      "5244\n"
     ]
    }
   ],
   "source": [
    "a = 512 + 154 + 20 + 2368 + 1078 + 322 + 304 + 456 + 30\n",
    "print(a)"
   ]
  },
  {
   "cell_type": "markdown",
   "metadata": {},
   "source": [
    "Hány ember volt aki 2011-ben interaktált Endrével, viszont nem üzenetet küldött?"
   ]
  },
  {
   "cell_type": "code",
   "execution_count": 139,
   "metadata": {},
   "outputs": [],
   "source": [
    "def nem_irt_endrenek(list_of_input):\n",
    "    egyebek = 0\n",
    "    for i in list_of_input:\n",
    "        if i['content_l'] == 0:\n",
    "            if (i['photos'] > 0) or (i['videos'] > 0) or (i['gifs'] > 0) or (i['sticker'] is not 'None'):\n",
    "                egyebek += 1\n",
    "                       \n",
    "    return egyebek"
   ]
  },
  {
   "cell_type": "code",
   "execution_count": 140,
   "metadata": {},
   "outputs": [
    {
     "data": {
      "text/plain": [
       "5"
      ]
     },
     "execution_count": 140,
     "metadata": {},
     "output_type": "execute_result"
    }
   ],
   "source": [
    "nem_irt_endrenek(list_of_dicts_2011)"
   ]
  },
  {
   "cell_type": "markdown",
   "metadata": {},
   "source": [
    "melyik chat-ben volt a legtöbb ember valaha?"
   ]
  },
  {
   "cell_type": "markdown",
   "metadata": {},
   "source": [
    "melyik chat-ben volt a legtöbb üzenet?"
   ]
  },
  {
   "cell_type": "markdown",
   "metadata": {},
   "source": [
    "melyik chatben volt a legtöbb gif/video/fotó/sticker elküldve?"
   ]
  },
  {
   "cell_type": "markdown",
   "metadata": {},
   "source": [
    "melyik chatben volt a legtöbb unsubsrcribe?"
   ]
  },
  {
   "cell_type": "markdown",
   "metadata": {},
   "source": [
    "egy adott timestamptől számítva (vagyis utána) ki küldte azt a (szöveges) üzenetet ami a legkevesebb karakterből állt? egyenlőség esetén a legrövidebb üzenetek közül a legkorábban elküldött üzenet küldőjét szeretnénk látni!"
   ]
  },
  {
   "cell_type": "markdown",
   "metadata": {},
   "source": [
    "Mennyi az eddigi összes év legelső újévi üzeneteinek karakterszámának összege?"
   ]
  },
  {
   "cell_type": "code",
   "execution_count": null,
   "metadata": {},
   "outputs": [],
   "source": []
  },
  {
   "cell_type": "code",
   "execution_count": null,
   "metadata": {},
   "outputs": [],
   "source": []
  }
 ],
 "metadata": {
  "kernelspec": {
   "display_name": "Python 3",
   "language": "python",
   "name": "python3"
  },
  "language_info": {
   "codemirror_mode": {
    "name": "ipython",
    "version": 3
   },
   "file_extension": ".py",
   "mimetype": "text/x-python",
   "name": "python",
   "nbconvert_exporter": "python",
   "pygments_lexer": "ipython3",
   "version": "3.6.9"
  }
 },
 "nbformat": 4,
 "nbformat_minor": 2
}
