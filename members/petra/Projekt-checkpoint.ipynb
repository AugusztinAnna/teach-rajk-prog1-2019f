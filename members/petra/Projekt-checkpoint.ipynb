{
 "cells": [
  {
   "cell_type": "markdown",
   "metadata": {},
   "source": [
    "### Filok keresése a Drive-ban:"
   ]
  },
  {
   "cell_type": "code",
   "execution_count": 1,
   "metadata": {},
   "outputs": [],
   "source": [
    "#importálás Drive API-hoz\n",
    "from __future__ import print_function\n",
    "import pickle\n",
    "import os.path\n",
    "from googleapiclient.discovery import build\n",
    "from google_auth_oauthlib.flow import InstalledAppFlow\n",
    "from google.auth.transport.requests import Request\n",
    "\n",
    "# If modifying these scopes, delete the file token.pickle.\n",
    "SCOPES = ['https://www.googleapis.com/auth/drive.file']\n"
   ]
  },
  {
   "cell_type": "code",
   "execution_count": 2,
   "metadata": {},
   "outputs": [],
   "source": [
    "###csak akkor futtatom be, ha nincs bejelentkezve. Token tárolja a felhasználó hozzáférést.\n",
    "\n",
    "creds = None\n",
    "# The file token.pickle stores the user's access and refresh tokens, and is\n",
    "# created automatically when the authorization flow completes for the first\n",
    "# time.\n",
    "if os.path.exists('token.pickle'):\n",
    "    with open('token.pickle', 'rb') as token:\n",
    "        creds = pickle.load(token)\n",
    "# If there are no (valid) credentials available, let the user log in.\n",
    "if not creds or not creds.valid:\n",
    "    if creds and creds.expired and creds.refresh_token:\n",
    "        creds.refresh(Request())\n",
    "    else:\n",
    "        flow = InstalledAppFlow.from_client_secrets_file(\n",
    "            'credentials.json', SCOPES)\n",
    "        creds = flow.run_local_server(port=0)\n",
    "    # Save the credentials for the next run\n",
    "    with open('token.pickle', 'wb') as token:\n",
    "        pickle.dump(creds, token)\n",
    "\n",
    "service = build('drive', 'v3', credentials=creds)\n",
    "\n",
    "# Call the Drive v3 API\n",
    "results = service.files().list(\n",
    "    pageSize=10, fields=\"nextPageToken, files(id, name)\").execute()\n",
    "items = results.get('files', [])\n"
   ]
  },
  {
   "cell_type": "code",
   "execution_count": 3,
   "metadata": {},
   "outputs": [],
   "source": [
    "def main():\n",
    "    \"\"\"Shows basic usage of the Drive v3 API.\n",
    "    \"\"\"\n",
    "    creds = None\n",
    "    # The file token.pickle stores the user's access and refresh tokens, and is\n",
    "    # created automatically when the authorization flow completes for the first\n",
    "    # time.\n",
    "    if os.path.exists('token.pickle'):\n",
    "        with open('token.pickle', 'rb') as token:\n",
    "            creds = pickle.load(token)\n",
    "    # If there are no (valid) credentials available, let the user log in.\n",
    "    if not creds or not creds.valid:\n",
    "        if creds and creds.expired and creds.refresh_token:\n",
    "            creds.refresh(Request())\n",
    "        else:\n",
    "            flow = InstalledAppFlow.from_client_secrets_file(\n",
    "                'credentials.json', SCOPES)\n",
    "            creds = flow.run_local_server(port=0)\n",
    "        # Save the credentials for the next run\n",
    "        with open('token.pickle', 'wb') as token:\n",
    "            pickle.dump(creds, token)\n",
    "   "
   ]
  },
  {
   "cell_type": "code",
   "execution_count": 5,
   "metadata": {
    "scrolled": true
   },
   "outputs": [
    {
     "name": "stdout",
     "output_type": "stream",
     "text": [
      "Found file: Kovács Bence (1MGrl9gZJ7x8KmeGk5RELVBNOro2LuclC)\n",
      "Found file: Borza Endre (1W9uhN6qP_8Tq-Yrob2ogtQ0ksJjIZws_)\n",
      "Found file: Flanek Szilvia (14jJpzzm0nm34xt83QVqgQlzdwIn0QoBp)\n",
      "Found file: Juhász Réka (1JFrZPf8_YYZ5ZtpPZ0EZ5_5tSG5NoGJO)\n",
      "Found file: Hojsza Petra (1rnpd-dbsuhwlFAiKiMZYJHXqyTzx0nSh)\n"
     ]
    }
   ],
   "source": [
    "#Folderek keresése\n",
    "page_token = None\n",
    "while True:\n",
    "    response = service.files().list(q=\"mimeType='application/vnd.google-apps.folder'\",\n",
    "                                          spaces='drive',\n",
    "                                          fields='nextPageToken, files(id, name)',\n",
    "                                          pageToken=page_token).execute()\n",
    "    files = []\n",
    "    for file in response.get('files', []):\n",
    "        # Process change\n",
    "        print ('Found file: %s (%s)' % (file.get('name'), file.get('id')))\n",
    "        files.append(file)\n",
    "    page_token = response.get('nextPageToken', None)\n",
    "    if page_token is None:\n",
    "        break\n",
    "#print(files)"
   ]
  },
  {
   "cell_type": "code",
   "execution_count": 6,
   "metadata": {
    "scrolled": false
   },
   "outputs": [
    {
     "name": "stdout",
     "output_type": "stream",
     "text": [
      "['1MGrl9gZJ7x8KmeGk5RELVBNOro2LuclC', '1W9uhN6qP_8Tq-Yrob2ogtQ0ksJjIZws_', '14jJpzzm0nm34xt83QVqgQlzdwIn0QoBp', '1JFrZPf8_YYZ5ZtpPZ0EZ5_5tSG5NoGJO', '1rnpd-dbsuhwlFAiKiMZYJHXqyTzx0nSh']\n"
     ]
    }
   ],
   "source": [
    "id_list = []\n",
    "for ids in files:\n",
    "    id_list.append(ids['id'])\n",
    "print(id_list)"
   ]
  },
  {
   "cell_type": "code",
   "execution_count": 7,
   "metadata": {},
   "outputs": [
    {
     "name": "stdout",
     "output_type": "stream",
     "text": [
      "Files:\n",
      "tanari_ajanlas (1dZsig8MphNpEf-MuViLNr49s-IDmbL1m2iNT8pV_AE4)\n",
      "szamlak (1gkC-2UeVTgz2_fC2RcxKiqdUrP7pXDg2PnVnxO_j_Jg)\n",
      "palyazati_adatlap (1SI8wwWqec-IRUYo82yQ9Rf-3GRB2SFh_CG6MDaMHLNg)\n",
      "nyelvvizsgak_oklevelek (1zhhwmhAzR5HPF4UQ7nV8vmodEyse7PhmpSnWkQROaXs)\n",
      "bizonyitvanyok (1IOEX3QJkcHJIOy29dTdCxERTe4mLVAIo8PGGncaegDI)\n"
     ]
    }
   ],
   "source": [
    " service = build('drive', 'v3', credentials=creds)\n",
    "    # Call the Drive v3 API\n",
    "results = service.files().list(\n",
    "    q = \"'14jJpzzm0nm34xt83QVqgQlzdwIn0QoBp' in parents \",pageSize=100, fields=\"nextPageToken, files(id, name)\").execute()\n",
    "items = results.get('files', [])\n",
    "\n",
    "if not items:\n",
    "    print('No files found.')\n",
    "else:\n",
    "    print('Files:')\n",
    "    for item in items:\n",
    "        print(u'{0} ({1})'.format(item['name'], item['id']))\n",
    "\n",
    "if __name__ == '__main__':\n",
    "    main()"
   ]
  },
  {
   "cell_type": "code",
   "execution_count": 8,
   "metadata": {},
   "outputs": [],
   "source": [
    "def is_in(list_of_dic,kereso):\n",
    "    talalt=False\n",
    "    for i in list_of_dic:\n",
    "        if i[\"name\"]==kereso:\n",
    "            talalt=True\n",
    "    return talalt"
   ]
  },
  {
   "cell_type": "code",
   "execution_count": 9,
   "metadata": {},
   "outputs": [],
   "source": [
    "#Összekötés a spreaddel\n",
    "import gspread\n",
    "from oauth2client.service_account import ServiceAccountCredentials\n",
    "\n",
    "scope = ['https://spreadsheets.google.com/feeds',\n",
    "         'https://www.googleapis.com/auth/drive']\n",
    "\n",
    "credentials = ServiceAccountCredentials.from_json_keyfile_name('sheets_hianypotlas_service_key.json', scope)\n",
    "\n",
    "gc = gspread.authorize(credentials)\n",
    "\n",
    "wks = gc.open_by_key(\"1rk_fBqAWHp2iv_lyVyccxix5dxpS7EZZF_AGVD4KNfM\")"
   ]
  },
  {
   "cell_type": "code",
   "execution_count": 10,
   "metadata": {},
   "outputs": [],
   "source": [
    "sheet=wks.sheet1\n",
    "emails=sheet.get_all_records()\n"
   ]
  },
  {
   "cell_type": "code",
   "execution_count": 11,
   "metadata": {},
   "outputs": [],
   "source": [
    "def hianycikk(lista,files):\n",
    "    dicti = {key['Név']:{'email':key['E-mail cím'],'hianyzok':[]} for key in lista}\n",
    "    for x in files:\n",
    "        dicti[x['name']]['folder_id']=x['id']\n",
    "    return dicti"
   ]
  },
  {
   "cell_type": "code",
   "execution_count": 12,
   "metadata": {
    "scrolled": false
   },
   "outputs": [
    {
     "data": {
      "text/plain": [
       "{'Hojsza Petra': {'email': 'hojszapetra@gmail.com',\n",
       "  'hianyzok': [],\n",
       "  'folder_id': '1rnpd-dbsuhwlFAiKiMZYJHXqyTzx0nSh'},\n",
       " 'Borza Endre': {'email': 'endremborza@gmail.com ',\n",
       "  'hianyzok': [],\n",
       "  'folder_id': '1W9uhN6qP_8Tq-Yrob2ogtQ0ksJjIZws_'},\n",
       " 'Kovács Bence': {'email': 'kbb1795@gmail.com ',\n",
       "  'hianyzok': [],\n",
       "  'folder_id': '1MGrl9gZJ7x8KmeGk5RELVBNOro2LuclC'},\n",
       " 'Juhász Réka': {'email': 'hojszapetra@gmail.com',\n",
       "  'hianyzok': [],\n",
       "  'folder_id': '1JFrZPf8_YYZ5ZtpPZ0EZ5_5tSG5NoGJO'},\n",
       " 'Flanek Szilvia': {'email': 'hojszapetra@gmail.com',\n",
       "  'hianyzok': [],\n",
       "  'folder_id': '14jJpzzm0nm34xt83QVqgQlzdwIn0QoBp'}}"
      ]
     },
     "execution_count": 12,
     "metadata": {},
     "output_type": "execute_result"
    }
   ],
   "source": [
    "hianyzok=hianycikk(emails,files)\n",
    "hianyzok"
   ]
  },
  {
   "cell_type": "code",
   "execution_count": 13,
   "metadata": {},
   "outputs": [],
   "source": [
    "documents = [\"palyazati_adatlap\", \"tanari_ajanlas\", \"bizonyitvanyok\", \"haztartasban_elok\", \"nyelvvizsgak_oklevelek\", \"csaladi_potlek\", \"NAV_igazolasok\", \"munkaltatoi_igazolasok\", \"szamlak\"]"
   ]
  },
  {
   "cell_type": "code",
   "execution_count": 14,
   "metadata": {
    "scrolled": true
   },
   "outputs": [],
   "source": [
    "folder_id = \"'x' in parents\"\n",
    "hianyzo_doksik = []\n",
    "for key,item in hianyzok.items():\n",
    "    #print(item)\n",
    "    file_list = service.files().list( q = \"'\" + str(item['folder_id']) + \"'\" + \" in parents \", pageSize=100, fields=\"nextPageToken, files(id, name)\").execute()\n",
    "    items = file_list.get('files')\n",
    "    #print(folder_id)\n",
    "    #print(file_list)\n",
    "    for doksik in documents:\n",
    "        if not is_in(items, doksik):\n",
    "            #print('its not exist in: ',folder_id)\n",
    "            hianyzok[key]['hianyzok'].append(doksik)        "
   ]
  },
  {
   "cell_type": "markdown",
   "metadata": {},
   "source": [
    "### E-mailek kiküldése automatikusan:"
   ]
  },
  {
   "cell_type": "code",
   "execution_count": 18,
   "metadata": {},
   "outputs": [],
   "source": [
    "with open(\"log.txt\") as f:\n",
    "    password = f.read()"
   ]
  },
  {
   "cell_type": "code",
   "execution_count": 19,
   "metadata": {},
   "outputs": [],
   "source": [
    "import smtplib, ssl\n",
    "from email.mime.text import MIMEText\n",
    "from email.mime.base import MIMEBase\n",
    "from email.mime.multipart import MIMEMultipart\n",
    "from email.mime.text import MIMEText\n",
    "\n",
    "\n",
    "for key, value in hianyzok.items():\n",
    "    neve = key\n",
    "    hianyzas =('\\n').join(value['hianyzok'])\n",
    "\n",
    "    sender_email = \"petra.hojsza3@gmail.com\"\n",
    "    receiver_email = value['email']\n",
    "    password = password\n",
    "\n",
    "    message = MIMEMultipart(\"alternative\")\n",
    "    message[\"Subject\"] = \"SZKTP hiánypótlás január 5-ig\"\n",
    "    message[\"From\"] = sender_email\n",
    "    message[\"To\"] = receiver_email\n",
    "\n",
    "    # Create the plain-text and HTML version of your message\n",
    "    text = \"\"\"\\\n",
    "    Kedves %s!\n",
    "\n",
    "    Örülünk, hogy jelentkeztél a Szabó Kálmán Tehetségprogramba! A pályázati anyagok feldolgozásra kerültek, és a következő dokumentumokat nem töltötted fel:\n",
    "    \n",
    "    %s\n",
    "\n",
    "    Kérjük, ezeket január 5-ig pótold!\n",
    "    \n",
    "    A felvételi január 20-24. között kerül megrendezésre, ekkor írjátok meg a próbaérettségiket, illetve egy félórás szóbeli elbeszélgetésen vesztek részt. Az első kör eredményéről, valamint továbbjutás esetén a beosztásról az összes beérkező pályázat feldolgozása után (várhatóan január 9.) fogunk veled egyeztetni.\"\"\" % (neve,hianyzas)\n",
    "    \n",
    "    html = \"\"\"\\\n",
    "    <html>\n",
    "      <body>\n",
    "        <h5>Kedves, <b> %s </b>!</h5>\n",
    "    \n",
    "\n",
    "        <p>Örülünk, hogy jelentkeztél a Szabó Kálmán Tehetségprogramba! A pályázati anyagok feldolgozásra kerültek, és a következő dokumentumokat nem töltötted fel:</p>\n",
    "\n",
    "        <p><b>%s</b></p>\n",
    "\n",
    "        <p><b>Kérjük, ezeket január 5-ig pótold!</b> Amennyiben nem soroltunk fel dokumentumokat, e-amilünket vedd tárgytalannak, elfogadtuk a jelentkezésed.</p>\n",
    "\n",
    "        <p>A felvételi január 20-24. között kerül megrendezésre, ekkor írjátok meg a próbaérettségiket, illetve egy félórás szóbeli elbeszélgetésen vesztek részt. Az első kör eredményéről, valamint továbbjutás esetén a beosztásról az összes beérkező pályázat feldolgozása után (várhatóan január 9.) fogunk veled egyeztetni.\n",
    "\n",
    "        </p>\n",
    "      </body>\n",
    "    </html>\n",
    "    \"\"\" % (neve,hianyzas)\n",
    "\n",
    "    # Turn these into plain/html MIMEText objects\n",
    "    part1 = MIMEText(text, \"plain\")\n",
    "    part2 = MIMEText(html, \"html\")\n",
    "\n",
    "    # Add HTML/plain-text parts to MIMEMultipart message\n",
    "    # The email client will try to render the last part first\n",
    "    message.attach(part1)\n",
    "    message.attach(part2)\n",
    "\n",
    "    # Create secure connection with server and send email\n",
    "    context = ssl.create_default_context()\n",
    "    with smtplib.SMTP_SSL(\"smtp.gmail.com\", 465, context=context) as server:\n",
    "        server.login(sender_email, password)\n",
    "        server.sendmail(\n",
    "            sender_email, receiver_email, message.as_string()\n",
    "        )"
   ]
  },
  {
   "cell_type": "markdown",
   "metadata": {},
   "source": [
    "'''Források:\n",
    "scopes: \n",
    "Manage the drive folders: https://towardsdatascience.com/how-to-manage-files-in-google-drive-with-python-d26471d91ecd\n",
    "szövegformázás: https://www.w3schools.com/html/html_formatting.asp\n",
    "dictionary iteráció: https://stackoverflow.com/questions/26367812/appending-to-list-in-python-dictionary\n",
    "dictionary: https://stackoverflow.com/questions/51539434/filling-empty-dictionary-in-python\n",
    "\n",
    "\n",
    "API:\n",
    "https://developers.google.com/sheets/api/guides/concepts?authuser=1\n",
    "https://github.com/burnash/gspread\n",
    "https://stackoverflow.com/questions/42027653/use-pydrive-to-list-files-using-a-variable-holding-the-folder-ids-in-a-loop\n",
    "https://stackoverflow.com/questions/50705467/python-3-google-drive-api-attributeerror-resource-object-has-no-attribute/50707508\n",
    "https://stackoverflow.com/questions/30614632/google-drive-api-i-have-to-fetch-only-files-in-that-folder-without-trashed-file\n",
    "http://eyana.me/list-gdrive-folders-python/\n",
    "https://towardsdatascience.com/how-to-access-google-sheet-data-using-the-python-api-and-convert-to-pandas-dataframe-5ec020564f0e\n",
    "https://medium.com/@chingjunetao/simple-way-to-access-to-google-service-api-a22f4251bb52\n",
    "\n",
    "File és folder keresése:\n",
    "https://developers.google.com/drive/api/v3/search-files\n",
    "https://www.c-sharpcorner.com/article/how-to-search-google-drive-files-progamatically/\n",
    "https://developers.google.com/drive/api/v3/reference/files/get\n",
    "https://stackoverflow.com/questions/56496333/google-drive-api-check-if-folder-exists/56532379 (folder exist?)\n",
    "\n",
    "E-mail:\n",
    "https://realpython.com/python-send-email/?fbclid=IwAR3DHdDS5uAxf0167UUarnuYJEoe7uCd3mnH8-M8DLsZVBVtK_kfVsQp3Lg\n",
    "\n",
    "\n",
    "\n",
    "\n",
    "'''\n",
    "        "
   ]
  },
  {
   "cell_type": "code",
   "execution_count": null,
   "metadata": {},
   "outputs": [],
   "source": [
    "#string formatting\n",
    "\"aaaa - {0} {1}dsadmdf dsfdsl\".format(\"BBBBBBCCCCCC\", \"AAAA\")"
   ]
  },
  {
   "cell_type": "code",
   "execution_count": null,
   "metadata": {},
   "outputs": [],
   "source": [
    "pip install pydrive"
   ]
  }
 ],
 "metadata": {
  "kernelspec": {
   "display_name": "Python 3",
   "language": "python",
   "name": "python3"
  },
  "language_info": {
   "codemirror_mode": {
    "name": "ipython",
    "version": 3
   },
   "file_extension": ".py",
   "mimetype": "text/x-python",
   "name": "python",
   "nbconvert_exporter": "python",
   "pygments_lexer": "ipython3",
   "version": "3.7.3"
  }
 },
 "nbformat": 4,
 "nbformat_minor": 2
}
