{
 "cells": [
  {
   "cell_type": "markdown",
   "metadata": {},
   "source": [
    "## Projekt állapot, tervek\n",
    "### Előző héten kitúzött célok közül:\n",
    "##### Megvalósult:\n",
    "    Kitaláltam mi is legyen a projektem, viszont akadt egy kis bökkenő. Azt szeretném kivitelezni, hogy az SZKTP regisztrációhoz való typeformot összekötöm egy excellel. A typeformról annyit kell tudni, hogy 6 blokkból (alap adatok, tanulmányi adatok, jövedelmi adatok I, II, III, írásbeli felvételi) áll, és ezen tudjuk követni azt, hogy a regisztrálók közül, ki hol tart az adatok feltöltésével. Azt pedig, hogy ki melyik blokk kitöltésével hogy áll manuálisan vezetjük egy excelben. Azt szeretném megvalósítani, hogy ha egy regisztráló kitölt egy blokkot, akkor az excel jelezze, ha ennek a blokknak a végére ért, és ha mind a hat blokk megvan, akkor küldjön egy e-mailt a rendszer, hogy minden adatot feltöltött, érvényes a jelentkezése.\n",
    "    \n",
    "\n",
    "##### Nem valósult meg:\n",
    "Sajnos további lépés nem valósult meg, mert összeomlott a typeform. Sajnos nem tudtunk rájönni, hogy miért, de nem engedte a regisztrálókat átlépni a következő blokkra, az első után visszadobott mindenkit, és átraktuk a folyamatot a drive-ra. Lehet, hogy ezt a projektet el is kell engednem.\n",
    "\n",
    "##### Következő hétre kitűzött célok:\n",
    "Várjuk a választ a typeform-tól, hogy mi lehet a probléma, meg tudjuk-e javítani. Janival már beszéltem, szerinte ha megjavul, akkor megvalósítható a projekt.\n",
    "Jani javalatára az API-ról fogok olvasni, illetve, ha már tudom, hogy meg lehet valósítani a projektet, akkor elkezdek package-ket keresgélni.\n",
    "Jövő héten szeretnék majd Benyával is beszélni, és tanácsot kérni.\n",
    "...\n",
    "\n",
    "\n",
    "A héten megcsináltam egy AoC csillagot is, ezt csatolom egy másik doksiban."
   ]
  },
  {
   "cell_type": "code",
   "execution_count": null,
   "metadata": {},
   "outputs": [],
   "source": []
  }
 ],
 "metadata": {
  "kernelspec": {
   "display_name": "Python 3",
   "language": "python",
   "name": "python3"
  },
  "language_info": {
   "codemirror_mode": {
    "name": "ipython",
    "version": 3
   },
   "file_extension": ".py",
   "mimetype": "text/x-python",
   "name": "python",
   "nbconvert_exporter": "python",
   "pygments_lexer": "ipython3",
   "version": "3.7.3"
  }
 },
 "nbformat": 4,
 "nbformat_minor": 2
}
