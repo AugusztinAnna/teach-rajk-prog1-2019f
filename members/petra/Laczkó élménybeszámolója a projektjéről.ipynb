{
 "cells": [
  {
   "cell_type": "markdown",
   "metadata": {},
   "source": [
    "## Mi volt aminek a nehézségét leginkább alábecsülte?"
   ]
  },
  {
   "cell_type": "markdown",
   "metadata": {},
   "source": [
    "'''Szerintem én inkább felülbecsültem az egész nehézségét, mint alá, nem voltam túl magabiztos azért összességében. De arra tisztán emlékszem, hogy nem mindig a kódnak azok a részei jelentették a legnagybb nehézséget, mint, amire először gondoltam volna. Én ugye email kiküldős kódot írtam, ami a vmcs kikicsoda frissítést segítette a tavalyi vmcsnek. Azt csinálta, hogy minden voszkosnak a nevére létrehozott egy excel filet a saját nevével, és amibe belepakolta az eddigi adatait az a voszkosoknak, illetve mellé csinált egy üres oszlopot, és az emailben arra kérte őket, hogy ezt az üres oszlopot töltsék ki az összes adatukkal. Na, és szerintem a legtöbbet azzal baszódtam, hogy hogyan fogok hozzáférést adni a vmcs kikicsodához. (nem az eredetihez, hanem lemásoltam, hogy ne az eredetit tegyem tönkre.'''"
   ]
  },
  {
   "cell_type": "markdown",
   "metadata": {},
   "source": [
    "## Volt-e valami aha élménye?"
   ]
  },
  {
   "cell_type": "markdown",
   "metadata": {},
   "source": [
    "'''Aha élményem szerintem konkrétan a kód írása közben volt. Nekem a folyamat közben került szerintem egy csomó olyan dolog a fejemben a helyére, ami másoknak már a kurzus alatt is, hogy logikailag meg gondolkodásban hogyan is épül fel egy kód. Pl én a kód alatt dictionaryvel dolgoztam, amit a kurzus alatt nem annyira vettünk és mi a kurzushétvégén is listával csináltunk mindent. Szóval a dictionary megértésében sokat segített.'''"
   ]
  },
  {
   "cell_type": "markdown",
   "metadata": {},
   "source": [
    "## Milyen kurzus alatt összeszedett tudás / skill volt a legnagyobb segítség a projektben?"
   ]
  },
  {
   "cell_type": "markdown",
   "metadata": {},
   "source": [
    "'''Az, hogy ne ijedjek meg dolgoktól és használjam a google-t. 😀 egyértelműen'''"
   ]
  }
 ],
 "metadata": {
  "kernelspec": {
   "display_name": "Python 3",
   "language": "python",
   "name": "python3"
  },
  "language_info": {
   "codemirror_mode": {
    "name": "ipython",
    "version": 3
   },
   "file_extension": ".py",
   "mimetype": "text/x-python",
   "name": "python",
   "nbconvert_exporter": "python",
   "pygments_lexer": "ipython3",
   "version": "3.7.3"
  }
 },
 "nbformat": 4,
 "nbformat_minor": 2
}
