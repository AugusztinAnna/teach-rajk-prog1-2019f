{
 "cells": [
  {
   "cell_type": "markdown",
   "metadata": {},
   "source": [
    "Projekt leírás\n",
    "\n",
    "Probléma definíció: számos híroldalról fogyasztunk tartalmat, de nehéz jól válogatni,\n",
    "    ráadásul minden nap érkeznek emellett az értesítések is. Hiába vannak beállított hírlevelek reggel 7 óra előtt,\n",
    "    nehezen lehet jól híreket válogatni, ha nem feltétlen csak a fő témákról akarunk értesülni. Személyesen cél, hogy olyan híroldalt vonjak be, amit kevesebbszer nézek. pl 24.hu\n",
    "    \n",
    "Eredeti leírás kommentekkel \n",
    "\n",
    "Programozási feladat: \n",
    "1. automatizáció rész: személyre szabott hírlevelet készítene a program, naponta 3-szor.\n",
    "    Egyet reggel, egyet napközben egyet pedig este.\n",
    "    A programnak lehessen megadni, hogy milyen híroldalakról válogasson\n",
    "    (ennek lenne egy maximuma, mondjuk max 6). ###legyen inkább 2 jól működő, tudja elküldeni nekem. utána esetleg update, hogy legyen külön felület, ahol erre fel lehet 'iratkozni'\n",
    "2. scrapelés rész: szedje le a főcím linkeket + max 10-15 keresési szó\n",
    "    (ezeket inputként lehessen változtatni) ### a keresési szavakat lehet meg kell előre adni, hogy miből lehet válogatni\n",
    "    alapján a releváns cikkek linkjeit a megadott oldalakról és ezeket tegye be az emailbe\n",
    "3. adatvizualizáció rész: hét végén küldjön egy összesítő e-mailt, hogy a megadott héten melyik oldalról\n",
    "    1) hány cikket küldött 2) milyen gyakran jöttek elő a megadott keresési szavak ### itt bármi jó, ami kijön de nem olyan fontos ### valószínűleg könnyebb összesített statisztikát küldeni az adott levélben, mint külön egy 'heti összegzőt' beállítani. valami + adat kéne bele, ezért inkább az adott időszaki levélről kéne érdekes információkat közölni\n"
   ]
  },
  {
   "cell_type": "code",
   "execution_count": 68,
   "metadata": {},
   "outputs": [],
   "source": [
    "import requests\n",
    "from bs4 import BeautifulSoup"
   ]
  },
  {
   "cell_type": "code",
   "execution_count": 69,
   "metadata": {},
   "outputs": [],
   "source": [
    "hiroldal_url = \"https://24.hu\""
   ]
  },
  {
   "cell_type": "code",
   "execution_count": 70,
   "metadata": {},
   "outputs": [],
   "source": [
    "resp = requests.get(hiroldal_url)"
   ]
  },
  {
   "cell_type": "code",
   "execution_count": 71,
   "metadata": {},
   "outputs": [],
   "source": [
    "soup = BeautifulSoup(resp.content)"
   ]
  },
  {
   "cell_type": "code",
   "execution_count": 72,
   "metadata": {},
   "outputs": [],
   "source": [
    "cimek = soup.find_all(\"h2\", class_=\"m-entryWidget__title\")"
   ]
  },
  {
   "cell_type": "code",
   "execution_count": 73,
   "metadata": {},
   "outputs": [
    {
     "data": {
      "text/plain": [
       "[<h2 class=\"m-entryWidget__title\"><a class=\"m-entryWidget__link\" href=\"https://24.hu/kultura/2020/01/12/krisztus-elso-megkisertese-netflix-brazil-film-keresztenyseg-bolsonaro/\">Tönkreteheti egy szatíra a kétezer éves keresztény hit értékeit?</a></h2>,\n",
       " <h2 class=\"m-entryWidget__title -coloredLineTitle\"><a class=\"m-entryWidget__link\" href=\"https://24.hu/fn/gazdasag/2020/01/12/nemzeti-lobogokat-kell-tuzni-a-serteshusra-januar-kozepetol/\">Nemzeti lobogókat kell tűzni a sertéshúsra január közepétől</a></h2>,\n",
       " <h2 class=\"m-entryWidget__title\"><a class=\"m-entryWidget__link\" href=\"https://24.hu/belfold/2020/01/12/obuda-tuz/\">Öt épület lángolt Óbudán</a></h2>,\n",
       " <h2 class=\"m-entryWidget__title\"><a class=\"m-entryWidget__link\" href=\"https://24.hu/sport/2020/01/12/vizilabda-eb-magyarorszag-horvatorszag-elo/\">19 gólos győzelemmel kezdte az Eb-t a nőipóló-válogatott</a></h2>,\n",
       " <h2 class=\"m-entryWidget__title\"><a class=\"m-entryWidget__link\" href=\"https://24.hu/kozelet/2020/01/12/elit-toke-currid-halkett/\">Az új elit nem vásárol drága dolgokat, de sokkal zártabb, mint a régi valaha volt</a></h2>,\n",
       " <h2 class=\"m-entryWidget__title\"><a class=\"m-entryWidget__link\" href=\"https://24.hu/kulfold/2020/01/12/irak-legitamaszpont-lovedekek/\">Lövedékek csapódtak be egy iraki légitámaszpontra</a></h2>,\n",
       " <h2 class=\"m-entryWidget__title\"><a class=\"m-entryWidget__link\" href=\"https://24.hu/sport/2020/01/12/kezilabda-europa-bajnoksag-magyar-valogatott-balogh-zsolt/\">Az olimpiai bajnokot is el akarja kapni a magyar kéziválogatott</a></h2>,\n",
       " <h2 class=\"m-entryWidget__title -boxUnderLineTitle\"><a class=\"m-entryWidget__link\" href=\"https://24.hu/belfold/2020/01/12/hatoslotto-nyeroszamok/\">Sorsoltak a hatoslottón, 365 millió forint volt a tét</a></h2>,\n",
       " <h2 class=\"m-entryWidget__title\"><a class=\"m-entryWidget__link\" href=\"https://24.hu/kulfold/2020/01/12/fulop-szigetek-taal-vulkankitores-manila-repuloter/\">Kitörni készül a Taal, lezárták a manilai repteret</a></h2>,\n",
       " <h2 class=\"m-entryWidget__title\"><a class=\"m-entryWidget__link\" href=\"https://24.hu/belfold/2020/01/12/orban-viktor-fidesz-felidos-konzultacio-valasztokeruleti-elnokok/\">Orbán elbeszélget az összes fideszes választókerületi elnökkel</a></h2>,\n",
       " <h2 class=\"m-entryWidget__title -baseColoredTitle\"><a class=\"m-entryWidget__link\" href=\"https://24.hu/sport/2020/01/12/dakar-rali-elhunyt-motoros-paulo-goncalves/\">Meghalt egy motoros a Dakaron</a></h2>,\n",
       " <h2 class=\"m-entryWidget__title\"><a class=\"m-entryWidget__link\" href=\"https://24.hu/belfold/2020/01/12/kiskunfelegyhaza-csaladi-vita-apa-fia-szuras/\">Mellkason szúrta fiát egy kiskunfélegyházi férfi</a></h2>,\n",
       " <h2 class=\"m-entryWidget__title\"><a class=\"m-entryWidget__link\" href=\"https://24.hu/belfold/2020/01/12/kigyulladt-egy-lakas-budapesten-ket-ember-meghalt/\">Kigyulladt egy lakás Budapesten, két ember meghalt</a></h2>,\n",
       " <h2 class=\"m-entryWidget__title\"><a class=\"m-entryWidget__link\" href=\"https://24.hu/tudomany/2020/01/12/walesi-herceg-kiraly-magyarorszag/\">A későbbi brit király kérdőre vonta Arany Jánost</a></h2>,\n",
       " <h2 class=\"m-entryWidget__title\"><a class=\"m-entryWidget__link\" href=\"https://24.hu/elet-stilus/2020/01/12/szakitas-utan-sokaknak-nehez-lehet-ujra-szexelni/\">Szakítás után sokaknak nehéz lehet újra szexelni</a></h2>,\n",
       " <h2 class=\"m-entryWidget__title\"><a class=\"m-entryWidget__link\" href=\"https://24.hu/kultura/2020/01/12/rendszervaltas-vesztesek-popzene/\">„Szennyhullám árasztotta el a színpadokat” – A rendszerváltás vesztesei a popzenében</a></h2>,\n",
       " <h2 class=\"m-entryWidget__title -coloredTitle -upperCaseTitle\"><a class=\"m-entryWidget__link\" href=\"https://24.hu/belfold/2020/01/11/a-24-hu-ujsagiroja-nyerte-a-transparency-soma-dijat/\">A 24.hu újságírója nyerte a Transparency-Soma díjat</a></h2>,\n",
       " <h2 class=\"m-entryWidget__title\"><a class=\"m-entryWidget__link\" href=\"https://24.hu/belfold/2020/01/12/korhaz-adossag-beszallito/\">Ha a beszállítók leállnak, leállhat a kórházi ellátás is</a></h2>,\n",
       " <h2 class=\"m-entryWidget__title\"><a class=\"m-entryWidget__link\" href=\"https://24.hu/sport/2020/01/12/meszaros-lorinc-vagyon-leggazdagabb-magyar-ac-milan-schalke-inter/\">Megvehetné-e az AC Milant Mészáros Lőrinc, ha akarná?</a></h2>,\n",
       " <h2 class=\"m-entryWidget__title\"><a class=\"m-entryWidget__link\" href=\"https://rangado.24.hu/nemzetkozi_foci/2020/01/12/el-clasico-barcelona-real-madrid/\">A Real a legjobb nagykövet, a barcások örüljenek, hogy egyáltalán focizhatnak</a></h2>,\n",
       " <h2 class=\"m-entryWidget__title\"><a class=\"m-entryWidget__link\" href=\"https://24.hu/kulfold/2020/01/12/drog-politika-gyilkossag-mexiko-kudarc-amlo-kartell/\">Elszabadult vérfürdők és egy kínos lebőgés mutatja, mekkora bukta az új elnök drogpolitikája Mexikóban</a></h2>,\n",
       " <h2 class=\"m-entryWidget__title\"><a class=\"m-entryWidget__link\" href=\"https://24.hu/kultura/2020/01/12/sor-soralatet-posta-level-kepeslap-bizarr-tortenelem/\">Hetvenöt éve még képeslapnak álcázott söralátéteket is postára adtak a magyarok</a></h2>,\n",
       " <h2 class=\"m-entryWidget__title\"><a class=\"m-entryWidget__link\" href=\"https://24.hu/kultura/2020/01/11/ankert-luxushotel-triholding-paulay-ede-utca/\">Luxushotellé válhat a nyolc év után bezárásra ítélt Ankert épülete</a></h2>,\n",
       " <h2 class=\"m-entryWidget__title\"><a class=\"m-entryWidget__link\" href=\"https://24.hu/belfold/2020/01/11/gyori-gyilkossag-birosag-felteteles-szabadsag-torvenymodositas-varga-judit-orban-viktor-elemzes/\">Emberrablókat, szexuális erőszaktevőket nyugodtan engedjünk ki hamarabb a börtönből?</a></h2>,\n",
       " <h2 class=\"m-entryWidget__title\"><a class=\"m-entryWidget__link\" href=\"https://24.hu/fn/gazdasag/2020/01/12/sztk-maganrendeles-egeszsegugy-egeszsegpenztar/\">Ötször ennyit költhetnénk az egészségünkre hálapénz nélkül</a></h2>,\n",
       " <h2 class=\"m-entryWidget__title\"><a class=\"m-entryWidget__link\" href=\"https://24.hu/belfold/2020/01/11/novak-katalin-allamtitkar-racz-zsofia-csaladvedelmi-akcioterv-gyurcsany-interju/\">Novák Katalin: Nem minden 22 éves alkalmas államtitkárnak</a></h2>,\n",
       " <h2 class=\"m-entryWidget__title -coloredLineTitle\"><a class=\"m-entryWidget__link\" href=\"https://24.hu/fn/gazdasag/2020/01/11/szakapolok-egeszsegugy-beremeles/\">Egyben kellett volna 72 százalékos béremelést adni a szakápolóknak</a></h2>,\n",
       " <h2 class=\"m-entryWidget__title\"><a class=\"m-entryWidget__link\" href=\"https://24.hu/kultura/2020/01/11/genetika-sportgenetika-dr-gogl-almos-sport-eletmod-tulsuly-elhizas/\">Nem a genetika miatt vagyok túlsúlyos, és erről papírom is van</a></h2>,\n",
       " <h2 class=\"m-entryWidget__title\"><a class=\"m-entryWidget__link\" href=\"https://24.hu/kultura/2020/01/11/podcast-filezo-papp-zoltan-digo-pizza/\">Öt sima pizzához egy ember is elég, egy nápolyit meg öten készítenek</a></h2>,\n",
       " <h2 class=\"m-entryWidget__title\"><a class=\"m-entryWidget__link\" href=\"https://24.hu/kultura/2020/01/11/vigszinhaz-csalok-hamis-jegy-pal-utcai-fiuk/\">Csalók árulnak hamis jegyeket a Vígszínház előadására</a></h2>,\n",
       " <h2 class=\"m-entryWidget__title\"><a class=\"m-entryWidget__link\" href=\"https://24.hu/kultura/2020/01/11/tv2-hbo-magyar-sorozat/\">Új magyar sorozatok jöhetnek a TV2-re és az HBO-ra</a></h2>,\n",
       " <h2 class=\"m-entryWidget__title\"><a class=\"m-entryWidget__link\" href=\"https://24.hu/kultura/2020/01/11/rubin-kristof-rtl-klub-tavozott/\">Távozott az RTL Klubtól Rubin Kristóf kreatív osztályvezető</a></h2>,\n",
       " <h2 class=\"m-entryWidget__title\"><a class=\"m-entryWidget__link\" href=\"https://24.hu/sport/2020/01/12/podcast-kezivezerles-ferfi-europa-bajnoksag-magyarorszag-oroszorszag/\">Kézi-Eb: van spiritusz a magyar csikócsapatban</a></h2>,\n",
       " <h2 class=\"m-entryWidget__title\"><a class=\"m-entryWidget__link\" href=\"https://24.hu/sport/2020/01/12/kezilabda-ehf-kupa-csoportkor-siofok-magura-cisnadie/\">A sok hiányzó ellenére a Siófok kitömte román ellenfelét</a></h2>,\n",
       " <h2 class=\"m-entryWidget__title\"><a class=\"m-entryWidget__link\" href=\"https://rangado.24.hu/nemzetkozi_foci/2020/01/12/spanyol-szuperkupa-real-madrid-atletico-madrid-valverde-bakija/\">Valverde kapitális hibája mindent elmond a Real–Atlético Madrid meccsről</a></h2>,\n",
       " <h2 class=\"m-entryWidget__title\"><a class=\"m-entryWidget__link\" href=\"https://rangado.24.hu/nemzetkozi_foci/2020/01/12/manchester-city-parade-aston-villa-premier-league-aguero-rekordja/\">A City zsenijei újra játszótérré alakítják az angol pályákat</a></h2>,\n",
       " <h2 class=\"m-entryWidget__title\"><a class=\"m-entryWidget__link\" href=\"https://rangado.24.hu/nemzetkozi_foci/2020/01/12/fabio-quagliarella-sampdoria-serie-a-golok-16-eve/\">Zsinórban 16 éve szomorítja a kapusokat az örökifjú csatár</a></h2>,\n",
       " <h2 class=\"m-entryWidget__title\"><a class=\"m-entryWidget__link\" href=\"https://rangado.24.hu/nemzetkozi_foci/2020/01/12/suarez-kidolt-azonnal-csatar-kell-a-barcanak/\">Suárez kidőlt, azonnal csatár kell a Barcának</a></h2>,\n",
       " <h2 class=\"m-entryWidget__title\"><a class=\"m-entryWidget__link\" href=\"https://24.hu/sport/2020/01/12/budapesti-vizilabda-eb-noi-valogatott-beharangozo/\">A magyar csapatsportágak becsületéért szállnak harcba a női pólósok</a></h2>,\n",
       " <h2 class=\"m-entryWidget__title\"><a class=\"m-entryWidget__link\" href=\"https://rangado.24.hu/nemzetkozi_foci/2020/01/12/barcelona-edzokerdes-valverde-xavi/\">Edzőt vált a Barcelona, de Xavi még kért egy kis időt</a></h2>,\n",
       " <h2 class=\"m-entryWidget__title\"><a class=\"m-entryWidget__link\" href=\"https://24.hu/sport/2020/01/12/atp-kupa-donto-szerbia-spanyolorszag-novak-djokovic-rafael-nadal/\">Djokovic Nadalt verve megnyerte az ATP Kupát a szerbeknek</a></h2>,\n",
       " <h2 class=\"m-entryWidget__title\"><a class=\"m-entryWidget__link\" href=\"https://24.hu/sport/2020/01/12/tenisz-auckland-serena-williams-tornagyozelem/\">Serena Williams először nyert tornát anyaként</a></h2>,\n",
       " <h2 class=\"m-entryWidget__title\"><a class=\"m-entryWidget__link\" href=\"https://24.hu/tudomany/2020/01/12/zummoges-szeizmikus-mozgas-vizalatti-vulkan-lava/\">Megtalálták a Földön végigseprő rejtélyes zümmögés forrását</a></h2>,\n",
       " <h2 class=\"m-entryWidget__title\"><a class=\"m-entryWidget__link\" href=\"https://24.hu/tudomany/2020/01/12/maezava-holdutazas-elon-musk-urutazas/\">Tévéműsorban keres barátnőt Hold körüli utazásához a japán milliárdos</a></h2>,\n",
       " <h2 class=\"m-entryWidget__title\"><a class=\"m-entryWidget__link\" href=\"https://24.hu/tudomany/2020/01/12/meteor-krater-becsapodas-laosz-tektit/\">Rég elveszett meteorkráterre bukkantak</a></h2>,\n",
       " <h2 class=\"m-entryWidget__title\"><a class=\"m-entryWidget__link\" href=\"https://24.hu/kulfold/2020/01/12/teheran-nuklearis-egyezmeny-macron-merkel-johnson-felszolitas/\">Merkel, Macron és Johnson felszólította Teheránt a 2015-ös nukleáris egyezmény betartására</a></h2>,\n",
       " <h2 class=\"m-entryWidget__title\"><a class=\"m-entryWidget__link\" href=\"https://24.hu/kulfold/2020/01/12/brexit-eu-simon-conevey-ir-miniszterelnok-helyettes/\">Brexit: az EU nem hagyja magát siettetni</a></h2>,\n",
       " <h2 class=\"m-entryWidget__title\"><a class=\"m-entryWidget__link\" href=\"https://24.hu/kulfold/2020/01/12/meghalt-a-negyedik-tuzolto-is-az-ausztraliai-tuzveszben/\">Meghalt a negyedik tűzoltó is az ausztráliai tűzvészben</a></h2>,\n",
       " <h2 class=\"m-entryWidget__title\"><a class=\"m-entryWidget__link\" href=\"https://24.hu/kulfold/2020/01/11/franciaorszag-nyugdijreform/\">Kész visszavonni a nyugdíjreform legvitatottabb pontját a francia kormány</a></h2>,\n",
       " <h2 class=\"m-entryWidget__title\"><a class=\"m-entryWidget__link\" href=\"https://24.hu/kulfold/2020/01/11/john-lewis-polgarjogi-mozgalom-martin-luther-king-donald-trump-szegregacio-rak/\">Élete legnagyobb harcát vívja a polgárjogi mozgalom ikonja</a></h2>,\n",
       " <h2 class=\"m-entryWidget__title\"><a class=\"m-entryWidget__link\" href=\"https://24.hu/tech/2020/01/12/cat-s52-mobilteszt-strapatelefon/\">Karcsú és mutatós az új Cat strapatelefon, de ennyit nem adnánk érte</a></h2>,\n",
       " <h2 class=\"m-entryWidget__title -coloredLineTitle\"><a class=\"m-entryWidget__link\" href=\"https://24.hu/tech/2020/01/12/ces-2020-huami-amazfit-powerbuds-vezetek-nelkuli-fulhallgato-megjelenes-ar-pulzusmeres/\">Itt a PowerBuds, az Amazfit megfizethető vezeték nélküli fülese</a></h2>,\n",
       " <h2 class=\"m-entryWidget__title -coloredLineTitle\"><a class=\"m-entryWidget__link\" href=\"https://24.hu/tech/2020/01/12/ces-2020-ivanpah-naperomu-kalifornia-foto-legi-felvetel/\">Látott már falu méretű naperőművet?</a></h2>,\n",
       " <h2 class=\"m-entryWidget__title -coloredLineTitle\"><a class=\"m-entryWidget__link\" href=\"https://24.hu/tech/2020/01/11/ces-2020-microled-okosteve-samsung-the-wall-modularis/\">Kaptunk egy kis ízelítőt a tévézés jövőjéből</a></h2>,\n",
       " <h2 class=\"m-entryWidget__title\"><a class=\"m-entryWidget__link\" href=\"https://24.hu/tech/2020/01/10/ausztraliai-bozottuz-streamer-twitch-gyujtes-adomany-65-millio-forintnyi/\">Elképesztő összeget gyűjtöttek a bozóttüzek elleni harchoz</a></h2>,\n",
       " <h2 class=\"m-entryWidget__title\"><a class=\"m-entryWidget__link\" href=\"https://24.hu/fn/gazdasag/2020/01/12/nhkv-kukaholding-gyomro-szemet-hulladekszallitas-dtkh-tartozas/\">9 hónapja viszik el a szemetet, de nem fizetik ki őket</a></h2>,\n",
       " <h2 class=\"m-entryWidget__title\"><a class=\"m-entryWidget__link\" href=\"https://24.hu/fn/gazdasag/2020/01/11/csodkozeli-helyzet-miskolc-onkormanyzati-cegcsoport-polgarmester/\">Csődközelben Miskolc önkormányzati holdingja</a></h2>,\n",
       " <h2 class=\"m-entryWidget__title\"><a class=\"m-entryWidget__link\" href=\"https://24.hu/fn/uzleti-tippek/2020/01/10/kaosz-helyett-valos-ideju-csapatmunka-a-felhoben/\">Káosz helyett: valós idejű csapatmunka a felhőben</a></h2>,\n",
       " <h2 class=\"m-entryWidget__title\"><a class=\"m-entryWidget__link\" href=\"https://24.hu/elet-stilus/2020/01/12/gumi-gumiabroncs-bolt-uzlet-egyesult-allamok-betoro-rendorseg-segelyhivas/\">Magára hívta a rendőröket a betörő, mert egymaga nem tudott volna kitörni a boltból</a></h2>,\n",
       " <h2 class=\"m-entryWidget__title\"><a class=\"m-entryWidget__link\" href=\"https://24.hu/szorakozas/2020/01/12/margot-robbie-szexualis-zaklatas-bombshell/\">Margot Robbie: Azt se tudtam, mi a szexuális zaklatás</a></h2>,\n",
       " <h2 class=\"m-entryWidget__title\"><a class=\"m-entryWidget__link\" href=\"https://24.hu/elet-stilus/2020/01/12/menstruacios-csesze-ver-kepviselo-szenator-kalifornia-oltasellenes-rebecca-dalelio/\">Vérrel teli menstruációs csészét dobott a szenátorokra</a></h2>,\n",
       " <h2 class=\"m-entryWidget__title\"><a class=\"m-entryWidget__link\" href=\"https://24.hu/szorakozas/2020/01/12/tom-hanks-fia-chet-hanks-chet-haze-golden-globe/\">Rettentő kínosan viselkedett a Golden Globe-on, így itt az idő megismerni Tom Hanks fiát, Chet Hanxet</a></h2>,\n",
       " <h2 class=\"m-entryWidget__title\"><a class=\"m-entryWidget__link\" href=\"https://24.hu/szorakozas/2020/01/12/meghan-hercegne-markle-disney/\">Meghan hercegné a hangját adja a Disney-nek jótékonyságból</a></h2>,\n",
       " <h2 class=\"m-entryWidget__title\"><a class=\"m-entryWidget__link\" href=\"https://sokszinuvidek.24.hu/mozaik/2020/01/12/klimavaltozas-tibet-kasmir-gyapju-pasmina-kecske/\">Eltűnhet a klímaváltozással a legértékesebb gyapjú</a></h2>,\n",
       " <h2 class=\"m-entryWidget__title\"><a class=\"m-entryWidget__link\" href=\"https://sokszinuvidek.24.hu/viragzo-videkunk/2020/01/12/tisza-tavi-okocentrum-csucsdontes-okocentrum/\">Csúcsot döntött a Tisza-tavi Ökocentrum</a></h2>,\n",
       " <h2 class=\"m-entryWidget__title\"><a class=\"m-entryWidget__link\" href=\"https://sokszinuvidek.24.hu/viragzo-videkunk/2020/01/12/kankalin-szartalan-kankalin-drava/\">Szirmot bontott a télben a tavasz gyönyörű virága</a></h2>,\n",
       " <h2 class=\"m-entryWidget__title\"><a class=\"m-entryWidget__link\" href=\"https://sokszinuvidek.24.hu/viragzo-videkunk/2020/01/12/nyiregyhaza-allatpark/\">Ilyen cukik a Nyíregyházi Állatpark legfiatalabb kedvencei</a></h2>,\n",
       " <h2 class=\"m-entryWidget__title\"><a class=\"m-entryWidget__link\" href=\"https://sokszinuvidek.24.hu/mozaik/2020/01/12/fotosorozat-tobbszoros-expozicio-lang-nandor/\">Festményszerű fotókon elevenedik meg a környező világ</a></h2>,\n",
       " <h2 class=\"m-entryWidget__title\"><a class=\"m-entryWidget__link\" href=\"https://g7.hu/elet/20200112/a-vallas-is-segitheti-a-klimavaltozas-elleni-harcot/\" target=\"_blank\">A vallás is segítheti a klímaváltozás elleni harcot</a></h2>,\n",
       " <h2 class=\"m-entryWidget__title\"><a class=\"m-entryWidget__link\" href=\"https://g7.hu/tech/20200112/merre-megy-tovabb-a-mesterseges-intelligencia-2020-ban/\" target=\"_blank\">Merre megy tovább a mesterséges intelligencia 2020-ban?</a></h2>,\n",
       " <h2 class=\"m-entryWidget__title\"><a class=\"m-entryWidget__link\" href=\"https://g7.hu/vallalat/20200112/kotelezo-lesz-nemzeti-szinu-zaszlot-tuzni-a-serteshusba-a-boltok-huspultjain/\" target=\"_blank\">Kötelező lesz nemzeti színű zászlót tűzni a sertéshúsba a boltok húspultjain</a></h2>,\n",
       " <h2 class=\"m-entryWidget__title\"><a class=\"m-entryWidget__link\" href=\"https://g7.hu/elet/20200111/habozol-a-fontos-dontesek-elott-kiserlet-bizonyitja-hogy-megeri-az-osztoneidre-hallgatni/\" target=\"_blank\">Habozol a fontos döntések előtt? Kísérlet bizonyítja, hogy megéri az ösztöneidre hallgatni</a></h2>]"
      ]
     },
     "execution_count": 73,
     "metadata": {},
     "output_type": "execute_result"
    }
   ],
   "source": [
    "cimek"
   ]
  },
  {
   "cell_type": "code",
   "execution_count": 74,
   "metadata": {},
   "outputs": [],
   "source": [
    "linkek = []\n",
    "\n",
    "for num in cimek:\n",
    "    linkek.append({\n",
    "        'link':num.find('a')[\"href\"]\n",
    "    })"
   ]
  },
  {
   "cell_type": "code",
   "execution_count": 75,
   "metadata": {},
   "outputs": [
    {
     "data": {
      "text/plain": [
       "{'link': 'https://24.hu/kultura/2020/01/12/krisztus-elso-megkisertese-netflix-brazil-film-keresztenyseg-bolsonaro/'}"
      ]
     },
     "execution_count": 75,
     "metadata": {},
     "output_type": "execute_result"
    }
   ],
   "source": [
    "linkek[0]"
   ]
  },
  {
   "cell_type": "code",
   "execution_count": 63,
   "metadata": {},
   "outputs": [],
   "source": [
    "cimek = soup.find(\"h2\", attrs={\"class\": \"cimek\"})"
   ]
  },
  {
   "cell_type": "code",
   "execution_count": null,
   "metadata": {},
   "outputs": [],
   "source": []
  }
 ],
 "metadata": {
  "kernelspec": {
   "display_name": "Python 3",
   "language": "python",
   "name": "python3"
  },
  "language_info": {
   "codemirror_mode": {
    "name": "ipython",
    "version": 3
   },
   "file_extension": ".py",
   "mimetype": "text/x-python",
   "name": "python",
   "nbconvert_exporter": "python",
   "pygments_lexer": "ipython3",
   "version": "3.7.4"
  }
 },
 "nbformat": 4,
 "nbformat_minor": 2
}
