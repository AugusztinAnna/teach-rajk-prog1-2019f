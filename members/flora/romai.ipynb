{
 "cells": [
  {
   "cell_type": "markdown",
   "metadata": {},
   "source": [
    "## elso resz"
   ]
  },
  {
   "cell_type": "code",
   "execution_count": 1,
   "metadata": {},
   "outputs": [],
   "source": [
    "import requests\n",
    "from bs4 import BeautifulSoup\n",
    "import pandas as pd"
   ]
  },
  {
   "cell_type": "code",
   "execution_count": 2,
   "metadata": {},
   "outputs": [],
   "source": [
    "roms = pd.concat([pd.DataFrame(\n",
    "    [{'arab':a.text.split()[0],'roman':a.text.split()[1]} for a in \\\n",
    " BeautifulSoup(requests.get('https://smorgasborg.artlung.com/roman-numerals/page/%d' % p) \\\n",
    "              .content,'html5lib').find('pre').find_all('a')]) for p in range(1,11)])\\\n",
    "    .loc[lambda df: df['arab'] != '0',:]"
   ]
  },
  {
   "cell_type": "code",
   "execution_count": 3,
   "metadata": {},
   "outputs": [],
   "source": [
    "def rom2ar_test(fun): # ez azokat az eseteket adja vissza, ahol az átváltás helytelen\n",
    "    calc = roms['roman'].apply(fun)\n",
    "    tru = roms['arab'].apply(int)\n",
    "    return roms[calc != tru]"
   ]
  },
  {
   "cell_type": "code",
   "execution_count": 4,
   "metadata": {},
   "outputs": [],
   "source": [
    "def rom2ar(rom_string):\n",
    "    dic_pic = {\"I\":1, \"V\":5, \"X\": 10, \"L\":50, \"C\":100, \"D\":500, \"M\":1000}\n",
    "    arab_num = 0\n",
    "    \n",
    "    for i in range(len(rom_string) - 1):\n",
    "        if dic_pic[rom_string[i]] < dic_pic[rom_string[i + 1]]:\n",
    "            arab_num = arab_num - dic_pic[rom_string[i]]\n",
    "        else:\n",
    "            arab_num = arab_num + dic_pic[rom_string[i]]\n",
    "            \n",
    "    arab_num = arab_num + dic_pic[rom_string[-1]]\n",
    "    \n",
    "    return arab_num"
   ]
  },
  {
   "cell_type": "code",
   "execution_count": 5,
   "metadata": {},
   "outputs": [
    {
     "data": {
      "text/html": [
       "<div>\n",
       "<style scoped>\n",
       "    .dataframe tbody tr th:only-of-type {\n",
       "        vertical-align: middle;\n",
       "    }\n",
       "\n",
       "    .dataframe tbody tr th {\n",
       "        vertical-align: top;\n",
       "    }\n",
       "\n",
       "    .dataframe thead th {\n",
       "        text-align: right;\n",
       "    }\n",
       "</style>\n",
       "<table border=\"1\" class=\"dataframe\">\n",
       "  <thead>\n",
       "    <tr style=\"text-align: right;\">\n",
       "      <th></th>\n",
       "      <th>arab</th>\n",
       "      <th>roman</th>\n",
       "    </tr>\n",
       "  </thead>\n",
       "  <tbody>\n",
       "  </tbody>\n",
       "</table>\n",
       "</div>"
      ],
      "text/plain": [
       "Empty DataFrame\n",
       "Columns: [arab, roman]\n",
       "Index: []"
      ]
     },
     "execution_count": 5,
     "metadata": {},
     "output_type": "execute_result"
    }
   ],
   "source": [
    "rom2ar_test(rom2ar)"
   ]
  },
  {
   "cell_type": "markdown",
   "metadata": {},
   "source": [
    "## masodik resz"
   ]
  },
  {
   "cell_type": "code",
   "execution_count": 7,
   "metadata": {},
   "outputs": [],
   "source": [
    "class Roman:\n",
    "    \n",
    "    def __init__(self, num):\n",
    "        \n",
    "        if isinstance(num, str):\n",
    "            self.roman = num\n",
    "            self.arab = self.rom2ar()\n",
    "        \n",
    "        if isinstance(num, int):\n",
    "            self.arab = num\n",
    "            self.roman = 'I'\n",
    "        \n",
    "    def rom2ar(self):\n",
    "        dic_pic = {\"I\":1, \"V\":5, \"X\": 10, \"L\":50, \"C\":100, \"D\":500, \"M\":1000}\n",
    "        arab_num = 0\n",
    "    \n",
    "        for i in range(len(self.roman) - 1):\n",
    "            if dic_pic[self.roman[i]] < dic_pic[self.roman[i + 1]]:\n",
    "                arab_num = arab_num - dic_pic[self.roman[i]]\n",
    "            else:\n",
    "                arab_num = arab_num + dic_pic[self.roman[i]]\n",
    "\n",
    "        arab_num = arab_num + dic_pic[self.roman[-1]]\n",
    "        \n",
    "        return arab_num\n",
    "    \n",
    "    def __add__(self, other):\n",
    "        \n",
    "        summa = self.arab + other.arab\n",
    "        \n",
    "        return Roman(summa)\n",
    "    \n",
    "    def __lt__(self, other):\n",
    "        \n",
    "        return self.arab < other.arab"
   ]
  },
  {
   "cell_type": "code",
   "execution_count": 8,
   "metadata": {},
   "outputs": [],
   "source": [
    "r = Roman('VI')"
   ]
  },
  {
   "cell_type": "code",
   "execution_count": 10,
   "metadata": {},
   "outputs": [
    {
     "data": {
      "text/plain": [
       "6"
      ]
     },
     "execution_count": 10,
     "metadata": {},
     "output_type": "execute_result"
    }
   ],
   "source": [
    "r.arab"
   ]
  },
  {
   "cell_type": "markdown",
   "metadata": {},
   "source": [
    "#TDD"
   ]
  },
  {
   "cell_type": "code",
   "execution_count": null,
   "metadata": {},
   "outputs": [],
   "source": [
    "r1 = Roman(5)\n",
    "r1.roman == 'V'"
   ]
  },
  {
   "cell_type": "code",
   "execution_count": null,
   "metadata": {},
   "outputs": [],
   "source": [
    "r2 = Roman('XV')\n",
    "r2.arab == 15"
   ]
  },
  {
   "cell_type": "code",
   "execution_count": null,
   "metadata": {},
   "outputs": [],
   "source": [
    "r3 = r1 + r2\n",
    "r3.arab == 20"
   ]
  },
  {
   "cell_type": "code",
   "execution_count": null,
   "metadata": {},
   "outputs": [],
   "source": [
    "r3.roman == \"XX\""
   ]
  },
  {
   "cell_type": "code",
   "execution_count": null,
   "metadata": {},
   "outputs": [],
   "source": [
    "r1 < r2"
   ]
  },
  {
   "cell_type": "code",
   "execution_count": null,
   "metadata": {},
   "outputs": [],
   "source": [
    "r4 = r3 * r2\n",
    "r4.arab == 300"
   ]
  },
  {
   "cell_type": "code",
   "execution_count": null,
   "metadata": {},
   "outputs": [],
   "source": [
    "for a in range(2000, 30000):\n",
    "    rt1 = Roman(a)\n",
    "    rt2 = Roman(rt1.roman)\n",
    "    if rt1.arab != rt2.arab:\n",
    "        print('JAJJJ')\n",
    "        break"
   ]
  },
  {
   "cell_type": "code",
   "execution_count": null,
   "metadata": {},
   "outputs": [],
   "source": [
    "rt1.arab"
   ]
  },
  {
   "cell_type": "code",
   "execution_count": null,
   "metadata": {},
   "outputs": [],
   "source": [
    "rt2.arab"
   ]
  },
  {
   "cell_type": "code",
   "execution_count": null,
   "metadata": {},
   "outputs": [],
   "source": [
    "rt1.roman"
   ]
  }
 ],
 "metadata": {
  "kernelspec": {
   "display_name": "Python 3",
   "language": "python",
   "name": "python3"
  },
  "language_info": {
   "codemirror_mode": {
    "name": "ipython",
    "version": 3
   },
   "file_extension": ".py",
   "mimetype": "text/x-python",
   "name": "python",
   "nbconvert_exporter": "python",
   "pygments_lexer": "ipython3",
   "version": "3.6.9"
  }
 },
 "nbformat": 4,
 "nbformat_minor": 2
}
