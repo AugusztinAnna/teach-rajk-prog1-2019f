{
 "cells": [
  {
   "cell_type": "code",
   "execution_count": 15,
   "metadata": {},
   "outputs": [
    {
     "name": "stdout",
     "output_type": "stream",
     "text": [
      "Collecting jkg_evaluators\n",
      "Installing collected packages: jkg-evaluators\n",
      "Successfully installed jkg-evaluators-0.0.2\n",
      "Note: you may need to restart the kernel to use updated packages.\n"
     ]
    }
   ],
   "source": [
    "pip install jkg_evaluators"
   ]
  },
  {
   "cell_type": "code",
   "execution_count": 16,
   "metadata": {},
   "outputs": [],
   "source": [
    "from jkg_evaluators import dragonfind_10_to_500"
   ]
  },
  {
   "cell_type": "code",
   "execution_count": 83,
   "metadata": {},
   "outputs": [],
   "source": [
    "def my_solution1(is_dead, number_of_cows):\n",
    "    fat_cow = 0\n",
    "    thin_cow = number_of_cows\n",
    "    \n",
    "    while (fat_cow + 1) < thin_cow:\n",
    "        middle_cow = int((fat_cow + thin_cow) / 2)\n",
    "        \n",
    "        if not is_dead(middle_cow):\n",
    "            thin_cow = middle_cow\n",
    "        else:\n",
    "            fat_cow = middle_cow \n",
    "            \n",
    "    return thin_cow"
   ]
  },
  {
   "cell_type": "code",
   "execution_count": 84,
   "metadata": {},
   "outputs": [
    {
     "name": "stdout",
     "output_type": "stream",
     "text": [
      "- success rate: 124714/124714 (100.0%)\n",
      "- error count: 0\n",
      "- best performance: 3\n",
      "- worst performance: 9\n",
      "- mean performance: 8.30581169716311\n"
     ]
    }
   ],
   "source": [
    "dragonfind_10_to_500.evaluate(my_solution1)"
   ]
  }
 ],
 "metadata": {
  "kernelspec": {
   "display_name": "Python 3",
   "language": "python",
   "name": "python3"
  },
  "language_info": {
   "codemirror_mode": {
    "name": "ipython",
    "version": 3
   },
   "file_extension": ".py",
   "mimetype": "text/x-python",
   "name": "python",
   "nbconvert_exporter": "python",
   "pygments_lexer": "ipython3",
   "version": "3.6.9"
  }
 },
 "nbformat": 4,
 "nbformat_minor": 2
}
