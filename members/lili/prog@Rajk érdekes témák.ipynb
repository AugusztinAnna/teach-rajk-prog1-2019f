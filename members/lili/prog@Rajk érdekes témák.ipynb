{
 "cells": [
  {
   "cell_type": "markdown",
   "metadata": {},
   "source": [
    "Prog@Rajk \n",
    "\n",
    "Engem elsősorban a mesterséges intelligencia érdekel. Érdekel a klaszterezés elsajátítása, a text mining alapjai és az AI erkölcsi vonatkozásai, illetve, hogy milyen megoldások létezhetnek a rendszerben jelenlévő, múltbeli adatok miatt „bias” kezelésére. \n",
    "\n",
    "Emellett szeretnék többet tanulni a hálózatokról, szerverekről és ezeknek a pontos működéséről, például, hogy a koliban milyen programozáshoz köthető feladatok és folyamatok vannak, mint például a kurzusfelvétel (Riki), vagy hogy hogyan működik pontosan elméletben a kártyás beléptetőrendszer ill. a készülékek regisztrációja az internetre. \n"
   ]
  }
 ],
 "metadata": {
  "kernelspec": {
   "display_name": "Python 3",
   "language": "python",
   "name": "python3"
  },
  "language_info": {
   "codemirror_mode": {
    "name": "ipython",
    "version": 3
   },
   "file_extension": ".py",
   "mimetype": "text/x-python",
   "name": "python",
   "nbconvert_exporter": "python",
   "pygments_lexer": "ipython3",
   "version": "3.6.8"
  }
 },
 "nbformat": 4,
 "nbformat_minor": 2
}
