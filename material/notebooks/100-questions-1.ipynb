{
 "cells": [
  {
   "cell_type": "markdown",
   "metadata": {},
   "source": [
    "### egy új változónak kifejezésként adunk meg értéket milyen sorrendben történnek?\n",
    "- értékadás\n",
    "- deklarálás\n",
    "- értéknek megadott kifejezés kiértékelése"
   ]
  },
  {
   "cell_type": "markdown",
   "metadata": {},
   "source": [
    "### melyik programozási paradigma legfontosabb elemei?\n",
    "- elágazás\n",
    "- iteráció\n",
    "- blokk"
   ]
  },
  {
   "cell_type": "markdown",
   "metadata": {},
   "source": [
    "### hogy hívjuk azt az utasítássorozatot, ami egy iterációban minden iteráció alkalmával végrehajtásra van szánva?"
   ]
  },
  {
   "cell_type": "markdown",
   "metadata": {},
   "source": [
    "### mondj egy különbséget a python és a C++ között"
   ]
  },
  {
   "cell_type": "markdown",
   "metadata": {},
   "source": [
    "### minek a definícióját adtam meg?\n",
    "> kifejezés, amit kiértékelve logikai értéket kapunk. ennek az értéknek a problémát megoldó algoritmus utolsó - halting állapotára vonatkozóan igaznak kell lennie"
   ]
  },
  {
   "cell_type": "markdown",
   "metadata": {},
   "source": [
    "### mit jelent hogy Turing teljes egy programnyelv?"
   ]
  },
  {
   "cell_type": "markdown",
   "metadata": {},
   "source": [
    "### mi a halting problem?"
   ]
  },
  {
   "cell_type": "markdown",
   "metadata": {},
   "source": [
    "### mondj egy kurzuson tanult / alkalmazott fogalmat, ami egy deklaratív tudás-reprezentáció."
   ]
  },
  {
   "cell_type": "markdown",
   "metadata": {},
   "source": [
    "### kategorizáld be deklaratív és imperatív tudás reprezentációvá.\n",
    "- térkép\n",
    "- matematikai tétel\n",
    "- 10 parancsolat"
   ]
  },
  {
   "cell_type": "markdown",
   "metadata": {},
   "source": [
    "### mondj imperatív és deklaratív kresz táblára egy-egy példát."
   ]
  },
  {
   "cell_type": "markdown",
   "metadata": {},
   "source": [
    "### hogyan kapcsolódik egymáshoz a CPU és a RAM?"
   ]
  },
  {
   "cell_type": "markdown",
   "metadata": {},
   "source": [
    "### mit jelent hogy 3 GHz-s egy processzor?"
   ]
  },
  {
   "cell_type": "markdown",
   "metadata": {},
   "source": [
    "### hogy írod le kettes számrendszerben hogy 7?"
   ]
  },
  {
   "cell_type": "markdown",
   "metadata": {},
   "source": [
    "### mondj egy okot arra hogy a számítógépek kettes számrendszert használnak."
   ]
  },
  {
   "cell_type": "markdown",
   "metadata": {},
   "source": [
    "### mit készítek el, ha megválaszolom ezeket a kérdéseket?\n",
    "\n",
    "- Mi oldja meg a problémát (Specifikáció)\n",
    "- Mire van ehhez szükség (Adat)\n",
    "- Hogyan használjuk ezeket a szükséges dolgokat (Algoritmus)"
   ]
  },
  {
   "cell_type": "markdown",
   "metadata": {},
   "source": [
    "### hogyan neveztünk adatot algoritmusban betöltött szerepe alapján?"
   ]
  },
  {
   "cell_type": "markdown",
   "metadata": {},
   "source": [
    "### mondj egy okot arra amiért érdemes megkülönböztetni float és int adattípusokat számokon belül"
   ]
  },
  {
   "cell_type": "markdown",
   "metadata": {},
   "source": [
    "### miért van szükség külön ```=``` és ```==``` jelekre programozásban?"
   ]
  },
  {
   "cell_type": "markdown",
   "metadata": {},
   "source": [
    "### mondj példát olyan kifejezésre amihez van olyan programnyelv amiben kiértékelhető és van olyan amiben hibát ad."
   ]
  },
  {
   "cell_type": "markdown",
   "metadata": {},
   "source": [
    "### hogyan hozunk létre névvel, típussal és értékkel rendelkező adatot?"
   ]
  },
  {
   "cell_type": "markdown",
   "metadata": {},
   "source": [
    "### minek a definíciója a következő?\n",
    "> minden a program által adott pontban elérhető és általa tárolt információ"
   ]
  },
  {
   "cell_type": "markdown",
   "metadata": {},
   "source": [
    "### minek a definíciója a következő?\n",
    "> az imperatív programozás legkisebb eleme, lépésekben változtathat a program állapotán"
   ]
  },
  {
   "cell_type": "markdown",
   "metadata": {},
   "source": [
    "### mit tudok csinálni egy kifejezéssel?"
   ]
  },
  {
   "cell_type": "markdown",
   "metadata": {},
   "source": [
    "### a mi paradigmánkban hogyan hívjuk azokat a dolgokat amik az állapot keretébe kerülhetnek?"
   ]
  },
  {
   "cell_type": "markdown",
   "metadata": {},
   "source": [
    "### ```név, típus, érték``` helyett miért jelöltük ```név, micsoda, érték/tartalom```-al az állapot keretet leíró táblázat 3 oszlopát?"
   ]
  },
  {
   "cell_type": "markdown",
   "metadata": {},
   "source": [
    "### mondj egy példát arra ami a python elindítása után a globális állapot keretben szerepel mielőtt bármi saját utasítást végrehajtottunk volna"
   ]
  },
  {
   "cell_type": "markdown",
   "metadata": {},
   "source": [
    "### milyen közös kategóriába soroltuk az alábbi három fogalmat:\n",
    "- adat\n",
    "- függvény\n",
    "- osztály"
   ]
  },
  {
   "cell_type": "markdown",
   "metadata": {},
   "source": [
    "### mit adunk meg egy függvény definiálásakor?"
   ]
  },
  {
   "cell_type": "markdown",
   "metadata": {},
   "source": [
    "### mondj egy összetett - nem elemi - adattípust."
   ]
  },
  {
   "cell_type": "markdown",
   "metadata": {},
   "source": [
    "### mi kerül először a függvény meghívásakor a függvény lokális keretébe?"
   ]
  },
  {
   "cell_type": "markdown",
   "metadata": {},
   "source": [
    "### mi történik pythonban ha egy függvény lokális keretéből egy a globális keretben lévő változót szeretnénk elérni."
   ]
  },
  {
   "cell_type": "markdown",
   "metadata": {},
   "source": [
    "### mi a pythonban egy olyan kifejezés értéke, amiben egyetlen függvényt hívok meg, aminek nincs főhatása?"
   ]
  },
  {
   "cell_type": "markdown",
   "metadata": {},
   "source": [
    "### mondj egy okot amiért sokkal gyorsabb ugyanaz az algoritmus C++-ban, mint pythonban"
   ]
  },
  {
   "cell_type": "markdown",
   "metadata": {},
   "source": [
    "### mi a javascript nyelv legjellemzőbb használati formája?"
   ]
  },
  {
   "cell_type": "markdown",
   "metadata": {},
   "source": [
    "### formálisan meg tudok adni egy Turing-gépet a következő képpen:\n",
    "\n",
    "$ M = \\langle Q, \\Gamma, \\delta, q_0, q_f \\rangle $\n",
    "\n",
    "- $Q$ - állások listája\n",
    "  - ezen belül $q_0$ a kezdőállás, $q_f$ pedig a lehetséges végső \"halting\" állások\n",
    "- $\\Gamma$ - szalagon szerepelhető jelek ábécéje\n",
    "- $\\delta$ az utasításkészlet egy függvényben.\n",
    "\n",
    "Mihez rendel mit a $\\delta$ függvény?"
   ]
  },
  {
   "cell_type": "markdown",
   "metadata": {},
   "source": [
    "### milyen állása van minden Turing-gépnek?"
   ]
  },
  {
   "cell_type": "markdown",
   "metadata": {},
   "source": [
    "### tetszőleges eszközzel, adj meg egy olyan Turing-gépet, ami soha nem éri el a HALT állást"
   ]
  },
  {
   "cell_type": "markdown",
   "metadata": {},
   "source": [
    "### mondj egy indokot / célt amiért Alan Turing megalkotta a Turing-gépet"
   ]
  },
  {
   "cell_type": "markdown",
   "metadata": {},
   "source": [
    "### mondj két dolgot ami Turing teljes."
   ]
  },
  {
   "cell_type": "markdown",
   "metadata": {},
   "source": [
    "### milyen iteráció / elágazás fajtával helyettesíthető az összes többi fajta iteráció vagy elágazás"
   ]
  },
  {
   "cell_type": "markdown",
   "metadata": {},
   "source": [
    "### mondj két programozási paradigmát, és add meg egy tulajdonságát mindkettőnek"
   ]
  },
  {
   "cell_type": "markdown",
   "metadata": {},
   "source": [
    "### hogy hívjuk azt a felületet ahol közvetlenül az operációs rendszernek adunk utasításokat?"
   ]
  },
  {
   "cell_type": "markdown",
   "metadata": {},
   "source": [
    "### miért hasonló fogalmak az input és a paraméter?"
   ]
  },
  {
   "cell_type": "markdown",
   "metadata": {},
   "source": [
    "### miért hasonló fogalmak az output és a visszatérési érték?"
   ]
  },
  {
   "cell_type": "markdown",
   "metadata": {},
   "source": [
    "### mondj egy példát valamire ami output, de nem egy függvény visszatérési értéke"
   ]
  },
  {
   "cell_type": "markdown",
   "metadata": {},
   "source": [
    "### mondj két forrást, ahonnan egy programnak lehet inputja"
   ]
  },
  {
   "cell_type": "markdown",
   "metadata": {},
   "source": [
    "### melyik nem illik a sorba?\n",
    "- függvénydefiníció\n",
    "- kiértékelés\n",
    "- osztálydefiníció\n",
    "- értékadás"
   ]
  },
  {
   "cell_type": "markdown",
   "metadata": {},
   "source": [
    "### mondj egy példát egy kifejezésre aminek a kiértékelése során hiba történik"
   ]
  },
  {
   "cell_type": "markdown",
   "metadata": {},
   "source": [
    "### mondj két példát operátorra."
   ]
  },
  {
   "cell_type": "markdown",
   "metadata": {},
   "source": [
    "### mondj egy példát kifejezésre amiben szerepel a kiértékelt kifejezés típusától eltérő típusú adat."
   ]
  },
  {
   "cell_type": "markdown",
   "metadata": {},
   "source": [
    "### mondj egy példát pythonban értelmes kifejezésre amiben szám és string is szerepel"
   ]
  },
  {
   "cell_type": "code",
   "execution_count": null,
   "metadata": {},
   "outputs": [],
   "source": [
    "c = 10\n",
    "while c > 3:\n",
    "    c = c / 2\n",
    "c"
   ]
  },
  {
   "cell_type": "code",
   "execution_count": null,
   "metadata": {},
   "outputs": [],
   "source": [
    "g = 10.5\n",
    "c = g - 0.5\n",
    "type(c)"
   ]
  },
  {
   "cell_type": "code",
   "execution_count": null,
   "metadata": {},
   "outputs": [],
   "source": [
    "def f1(a, b=3):\n",
    "    c = a / b + 2\n",
    "    return c - 1\n",
    "\n",
    "c = 9\n",
    "f1(c)"
   ]
  },
  {
   "cell_type": "code",
   "execution_count": null,
   "metadata": {},
   "outputs": [],
   "source": [
    "x = 10\n",
    "if (x / 2) > 6:\n",
    "    x15 = 15\n",
    "\n",
    "if (x15 / 2) > 6:\n",
    "    x = 5\n",
    "x"
   ]
  },
  {
   "cell_type": "code",
   "execution_count": null,
   "metadata": {},
   "outputs": [],
   "source": [
    "l = [3, 9, 6]\n",
    "l[4] = 7\n",
    "l"
   ]
  },
  {
   "cell_type": "code",
   "execution_count": null,
   "metadata": {},
   "outputs": [],
   "source": [
    "l = [\"A\", 10, [1, 2, 1]]\n",
    "l[2].append(0)\n",
    "l[2][1] = l[1]\n",
    "l"
   ]
  },
  {
   "cell_type": "code",
   "execution_count": null,
   "metadata": {},
   "outputs": [],
   "source": [
    "d = {\"A\": [5,3,1], \"B\": {\"A\": 100}}\n",
    "d[\"A\"].append(0)\n",
    "d[\"B\"][\"A\"]"
   ]
  },
  {
   "cell_type": "code",
   "execution_count": null,
   "metadata": {},
   "outputs": [],
   "source": [
    "l = [{\"k1\": \"v1\", \"k2\": \"v2\"},\n",
    "     {\"k1\": \"v0\", \"k2\": \"v0\"}]\n",
    "for d in l:\n",
    "    c = d[\"k2\"]\n",
    "c"
   ]
  },
  {
   "cell_type": "code",
   "execution_count": null,
   "metadata": {},
   "outputs": [],
   "source": [
    "a = 5\n",
    "b = 2\n",
    "c = (a * b) < (b * a)\n",
    "d = c and (a > b)\n",
    "d"
   ]
  },
  {
   "cell_type": "code",
   "execution_count": null,
   "metadata": {},
   "outputs": [],
   "source": [
    "d = {\"k1\": \"A\", \"k2\": \"B\"}\n",
    "k = \"k2\"\n",
    "if d[k] == \"A\":\n",
    "    k = \"A\"\n",
    "d[k]"
   ]
  },
  {
   "cell_type": "code",
   "execution_count": null,
   "metadata": {},
   "outputs": [],
   "source": [
    "l = [1]\n",
    "for i in range(3):\n",
    "    l.append(len(l))\n",
    "l"
   ]
  },
  {
   "cell_type": "code",
   "execution_count": null,
   "metadata": {},
   "outputs": [],
   "source": [
    "l = 7 + 5\n",
    "c = len(l)\n",
    "a = c + 2\n",
    "a"
   ]
  },
  {
   "cell_type": "code",
   "execution_count": null,
   "metadata": {},
   "outputs": [],
   "source": [
    "a = 10\n",
    "b = 11\n",
    "if (a - b) > 3:\n",
    "    l = [1, 2]\n",
    "else:\n",
    "    a = 2\n",
    "    l = a + b\n",
    "type(l)"
   ]
  },
  {
   "cell_type": "code",
   "execution_count": null,
   "metadata": {},
   "outputs": [],
   "source": [
    "def f1(a):\n",
    "    return str(a)\n",
    "\n",
    "c = f1(3) + f1(1)\n",
    "c"
   ]
  },
  {
   "cell_type": "code",
   "execution_count": null,
   "metadata": {},
   "outputs": [],
   "source": [
    "def f1(a, b):\n",
    "    return a + b + 1\n",
    "\n",
    "a = f1(1, f1(2, 3))\n",
    "a"
   ]
  },
  {
   "cell_type": "code",
   "execution_count": null,
   "metadata": {},
   "outputs": [],
   "source": [
    "def f1(a, b, c):\n",
    "    return [a, c, b]\n",
    "\n",
    "h = 3\n",
    "x = len(f1(h, 110, \"A\"))\n",
    "type(x)"
   ]
  },
  {
   "cell_type": "code",
   "execution_count": null,
   "metadata": {},
   "outputs": [],
   "source": [
    "def f1(a, b):\n",
    "    a2 = a - b\n",
    "    return a2 * 2\n",
    "\n",
    "l = [1, 1, 1]\n",
    "\n",
    "c = f1(len(l), 4 - 2)\n",
    "c"
   ]
  },
  {
   "cell_type": "code",
   "execution_count": null,
   "metadata": {},
   "outputs": [],
   "source": [
    "def f1(a):\n",
    "    b = a * 2\n",
    "    return b - 1\n",
    "\n",
    "b = 5\n",
    "c = f1(1)\n",
    "c"
   ]
  },
  {
   "cell_type": "code",
   "execution_count": null,
   "metadata": {},
   "outputs": [],
   "source": [
    "def f1(2, 3):\n",
    "    return 10\n",
    "\n",
    "a = 5\n",
    "b = f1(a, 4)\n",
    "type(b)"
   ]
  },
  {
   "cell_type": "code",
   "execution_count": null,
   "metadata": {},
   "outputs": [],
   "source": [
    "g = int\n",
    "h = g(10.5)\n",
    "type(h)"
   ]
  },
  {
   "cell_type": "code",
   "execution_count": null,
   "metadata": {},
   "outputs": [],
   "source": [
    "a = 10\n",
    "b = \"S\"\n",
    "c = a * b\n",
    "d = c - a\n",
    "type(d)"
   ]
  },
  {
   "cell_type": "code",
   "execution_count": null,
   "metadata": {},
   "outputs": [],
   "source": [
    "l = [2, 3, 4]\n",
    "l2 = [\"A\", 10.5, l]\n",
    "for e in l2:\n",
    "    t = type(e)\n",
    "t"
   ]
  },
  {
   "cell_type": "code",
   "execution_count": null,
   "metadata": {},
   "outputs": [],
   "source": [
    "a = 0\n",
    "\n",
    "if a > 0:\n",
    "    a = 3\n",
    "elif a < 0:\n",
    "    a = 2\n",
    "a"
   ]
  },
  {
   "cell_type": "code",
   "execution_count": null,
   "metadata": {},
   "outputs": [],
   "source": [
    "s1 = \"abcd\"\n",
    "s2 = \"gfh\"\n",
    "\n",
    "if s1 == s2:\n",
    "    s3 = s1 * s2\n",
    "else:\n",
    "    s3 = \"nnn\"\n",
    "s3"
   ]
  },
  {
   "cell_type": "code",
   "execution_count": null,
   "metadata": {},
   "outputs": [],
   "source": [
    "def f1(l, n):\n",
    "    l.append(n - 2)\n",
    "\n",
    "l = [4]\n",
    "for c in [3, 4]:\n",
    "    f1(l, c)\n",
    "l[2]"
   ]
  },
  {
   "cell_type": "code",
   "execution_count": null,
   "metadata": {},
   "outputs": [],
   "source": [
    "v = 10\n",
    "k = 3\n",
    "d = {k: v}\n",
    "d[3] - v"
   ]
  },
  {
   "cell_type": "code",
   "execution_count": null,
   "metadata": {},
   "outputs": [],
   "source": [
    "l = [3, 2, 1]\n",
    "l2 = sorted(l)\n",
    "l2[1]"
   ]
  },
  {
   "cell_type": "code",
   "execution_count": null,
   "metadata": {},
   "outputs": [],
   "source": [
    "s = \"AA\"\n",
    "a = s.append(\"a\")\n",
    "type(a)"
   ]
  },
  {
   "cell_type": "code",
   "execution_count": null,
   "metadata": {},
   "outputs": [],
   "source": [
    "l = 10\n",
    "a = 3\n",
    "if (a * 2) > 6:\n",
    "    l += 4\n",
    "else:\n",
    "    l.append(3)\n",
    "l"
   ]
  },
  {
   "cell_type": "code",
   "execution_count": null,
   "metadata": {},
   "outputs": [],
   "source": [
    "l = [2]\n",
    "for i in range(3):\n",
    "    l.append(i * 2)\n",
    "sum(l)"
   ]
  },
  {
   "cell_type": "code",
   "execution_count": null,
   "metadata": {},
   "outputs": [],
   "source": [
    "d = {\"k\": 3, \"l\": 4}\n",
    "a = d[3]\n",
    "type(a)"
   ]
  },
  {
   "cell_type": "code",
   "execution_count": null,
   "metadata": {},
   "outputs": [],
   "source": [
    "d = {\n",
    "    \"a\": 10,\n",
    "    \"b\": 20\n",
    "}\n",
    "13 < (d[\"b\"] - d[\"a\"])"
   ]
  },
  {
   "cell_type": "code",
   "execution_count": null,
   "metadata": {},
   "outputs": [],
   "source": [
    "a = 10\n",
    "b = 2\n",
    "c = 5\n",
    "def f1(a, b, c):\n",
    "    return a - b + c\n",
    "x = f1(a, c, 3)\n",
    "x"
   ]
  },
  {
   "cell_type": "code",
   "execution_count": null,
   "metadata": {},
   "outputs": [],
   "source": [
    "def f1(x):\n",
    "    while x < 3:\n",
    "        return x\n",
    "        x = x + 4\n",
    "    return 0\n",
    "\n",
    "a = f1(-5)\n",
    "a"
   ]
  },
  {
   "cell_type": "code",
   "execution_count": null,
   "metadata": {},
   "outputs": [],
   "source": [
    "def f1(x):\n",
    "    return x(5)\n",
    "\n",
    "def f2(a):\n",
    "    return a + 3\n",
    "\n",
    "c = f1(f2)\n",
    "c"
   ]
  },
  {
   "cell_type": "code",
   "execution_count": null,
   "metadata": {},
   "outputs": [],
   "source": [
    "def f1(a, b, c=3):\n",
    "    return a + b - c\n",
    "a = f1(5, 5)\n",
    "a"
   ]
  },
  {
   "cell_type": "code",
   "execution_count": null,
   "metadata": {},
   "outputs": [],
   "source": [
    "c = 0\n",
    "while (c < 6) and (c < 10):\n",
    "    c = c + 2\n",
    "c"
   ]
  },
  {
   "cell_type": "code",
   "execution_count": null,
   "metadata": {},
   "outputs": [],
   "source": [
    "def f1(n):\n",
    "    n + 1\n",
    "    return n - 1\n",
    "\n",
    "a = 10\n",
    "\n",
    "for i in range(2):\n",
    "    a = f1(a)\n",
    "a"
   ]
  },
  {
   "cell_type": "code",
   "execution_count": null,
   "metadata": {},
   "outputs": [],
   "source": [
    "h = \"O\"\n",
    "b = h + 4\n",
    "type(b)"
   ]
  },
  {
   "cell_type": "code",
   "execution_count": null,
   "metadata": {},
   "outputs": [],
   "source": [
    "if True and False:\n",
    "    a = \"jajj\"\n",
    "else:\n",
    "    a = \"nem\"\n",
    "a"
   ]
  },
  {
   "cell_type": "code",
   "execution_count": null,
   "metadata": {},
   "outputs": [],
   "source": [
    "def f1(n):\n",
    "    if n > 0:\n",
    "        return f1(n-1)\n",
    "    else:\n",
    "        return 100\n",
    "f1(3)"
   ]
  },
  {
   "cell_type": "code",
   "execution_count": null,
   "metadata": {},
   "outputs": [],
   "source": [
    "c = \"\"\n",
    "for e in [\"a\", \"aa\", \"a\"]:\n",
    "    c = c + \"b\"\n",
    "c"
   ]
  },
  {
   "cell_type": "code",
   "execution_count": null,
   "metadata": {},
   "outputs": [],
   "source": [
    "l = [4, 5, 6]\n",
    "for e in l:\n",
    "    c = e + 1\n",
    "c"
   ]
  },
  {
   "cell_type": "code",
   "execution_count": null,
   "metadata": {},
   "outputs": [],
   "source": [
    "l = [1, 2, 3]\n",
    "l + [4]\n",
    "l[3]"
   ]
  },
  {
   "cell_type": "code",
   "execution_count": null,
   "metadata": {},
   "outputs": [],
   "source": [
    "def f1(a, b):\n",
    "    return a > b\n",
    "if f1(10, 11):\n",
    "    b = \"F\"\n",
    "else:\n",
    "    b = None\n",
    "type(b)"
   ]
  },
  {
   "cell_type": "code",
   "execution_count": null,
   "metadata": {},
   "outputs": [],
   "source": [
    "def f1(x):\n",
    "    return x - 3\n",
    "a = f1(10, 12)\n",
    "type(a)"
   ]
  },
  {
   "cell_type": "code",
   "execution_count": null,
   "metadata": {},
   "outputs": [],
   "source": [
    "l = len(\"fing\")\n",
    "a = l > (2 * l)\n",
    "type(a)"
   ]
  },
  {
   "cell_type": "code",
   "execution_count": null,
   "metadata": {},
   "outputs": [],
   "source": [
    "a = 0\n",
    "for c in 4:\n",
    "    a = a + c\n",
    "a"
   ]
  }
 ],
 "metadata": {
  "kernelspec": {
   "display_name": "Python 3",
   "language": "python",
   "name": "python3"
  },
  "language_info": {
   "codemirror_mode": {
    "name": "ipython",
    "version": 3
   },
   "file_extension": ".py",
   "mimetype": "text/x-python",
   "name": "python",
   "nbconvert_exporter": "python",
   "pygments_lexer": "ipython3",
   "version": "3.7.3"
  }
 },
 "nbformat": 4,
 "nbformat_minor": 2
}
