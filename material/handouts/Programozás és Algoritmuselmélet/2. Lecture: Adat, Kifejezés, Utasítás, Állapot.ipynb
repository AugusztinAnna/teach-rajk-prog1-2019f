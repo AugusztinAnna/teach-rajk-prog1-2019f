{
 "cells": [
  {
   "cell_type": "markdown",
   "metadata": {},
   "source": [
    "\n",
    "# Adat, Kifejezés, Utasítás, Állapot"
   ]
  },
  {
   "cell_type": "markdown",
   "metadata": {},
   "source": [
    "### Table of Contents\n",
    "- [Slide 1: Specifikáció újra](#slide-prog1:specq)\n",
    "  - [Mit ír le egy specifikáció?](#content-prog1:specwhat)\n",
    "  - [Mi értelme volt specifikációnak?](#content-prog1:specwhy)\n",
    "- [Slide 2: Programozás tervezése](#slide-prog1:shortprogmethod)\n",
    "  - [Programozási probléma megoldási terve](#content-prog1:basicplan)\n",
    "- [Slide 3: Adat](#slide-prog1:databasic)\n",
    "  - [Adat](#content-prog1:datadef)\n",
    "  - [Adat tulajdonságai](#content-prog1:dataprops)\n",
    "  - [Adat példák](#content-prog1:basicdataex)\n",
    "- [Slide 4: Adat elnevezés](#slide-prog1:datanaming)\n",
    "  - [Adat elnevezései](#content-prog1:datanames)\n",
    "- [Slide 5: Elemi adattípusok](#slide-prog1:basicdatatypes)\n",
    "  - [Elemi adattípusok](#content-prog1:basicdatatypes)\n",
    "- [Slide 6: Kifejezés](#slide-prog1:expressionbeg)\n",
    "  - [Kifejezés](#content-prog1:exprdef)\n",
    "  - [Művelet függvényként](#content-prog1:operationasfunction)\n",
    "- [Slide 7:](#slide-prog1:exprexes-slide-prog1:exprinlangs)\n",
    "  - [Slide 7/1: Kifejezések](#slide-prog1:exprexes)\n",
    "    - [Kifejezések](#content-prog1:exprex)\n",
    "  - [Slide 7/2: Kiértékelési különbségek](#slide-prog1:exprinlangs)\n",
    "    - [Operációk különöző programnyelvekben](#content-prog1:operationinlang)\n",
    "- [Slide 8: Hogyan hozunk létre névvel, típussal és értékkel rendelkező adatot?](#slide-prog1:createdata)\n",
    "  - [Adatra vonatkozó utasítások](#content-prog1:datacreate)\n",
    "  - [Adatlétrehozás példák](#content-prog1:datacreate_examples)\n",
    "- [Slide 9: Mi kell ahhoz, hogy létrehozzuk az adatot](#slide-prog1:statementtocreate)\n",
    "  - [Statement (utasítás)](#content-prog1:statementdef)\n",
    "  - [Kifejezés vs Utasítás](#content-prog1:statementvsexpr)\n",
    "- [Slide 10: Állapot](#slide-prog1:statedef)\n",
    "  - [Állapot (state)](#content-prog1:statedef)\n",
    "  - [Állapot keret](#content-prog1:sattetab)\n",
    "- [Slide 11: Paradigmában](#slide-prog1:imperoop)\n",
    "  - [Objektum Orientált Programozás](#content-prog1:oopdef)\n",
    "  - [Imperatív programozási paradigma](#content-prog1:imperprogdef)\n",
    "  - [Imperatív OOP](#content-prog1:imperprogexp)\n",
    "- [Slide 12: Adatlétrehozás példák](#slide-prog1:datacreate_snippets)\n",
    "  - [Adatlétrehozás példák](#content-prog1:datacreate_python_snippet)"
   ]
  },
  {
   "cell_type": "markdown",
   "metadata": {},
   "source": [
    "\n",
    "<h2><span id=\"slide-prog1:specq\">Slide 1: Specifikáció újra</span></h2>"
   ]
  },
  {
   "cell_type": "markdown",
   "metadata": {},
   "source": [
    "\n",
    "<h3><span id=\"content-prog1:specwhat\">Mit ír le egy specifikáció?</span></h3>"
   ]
  },
  {
   "cell_type": "markdown",
   "metadata": {},
   "source": [
    "\n",
    "Egy probléma **megoldását**\n",
    "\n",
    "**Mi** oldja meg a problémát? Az hagyján hogy hogyan...\n"
   ]
  },
  {
   "cell_type": "markdown",
   "metadata": {},
   "source": [
    "\n",
    "<h3><span id=\"content-prog1:specwhy\">Mi értelme volt specifikációnak?</span></h3>"
   ]
  },
  {
   "cell_type": "markdown",
   "metadata": {},
   "source": [
    "\n",
    "Le tudjuk írni hogy mit várunk el.\n",
    "-   teljesen\n",
    "-   részletesen\n"
   ]
  },
  {
   "cell_type": "markdown",
   "metadata": {},
   "source": [
    "\n",
    "<h2><span id=\"slide-prog1:shortprogmethod\">Slide 2: Programozás tervezése</span></h2>"
   ]
  },
  {
   "cell_type": "markdown",
   "metadata": {},
   "source": [
    "\n",
    "<h3><span id=\"content-prog1:basicplan\">Programozási probléma megoldási terve</span></h3>"
   ]
  },
  {
   "cell_type": "markdown",
   "metadata": {},
   "source": [
    "\n",
    "-   Mi oldja meg a problémát (Specifikáció)\n",
    "-   Mire van ehhez szükség (Adat)\n",
    "-   Hogyan használjuk ezeket a szükséges dolgokat (Algoritmus)\n"
   ]
  },
  {
   "cell_type": "markdown",
   "metadata": {},
   "source": [
    "\n",
    "<h2><span id=\"slide-prog1:databasic\">Slide 3: Adat</span></h2>"
   ]
  },
  {
   "cell_type": "markdown",
   "metadata": {},
   "source": [
    "\n",
    "<h3><span id=\"content-prog1:datadef\">Adat</span></h3>"
   ]
  },
  {
   "cell_type": "markdown",
   "metadata": {},
   "source": [
    "\n",
    "Minden amit külvilágból leképezve számítógépen tárolunk"
   ]
  },
  {
   "cell_type": "markdown",
   "metadata": {},
   "source": [
    "\n",
    "<h3><span id=\"content-prog1:dataprops\">Adat tulajdonságai</span></h3>"
   ]
  },
  {
   "cell_type": "markdown",
   "metadata": {},
   "source": [
    "\n",
    "-   adatnak van:\n",
    "    -   típusa\n",
    "    -   értéke\n",
    "    -   ha eltároljuk, van neve\n",
    "\n",
    "-   típus meghatározza:\n",
    "    -   értékkészletet\n",
    "    -   elvégezhető műveleteket\n"
   ]
  },
  {
   "cell_type": "markdown",
   "metadata": {},
   "source": [
    "\n",
    "<h3><span id=\"content-prog1:basicdataex\">Adat példák</span></h3>"
   ]
  },
  {
   "cell_type": "markdown",
   "metadata": {},
   "source": [
    "\n",
    "- ```a = 2```\n",
    "- ```b = \"nemjó!\"```\n",
    "- ```c = 4.6```\n",
    "- ```fing = True```\n",
    "- ```papucs = [1, 2, 22, 56]```"
   ]
  },
  {
   "cell_type": "markdown",
   "metadata": {},
   "source": [
    "\n",
    "<h2><span id=\"slide-prog1:datanaming\">Slide 4: Adat elnevezés</span></h2>"
   ]
  },
  {
   "cell_type": "markdown",
   "metadata": {},
   "source": [
    "\n",
    "<h3><span id=\"content-prog1:datanames\">Adat elnevezései</span></h3>"
   ]
  },
  {
   "cell_type": "markdown",
   "metadata": {},
   "source": [
    "\n",
    "Algoritmusban betöltött szerep alapján\n",
    "\n",
    "Attól függően, hogy egy programban hogyan használjuk az adatot, lehet\n",
    "\n",
    "- konstans\n",
    "    - értéke nem változhat a programban\n",
    "    - $\\pi$-től fix szövegű hibaüzenetig lehet bármi\n",
    "\n",
    "- változó\n",
    "    - nem feltétlen bemenet (de lehet bemenet)\n",
    "    - értéke változhat\n"
   ]
  },
  {
   "cell_type": "markdown",
   "metadata": {},
   "source": [
    "\n",
    "<h2><span id=\"slide-prog1:basicdatatypes\">Slide 5: Elemi adattípusok</span></h2>"
   ]
  },
  {
   "cell_type": "markdown",
   "metadata": {},
   "source": [
    "\n",
    "<h3><span id=\"content-prog1:basicdatatypes\">Elemi adattípusok</span></h3>"
   ]
  },
  {
   "cell_type": "markdown",
   "metadata": {},
   "source": [
    "\n",
    "- Szám\n",
    "    - Valós (féle) (float/double)\n",
    "    - Egész (integer)\n",
    "\n",
    "- Szöveg (string)\n",
    "    - nem mindenhol azonos string/char\n",
    "    - kódolás számíthat\n",
    "\n",
    "- Logikai (boolean)"
   ]
  },
  {
   "cell_type": "markdown",
   "metadata": {},
   "source": [
    "\n",
    "<h2><span id=\"slide-prog1:expressionbeg\">Slide 6: Kifejezés</span></h2>"
   ]
  },
  {
   "cell_type": "markdown",
   "metadata": {},
   "source": [
    "\n",
    "<h3><span id=\"content-prog1:exprdef\">Kifejezés</span></h3>"
   ]
  },
  {
   "cell_type": "markdown",
   "metadata": {},
   "source": [
    "\n",
    "- Kiértékelhető: ugyanúgy értéke és típusa van.\n",
    "- Konstansokon és/vagy változókon elvégzett műveletek (operációk) elvégzésével lehet kiértékelni\n",
    "- Rénézésre konstansok/változók és operátor(ok)\n"
   ]
  },
  {
   "cell_type": "markdown",
   "metadata": {},
   "source": [
    "\n",
    "<h3><span id=\"content-prog1:operationasfunction\">Művelet függvényként</span></h3>"
   ]
  },
  {
   "cell_type": "markdown",
   "metadata": {},
   "source": [
    "\n",
    "Műveleteket fel lehet fogni függvényként, és nagyon jól kell ismerni őket!\n",
    "\n",
    "Pl:\n",
    "\n",
    "- $+(4,6)$ ként is jelölhetjük $4 + 6$-ot, az összeadás egy függvény\n",
    "- $ge(13,9)$ lehet $13 \\geq 9$, logikai értékű függvény"
   ]
  },
  {
   "cell_type": "markdown",
   "metadata": {},
   "source": [
    "\n",
    "<h2><span id=\"slide-prog1:exprexes-slide-prog1:exprinlangs\">Slide 7:</span></h2>"
   ]
  },
  {
   "cell_type": "markdown",
   "metadata": {},
   "source": [
    "\n",
    "<h3><span id=\"slide-prog1:exprexes\">Slide 7/1: Kifejezések</span></h3>"
   ]
  },
  {
   "cell_type": "markdown",
   "metadata": {},
   "source": [
    "\n",
    "<h4><span id=\"content-prog1:exprex\">Kifejezések</span></h4>"
   ]
  },
  {
   "cell_type": "markdown",
   "metadata": {},
   "source": [
    "\n",
    "Kifejezés | Típus | Érték | Probléma\n",
    "--- | --- | --- | ---\n",
    "3 + 4 | egész <!-- .element: class=\"fragment\" data-fragment-index=\"1\" --> | 7 <!-- .element: class=\"fragment\" data-fragment-index=\"1\" --> |\n",
    "2 + 2.5 | float/hiba <!-- .element: class=\"fragment\" data-fragment-index=\"2\" --> | 4.5/hiba <!-- .element: class=\"fragment\" data-fragment-index=\"2\" --> | különböző típusok! <!-- .element: class=\"fragment\" data-fragment-index=\"2\" -->\n",
    "4 $>$ 2 | logikai <!-- .element: class=\"fragment\" data-fragment-index=\"3\" --> |IGAZ <!-- .element: class=\"fragment\" data-fragment-index=\"3\" --> |\n",
    "4 = 2 | hiba <!-- .element: class=\"fragment\" data-fragment-index=\"4\" --> | hiba <!-- .element: class=\"fragment\" data-fragment-index=\"4\" --> | értékadás, nem összehasonlítás (==) <!-- .element: class=\"fragment\" data-fragment-index=\"4\" -->\n",
    "4 == 2 <!-- .element: class=\"fragment\" data-fragment-index=\"5\" --> | logikai <!-- .element: class=\"fragment\" data-fragment-index=\"6\" --> | Hamis <!-- .element: class=\"fragment\" data-fragment-index=\"6\" --> |\n",
    "4 == \"négy\" <!-- .element: class=\"fragment\" data-fragment-index=\"5\" --> | hiba/logikai <!-- .element: class=\"fragment\" data-fragment-index=\"7\" --> | hiba/HAMIS <!-- .element: class=\"fragment\" data-fragment-index=\"7\" --> | programnyelve válogatja <!-- .element: class=\"fragment\" data-fragment-index=\"7\" -->"
   ]
  },
  {
   "cell_type": "markdown",
   "metadata": {},
   "source": [
    "\n",
    "<h3><span id=\"slide-prog1:exprinlangs\">Slide 7/2: Kiértékelési különbségek</span></h3>"
   ]
  },
  {
   "cell_type": "markdown",
   "metadata": {},
   "source": [
    "\n",
    "<h4><span id=\"content-prog1:operationinlang\">Operációk különöző programnyelvekben</span></h4>"
   ]
  },
  {
   "cell_type": "markdown",
   "metadata": {},
   "source": [
    "\n",
    "Melyiknek kellene működnie?\n",
    "\n",
    "- 2 + 2.5\n",
    "- 2 == \"kettő\"\n",
    "- \"béna\" + \"béla\"\n",
    "\n",
    "Szempontok:\n",
    "\n",
    "-   kényelmes\n",
    "-   gyors\n",
    "-   tudjam pontosan hol basztam el"
   ]
  },
  {
   "cell_type": "markdown",
   "metadata": {},
   "source": [
    "\n",
    "<h2><span id=\"slide-prog1:createdata\">Slide 8: Hogyan hozunk létre névvel, típussal és értékkel rendelkező adatot?</span></h2>"
   ]
  },
  {
   "cell_type": "markdown",
   "metadata": {},
   "source": [
    "\n",
    "<h3><span id=\"content-prog1:datacreate\">Adatra vonatkozó utasítások</span></h3>"
   ]
  },
  {
   "cell_type": "markdown",
   "metadata": {},
   "source": [
    "\n",
    "1.  Deklarálás\n",
    "  - adat nevét megadjuk\n",
    "  - egyes programnyelveknél típusát\n",
    "\n",
    "2.  Értékadás\n",
    "  - egyenlőségjel jobb oldalán lévő kifejezést kiértékeljük\n",
    "  - értékét hozzárendeljük a deklarált névhez"
   ]
  },
  {
   "cell_type": "markdown",
   "metadata": {},
   "source": [
    "\n",
    "<h3><span id=\"content-prog1:datacreate_examples\">Adatlétrehozás példák</span></h3>"
   ]
  },
  {
   "cell_type": "markdown",
   "metadata": {},
   "source": [
    "\n",
    "-   ```a = 12```\n",
    "-   ```b = fgv(adat)```\n",
    "-   ```c = adat_egyik + adat_masik```\n",
    "-  ```d = h - g / fgv2(y)```\n",
    "-  ```x = x + 1``` **!**"
   ]
  },
  {
   "cell_type": "markdown",
   "metadata": {},
   "source": [
    "\n",
    "<h2><span id=\"slide-prog1:statementtocreate\">Slide 9: Mi kell ahhoz, hogy létrehozzuk az adatot</span></h2>"
   ]
  },
  {
   "cell_type": "markdown",
   "metadata": {},
   "source": [
    "\n",
    "<h3><span id=\"content-prog1:statementdef\">Statement (utasítás)</span></h3>"
   ]
  },
  {
   "cell_type": "markdown",
   "metadata": {},
   "source": [
    "\n",
    "-   legkisebb imperatív programozási elem\n",
    "-   program állapotát (state) változtatja\n",
    "-   kategorizálható\n",
    "-   blokkosítható\n"
   ]
  },
  {
   "cell_type": "markdown",
   "metadata": {},
   "source": [
    "\n",
    "<h3><span id=\"content-prog1:statementvsexpr\">Kifejezés vs Utasítás</span></h3>"
   ]
  },
  {
   "cell_type": "markdown",
   "metadata": {},
   "source": [
    "\n",
    "- a == 4\n",
    "- a = 4\n",
    "\n",
    "**valami** vs **csinálj valamit**\n",
    "\n",
    "- Kifejezés kiértékelhető egy értékké\n",
    "- Utasításból több fajta van, a program **állapot**át változtatja\n",
    "    - deklaráció\n",
    "    - értékadás\n",
    "    - függvénydefiníció\n",
    "    - függvénymeghívás\n",
    "    - ..."
   ]
  },
  {
   "cell_type": "markdown",
   "metadata": {},
   "source": [
    "\n",
    "<h2><span id=\"slide-prog1:statedef\">Slide 10: Állapot</span></h2>"
   ]
  },
  {
   "cell_type": "markdown",
   "metadata": {},
   "source": [
    "\n",
    "<h3><span id=\"content-prog1:statedef\">Állapot (state)</span></h3>"
   ]
  },
  {
   "cell_type": "markdown",
   "metadata": {},
   "source": [
    "\n",
    "Minden a program által adott pontban elérhető és általa tárolt információ"
   ]
  },
  {
   "cell_type": "markdown",
   "metadata": {},
   "source": [
    "\n",
    "<h3><span id=\"content-prog1:sattetab\">Állapot keret</span></h3>"
   ]
  },
  {
   "cell_type": "markdown",
   "metadata": {},
   "source": [
    "\n",
    "Az általunk értelmezett állapotban egy **keret** jellemezhető egy három oszlopos\n",
    "táblázattal:\n",
    "\n",
    "  Név (identifier) |  Micsoda |  Érték/tartalom\n",
    "--- | --- | ---\n",
    "... | ... | ..."
   ]
  },
  {
   "cell_type": "markdown",
   "metadata": {},
   "source": [
    "\n",
    "<h2><span id=\"slide-prog1:imperoop\">Slide 11: Paradigmában</span></h2>"
   ]
  },
  {
   "cell_type": "markdown",
   "metadata": {},
   "source": [
    "\n",
    "<h3><span id=\"content-prog1:oopdef\">Objektum Orientált Programozás</span></h3>"
   ]
  },
  {
   "cell_type": "markdown",
   "metadata": {},
   "source": [
    "\n",
    "Nem tevékenység vagy logika, hanem objektumok, illetve adat köré építjük a programot"
   ]
  },
  {
   "cell_type": "markdown",
   "metadata": {},
   "source": [
    "\n",
    "<h3><span id=\"content-prog1:imperprogdef\">Imperatív programozási paradigma</span></h3>"
   ]
  },
  {
   "cell_type": "markdown",
   "metadata": {},
   "source": [
    "\n",
    "Lépésenként adunk választ a hogyan kérdésre"
   ]
  },
  {
   "cell_type": "markdown",
   "metadata": {},
   "source": [
    "\n",
    "<h3><span id=\"content-prog1:imperprogexp\">Imperatív OOP</span></h3>"
   ]
  },
  {
   "cell_type": "markdown",
   "metadata": {},
   "source": [
    "\n",
    "Lépésenként adunk utasításokat a programnak arra, hogy egyes objektumokat hogyan manipuláljon/kezeljen.\n",
    "\n",
    "Programnak ebben a megközelítésben bármely pillanatban van állapota, amiben világos a program számára elérhető objektumok *tulajdonságai* és értékei. \n",
    "\n",
    "Legtöbb népszerű nyelv így közelíti meg a programokat. Pl: C++, Java,\n",
    "C\\#, PHP, Python...\n"
   ]
  },
  {
   "cell_type": "markdown",
   "metadata": {},
   "source": [
    "\n",
    "<h2><span id=\"slide-prog1:datacreate_snippets\">Slide 12: Adatlétrehozás példák</span></h2>"
   ]
  },
  {
   "cell_type": "markdown",
   "metadata": {},
   "source": [
    "\n",
    "<h3><span id=\"content-prog1:datacreate_python_snippet\">Adatlétrehozás példák</span></h3>"
   ]
  },
  {
   "cell_type": "code",
   "execution_count": 1,
   "metadata": {},
   "outputs": [],
   "source": [
    "\n",
    "a = 10\n",
    "b = \"fing\"\n",
    "c = False\n",
    "\n",
    "x = 10 + 3 / 6\n",
    "y = a - x\n",
    "y = y + a + x\n",
    "\n",
    "boo = 10 > 5\n",
    "foo = boo and (3 < a)\n",
    "\n",
    "s = b + \" jajj\""
   ]
  }
 ],
 "metadata": {
  "kernelspec": {
   "display_name": "Python 3",
   "language": "python",
   "name": "python3"
  },
  "language_info": {
   "codemirror_mode": {
    "name": "ipython",
    "version": 3
   },
   "file_extension": ".py",
   "mimetype": "text/x-python",
   "name": "python",
   "nbconvert_exporter": "python",
   "pygments_lexer": "ipython3",
   "version": "3.7.3"
  }
 },
 "nbformat": 4,
 "nbformat_minor": 2
}
